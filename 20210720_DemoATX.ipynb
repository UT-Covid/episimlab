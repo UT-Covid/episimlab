{
 "cells": [
  {
   "cell_type": "markdown",
   "metadata": {},
   "source": [
    "Instructions for build are here: https://github.com/eho-tacc/episimlab/issues/26"
   ]
  },
  {
   "cell_type": "code",
   "execution_count": 1,
   "metadata": {},
   "outputs": [],
   "source": [
    "import logging\n",
    "logger = logging.getLogger()\n",
    "logger.setLevel(logging.CRITICAL)\n",
    "mpl_logger = logging.getLogger('matplotlib')\n",
    "mpl_logger.setLevel(logging.WARNING)\n",
    "import pandas as pd\n",
    "import numpy as np\n",
    "import xarray as xr\n",
    "from xarray.ufuncs import isnan\n",
    "import xsimlab as xs\n",
    "from episimlab.partition import partition\n",
    "from episimlab.setup.coords import InitDefaultCoords\n",
    "import multiprocessing as mp\n",
    "from datetime import datetime\n",
    "from scripts.DemoATX import main\n",
    "import matplotlib.pyplot as plt\n"
   ]
  },
  {
   "cell_type": "markdown",
   "metadata": {},
   "source": [
    "# Run `episimlab` with Austin-Round Rock MSA parameters\n",
    "\n",
    "There are two levels at which parameters are exposed to the user:\n",
    "\n",
    "- configuration YAML file specifies all SEIR model parameters **except** beta (transmission probability)\n",
    "- command line args to the model runner are used to specify initial model state and simulation duration"
   ]
  },
  {
   "cell_type": "code",
   "execution_count": 2,
   "metadata": {},
   "outputs": [],
   "source": [
    "cli_pars = {\n",
    "    'n_cores': 2,\n",
    "    'config_fp': '/Users/kpierce/episimlab/scripts/DemoATX.yaml',\n",
    "    'travel_fp': '/Users/kpierce/episimlab/data/full_first_wave_2020_travel.csv',\n",
    "    'contacts_fp': '/Users/kpierce/episimlab/data/polymod_contacts.csv',\n",
    "    'census_counts_csv': '/Users/kpierce/episimlab/data/data_lccf/census_pop1_rows1.csv',\n",
    "    'beta': 0.035,\n",
    "    'initial_ia': 10,\n",
    "    'start_date': '3/11/2020',\n",
    "    'end_date': '9/21/2020',\n",
    "    'initial_vertex': 78712\n",
    "}"
   ]
  },
  {
   "cell_type": "code",
   "execution_count": 3,
   "metadata": {},
   "outputs": [
    {
     "name": "stderr",
     "output_type": "stream",
     "text": [
      "DEBUG:root:'load_travel_df' took 5.47 seconds\n",
      "DEBUG:root:step_start: 2020-03-11T00:00:00.000000000\n",
      "DEBUG:root:step_end: 2020-03-11T00:00:00.000000000\n",
      "DEBUG:root:Starting dask merge at 2021-07-20 22:42:27.420399\n"
     ]
    },
    {
     "name": "stdout",
     "output_type": "stream",
     "text": [
      "The date in Partition.get_travel_df is ['2020-03-11T00:00:00.000000000']\n"
     ]
    },
    {
     "name": "stderr",
     "output_type": "stream",
     "text": [
      "DEBUG:root:Finishing dask merge at 2021-07-20 22:42:36.519343\n",
      "DEBUG:root:Starting pandas merge 1 at 2021-07-20 22:42:36.520109\n",
      "DEBUG:root:Starting pandas merge 2 at 2021-07-20 22:42:46.928782\n",
      "DEBUG:root:Calculating contact probabilities on full dataframe starting at 2021-07-20 22:42:55.647664\n",
      "DEBUG:root:'dask_partition' took 31.73 seconds\n",
      "DEBUG:root:Building contact xarray at 2021-07-20 22:42:59.417359\n",
      "DEBUG:root:step_start: NaT\n",
      "DEBUG:root:step_end: 2020-03-11T00:00:00.000000000\n",
      "DEBUG:root:Starting dask merge at 2021-07-20 22:43:00.250953\n"
     ]
    },
    {
     "name": "stdout",
     "output_type": "stream",
     "text": [
      "The date in Partition.get_travel_df is ['2020-03-11T00:00:00.000000000']\n"
     ]
    },
    {
     "name": "stderr",
     "output_type": "stream",
     "text": [
      "DEBUG:root:Finishing dask merge at 2021-07-20 22:43:09.093847\n",
      "DEBUG:root:Starting pandas merge 1 at 2021-07-20 22:43:09.094568\n",
      "DEBUG:root:Starting pandas merge 2 at 2021-07-20 22:43:17.548987\n",
      "DEBUG:root:Calculating contact probabilities on full dataframe starting at 2021-07-20 22:43:26.074557\n",
      "DEBUG:root:'dask_partition' took 28.95 seconds\n",
      "DEBUG:root:Building contact xarray at 2021-07-20 22:43:29.520195\n",
      "DEBUG:root:step_start: 2020-03-11T00:00:00.000000000\n",
      "DEBUG:root:step_end: 2020-03-12T00:00:00.000000000\n",
      "DEBUG:root:Starting dask merge at 2021-07-20 22:43:29.753471\n"
     ]
    },
    {
     "name": "stdout",
     "output_type": "stream",
     "text": [
      "The date in Partition.get_travel_df is ['2020-03-11T00:00:00.000000000']\n"
     ]
    },
    {
     "name": "stderr",
     "output_type": "stream",
     "text": [
      "DEBUG:root:Finishing dask merge at 2021-07-20 22:43:38.540336\n",
      "DEBUG:root:Starting pandas merge 1 at 2021-07-20 22:43:38.541025\n",
      "DEBUG:root:Starting pandas merge 2 at 2021-07-20 22:43:46.520453\n",
      "DEBUG:root:Calculating contact probabilities on full dataframe starting at 2021-07-20 22:43:54.817593\n",
      "DEBUG:root:'dask_partition' took 28.08 seconds\n",
      "DEBUG:root:Building contact xarray at 2021-07-20 22:43:58.120965\n",
      "DEBUG:root:step_start: 2020-03-12T00:00:00.000000000\n",
      "DEBUG:root:step_end: 2020-03-13T00:00:00.000000000\n",
      "DEBUG:root:Starting dask merge at 2021-07-20 22:43:58.342352\n"
     ]
    },
    {
     "name": "stdout",
     "output_type": "stream",
     "text": [
      "The date in Partition.get_travel_df is ['2020-03-12T00:00:00.000000000']\n"
     ]
    },
    {
     "name": "stderr",
     "output_type": "stream",
     "text": [
      "DEBUG:root:Finishing dask merge at 2021-07-20 22:44:07.755749\n",
      "DEBUG:root:Starting pandas merge 1 at 2021-07-20 22:44:07.756494\n",
      "DEBUG:root:Starting pandas merge 2 at 2021-07-20 22:44:16.439104\n",
      "DEBUG:root:Calculating contact probabilities on full dataframe starting at 2021-07-20 22:44:24.824537\n",
      "DEBUG:root:'dask_partition' took 29.61 seconds\n",
      "DEBUG:root:Building contact xarray at 2021-07-20 22:44:28.274108\n",
      "DEBUG:root:step_start: 2020-03-13T00:00:00.000000000\n",
      "DEBUG:root:step_end: 2020-03-14T00:00:00.000000000\n",
      "DEBUG:root:Starting dask merge at 2021-07-20 22:44:28.495822\n"
     ]
    },
    {
     "name": "stdout",
     "output_type": "stream",
     "text": [
      "The date in Partition.get_travel_df is ['2020-03-13T00:00:00.000000000']\n"
     ]
    },
    {
     "name": "stderr",
     "output_type": "stream",
     "text": [
      "DEBUG:root:Finishing dask merge at 2021-07-20 22:44:37.534400\n",
      "DEBUG:root:Starting pandas merge 1 at 2021-07-20 22:44:37.535155\n",
      "DEBUG:root:Starting pandas merge 2 at 2021-07-20 22:44:46.393155\n",
      "DEBUG:root:Calculating contact probabilities on full dataframe starting at 2021-07-20 22:44:54.976953\n",
      "DEBUG:root:'dask_partition' took 29.53 seconds\n",
      "DEBUG:root:Building contact xarray at 2021-07-20 22:44:58.323966\n",
      "DEBUG:root:step_start: 2020-03-14T00:00:00.000000000\n",
      "DEBUG:root:step_end: 2020-03-15T00:00:00.000000000\n",
      "DEBUG:root:Starting dask merge at 2021-07-20 22:44:58.590124\n"
     ]
    },
    {
     "name": "stdout",
     "output_type": "stream",
     "text": [
      "The date in Partition.get_travel_df is ['2020-03-14T00:00:00.000000000']\n"
     ]
    },
    {
     "name": "stderr",
     "output_type": "stream",
     "text": [
      "DEBUG:root:Finishing dask merge at 2021-07-20 22:45:07.180111\n",
      "DEBUG:root:Starting pandas merge 1 at 2021-07-20 22:45:07.180908\n",
      "DEBUG:root:Starting pandas merge 2 at 2021-07-20 22:45:15.067142\n",
      "DEBUG:root:Calculating contact probabilities on full dataframe starting at 2021-07-20 22:45:23.275028\n",
      "DEBUG:root:'dask_partition' took 27.72 seconds\n",
      "DEBUG:root:Building contact xarray at 2021-07-20 22:45:26.566046\n",
      "DEBUG:root:step_start: 2020-03-15T00:00:00.000000000\n",
      "DEBUG:root:step_end: 2020-03-16T00:00:00.000000000\n",
      "DEBUG:root:Starting dask merge at 2021-07-20 22:45:26.782274\n"
     ]
    },
    {
     "name": "stdout",
     "output_type": "stream",
     "text": [
      "The date in Partition.get_travel_df is ['2020-03-15T00:00:00.000000000']\n"
     ]
    },
    {
     "name": "stderr",
     "output_type": "stream",
     "text": [
      "DEBUG:root:Finishing dask merge at 2021-07-20 22:45:35.996772\n",
      "DEBUG:root:Starting pandas merge 1 at 2021-07-20 22:45:35.997460\n",
      "DEBUG:root:Starting pandas merge 2 at 2021-07-20 22:45:43.927394\n",
      "DEBUG:root:Calculating contact probabilities on full dataframe starting at 2021-07-20 22:45:52.192460\n",
      "DEBUG:root:'dask_partition' took 28.47 seconds\n",
      "DEBUG:root:Building contact xarray at 2021-07-20 22:45:55.521838\n",
      "DEBUG:root:step_start: 2020-03-16T00:00:00.000000000\n",
      "DEBUG:root:step_end: 2020-03-17T00:00:00.000000000\n",
      "DEBUG:root:Starting dask merge at 2021-07-20 22:45:55.739421\n"
     ]
    },
    {
     "name": "stdout",
     "output_type": "stream",
     "text": [
      "The date in Partition.get_travel_df is ['2020-03-16T00:00:00.000000000']\n"
     ]
    },
    {
     "name": "stderr",
     "output_type": "stream",
     "text": [
      "DEBUG:root:Finishing dask merge at 2021-07-20 22:46:04.276475\n",
      "DEBUG:root:Starting pandas merge 1 at 2021-07-20 22:46:04.277441\n",
      "DEBUG:root:Starting pandas merge 2 at 2021-07-20 22:46:12.240261\n",
      "DEBUG:root:Calculating contact probabilities on full dataframe starting at 2021-07-20 22:46:20.475472\n",
      "DEBUG:root:'dask_partition' took 27.78 seconds\n",
      "DEBUG:root:Building contact xarray at 2021-07-20 22:46:23.814345\n",
      "DEBUG:root:step_start: 2020-03-17T00:00:00.000000000\n",
      "DEBUG:root:step_end: 2020-03-18T00:00:00.000000000\n",
      "DEBUG:root:Starting dask merge at 2021-07-20 22:46:24.049891\n"
     ]
    },
    {
     "name": "stdout",
     "output_type": "stream",
     "text": [
      "The date in Partition.get_travel_df is ['2020-03-17T00:00:00.000000000']\n"
     ]
    },
    {
     "name": "stderr",
     "output_type": "stream",
     "text": [
      "DEBUG:root:Finishing dask merge at 2021-07-20 22:46:32.907449\n",
      "DEBUG:root:Starting pandas merge 1 at 2021-07-20 22:46:32.908181\n",
      "DEBUG:root:Starting pandas merge 2 at 2021-07-20 22:46:41.047310\n",
      "DEBUG:root:Calculating contact probabilities on full dataframe starting at 2021-07-20 22:46:49.409018\n",
      "DEBUG:root:'dask_partition' took 28.44 seconds\n",
      "DEBUG:root:Building contact xarray at 2021-07-20 22:46:52.790222\n",
      "DEBUG:root:step_start: 2020-03-18T00:00:00.000000000\n",
      "DEBUG:root:step_end: 2020-03-19T00:00:00.000000000\n",
      "DEBUG:root:Starting dask merge at 2021-07-20 22:46:53.003493\n"
     ]
    },
    {
     "name": "stdout",
     "output_type": "stream",
     "text": [
      "The date in Partition.get_travel_df is ['2020-03-18T00:00:00.000000000']\n"
     ]
    },
    {
     "name": "stderr",
     "output_type": "stream",
     "text": [
      "DEBUG:root:Finishing dask merge at 2021-07-20 22:47:01.326698\n",
      "DEBUG:root:Starting pandas merge 1 at 2021-07-20 22:47:01.327420\n",
      "DEBUG:root:Starting pandas merge 2 at 2021-07-20 22:47:09.470294\n",
      "DEBUG:root:Calculating contact probabilities on full dataframe starting at 2021-07-20 22:47:17.833741\n",
      "DEBUG:root:'dask_partition' took 27.86 seconds\n",
      "DEBUG:root:Building contact xarray at 2021-07-20 22:47:21.154771\n",
      "DEBUG:root:step_start: 2020-03-19T00:00:00.000000000\n",
      "DEBUG:root:step_end: 2020-03-20T00:00:00.000000000\n",
      "DEBUG:root:Starting dask merge at 2021-07-20 22:47:21.373242\n"
     ]
    },
    {
     "name": "stdout",
     "output_type": "stream",
     "text": [
      "The date in Partition.get_travel_df is ['2020-03-19T00:00:00.000000000']\n"
     ]
    },
    {
     "name": "stderr",
     "output_type": "stream",
     "text": [
      "DEBUG:root:Finishing dask merge at 2021-07-20 22:47:29.796018\n",
      "DEBUG:root:Starting pandas merge 1 at 2021-07-20 22:47:29.796746\n",
      "DEBUG:root:Starting pandas merge 2 at 2021-07-20 22:47:37.865591\n",
      "DEBUG:root:Calculating contact probabilities on full dataframe starting at 2021-07-20 22:47:46.199882\n",
      "DEBUG:root:'dask_partition' took 27.84 seconds\n",
      "DEBUG:root:Building contact xarray at 2021-07-20 22:47:49.493933\n",
      "DEBUG:root:step_start: 2020-03-20T00:00:00.000000000\n",
      "DEBUG:root:step_end: 2020-03-21T00:00:00.000000000\n",
      "DEBUG:root:Starting dask merge at 2021-07-20 22:47:49.709078\n"
     ]
    },
    {
     "name": "stdout",
     "output_type": "stream",
     "text": [
      "The date in Partition.get_travel_df is ['2020-03-20T00:00:00.000000000']\n"
     ]
    },
    {
     "name": "stderr",
     "output_type": "stream",
     "text": [
      "DEBUG:root:Finishing dask merge at 2021-07-20 22:47:58.149231\n",
      "DEBUG:root:Starting pandas merge 1 at 2021-07-20 22:47:58.149938\n",
      "DEBUG:root:Starting pandas merge 2 at 2021-07-20 22:48:06.209458\n",
      "DEBUG:root:Calculating contact probabilities on full dataframe starting at 2021-07-20 22:48:14.585641\n",
      "DEBUG:root:'dask_partition' took 27.93 seconds\n",
      "DEBUG:root:Building contact xarray at 2021-07-20 22:48:17.926677\n",
      "DEBUG:root:step_start: 2020-03-21T00:00:00.000000000\n",
      "DEBUG:root:step_end: 2020-03-22T00:00:00.000000000\n",
      "DEBUG:root:Starting dask merge at 2021-07-20 22:48:18.145542\n"
     ]
    },
    {
     "name": "stdout",
     "output_type": "stream",
     "text": [
      "The date in Partition.get_travel_df is ['2020-03-21T00:00:00.000000000']\n"
     ]
    },
    {
     "name": "stderr",
     "output_type": "stream",
     "text": [
      "DEBUG:root:Finishing dask merge at 2021-07-20 22:48:27.032884\n",
      "DEBUG:root:Starting pandas merge 1 at 2021-07-20 22:48:27.033635\n",
      "DEBUG:root:Starting pandas merge 2 at 2021-07-20 22:48:35.027568\n",
      "DEBUG:root:Calculating contact probabilities on full dataframe starting at 2021-07-20 22:48:43.136536\n",
      "DEBUG:root:'dask_partition' took 27.97 seconds\n",
      "DEBUG:root:Building contact xarray at 2021-07-20 22:48:46.385637\n",
      "DEBUG:root:step_start: 2020-03-22T00:00:00.000000000\n",
      "DEBUG:root:step_end: 2020-03-23T00:00:00.000000000\n",
      "DEBUG:root:Starting dask merge at 2021-07-20 22:48:46.599114\n"
     ]
    },
    {
     "name": "stdout",
     "output_type": "stream",
     "text": [
      "The date in Partition.get_travel_df is ['2020-03-22T00:00:00.000000000']\n"
     ]
    },
    {
     "name": "stderr",
     "output_type": "stream",
     "text": [
      "DEBUG:root:Finishing dask merge at 2021-07-20 22:48:55.263558\n",
      "DEBUG:root:Starting pandas merge 1 at 2021-07-20 22:48:55.264308\n",
      "DEBUG:root:Starting pandas merge 2 at 2021-07-20 22:49:03.136819\n",
      "DEBUG:root:Calculating contact probabilities on full dataframe starting at 2021-07-20 22:49:11.309693\n",
      "DEBUG:root:'dask_partition' took 27.72 seconds\n",
      "DEBUG:root:Building contact xarray at 2021-07-20 22:49:14.590137\n",
      "DEBUG:root:step_start: 2020-03-23T00:00:00.000000000\n",
      "DEBUG:root:step_end: 2020-03-24T00:00:00.000000000\n",
      "DEBUG:root:Starting dask merge at 2021-07-20 22:49:14.809031\n"
     ]
    },
    {
     "name": "stdout",
     "output_type": "stream",
     "text": [
      "The date in Partition.get_travel_df is ['2020-03-23T00:00:00.000000000']\n"
     ]
    },
    {
     "name": "stderr",
     "output_type": "stream",
     "text": [
      "DEBUG:root:Finishing dask merge at 2021-07-20 22:49:23.545441\n",
      "DEBUG:root:Starting pandas merge 1 at 2021-07-20 22:49:23.546141\n",
      "DEBUG:root:Starting pandas merge 2 at 2021-07-20 22:49:31.726852\n",
      "DEBUG:root:Calculating contact probabilities on full dataframe starting at 2021-07-20 22:49:40.067795\n",
      "DEBUG:root:'dask_partition' took 28.38 seconds\n",
      "DEBUG:root:Building contact xarray at 2021-07-20 22:49:43.467123\n",
      "DEBUG:root:step_start: 2020-03-24T00:00:00.000000000\n",
      "DEBUG:root:step_end: 2020-03-25T00:00:00.000000000\n",
      "DEBUG:root:Starting dask merge at 2021-07-20 22:49:43.701264\n"
     ]
    },
    {
     "name": "stdout",
     "output_type": "stream",
     "text": [
      "The date in Partition.get_travel_df is ['2020-03-24T00:00:00.000000000']\n"
     ]
    },
    {
     "name": "stderr",
     "output_type": "stream",
     "text": [
      "DEBUG:root:Finishing dask merge at 2021-07-20 22:49:52.365362\n",
      "DEBUG:root:Starting pandas merge 1 at 2021-07-20 22:49:52.366062\n",
      "DEBUG:root:Starting pandas merge 2 at 2021-07-20 22:50:00.253445\n",
      "DEBUG:root:Calculating contact probabilities on full dataframe starting at 2021-07-20 22:50:08.466844\n",
      "DEBUG:root:'dask_partition' took 27.76 seconds\n",
      "DEBUG:root:Building contact xarray at 2021-07-20 22:50:11.764004\n",
      "DEBUG:root:step_start: 2020-03-25T00:00:00.000000000\n",
      "DEBUG:root:step_end: 2020-03-26T00:00:00.000000000\n",
      "DEBUG:root:Starting dask merge at 2021-07-20 22:50:11.980133\n"
     ]
    },
    {
     "name": "stdout",
     "output_type": "stream",
     "text": [
      "The date in Partition.get_travel_df is ['2020-03-25T00:00:00.000000000']\n"
     ]
    },
    {
     "name": "stderr",
     "output_type": "stream",
     "text": [
      "DEBUG:root:Finishing dask merge at 2021-07-20 22:50:20.742900\n",
      "DEBUG:root:Starting pandas merge 1 at 2021-07-20 22:50:20.743819\n",
      "DEBUG:root:Starting pandas merge 2 at 2021-07-20 22:50:28.518382\n",
      "DEBUG:root:Calculating contact probabilities on full dataframe starting at 2021-07-20 22:50:36.745952\n",
      "DEBUG:root:'dask_partition' took 27.78 seconds\n",
      "DEBUG:root:Building contact xarray at 2021-07-20 22:50:40.021419\n",
      "DEBUG:root:step_start: 2020-03-26T00:00:00.000000000\n",
      "DEBUG:root:step_end: 2020-03-27T00:00:00.000000000\n",
      "DEBUG:root:Starting dask merge at 2021-07-20 22:50:40.241324\n"
     ]
    },
    {
     "name": "stdout",
     "output_type": "stream",
     "text": [
      "The date in Partition.get_travel_df is ['2020-03-26T00:00:00.000000000']\n"
     ]
    },
    {
     "name": "stderr",
     "output_type": "stream",
     "text": [
      "DEBUG:root:Finishing dask merge at 2021-07-20 22:50:48.813316\n",
      "DEBUG:root:Starting pandas merge 1 at 2021-07-20 22:50:48.814092\n",
      "DEBUG:root:Starting pandas merge 2 at 2021-07-20 22:50:56.689398\n",
      "DEBUG:root:Calculating contact probabilities on full dataframe starting at 2021-07-20 22:51:04.923510\n",
      "DEBUG:root:'dask_partition' took 27.66 seconds\n",
      "DEBUG:root:Building contact xarray at 2021-07-20 22:51:08.193956\n",
      "DEBUG:root:step_start: 2020-03-27T00:00:00.000000000\n",
      "DEBUG:root:step_end: 2020-03-28T00:00:00.000000000\n",
      "DEBUG:root:Starting dask merge at 2021-07-20 22:51:08.407200\n"
     ]
    },
    {
     "name": "stdout",
     "output_type": "stream",
     "text": [
      "The date in Partition.get_travel_df is ['2020-03-27T00:00:00.000000000']\n"
     ]
    },
    {
     "name": "stderr",
     "output_type": "stream",
     "text": [
      "DEBUG:root:Finishing dask merge at 2021-07-20 22:51:17.049854\n",
      "DEBUG:root:Starting pandas merge 1 at 2021-07-20 22:51:17.050661\n",
      "DEBUG:root:Starting pandas merge 2 at 2021-07-20 22:51:24.989119\n",
      "DEBUG:root:Calculating contact probabilities on full dataframe starting at 2021-07-20 22:51:33.149640\n",
      "DEBUG:root:'dask_partition' took 27.76 seconds\n",
      "DEBUG:root:Building contact xarray at 2021-07-20 22:51:36.435144\n",
      "DEBUG:root:step_start: 2020-03-28T00:00:00.000000000\n",
      "DEBUG:root:step_end: 2020-03-29T00:00:00.000000000\n",
      "DEBUG:root:Starting dask merge at 2021-07-20 22:51:36.650887\n"
     ]
    },
    {
     "name": "stdout",
     "output_type": "stream",
     "text": [
      "The date in Partition.get_travel_df is ['2020-03-28T00:00:00.000000000']\n"
     ]
    },
    {
     "name": "stderr",
     "output_type": "stream",
     "text": [
      "DEBUG:root:Finishing dask merge at 2021-07-20 22:51:45.503661\n",
      "DEBUG:root:Starting pandas merge 1 at 2021-07-20 22:51:45.504382\n",
      "DEBUG:root:Starting pandas merge 2 at 2021-07-20 22:51:53.303021\n",
      "DEBUG:root:Calculating contact probabilities on full dataframe starting at 2021-07-20 22:52:01.481217\n",
      "DEBUG:root:'dask_partition' took 27.87 seconds\n",
      "DEBUG:root:Building contact xarray at 2021-07-20 22:52:04.809140\n",
      "DEBUG:root:step_start: 2020-03-29T00:00:00.000000000\n",
      "DEBUG:root:step_end: 2020-03-30T00:00:00.000000000\n",
      "DEBUG:root:Starting dask merge at 2021-07-20 22:52:05.029972\n"
     ]
    },
    {
     "name": "stdout",
     "output_type": "stream",
     "text": [
      "The date in Partition.get_travel_df is ['2020-03-29T00:00:00.000000000']\n"
     ]
    },
    {
     "name": "stderr",
     "output_type": "stream",
     "text": [
      "DEBUG:root:Finishing dask merge at 2021-07-20 22:52:13.772698\n",
      "DEBUG:root:Starting pandas merge 1 at 2021-07-20 22:52:13.773474\n",
      "DEBUG:root:Starting pandas merge 2 at 2021-07-20 22:52:21.597282\n",
      "DEBUG:root:Calculating contact probabilities on full dataframe starting at 2021-07-20 22:52:29.783700\n",
      "DEBUG:root:'dask_partition' took 27.91 seconds\n",
      "DEBUG:root:Building contact xarray at 2021-07-20 22:52:33.201873\n",
      "DEBUG:root:step_start: 2020-03-30T00:00:00.000000000\n",
      "DEBUG:root:step_end: 2020-03-31T00:00:00.000000000\n",
      "DEBUG:root:Starting dask merge at 2021-07-20 22:52:33.414155\n"
     ]
    },
    {
     "name": "stdout",
     "output_type": "stream",
     "text": [
      "The date in Partition.get_travel_df is ['2020-03-30T00:00:00.000000000']\n"
     ]
    },
    {
     "name": "stderr",
     "output_type": "stream",
     "text": [
      "DEBUG:root:Finishing dask merge at 2021-07-20 22:52:42.028851\n",
      "DEBUG:root:Starting pandas merge 1 at 2021-07-20 22:52:42.029660\n",
      "DEBUG:root:Starting pandas merge 2 at 2021-07-20 22:52:49.998022\n",
      "DEBUG:root:Calculating contact probabilities on full dataframe starting at 2021-07-20 22:52:58.343171\n",
      "DEBUG:root:'dask_partition' took 27.98 seconds\n",
      "DEBUG:root:Building contact xarray at 2021-07-20 22:53:01.687151\n",
      "DEBUG:root:step_start: 2020-03-31T00:00:00.000000000\n",
      "DEBUG:root:step_end: 2020-04-01T00:00:00.000000000\n",
      "DEBUG:root:Starting dask merge at 2021-07-20 22:53:01.902421\n"
     ]
    },
    {
     "name": "stdout",
     "output_type": "stream",
     "text": [
      "The date in Partition.get_travel_df is ['2020-03-31T00:00:00.000000000']\n"
     ]
    },
    {
     "name": "stderr",
     "output_type": "stream",
     "text": [
      "DEBUG:root:Finishing dask merge at 2021-07-20 22:53:10.496054\n",
      "DEBUG:root:Starting pandas merge 1 at 2021-07-20 22:53:10.496761\n",
      "DEBUG:root:Starting pandas merge 2 at 2021-07-20 22:53:18.532225\n",
      "DEBUG:root:Calculating contact probabilities on full dataframe starting at 2021-07-20 22:53:26.968071\n",
      "DEBUG:root:'dask_partition' took 28.20 seconds\n",
      "DEBUG:root:Building contact xarray at 2021-07-20 22:53:30.390399\n",
      "DEBUG:root:step_start: 2020-04-01T00:00:00.000000000\n",
      "DEBUG:root:step_end: 2020-04-02T00:00:00.000000000\n",
      "DEBUG:root:Starting dask merge at 2021-07-20 22:53:30.626528\n"
     ]
    },
    {
     "name": "stdout",
     "output_type": "stream",
     "text": [
      "The date in Partition.get_travel_df is ['2020-04-01T00:00:00.000000000']\n"
     ]
    },
    {
     "name": "stderr",
     "output_type": "stream",
     "text": [
      "DEBUG:root:Finishing dask merge at 2021-07-20 22:53:39.443347\n",
      "DEBUG:root:Starting pandas merge 1 at 2021-07-20 22:53:39.444102\n",
      "DEBUG:root:Starting pandas merge 2 at 2021-07-20 22:53:47.366428\n",
      "DEBUG:root:Calculating contact probabilities on full dataframe starting at 2021-07-20 22:53:55.444281\n",
      "DEBUG:root:'dask_partition' took 28.05 seconds\n",
      "DEBUG:root:Building contact xarray at 2021-07-20 22:53:58.970665\n",
      "DEBUG:root:step_start: 2020-04-02T00:00:00.000000000\n",
      "DEBUG:root:step_end: 2020-04-03T00:00:00.000000000\n",
      "DEBUG:root:Starting dask merge at 2021-07-20 22:53:59.185201\n"
     ]
    },
    {
     "name": "stdout",
     "output_type": "stream",
     "text": [
      "The date in Partition.get_travel_df is ['2020-04-02T00:00:00.000000000']\n"
     ]
    },
    {
     "name": "stderr",
     "output_type": "stream",
     "text": [
      "DEBUG:root:Finishing dask merge at 2021-07-20 22:54:08.064196\n",
      "DEBUG:root:Starting pandas merge 1 at 2021-07-20 22:54:08.064968\n",
      "DEBUG:root:Starting pandas merge 2 at 2021-07-20 22:54:15.975079\n",
      "DEBUG:root:Calculating contact probabilities on full dataframe starting at 2021-07-20 22:54:24.279118\n",
      "DEBUG:root:'dask_partition' took 28.58 seconds\n",
      "DEBUG:root:Building contact xarray at 2021-07-20 22:54:28.086668\n",
      "DEBUG:root:step_start: 2020-04-03T00:00:00.000000000\n",
      "DEBUG:root:step_end: 2020-04-04T00:00:00.000000000\n",
      "DEBUG:root:Starting dask merge at 2021-07-20 22:54:28.322105\n"
     ]
    },
    {
     "name": "stdout",
     "output_type": "stream",
     "text": [
      "The date in Partition.get_travel_df is ['2020-04-03T00:00:00.000000000']\n"
     ]
    },
    {
     "name": "stderr",
     "output_type": "stream",
     "text": [
      "DEBUG:root:Finishing dask merge at 2021-07-20 22:54:38.035860\n",
      "DEBUG:root:Starting pandas merge 1 at 2021-07-20 22:54:38.036677\n",
      "DEBUG:root:Starting pandas merge 2 at 2021-07-20 22:54:46.338600\n",
      "DEBUG:root:Calculating contact probabilities on full dataframe starting at 2021-07-20 22:54:54.782351\n",
      "DEBUG:root:'dask_partition' took 29.57 seconds\n",
      "DEBUG:root:Building contact xarray at 2021-07-20 22:54:58.188827\n",
      "DEBUG:root:step_start: 2020-04-04T00:00:00.000000000\n",
      "DEBUG:root:step_end: 2020-04-05T00:00:00.000000000\n",
      "DEBUG:root:Starting dask merge at 2021-07-20 22:54:58.411953\n"
     ]
    },
    {
     "name": "stdout",
     "output_type": "stream",
     "text": [
      "The date in Partition.get_travel_df is ['2020-04-04T00:00:00.000000000']\n"
     ]
    },
    {
     "name": "stderr",
     "output_type": "stream",
     "text": [
      "DEBUG:root:Finishing dask merge at 2021-07-20 22:55:06.927545\n",
      "DEBUG:root:Starting pandas merge 1 at 2021-07-20 22:55:06.928316\n",
      "DEBUG:root:Starting pandas merge 2 at 2021-07-20 22:55:14.875471\n",
      "DEBUG:root:Calculating contact probabilities on full dataframe starting at 2021-07-20 22:55:23.071079\n",
      "DEBUG:root:'dask_partition' took 27.70 seconds\n",
      "DEBUG:root:Building contact xarray at 2021-07-20 22:55:26.383913\n",
      "DEBUG:root:step_start: 2020-04-05T00:00:00.000000000\n",
      "DEBUG:root:step_end: 2020-04-06T00:00:00.000000000\n",
      "DEBUG:root:Starting dask merge at 2021-07-20 22:55:26.596006\n"
     ]
    },
    {
     "name": "stdout",
     "output_type": "stream",
     "text": [
      "The date in Partition.get_travel_df is ['2020-04-05T00:00:00.000000000']\n"
     ]
    },
    {
     "name": "stderr",
     "output_type": "stream",
     "text": [
      "DEBUG:root:Finishing dask merge at 2021-07-20 22:55:35.457411\n",
      "DEBUG:root:Starting pandas merge 1 at 2021-07-20 22:55:35.458226\n",
      "DEBUG:root:Starting pandas merge 2 at 2021-07-20 22:55:43.306342\n",
      "DEBUG:root:Calculating contact probabilities on full dataframe starting at 2021-07-20 22:55:51.369043\n",
      "DEBUG:root:'dask_partition' took 27.78 seconds\n",
      "DEBUG:root:Building contact xarray at 2021-07-20 22:55:54.651117\n",
      "DEBUG:root:step_start: 2020-04-06T00:00:00.000000000\n",
      "DEBUG:root:step_end: 2020-04-07T00:00:00.000000000\n",
      "DEBUG:root:Starting dask merge at 2021-07-20 22:55:54.869167\n"
     ]
    },
    {
     "name": "stdout",
     "output_type": "stream",
     "text": [
      "The date in Partition.get_travel_df is ['2020-04-06T00:00:00.000000000']\n"
     ]
    },
    {
     "name": "stderr",
     "output_type": "stream",
     "text": [
      "DEBUG:root:Finishing dask merge at 2021-07-20 22:56:03.783364\n",
      "DEBUG:root:Starting pandas merge 1 at 2021-07-20 22:56:03.784126\n",
      "DEBUG:root:Starting pandas merge 2 at 2021-07-20 22:56:11.714556\n",
      "DEBUG:root:Calculating contact probabilities on full dataframe starting at 2021-07-20 22:56:19.768536\n",
      "DEBUG:root:'dask_partition' took 27.94 seconds\n",
      "DEBUG:root:Building contact xarray at 2021-07-20 22:56:23.091043\n",
      "DEBUG:root:step_start: 2020-04-07T00:00:00.000000000\n",
      "DEBUG:root:step_end: 2020-04-08T00:00:00.000000000\n",
      "DEBUG:root:Starting dask merge at 2021-07-20 22:56:23.306451\n"
     ]
    },
    {
     "name": "stdout",
     "output_type": "stream",
     "text": [
      "The date in Partition.get_travel_df is ['2020-04-07T00:00:00.000000000']\n"
     ]
    },
    {
     "name": "stderr",
     "output_type": "stream",
     "text": [
      "DEBUG:root:Finishing dask merge at 2021-07-20 22:56:32.154234\n",
      "DEBUG:root:Starting pandas merge 1 at 2021-07-20 22:56:32.155018\n",
      "DEBUG:root:Starting pandas merge 2 at 2021-07-20 22:56:39.987556\n",
      "DEBUG:root:Calculating contact probabilities on full dataframe starting at 2021-07-20 22:56:47.872080\n",
      "DEBUG:root:'dask_partition' took 27.57 seconds\n",
      "DEBUG:root:Building contact xarray at 2021-07-20 22:56:51.150768\n",
      "DEBUG:root:step_start: 2020-04-08T00:00:00.000000000\n",
      "DEBUG:root:step_end: 2020-04-09T00:00:00.000000000\n",
      "DEBUG:root:Starting dask merge at 2021-07-20 22:56:51.361617\n"
     ]
    },
    {
     "name": "stdout",
     "output_type": "stream",
     "text": [
      "The date in Partition.get_travel_df is ['2020-04-08T00:00:00.000000000']\n"
     ]
    },
    {
     "name": "stderr",
     "output_type": "stream",
     "text": [
      "DEBUG:root:Finishing dask merge at 2021-07-20 22:57:00.482197\n",
      "DEBUG:root:Starting pandas merge 1 at 2021-07-20 22:57:00.483065\n",
      "DEBUG:root:Starting pandas merge 2 at 2021-07-20 22:57:09.143830\n",
      "DEBUG:root:Calculating contact probabilities on full dataframe starting at 2021-07-20 22:57:17.424213\n",
      "DEBUG:root:'dask_partition' took 29.31 seconds\n",
      "DEBUG:root:Building contact xarray at 2021-07-20 22:57:20.954986\n",
      "DEBUG:root:step_start: 2020-04-09T00:00:00.000000000\n",
      "DEBUG:root:step_end: 2020-04-10T00:00:00.000000000\n",
      "DEBUG:root:Starting dask merge at 2021-07-20 22:57:21.181904\n"
     ]
    },
    {
     "name": "stdout",
     "output_type": "stream",
     "text": [
      "The date in Partition.get_travel_df is ['2020-04-09T00:00:00.000000000']\n"
     ]
    },
    {
     "name": "stderr",
     "output_type": "stream",
     "text": [
      "DEBUG:root:Finishing dask merge at 2021-07-20 22:57:29.793236\n",
      "DEBUG:root:Starting pandas merge 1 at 2021-07-20 22:57:29.794076\n",
      "DEBUG:root:Starting pandas merge 2 at 2021-07-20 22:57:37.818012\n",
      "DEBUG:root:Calculating contact probabilities on full dataframe starting at 2021-07-20 22:57:46.017115\n",
      "DEBUG:root:'dask_partition' took 27.85 seconds\n",
      "DEBUG:root:Building contact xarray at 2021-07-20 22:57:49.298895\n",
      "DEBUG:root:step_start: 2020-04-10T00:00:00.000000000\n",
      "DEBUG:root:step_end: 2020-04-11T00:00:00.000000000\n",
      "DEBUG:root:Starting dask merge at 2021-07-20 22:57:49.521879\n"
     ]
    },
    {
     "name": "stdout",
     "output_type": "stream",
     "text": [
      "The date in Partition.get_travel_df is ['2020-04-10T00:00:00.000000000']\n"
     ]
    },
    {
     "name": "stderr",
     "output_type": "stream",
     "text": [
      "DEBUG:root:Finishing dask merge at 2021-07-20 22:57:58.253047\n",
      "DEBUG:root:Starting pandas merge 1 at 2021-07-20 22:57:58.254137\n",
      "DEBUG:root:Starting pandas merge 2 at 2021-07-20 22:58:06.103168\n",
      "DEBUG:root:Calculating contact probabilities on full dataframe starting at 2021-07-20 22:58:14.201581\n",
      "DEBUG:root:'dask_partition' took 27.72 seconds\n",
      "DEBUG:root:Building contact xarray at 2021-07-20 22:58:17.502050\n",
      "DEBUG:root:step_start: 2020-04-11T00:00:00.000000000\n",
      "DEBUG:root:step_end: 2020-04-12T00:00:00.000000000\n",
      "DEBUG:root:Starting dask merge at 2021-07-20 22:58:17.727619\n"
     ]
    },
    {
     "name": "stdout",
     "output_type": "stream",
     "text": [
      "The date in Partition.get_travel_df is ['2020-04-11T00:00:00.000000000']\n"
     ]
    },
    {
     "name": "stderr",
     "output_type": "stream",
     "text": [
      "DEBUG:root:Finishing dask merge at 2021-07-20 22:58:26.578344\n",
      "DEBUG:root:Starting pandas merge 1 at 2021-07-20 22:58:26.579216\n",
      "DEBUG:root:Starting pandas merge 2 at 2021-07-20 22:58:34.581527\n",
      "DEBUG:root:Calculating contact probabilities on full dataframe starting at 2021-07-20 22:58:42.625153\n",
      "DEBUG:root:'dask_partition' took 27.79 seconds\n",
      "DEBUG:root:Building contact xarray at 2021-07-20 22:58:45.807925\n",
      "DEBUG:root:step_start: 2020-04-12T00:00:00.000000000\n",
      "DEBUG:root:step_end: 2020-04-13T00:00:00.000000000\n",
      "DEBUG:root:Starting dask merge at 2021-07-20 22:58:46.030630\n"
     ]
    },
    {
     "name": "stdout",
     "output_type": "stream",
     "text": [
      "The date in Partition.get_travel_df is ['2020-04-12T00:00:00.000000000']\n"
     ]
    },
    {
     "name": "stderr",
     "output_type": "stream",
     "text": [
      "DEBUG:root:Finishing dask merge at 2021-07-20 22:58:54.682685\n",
      "DEBUG:root:Starting pandas merge 1 at 2021-07-20 22:58:54.683397\n",
      "DEBUG:root:Starting pandas merge 2 at 2021-07-20 22:59:03.303197\n",
      "DEBUG:root:Calculating contact probabilities on full dataframe starting at 2021-07-20 22:59:11.725281\n",
      "DEBUG:root:'dask_partition' took 28.70 seconds\n",
      "DEBUG:root:Building contact xarray at 2021-07-20 22:59:15.027876\n",
      "DEBUG:root:step_start: 2020-04-13T00:00:00.000000000\n",
      "DEBUG:root:step_end: 2020-04-14T00:00:00.000000000\n",
      "DEBUG:root:Starting dask merge at 2021-07-20 22:59:15.252178\n"
     ]
    },
    {
     "name": "stdout",
     "output_type": "stream",
     "text": [
      "The date in Partition.get_travel_df is ['2020-04-13T00:00:00.000000000']\n"
     ]
    },
    {
     "name": "stderr",
     "output_type": "stream",
     "text": [
      "DEBUG:root:Finishing dask merge at 2021-07-20 22:59:23.672197\n",
      "DEBUG:root:Starting pandas merge 1 at 2021-07-20 22:59:23.672920\n",
      "DEBUG:root:Starting pandas merge 2 at 2021-07-20 22:59:31.675855\n",
      "DEBUG:root:Calculating contact probabilities on full dataframe starting at 2021-07-20 22:59:39.995848\n",
      "DEBUG:root:'dask_partition' took 27.80 seconds\n",
      "DEBUG:root:Building contact xarray at 2021-07-20 22:59:43.345380\n",
      "DEBUG:root:step_start: 2020-04-14T00:00:00.000000000\n",
      "DEBUG:root:step_end: 2020-04-15T00:00:00.000000000\n",
      "DEBUG:root:Starting dask merge at 2021-07-20 22:59:43.569173\n"
     ]
    },
    {
     "name": "stdout",
     "output_type": "stream",
     "text": [
      "The date in Partition.get_travel_df is ['2020-04-14T00:00:00.000000000']\n"
     ]
    },
    {
     "name": "stderr",
     "output_type": "stream",
     "text": [
      "DEBUG:root:Finishing dask merge at 2021-07-20 22:59:52.168211\n",
      "DEBUG:root:Starting pandas merge 1 at 2021-07-20 22:59:52.168951\n",
      "DEBUG:root:Starting pandas merge 2 at 2021-07-20 22:59:59.898305\n",
      "DEBUG:root:Calculating contact probabilities on full dataframe starting at 2021-07-20 23:00:08.108152\n",
      "DEBUG:root:'dask_partition' took 27.56 seconds\n",
      "DEBUG:root:Building contact xarray at 2021-07-20 23:00:11.389377\n",
      "DEBUG:root:step_start: 2020-04-15T00:00:00.000000000\n",
      "DEBUG:root:step_end: 2020-04-16T00:00:00.000000000\n",
      "DEBUG:root:Starting dask merge at 2021-07-20 23:00:11.609832\n"
     ]
    },
    {
     "name": "stdout",
     "output_type": "stream",
     "text": [
      "The date in Partition.get_travel_df is ['2020-04-15T00:00:00.000000000']\n"
     ]
    },
    {
     "name": "stderr",
     "output_type": "stream",
     "text": [
      "DEBUG:root:Finishing dask merge at 2021-07-20 23:00:20.307648\n",
      "DEBUG:root:Starting pandas merge 1 at 2021-07-20 23:00:20.308390\n",
      "DEBUG:root:Starting pandas merge 2 at 2021-07-20 23:00:28.155584\n",
      "DEBUG:root:Calculating contact probabilities on full dataframe starting at 2021-07-20 23:00:36.364654\n",
      "DEBUG:root:'dask_partition' took 27.79 seconds\n",
      "DEBUG:root:Building contact xarray at 2021-07-20 23:00:39.672487\n",
      "DEBUG:root:step_start: 2020-04-16T00:00:00.000000000\n",
      "DEBUG:root:step_end: 2020-04-17T00:00:00.000000000\n",
      "DEBUG:root:Starting dask merge at 2021-07-20 23:00:39.885859\n"
     ]
    },
    {
     "name": "stdout",
     "output_type": "stream",
     "text": [
      "The date in Partition.get_travel_df is ['2020-04-16T00:00:00.000000000']\n"
     ]
    },
    {
     "name": "stderr",
     "output_type": "stream",
     "text": [
      "DEBUG:root:Finishing dask merge at 2021-07-20 23:00:48.464644\n",
      "DEBUG:root:Starting pandas merge 1 at 2021-07-20 23:00:48.465373\n",
      "DEBUG:root:Starting pandas merge 2 at 2021-07-20 23:00:56.261142\n",
      "DEBUG:root:Calculating contact probabilities on full dataframe starting at 2021-07-20 23:01:04.378649\n",
      "DEBUG:root:'dask_partition' took 27.51 seconds\n",
      "DEBUG:root:Building contact xarray at 2021-07-20 23:01:07.668546\n",
      "DEBUG:root:step_start: 2020-04-17T00:00:00.000000000\n",
      "DEBUG:root:step_end: 2020-04-18T00:00:00.000000000\n",
      "DEBUG:root:Starting dask merge at 2021-07-20 23:01:07.887420\n"
     ]
    },
    {
     "name": "stdout",
     "output_type": "stream",
     "text": [
      "The date in Partition.get_travel_df is ['2020-04-17T00:00:00.000000000']\n"
     ]
    },
    {
     "name": "stderr",
     "output_type": "stream",
     "text": [
      "DEBUG:root:Finishing dask merge at 2021-07-20 23:01:16.363403\n",
      "DEBUG:root:Starting pandas merge 1 at 2021-07-20 23:01:16.364198\n",
      "DEBUG:root:Starting pandas merge 2 at 2021-07-20 23:01:24.147218\n",
      "DEBUG:root:Calculating contact probabilities on full dataframe starting at 2021-07-20 23:01:32.396284\n",
      "DEBUG:root:'dask_partition' took 27.51 seconds\n",
      "DEBUG:root:Building contact xarray at 2021-07-20 23:01:35.660035\n",
      "DEBUG:root:step_start: 2020-04-18T00:00:00.000000000\n",
      "DEBUG:root:step_end: 2020-04-19T00:00:00.000000000\n",
      "DEBUG:root:Starting dask merge at 2021-07-20 23:01:35.869841\n"
     ]
    },
    {
     "name": "stdout",
     "output_type": "stream",
     "text": [
      "The date in Partition.get_travel_df is ['2020-04-18T00:00:00.000000000']\n"
     ]
    },
    {
     "name": "stderr",
     "output_type": "stream",
     "text": [
      "DEBUG:root:Finishing dask merge at 2021-07-20 23:01:44.538980\n",
      "DEBUG:root:Starting pandas merge 1 at 2021-07-20 23:01:44.539718\n",
      "DEBUG:root:Starting pandas merge 2 at 2021-07-20 23:01:52.474356\n",
      "DEBUG:root:Calculating contact probabilities on full dataframe starting at 2021-07-20 23:02:00.520375\n",
      "DEBUG:root:'dask_partition' took 27.68 seconds\n",
      "DEBUG:root:Building contact xarray at 2021-07-20 23:02:03.811596\n",
      "DEBUG:root:step_start: 2020-04-19T00:00:00.000000000\n",
      "DEBUG:root:step_end: 2020-04-20T00:00:00.000000000\n",
      "DEBUG:root:Starting dask merge at 2021-07-20 23:02:04.029395\n"
     ]
    },
    {
     "name": "stdout",
     "output_type": "stream",
     "text": [
      "The date in Partition.get_travel_df is ['2020-04-19T00:00:00.000000000']\n"
     ]
    },
    {
     "name": "stderr",
     "output_type": "stream",
     "text": [
      "DEBUG:root:Finishing dask merge at 2021-07-20 23:02:12.583199\n",
      "DEBUG:root:Starting pandas merge 1 at 2021-07-20 23:02:12.583933\n",
      "DEBUG:root:Starting pandas merge 2 at 2021-07-20 23:02:20.312466\n",
      "DEBUG:root:Calculating contact probabilities on full dataframe starting at 2021-07-20 23:02:28.461713\n",
      "DEBUG:root:'dask_partition' took 27.50 seconds\n",
      "DEBUG:root:Building contact xarray at 2021-07-20 23:02:31.788277\n",
      "DEBUG:root:step_start: 2020-04-20T00:00:00.000000000\n",
      "DEBUG:root:step_end: 2020-04-21T00:00:00.000000000\n",
      "DEBUG:root:Starting dask merge at 2021-07-20 23:02:32.008971\n"
     ]
    },
    {
     "name": "stdout",
     "output_type": "stream",
     "text": [
      "The date in Partition.get_travel_df is ['2020-04-20T00:00:00.000000000']\n"
     ]
    },
    {
     "name": "stderr",
     "output_type": "stream",
     "text": [
      "DEBUG:root:Finishing dask merge at 2021-07-20 23:02:40.599153\n",
      "DEBUG:root:Starting pandas merge 1 at 2021-07-20 23:02:40.599875\n",
      "DEBUG:root:Starting pandas merge 2 at 2021-07-20 23:02:48.697076\n",
      "DEBUG:root:Calculating contact probabilities on full dataframe starting at 2021-07-20 23:02:57.057158\n",
      "DEBUG:root:'dask_partition' took 28.08 seconds\n",
      "DEBUG:root:Building contact xarray at 2021-07-20 23:03:00.378635\n",
      "DEBUG:root:step_start: 2020-04-21T00:00:00.000000000\n",
      "DEBUG:root:step_end: 2020-04-22T00:00:00.000000000\n",
      "DEBUG:root:Starting dask merge at 2021-07-20 23:03:00.598217\n"
     ]
    },
    {
     "name": "stdout",
     "output_type": "stream",
     "text": [
      "The date in Partition.get_travel_df is ['2020-04-21T00:00:00.000000000']\n"
     ]
    },
    {
     "name": "stderr",
     "output_type": "stream",
     "text": [
      "DEBUG:root:Finishing dask merge at 2021-07-20 23:03:09.431213\n",
      "DEBUG:root:Starting pandas merge 1 at 2021-07-20 23:03:09.431951\n",
      "DEBUG:root:Starting pandas merge 2 at 2021-07-20 23:03:17.385123\n",
      "DEBUG:root:Calculating contact probabilities on full dataframe starting at 2021-07-20 23:03:25.549095\n",
      "DEBUG:root:'dask_partition' took 27.97 seconds\n",
      "DEBUG:root:Building contact xarray at 2021-07-20 23:03:28.846111\n",
      "DEBUG:root:step_start: 2020-04-22T00:00:00.000000000\n",
      "DEBUG:root:step_end: 2020-04-23T00:00:00.000000000\n",
      "DEBUG:root:Starting dask merge at 2021-07-20 23:03:29.064325\n"
     ]
    },
    {
     "name": "stdout",
     "output_type": "stream",
     "text": [
      "The date in Partition.get_travel_df is ['2020-04-22T00:00:00.000000000']\n"
     ]
    },
    {
     "name": "stderr",
     "output_type": "stream",
     "text": [
      "DEBUG:root:Finishing dask merge at 2021-07-20 23:03:38.105046\n",
      "DEBUG:root:Starting pandas merge 1 at 2021-07-20 23:03:38.105954\n",
      "DEBUG:root:Starting pandas merge 2 at 2021-07-20 23:03:47.177648\n",
      "DEBUG:root:Calculating contact probabilities on full dataframe starting at 2021-07-20 23:03:55.574844\n",
      "DEBUG:root:'dask_partition' took 29.53 seconds\n",
      "DEBUG:root:Building contact xarray at 2021-07-20 23:03:58.880696\n",
      "DEBUG:root:step_start: 2020-04-23T00:00:00.000000000\n",
      "DEBUG:root:step_end: 2020-04-24T00:00:00.000000000\n",
      "DEBUG:root:Starting dask merge at 2021-07-20 23:03:59.280555\n"
     ]
    },
    {
     "name": "stdout",
     "output_type": "stream",
     "text": [
      "The date in Partition.get_travel_df is ['2020-04-23T00:00:00.000000000']\n"
     ]
    },
    {
     "name": "stderr",
     "output_type": "stream",
     "text": [
      "DEBUG:root:Finishing dask merge at 2021-07-20 23:04:07.938681\n",
      "DEBUG:root:Starting pandas merge 1 at 2021-07-20 23:04:07.939418\n",
      "DEBUG:root:Starting pandas merge 2 at 2021-07-20 23:04:15.729118\n",
      "DEBUG:root:Calculating contact probabilities on full dataframe starting at 2021-07-20 23:04:23.903783\n",
      "DEBUG:root:'dask_partition' took 27.66 seconds\n",
      "DEBUG:root:Building contact xarray at 2021-07-20 23:04:27.220968\n",
      "DEBUG:root:step_start: 2020-04-24T00:00:00.000000000\n",
      "DEBUG:root:step_end: 2020-04-25T00:00:00.000000000\n",
      "DEBUG:root:Starting dask merge at 2021-07-20 23:04:27.434505\n"
     ]
    },
    {
     "name": "stdout",
     "output_type": "stream",
     "text": [
      "The date in Partition.get_travel_df is ['2020-04-24T00:00:00.000000000']\n"
     ]
    },
    {
     "name": "stderr",
     "output_type": "stream",
     "text": [
      "DEBUG:root:Finishing dask merge at 2021-07-20 23:04:36.117000\n",
      "DEBUG:root:Starting pandas merge 1 at 2021-07-20 23:04:36.117795\n",
      "DEBUG:root:Starting pandas merge 2 at 2021-07-20 23:04:43.971791\n",
      "DEBUG:root:Calculating contact probabilities on full dataframe starting at 2021-07-20 23:04:52.318623\n",
      "DEBUG:root:'dask_partition' took 27.89 seconds\n",
      "DEBUG:root:Building contact xarray at 2021-07-20 23:04:55.592202\n",
      "DEBUG:root:step_start: 2020-04-25T00:00:00.000000000\n",
      "DEBUG:root:step_end: 2020-04-26T00:00:00.000000000\n",
      "DEBUG:root:Starting dask merge at 2021-07-20 23:04:55.803249\n"
     ]
    },
    {
     "name": "stdout",
     "output_type": "stream",
     "text": [
      "The date in Partition.get_travel_df is ['2020-04-25T00:00:00.000000000']\n"
     ]
    },
    {
     "name": "stderr",
     "output_type": "stream",
     "text": [
      "DEBUG:root:Finishing dask merge at 2021-07-20 23:05:04.697097\n",
      "DEBUG:root:Starting pandas merge 1 at 2021-07-20 23:05:04.697839\n",
      "DEBUG:root:Starting pandas merge 2 at 2021-07-20 23:05:13.914460\n",
      "DEBUG:root:Calculating contact probabilities on full dataframe starting at 2021-07-20 23:05:22.332945\n",
      "DEBUG:root:'dask_partition' took 29.58 seconds\n",
      "DEBUG:root:Building contact xarray at 2021-07-20 23:05:25.684410\n",
      "DEBUG:root:step_start: 2020-04-26T00:00:00.000000000\n",
      "DEBUG:root:step_end: 2020-04-27T00:00:00.000000000\n",
      "DEBUG:root:Starting dask merge at 2021-07-20 23:05:25.912245\n"
     ]
    },
    {
     "name": "stdout",
     "output_type": "stream",
     "text": [
      "The date in Partition.get_travel_df is ['2020-04-26T00:00:00.000000000']\n"
     ]
    },
    {
     "name": "stderr",
     "output_type": "stream",
     "text": [
      "DEBUG:root:Finishing dask merge at 2021-07-20 23:05:34.935684\n",
      "DEBUG:root:Starting pandas merge 1 at 2021-07-20 23:05:34.936452\n",
      "DEBUG:root:Starting pandas merge 2 at 2021-07-20 23:05:42.941250\n",
      "DEBUG:root:Calculating contact probabilities on full dataframe starting at 2021-07-20 23:05:51.128514\n",
      "DEBUG:root:'dask_partition' took 28.26 seconds\n",
      "DEBUG:root:Building contact xarray at 2021-07-20 23:05:54.458852\n",
      "DEBUG:root:step_start: 2020-04-27T00:00:00.000000000\n",
      "DEBUG:root:step_end: 2020-04-28T00:00:00.000000000\n",
      "DEBUG:root:Starting dask merge at 2021-07-20 23:05:54.684073\n"
     ]
    },
    {
     "name": "stdout",
     "output_type": "stream",
     "text": [
      "The date in Partition.get_travel_df is ['2020-04-27T00:00:00.000000000']\n"
     ]
    },
    {
     "name": "stderr",
     "output_type": "stream",
     "text": [
      "DEBUG:root:Finishing dask merge at 2021-07-20 23:06:03.453592\n",
      "DEBUG:root:Starting pandas merge 1 at 2021-07-20 23:06:03.454327\n",
      "DEBUG:root:Starting pandas merge 2 at 2021-07-20 23:06:11.416776\n",
      "DEBUG:root:Calculating contact probabilities on full dataframe starting at 2021-07-20 23:06:19.583933\n",
      "DEBUG:root:'dask_partition' took 27.92 seconds\n",
      "DEBUG:root:Building contact xarray at 2021-07-20 23:06:22.902172\n",
      "DEBUG:root:step_start: 2020-04-28T00:00:00.000000000\n",
      "DEBUG:root:step_end: 2020-04-29T00:00:00.000000000\n",
      "DEBUG:root:Starting dask merge at 2021-07-20 23:06:23.121378\n"
     ]
    },
    {
     "name": "stdout",
     "output_type": "stream",
     "text": [
      "The date in Partition.get_travel_df is ['2020-04-28T00:00:00.000000000']\n"
     ]
    },
    {
     "name": "stderr",
     "output_type": "stream",
     "text": [
      "DEBUG:root:Finishing dask merge at 2021-07-20 23:06:31.744933\n",
      "DEBUG:root:Starting pandas merge 1 at 2021-07-20 23:06:31.745669\n",
      "DEBUG:root:Starting pandas merge 2 at 2021-07-20 23:06:39.737403\n",
      "DEBUG:root:Calculating contact probabilities on full dataframe starting at 2021-07-20 23:06:48.006731\n",
      "DEBUG:root:'dask_partition' took 27.89 seconds\n",
      "DEBUG:root:Building contact xarray at 2021-07-20 23:06:51.305753\n",
      "DEBUG:root:step_start: 2020-04-29T00:00:00.000000000\n",
      "DEBUG:root:step_end: 2020-04-30T00:00:00.000000000\n",
      "DEBUG:root:Starting dask merge at 2021-07-20 23:06:51.542003\n"
     ]
    },
    {
     "name": "stdout",
     "output_type": "stream",
     "text": [
      "The date in Partition.get_travel_df is ['2020-04-29T00:00:00.000000000']\n"
     ]
    },
    {
     "name": "stderr",
     "output_type": "stream",
     "text": [
      "DEBUG:root:Finishing dask merge at 2021-07-20 23:07:00.178267\n",
      "DEBUG:root:Starting pandas merge 1 at 2021-07-20 23:07:00.179521\n",
      "DEBUG:root:Starting pandas merge 2 at 2021-07-20 23:07:07.979358\n",
      "DEBUG:root:Calculating contact probabilities on full dataframe starting at 2021-07-20 23:07:16.060660\n",
      "DEBUG:root:'dask_partition' took 27.49 seconds\n",
      "DEBUG:root:Building contact xarray at 2021-07-20 23:07:19.289482\n",
      "DEBUG:root:step_start: 2020-04-30T00:00:00.000000000\n",
      "DEBUG:root:step_end: 2020-05-01T00:00:00.000000000\n",
      "DEBUG:root:Starting dask merge at 2021-07-20 23:07:19.500580\n"
     ]
    },
    {
     "name": "stdout",
     "output_type": "stream",
     "text": [
      "The date in Partition.get_travel_df is ['2020-04-30T00:00:00.000000000']\n"
     ]
    },
    {
     "name": "stderr",
     "output_type": "stream",
     "text": [
      "DEBUG:root:Finishing dask merge at 2021-07-20 23:07:28.149776\n",
      "DEBUG:root:Starting pandas merge 1 at 2021-07-20 23:07:28.150508\n",
      "DEBUG:root:Starting pandas merge 2 at 2021-07-20 23:07:36.243666\n",
      "DEBUG:root:Calculating contact probabilities on full dataframe starting at 2021-07-20 23:07:44.656240\n",
      "DEBUG:root:'dask_partition' took 28.17 seconds\n",
      "DEBUG:root:Building contact xarray at 2021-07-20 23:07:47.956111\n",
      "DEBUG:root:step_start: 2020-05-01T00:00:00.000000000\n",
      "DEBUG:root:step_end: 2020-05-02T00:00:00.000000000\n",
      "DEBUG:root:Starting dask merge at 2021-07-20 23:07:48.175644\n"
     ]
    },
    {
     "name": "stdout",
     "output_type": "stream",
     "text": [
      "The date in Partition.get_travel_df is ['2020-05-01T00:00:00.000000000']\n"
     ]
    },
    {
     "name": "stderr",
     "output_type": "stream",
     "text": [
      "DEBUG:root:Finishing dask merge at 2021-07-20 23:07:56.838329\n",
      "DEBUG:root:Starting pandas merge 1 at 2021-07-20 23:07:56.839073\n",
      "DEBUG:root:Starting pandas merge 2 at 2021-07-20 23:08:04.874533\n",
      "DEBUG:root:Calculating contact probabilities on full dataframe starting at 2021-07-20 23:08:13.176927\n",
      "DEBUG:root:'dask_partition' took 28.06 seconds\n",
      "DEBUG:root:Building contact xarray at 2021-07-20 23:08:16.511249\n",
      "DEBUG:root:step_start: 2020-05-02T00:00:00.000000000\n",
      "DEBUG:root:step_end: 2020-05-03T00:00:00.000000000\n",
      "DEBUG:root:Starting dask merge at 2021-07-20 23:08:16.734208\n"
     ]
    },
    {
     "name": "stdout",
     "output_type": "stream",
     "text": [
      "The date in Partition.get_travel_df is ['2020-05-02T00:00:00.000000000']\n"
     ]
    },
    {
     "name": "stderr",
     "output_type": "stream",
     "text": [
      "DEBUG:root:Finishing dask merge at 2021-07-20 23:08:25.290291\n",
      "DEBUG:root:Starting pandas merge 1 at 2021-07-20 23:08:25.290970\n",
      "DEBUG:root:Starting pandas merge 2 at 2021-07-20 23:08:33.726748\n",
      "DEBUG:root:Calculating contact probabilities on full dataframe starting at 2021-07-20 23:08:42.130914\n",
      "DEBUG:root:'dask_partition' took 28.45 seconds\n",
      "DEBUG:root:Building contact xarray at 2021-07-20 23:08:45.473260\n",
      "DEBUG:root:step_start: 2020-05-03T00:00:00.000000000\n",
      "DEBUG:root:step_end: 2020-05-04T00:00:00.000000000\n",
      "DEBUG:root:Starting dask merge at 2021-07-20 23:08:45.693539\n"
     ]
    },
    {
     "name": "stdout",
     "output_type": "stream",
     "text": [
      "The date in Partition.get_travel_df is ['2020-05-03T00:00:00.000000000']\n"
     ]
    },
    {
     "name": "stderr",
     "output_type": "stream",
     "text": [
      "DEBUG:root:Finishing dask merge at 2021-07-20 23:08:54.102114\n",
      "DEBUG:root:Starting pandas merge 1 at 2021-07-20 23:08:54.102849\n",
      "DEBUG:root:Starting pandas merge 2 at 2021-07-20 23:09:02.102382\n",
      "DEBUG:root:Calculating contact probabilities on full dataframe starting at 2021-07-20 23:09:10.544049\n",
      "DEBUG:root:'dask_partition' took 27.86 seconds\n",
      "DEBUG:root:Building contact xarray at 2021-07-20 23:09:13.835663\n",
      "DEBUG:root:step_start: 2020-05-04T00:00:00.000000000\n",
      "DEBUG:root:step_end: 2020-05-05T00:00:00.000000000\n",
      "DEBUG:root:Starting dask merge at 2021-07-20 23:09:14.050134\n"
     ]
    },
    {
     "name": "stdout",
     "output_type": "stream",
     "text": [
      "The date in Partition.get_travel_df is ['2020-05-04T00:00:00.000000000']\n"
     ]
    },
    {
     "name": "stderr",
     "output_type": "stream",
     "text": [
      "DEBUG:root:Finishing dask merge at 2021-07-20 23:09:22.707934\n",
      "DEBUG:root:Starting pandas merge 1 at 2021-07-20 23:09:22.708661\n",
      "DEBUG:root:Starting pandas merge 2 at 2021-07-20 23:09:30.651549\n",
      "DEBUG:root:Calculating contact probabilities on full dataframe starting at 2021-07-20 23:09:39.145065\n",
      "DEBUG:root:'dask_partition' took 28.08 seconds\n",
      "DEBUG:root:Building contact xarray at 2021-07-20 23:09:42.413138\n",
      "DEBUG:root:step_start: 2020-05-05T00:00:00.000000000\n",
      "DEBUG:root:step_end: 2020-05-06T00:00:00.000000000\n",
      "DEBUG:root:Starting dask merge at 2021-07-20 23:09:42.629100\n"
     ]
    },
    {
     "name": "stdout",
     "output_type": "stream",
     "text": [
      "The date in Partition.get_travel_df is ['2020-05-05T00:00:00.000000000']\n"
     ]
    },
    {
     "name": "stderr",
     "output_type": "stream",
     "text": [
      "DEBUG:root:Finishing dask merge at 2021-07-20 23:09:51.760640\n",
      "DEBUG:root:Starting pandas merge 1 at 2021-07-20 23:09:51.761393\n",
      "DEBUG:root:Starting pandas merge 2 at 2021-07-20 23:09:59.580469\n",
      "DEBUG:root:Calculating contact probabilities on full dataframe starting at 2021-07-20 23:10:07.473967\n",
      "DEBUG:root:'dask_partition' took 27.76 seconds\n",
      "DEBUG:root:Building contact xarray at 2021-07-20 23:10:10.665688\n",
      "DEBUG:root:step_start: 2020-05-06T00:00:00.000000000\n",
      "DEBUG:root:step_end: 2020-05-07T00:00:00.000000000\n",
      "DEBUG:root:Starting dask merge at 2021-07-20 23:10:10.863404\n"
     ]
    },
    {
     "name": "stdout",
     "output_type": "stream",
     "text": [
      "The date in Partition.get_travel_df is ['2020-05-06T00:00:00.000000000']\n"
     ]
    },
    {
     "name": "stderr",
     "output_type": "stream",
     "text": [
      "DEBUG:root:Finishing dask merge at 2021-07-20 23:10:19.242820\n",
      "DEBUG:root:Starting pandas merge 1 at 2021-07-20 23:10:19.243566\n",
      "DEBUG:root:Starting pandas merge 2 at 2021-07-20 23:10:27.624591\n",
      "DEBUG:root:Calculating contact probabilities on full dataframe starting at 2021-07-20 23:10:35.562466\n",
      "DEBUG:root:'dask_partition' took 27.61 seconds\n",
      "DEBUG:root:Building contact xarray at 2021-07-20 23:10:38.737549\n",
      "DEBUG:root:step_start: 2020-05-07T00:00:00.000000000\n",
      "DEBUG:root:step_end: 2020-05-08T00:00:00.000000000\n",
      "DEBUG:root:Starting dask merge at 2021-07-20 23:10:38.950192\n"
     ]
    },
    {
     "name": "stdout",
     "output_type": "stream",
     "text": [
      "The date in Partition.get_travel_df is ['2020-05-07T00:00:00.000000000']\n"
     ]
    },
    {
     "name": "stderr",
     "output_type": "stream",
     "text": [
      "DEBUG:root:Finishing dask merge at 2021-07-20 23:10:47.035272\n",
      "DEBUG:root:Starting pandas merge 1 at 2021-07-20 23:10:47.035994\n",
      "DEBUG:root:Starting pandas merge 2 at 2021-07-20 23:10:54.474018\n",
      "DEBUG:root:Calculating contact probabilities on full dataframe starting at 2021-07-20 23:11:02.184213\n",
      "DEBUG:root:'dask_partition' took 26.09 seconds\n",
      "DEBUG:root:Building contact xarray at 2021-07-20 23:11:05.308152\n",
      "DEBUG:root:step_start: 2020-05-08T00:00:00.000000000\n",
      "DEBUG:root:step_end: 2020-05-09T00:00:00.000000000\n",
      "DEBUG:root:Starting dask merge at 2021-07-20 23:11:05.503627\n"
     ]
    },
    {
     "name": "stdout",
     "output_type": "stream",
     "text": [
      "The date in Partition.get_travel_df is ['2020-05-08T00:00:00.000000000']\n"
     ]
    },
    {
     "name": "stderr",
     "output_type": "stream",
     "text": [
      "DEBUG:root:Finishing dask merge at 2021-07-20 23:11:14.097602\n",
      "DEBUG:root:Starting pandas merge 1 at 2021-07-20 23:11:14.098329\n",
      "DEBUG:root:Starting pandas merge 2 at 2021-07-20 23:11:21.490690\n",
      "DEBUG:root:Calculating contact probabilities on full dataframe starting at 2021-07-20 23:11:29.039808\n",
      "DEBUG:root:'dask_partition' took 26.52 seconds\n",
      "DEBUG:root:Building contact xarray at 2021-07-20 23:11:32.280381\n",
      "DEBUG:root:step_start: 2020-05-09T00:00:00.000000000\n",
      "DEBUG:root:step_end: 2020-05-10T00:00:00.000000000\n",
      "DEBUG:root:Starting dask merge at 2021-07-20 23:11:32.501329\n"
     ]
    },
    {
     "name": "stdout",
     "output_type": "stream",
     "text": [
      "The date in Partition.get_travel_df is ['2020-05-09T00:00:00.000000000']\n"
     ]
    },
    {
     "name": "stderr",
     "output_type": "stream",
     "text": [
      "DEBUG:root:Finishing dask merge at 2021-07-20 23:11:40.810318\n",
      "DEBUG:root:Starting pandas merge 1 at 2021-07-20 23:11:40.810988\n",
      "DEBUG:root:Starting pandas merge 2 at 2021-07-20 23:11:48.301696\n",
      "DEBUG:root:Calculating contact probabilities on full dataframe starting at 2021-07-20 23:11:55.958570\n",
      "DEBUG:root:'dask_partition' took 26.31 seconds\n",
      "DEBUG:root:Building contact xarray at 2021-07-20 23:11:59.073118\n",
      "DEBUG:root:step_start: 2020-05-10T00:00:00.000000000\n",
      "DEBUG:root:step_end: 2020-05-11T00:00:00.000000000\n",
      "DEBUG:root:Starting dask merge at 2021-07-20 23:11:59.266013\n"
     ]
    },
    {
     "name": "stdout",
     "output_type": "stream",
     "text": [
      "The date in Partition.get_travel_df is ['2020-05-10T00:00:00.000000000']\n"
     ]
    },
    {
     "name": "stderr",
     "output_type": "stream",
     "text": [
      "DEBUG:root:Finishing dask merge at 2021-07-20 23:12:07.303223\n",
      "DEBUG:root:Starting pandas merge 1 at 2021-07-20 23:12:07.303904\n",
      "DEBUG:root:Starting pandas merge 2 at 2021-07-20 23:12:14.719959\n",
      "DEBUG:root:Calculating contact probabilities on full dataframe starting at 2021-07-20 23:12:22.376478\n",
      "DEBUG:root:'dask_partition' took 25.99 seconds\n",
      "DEBUG:root:Building contact xarray at 2021-07-20 23:12:25.510475\n",
      "DEBUG:root:step_start: 2020-05-11T00:00:00.000000000\n",
      "DEBUG:root:step_end: 2020-05-12T00:00:00.000000000\n",
      "DEBUG:root:Starting dask merge at 2021-07-20 23:12:25.696794\n"
     ]
    },
    {
     "name": "stdout",
     "output_type": "stream",
     "text": [
      "The date in Partition.get_travel_df is ['2020-05-11T00:00:00.000000000']\n"
     ]
    },
    {
     "name": "stderr",
     "output_type": "stream",
     "text": [
      "DEBUG:root:Finishing dask merge at 2021-07-20 23:12:33.941678\n",
      "DEBUG:root:Starting pandas merge 1 at 2021-07-20 23:12:33.942466\n",
      "DEBUG:root:Starting pandas merge 2 at 2021-07-20 23:12:41.664579\n",
      "DEBUG:root:Calculating contact probabilities on full dataframe starting at 2021-07-20 23:12:49.521914\n",
      "DEBUG:root:'dask_partition' took 26.72 seconds\n",
      "DEBUG:root:Building contact xarray at 2021-07-20 23:12:52.695244\n",
      "DEBUG:root:step_start: 2020-05-12T00:00:00.000000000\n",
      "DEBUG:root:step_end: 2020-05-13T00:00:00.000000000\n",
      "DEBUG:root:Starting dask merge at 2021-07-20 23:12:52.883121\n"
     ]
    },
    {
     "name": "stdout",
     "output_type": "stream",
     "text": [
      "The date in Partition.get_travel_df is ['2020-05-12T00:00:00.000000000']\n"
     ]
    },
    {
     "name": "stderr",
     "output_type": "stream",
     "text": [
      "DEBUG:root:Finishing dask merge at 2021-07-20 23:13:01.147998\n",
      "DEBUG:root:Starting pandas merge 1 at 2021-07-20 23:13:01.148893\n",
      "DEBUG:root:Starting pandas merge 2 at 2021-07-20 23:13:08.230816\n",
      "DEBUG:root:Calculating contact probabilities on full dataframe starting at 2021-07-20 23:13:16.131995\n",
      "DEBUG:root:'dask_partition' took 26.13 seconds\n",
      "DEBUG:root:Building contact xarray at 2021-07-20 23:13:19.295562\n",
      "DEBUG:root:step_start: 2020-05-13T00:00:00.000000000\n",
      "DEBUG:root:step_end: 2020-05-14T00:00:00.000000000\n",
      "DEBUG:root:Starting dask merge at 2021-07-20 23:13:19.529871\n"
     ]
    },
    {
     "name": "stdout",
     "output_type": "stream",
     "text": [
      "The date in Partition.get_travel_df is ['2020-05-13T00:00:00.000000000']\n"
     ]
    },
    {
     "name": "stderr",
     "output_type": "stream",
     "text": [
      "DEBUG:root:Finishing dask merge at 2021-07-20 23:13:27.714070\n",
      "DEBUG:root:Starting pandas merge 1 at 2021-07-20 23:13:27.714794\n",
      "DEBUG:root:Starting pandas merge 2 at 2021-07-20 23:13:35.279920\n",
      "DEBUG:root:Calculating contact probabilities on full dataframe starting at 2021-07-20 23:13:42.857980\n",
      "DEBUG:root:'dask_partition' took 26.16 seconds\n",
      "DEBUG:root:Building contact xarray at 2021-07-20 23:13:45.939490\n",
      "DEBUG:root:step_start: 2020-05-14T00:00:00.000000000\n",
      "DEBUG:root:step_end: 2020-05-15T00:00:00.000000000\n",
      "DEBUG:root:Starting dask merge at 2021-07-20 23:13:46.127888\n"
     ]
    },
    {
     "name": "stdout",
     "output_type": "stream",
     "text": [
      "The date in Partition.get_travel_df is ['2020-05-14T00:00:00.000000000']\n"
     ]
    },
    {
     "name": "stderr",
     "output_type": "stream",
     "text": [
      "DEBUG:root:Finishing dask merge at 2021-07-20 23:13:54.237903\n",
      "DEBUG:root:Starting pandas merge 1 at 2021-07-20 23:13:54.238728\n",
      "DEBUG:root:Starting pandas merge 2 at 2021-07-20 23:14:01.585687\n",
      "DEBUG:root:Calculating contact probabilities on full dataframe starting at 2021-07-20 23:14:09.261229\n",
      "DEBUG:root:'dask_partition' took 26.02 seconds\n",
      "DEBUG:root:Building contact xarray at 2021-07-20 23:14:12.388077\n",
      "DEBUG:root:step_start: 2020-05-15T00:00:00.000000000\n",
      "DEBUG:root:step_end: 2020-05-16T00:00:00.000000000\n",
      "DEBUG:root:Starting dask merge at 2021-07-20 23:14:12.577511\n"
     ]
    },
    {
     "name": "stdout",
     "output_type": "stream",
     "text": [
      "The date in Partition.get_travel_df is ['2020-05-15T00:00:00.000000000']\n"
     ]
    },
    {
     "name": "stderr",
     "output_type": "stream",
     "text": [
      "DEBUG:root:Finishing dask merge at 2021-07-20 23:14:21.019075\n",
      "DEBUG:root:Starting pandas merge 1 at 2021-07-20 23:14:21.019906\n",
      "DEBUG:root:Starting pandas merge 2 at 2021-07-20 23:14:28.414914\n",
      "DEBUG:root:Calculating contact probabilities on full dataframe starting at 2021-07-20 23:14:36.246877\n",
      "DEBUG:root:'dask_partition' took 26.52 seconds\n",
      "DEBUG:root:Building contact xarray at 2021-07-20 23:14:39.343096\n",
      "DEBUG:root:step_start: 2020-05-16T00:00:00.000000000\n",
      "DEBUG:root:step_end: 2020-05-17T00:00:00.000000000\n",
      "DEBUG:root:Starting dask merge at 2021-07-20 23:14:39.534945\n"
     ]
    },
    {
     "name": "stdout",
     "output_type": "stream",
     "text": [
      "The date in Partition.get_travel_df is ['2020-05-16T00:00:00.000000000']\n"
     ]
    },
    {
     "name": "stderr",
     "output_type": "stream",
     "text": [
      "DEBUG:root:Finishing dask merge at 2021-07-20 23:14:47.861151\n",
      "DEBUG:root:Starting pandas merge 1 at 2021-07-20 23:14:47.861866\n",
      "DEBUG:root:Starting pandas merge 2 at 2021-07-20 23:14:55.502836\n",
      "DEBUG:root:Calculating contact probabilities on full dataframe starting at 2021-07-20 23:15:03.357015\n",
      "DEBUG:root:'dask_partition' took 26.71 seconds\n",
      "DEBUG:root:Building contact xarray at 2021-07-20 23:15:06.509394\n",
      "DEBUG:root:step_start: 2020-05-17T00:00:00.000000000\n",
      "DEBUG:root:step_end: 2020-05-18T00:00:00.000000000\n",
      "DEBUG:root:Starting dask merge at 2021-07-20 23:15:06.708595\n"
     ]
    },
    {
     "name": "stdout",
     "output_type": "stream",
     "text": [
      "The date in Partition.get_travel_df is ['2020-05-17T00:00:00.000000000']\n"
     ]
    },
    {
     "name": "stderr",
     "output_type": "stream",
     "text": [
      "DEBUG:root:Finishing dask merge at 2021-07-20 23:15:14.745781\n",
      "DEBUG:root:Starting pandas merge 1 at 2021-07-20 23:15:14.746548\n",
      "DEBUG:root:Starting pandas merge 2 at 2021-07-20 23:15:22.370488\n",
      "DEBUG:root:Calculating contact probabilities on full dataframe starting at 2021-07-20 23:15:30.324914\n",
      "DEBUG:root:'dask_partition' took 26.42 seconds\n",
      "DEBUG:root:Building contact xarray at 2021-07-20 23:15:33.398404\n",
      "DEBUG:root:step_start: 2020-05-18T00:00:00.000000000\n",
      "DEBUG:root:step_end: 2020-05-19T00:00:00.000000000\n",
      "DEBUG:root:Starting dask merge at 2021-07-20 23:15:33.598356\n"
     ]
    },
    {
     "name": "stdout",
     "output_type": "stream",
     "text": [
      "The date in Partition.get_travel_df is ['2020-05-18T00:00:00.000000000']\n"
     ]
    },
    {
     "name": "stderr",
     "output_type": "stream",
     "text": [
      "DEBUG:root:Finishing dask merge at 2021-07-20 23:15:42.021455\n",
      "DEBUG:root:Starting pandas merge 1 at 2021-07-20 23:15:42.022202\n",
      "DEBUG:root:Starting pandas merge 2 at 2021-07-20 23:15:50.154424\n",
      "DEBUG:root:Calculating contact probabilities on full dataframe starting at 2021-07-20 23:15:57.947773\n",
      "DEBUG:root:'dask_partition' took 27.23 seconds\n",
      "DEBUG:root:Building contact xarray at 2021-07-20 23:16:01.097957\n",
      "DEBUG:root:step_start: 2020-05-19T00:00:00.000000000\n",
      "DEBUG:root:step_end: 2020-05-20T00:00:00.000000000\n",
      "DEBUG:root:Starting dask merge at 2021-07-20 23:16:01.301143\n"
     ]
    },
    {
     "name": "stdout",
     "output_type": "stream",
     "text": [
      "The date in Partition.get_travel_df is ['2020-05-19T00:00:00.000000000']\n"
     ]
    },
    {
     "name": "stderr",
     "output_type": "stream",
     "text": [
      "DEBUG:root:Finishing dask merge at 2021-07-20 23:16:09.549858\n",
      "DEBUG:root:Starting pandas merge 1 at 2021-07-20 23:16:09.550588\n",
      "DEBUG:root:Starting pandas merge 2 at 2021-07-20 23:16:16.932773\n",
      "DEBUG:root:Calculating contact probabilities on full dataframe starting at 2021-07-20 23:16:24.531768\n",
      "DEBUG:root:'dask_partition' took 26.21 seconds\n",
      "DEBUG:root:Building contact xarray at 2021-07-20 23:16:27.758961\n",
      "DEBUG:root:step_start: 2020-05-20T00:00:00.000000000\n",
      "DEBUG:root:step_end: 2020-05-21T00:00:00.000000000\n",
      "DEBUG:root:Starting dask merge at 2021-07-20 23:16:27.946618\n"
     ]
    },
    {
     "name": "stdout",
     "output_type": "stream",
     "text": [
      "The date in Partition.get_travel_df is ['2020-05-20T00:00:00.000000000']\n"
     ]
    },
    {
     "name": "stderr",
     "output_type": "stream",
     "text": [
      "DEBUG:root:Finishing dask merge at 2021-07-20 23:16:36.409060\n",
      "DEBUG:root:Starting pandas merge 1 at 2021-07-20 23:16:36.409843\n",
      "DEBUG:root:Starting pandas merge 2 at 2021-07-20 23:16:43.824414\n",
      "DEBUG:root:Calculating contact probabilities on full dataframe starting at 2021-07-20 23:16:51.324215\n",
      "DEBUG:root:'dask_partition' took 26.23 seconds\n",
      "DEBUG:root:Building contact xarray at 2021-07-20 23:16:54.422970\n",
      "DEBUG:root:step_start: 2020-05-21T00:00:00.000000000\n",
      "DEBUG:root:step_end: 2020-05-22T00:00:00.000000000\n",
      "DEBUG:root:Starting dask merge at 2021-07-20 23:16:54.626195\n"
     ]
    },
    {
     "name": "stdout",
     "output_type": "stream",
     "text": [
      "The date in Partition.get_travel_df is ['2020-05-21T00:00:00.000000000']\n"
     ]
    },
    {
     "name": "stderr",
     "output_type": "stream",
     "text": [
      "DEBUG:root:Finishing dask merge at 2021-07-20 23:17:02.680955\n",
      "DEBUG:root:Starting pandas merge 1 at 2021-07-20 23:17:02.681729\n",
      "DEBUG:root:Starting pandas merge 2 at 2021-07-20 23:17:10.018909\n",
      "DEBUG:root:Calculating contact probabilities on full dataframe starting at 2021-07-20 23:17:17.691485\n",
      "DEBUG:root:'dask_partition' took 25.91 seconds\n",
      "DEBUG:root:Building contact xarray at 2021-07-20 23:17:20.779402\n",
      "DEBUG:root:step_start: 2020-05-22T00:00:00.000000000\n",
      "DEBUG:root:step_end: 2020-05-23T00:00:00.000000000\n",
      "DEBUG:root:Starting dask merge at 2021-07-20 23:17:20.968944\n"
     ]
    },
    {
     "name": "stdout",
     "output_type": "stream",
     "text": [
      "The date in Partition.get_travel_df is ['2020-05-22T00:00:00.000000000']\n"
     ]
    },
    {
     "name": "stderr",
     "output_type": "stream",
     "text": [
      "DEBUG:root:Finishing dask merge at 2021-07-20 23:17:29.042037\n",
      "DEBUG:root:Starting pandas merge 1 at 2021-07-20 23:17:29.042760\n",
      "DEBUG:root:Starting pandas merge 2 at 2021-07-20 23:17:36.598852\n",
      "DEBUG:root:Calculating contact probabilities on full dataframe starting at 2021-07-20 23:17:44.345973\n",
      "DEBUG:root:'dask_partition' took 26.22 seconds\n",
      "DEBUG:root:Building contact xarray at 2021-07-20 23:17:47.463283\n",
      "DEBUG:root:step_start: 2020-05-23T00:00:00.000000000\n",
      "DEBUG:root:step_end: 2020-05-24T00:00:00.000000000\n",
      "DEBUG:root:Starting dask merge at 2021-07-20 23:17:47.648827\n"
     ]
    },
    {
     "name": "stdout",
     "output_type": "stream",
     "text": [
      "The date in Partition.get_travel_df is ['2020-05-23T00:00:00.000000000']\n"
     ]
    },
    {
     "name": "stderr",
     "output_type": "stream",
     "text": [
      "DEBUG:root:Finishing dask merge at 2021-07-20 23:17:56.170304\n",
      "DEBUG:root:Starting pandas merge 1 at 2021-07-20 23:17:56.170974\n",
      "DEBUG:root:Starting pandas merge 2 at 2021-07-20 23:18:03.842033\n",
      "DEBUG:root:Calculating contact probabilities on full dataframe starting at 2021-07-20 23:18:11.780074\n",
      "DEBUG:root:'dask_partition' took 26.99 seconds\n",
      "DEBUG:root:Building contact xarray at 2021-07-20 23:18:14.906662\n",
      "DEBUG:root:step_start: 2020-05-24T00:00:00.000000000\n",
      "DEBUG:root:step_end: 2020-05-25T00:00:00.000000000\n",
      "DEBUG:root:Starting dask merge at 2021-07-20 23:18:15.107561\n"
     ]
    },
    {
     "name": "stdout",
     "output_type": "stream",
     "text": [
      "The date in Partition.get_travel_df is ['2020-05-24T00:00:00.000000000']\n"
     ]
    },
    {
     "name": "stderr",
     "output_type": "stream",
     "text": [
      "DEBUG:root:Finishing dask merge at 2021-07-20 23:18:23.144803\n",
      "DEBUG:root:Starting pandas merge 1 at 2021-07-20 23:18:23.145603\n",
      "DEBUG:root:Starting pandas merge 2 at 2021-07-20 23:18:32.657157\n",
      "DEBUG:root:Calculating contact probabilities on full dataframe starting at 2021-07-20 23:18:40.836332\n",
      "DEBUG:root:'dask_partition' took 28.73 seconds\n",
      "DEBUG:root:Building contact xarray at 2021-07-20 23:18:44.101159\n",
      "DEBUG:root:step_start: 2020-05-25T00:00:00.000000000\n",
      "DEBUG:root:step_end: 2020-05-26T00:00:00.000000000\n",
      "DEBUG:root:Starting dask merge at 2021-07-20 23:18:44.293603\n"
     ]
    },
    {
     "name": "stdout",
     "output_type": "stream",
     "text": [
      "The date in Partition.get_travel_df is ['2020-05-25T00:00:00.000000000']\n"
     ]
    },
    {
     "name": "stderr",
     "output_type": "stream",
     "text": [
      "DEBUG:root:Finishing dask merge at 2021-07-20 23:18:52.677974\n",
      "DEBUG:root:Starting pandas merge 1 at 2021-07-20 23:18:52.678781\n",
      "DEBUG:root:Starting pandas merge 2 at 2021-07-20 23:19:00.150677\n",
      "DEBUG:root:Calculating contact probabilities on full dataframe starting at 2021-07-20 23:19:07.798662\n",
      "DEBUG:root:'dask_partition' took 26.34 seconds\n",
      "DEBUG:root:Building contact xarray at 2021-07-20 23:19:10.879531\n",
      "DEBUG:root:step_start: 2020-05-26T00:00:00.000000000\n",
      "DEBUG:root:step_end: 2020-05-27T00:00:00.000000000\n",
      "DEBUG:root:Starting dask merge at 2021-07-20 23:19:11.066588\n"
     ]
    },
    {
     "name": "stdout",
     "output_type": "stream",
     "text": [
      "The date in Partition.get_travel_df is ['2020-05-26T00:00:00.000000000']\n"
     ]
    },
    {
     "name": "stderr",
     "output_type": "stream",
     "text": [
      "DEBUG:root:Finishing dask merge at 2021-07-20 23:19:19.160946\n",
      "DEBUG:root:Starting pandas merge 1 at 2021-07-20 23:19:19.164225\n",
      "DEBUG:root:Starting pandas merge 2 at 2021-07-20 23:19:26.543359\n",
      "DEBUG:root:Calculating contact probabilities on full dataframe starting at 2021-07-20 23:19:34.236400\n",
      "DEBUG:root:'dask_partition' took 26.07 seconds\n",
      "DEBUG:root:Building contact xarray at 2021-07-20 23:19:37.377686\n",
      "DEBUG:root:step_start: 2020-05-27T00:00:00.000000000\n",
      "DEBUG:root:step_end: 2020-05-28T00:00:00.000000000\n",
      "DEBUG:root:Starting dask merge at 2021-07-20 23:19:37.565046\n"
     ]
    },
    {
     "name": "stdout",
     "output_type": "stream",
     "text": [
      "The date in Partition.get_travel_df is ['2020-05-27T00:00:00.000000000']\n"
     ]
    },
    {
     "name": "stderr",
     "output_type": "stream",
     "text": [
      "DEBUG:root:Finishing dask merge at 2021-07-20 23:19:46.005463\n",
      "DEBUG:root:Starting pandas merge 1 at 2021-07-20 23:19:46.006208\n",
      "DEBUG:root:Starting pandas merge 2 at 2021-07-20 23:19:53.452737\n",
      "DEBUG:root:Calculating contact probabilities on full dataframe starting at 2021-07-20 23:20:01.203276\n",
      "DEBUG:root:'dask_partition' took 26.55 seconds\n",
      "DEBUG:root:Building contact xarray at 2021-07-20 23:20:04.381618\n",
      "DEBUG:root:step_start: 2020-05-28T00:00:00.000000000\n",
      "DEBUG:root:step_end: 2020-05-29T00:00:00.000000000\n",
      "DEBUG:root:Starting dask merge at 2021-07-20 23:20:04.590076\n"
     ]
    },
    {
     "name": "stdout",
     "output_type": "stream",
     "text": [
      "The date in Partition.get_travel_df is ['2020-05-28T00:00:00.000000000']\n"
     ]
    },
    {
     "name": "stderr",
     "output_type": "stream",
     "text": [
      "DEBUG:root:Finishing dask merge at 2021-07-20 23:20:12.530598\n",
      "DEBUG:root:Starting pandas merge 1 at 2021-07-20 23:20:12.531371\n",
      "DEBUG:root:Starting pandas merge 2 at 2021-07-20 23:20:20.434683\n",
      "DEBUG:root:Calculating contact probabilities on full dataframe starting at 2021-07-20 23:20:28.476197\n",
      "DEBUG:root:'dask_partition' took 26.85 seconds\n",
      "DEBUG:root:Building contact xarray at 2021-07-20 23:20:31.714428\n",
      "DEBUG:root:step_start: 2020-05-29T00:00:00.000000000\n",
      "DEBUG:root:step_end: 2020-05-30T00:00:00.000000000\n",
      "DEBUG:root:Starting dask merge at 2021-07-20 23:20:31.906892\n"
     ]
    },
    {
     "name": "stdout",
     "output_type": "stream",
     "text": [
      "The date in Partition.get_travel_df is ['2020-05-29T00:00:00.000000000']\n"
     ]
    },
    {
     "name": "stderr",
     "output_type": "stream",
     "text": [
      "DEBUG:root:Finishing dask merge at 2021-07-20 23:20:40.425924\n",
      "DEBUG:root:Starting pandas merge 1 at 2021-07-20 23:20:40.427213\n",
      "DEBUG:root:Starting pandas merge 2 at 2021-07-20 23:20:48.141820\n",
      "DEBUG:root:Calculating contact probabilities on full dataframe starting at 2021-07-20 23:20:56.041429\n",
      "DEBUG:root:'dask_partition' took 27.03 seconds\n",
      "DEBUG:root:Building contact xarray at 2021-07-20 23:20:59.204111\n",
      "DEBUG:root:step_start: 2020-05-30T00:00:00.000000000\n",
      "DEBUG:root:step_end: 2020-05-31T00:00:00.000000000\n",
      "DEBUG:root:Starting dask merge at 2021-07-20 23:20:59.411931\n"
     ]
    },
    {
     "name": "stdout",
     "output_type": "stream",
     "text": [
      "The date in Partition.get_travel_df is ['2020-05-30T00:00:00.000000000']\n"
     ]
    },
    {
     "name": "stderr",
     "output_type": "stream",
     "text": [
      "DEBUG:root:Finishing dask merge at 2021-07-20 23:21:07.650795\n",
      "DEBUG:root:Starting pandas merge 1 at 2021-07-20 23:21:07.651525\n",
      "DEBUG:root:Starting pandas merge 2 at 2021-07-20 23:21:15.139825\n",
      "DEBUG:root:Calculating contact probabilities on full dataframe starting at 2021-07-20 23:21:22.728143\n",
      "DEBUG:root:'dask_partition' took 26.13 seconds\n",
      "DEBUG:root:Building contact xarray at 2021-07-20 23:21:25.754285\n",
      "DEBUG:root:step_start: 2020-05-31T00:00:00.000000000\n",
      "DEBUG:root:step_end: 2020-06-01T00:00:00.000000000\n",
      "DEBUG:root:Starting dask merge at 2021-07-20 23:21:25.925955\n"
     ]
    },
    {
     "name": "stdout",
     "output_type": "stream",
     "text": [
      "The date in Partition.get_travel_df is ['2020-05-31T00:00:00.000000000']\n"
     ]
    },
    {
     "name": "stderr",
     "output_type": "stream",
     "text": [
      "DEBUG:root:Finishing dask merge at 2021-07-20 23:21:34.171326\n",
      "DEBUG:root:Starting pandas merge 1 at 2021-07-20 23:21:34.172075\n",
      "DEBUG:root:Starting pandas merge 2 at 2021-07-20 23:21:41.504253\n",
      "DEBUG:root:Calculating contact probabilities on full dataframe starting at 2021-07-20 23:21:49.249099\n",
      "DEBUG:root:'dask_partition' took 26.19 seconds\n",
      "DEBUG:root:Building contact xarray at 2021-07-20 23:21:52.371091\n",
      "DEBUG:root:step_start: 2020-06-01T00:00:00.000000000\n",
      "DEBUG:root:step_end: 2020-06-02T00:00:00.000000000\n",
      "DEBUG:root:Starting dask merge at 2021-07-20 23:21:52.561723\n"
     ]
    },
    {
     "name": "stdout",
     "output_type": "stream",
     "text": [
      "The date in Partition.get_travel_df is ['2020-06-01T00:00:00.000000000']\n"
     ]
    },
    {
     "name": "stderr",
     "output_type": "stream",
     "text": [
      "DEBUG:root:Finishing dask merge at 2021-07-20 23:22:00.745441\n",
      "DEBUG:root:Starting pandas merge 1 at 2021-07-20 23:22:00.746201\n",
      "DEBUG:root:Starting pandas merge 2 at 2021-07-20 23:22:08.186642\n",
      "DEBUG:root:Calculating contact probabilities on full dataframe starting at 2021-07-20 23:22:15.729090\n",
      "DEBUG:root:'dask_partition' took 25.98 seconds\n",
      "DEBUG:root:Building contact xarray at 2021-07-20 23:22:18.801502\n",
      "DEBUG:root:step_start: 2020-06-02T00:00:00.000000000\n",
      "DEBUG:root:step_end: 2020-06-03T00:00:00.000000000\n",
      "DEBUG:root:Starting dask merge at 2021-07-20 23:22:18.996000\n"
     ]
    },
    {
     "name": "stdout",
     "output_type": "stream",
     "text": [
      "The date in Partition.get_travel_df is ['2020-06-02T00:00:00.000000000']\n"
     ]
    },
    {
     "name": "stderr",
     "output_type": "stream",
     "text": [
      "DEBUG:root:Finishing dask merge at 2021-07-20 23:22:27.006307\n",
      "DEBUG:root:Starting pandas merge 1 at 2021-07-20 23:22:27.007040\n",
      "DEBUG:root:Starting pandas merge 2 at 2021-07-20 23:22:34.535600\n",
      "DEBUG:root:Calculating contact probabilities on full dataframe starting at 2021-07-20 23:22:42.255901\n",
      "DEBUG:root:'dask_partition' took 26.12 seconds\n",
      "DEBUG:root:Building contact xarray at 2021-07-20 23:22:45.376047\n",
      "DEBUG:root:step_start: 2020-06-03T00:00:00.000000000\n",
      "DEBUG:root:step_end: 2020-06-04T00:00:00.000000000\n",
      "DEBUG:root:Starting dask merge at 2021-07-20 23:22:45.565524\n"
     ]
    },
    {
     "name": "stdout",
     "output_type": "stream",
     "text": [
      "The date in Partition.get_travel_df is ['2020-06-03T00:00:00.000000000']\n"
     ]
    },
    {
     "name": "stderr",
     "output_type": "stream",
     "text": [
      "DEBUG:root:Finishing dask merge at 2021-07-20 23:22:53.811247\n",
      "DEBUG:root:Starting pandas merge 1 at 2021-07-20 23:22:53.811975\n",
      "DEBUG:root:Starting pandas merge 2 at 2021-07-20 23:23:01.346628\n",
      "DEBUG:root:Calculating contact probabilities on full dataframe starting at 2021-07-20 23:23:09.007629\n",
      "DEBUG:root:'dask_partition' took 26.33 seconds\n",
      "DEBUG:root:Building contact xarray at 2021-07-20 23:23:12.147144\n",
      "DEBUG:root:step_start: 2020-06-04T00:00:00.000000000\n",
      "DEBUG:root:step_end: 2020-06-05T00:00:00.000000000\n",
      "DEBUG:root:Starting dask merge at 2021-07-20 23:23:12.341223\n"
     ]
    },
    {
     "name": "stdout",
     "output_type": "stream",
     "text": [
      "The date in Partition.get_travel_df is ['2020-06-04T00:00:00.000000000']\n"
     ]
    },
    {
     "name": "stderr",
     "output_type": "stream",
     "text": [
      "DEBUG:root:Finishing dask merge at 2021-07-20 23:23:20.477154\n",
      "DEBUG:root:Starting pandas merge 1 at 2021-07-20 23:23:20.477887\n",
      "DEBUG:root:Starting pandas merge 2 at 2021-07-20 23:23:27.860908\n",
      "DEBUG:root:Calculating contact probabilities on full dataframe starting at 2021-07-20 23:23:35.606343\n",
      "DEBUG:root:'dask_partition' took 26.10 seconds\n",
      "DEBUG:root:Building contact xarray at 2021-07-20 23:23:38.685155\n",
      "DEBUG:root:step_start: 2020-06-05T00:00:00.000000000\n",
      "DEBUG:root:step_end: 2020-06-06T00:00:00.000000000\n",
      "DEBUG:root:Starting dask merge at 2021-07-20 23:23:38.873195\n"
     ]
    },
    {
     "name": "stdout",
     "output_type": "stream",
     "text": [
      "The date in Partition.get_travel_df is ['2020-06-05T00:00:00.000000000']\n"
     ]
    },
    {
     "name": "stderr",
     "output_type": "stream",
     "text": [
      "DEBUG:root:Finishing dask merge at 2021-07-20 23:23:47.139196\n",
      "DEBUG:root:Starting pandas merge 1 at 2021-07-20 23:23:47.139983\n",
      "DEBUG:root:Starting pandas merge 2 at 2021-07-20 23:23:54.550412\n",
      "DEBUG:root:Calculating contact probabilities on full dataframe starting at 2021-07-20 23:24:02.072362\n",
      "DEBUG:root:'dask_partition' took 26.09 seconds\n",
      "DEBUG:root:Building contact xarray at 2021-07-20 23:24:05.232647\n",
      "DEBUG:root:step_start: 2020-06-06T00:00:00.000000000\n",
      "DEBUG:root:step_end: 2020-06-07T00:00:00.000000000\n",
      "DEBUG:root:Starting dask merge at 2021-07-20 23:24:05.427939\n"
     ]
    },
    {
     "name": "stdout",
     "output_type": "stream",
     "text": [
      "The date in Partition.get_travel_df is ['2020-06-06T00:00:00.000000000']\n"
     ]
    },
    {
     "name": "stderr",
     "output_type": "stream",
     "text": [
      "DEBUG:root:Finishing dask merge at 2021-07-20 23:24:13.581362\n",
      "DEBUG:root:Starting pandas merge 1 at 2021-07-20 23:24:13.582099\n",
      "DEBUG:root:Starting pandas merge 2 at 2021-07-20 23:24:21.065823\n",
      "DEBUG:root:Calculating contact probabilities on full dataframe starting at 2021-07-20 23:24:28.861146\n",
      "DEBUG:root:'dask_partition' took 26.44 seconds\n",
      "DEBUG:root:Building contact xarray at 2021-07-20 23:24:32.138659\n",
      "DEBUG:root:step_start: 2020-06-07T00:00:00.000000000\n",
      "DEBUG:root:step_end: 2020-06-08T00:00:00.000000000\n",
      "DEBUG:root:Starting dask merge at 2021-07-20 23:24:32.350878\n"
     ]
    },
    {
     "name": "stdout",
     "output_type": "stream",
     "text": [
      "The date in Partition.get_travel_df is ['2020-06-07T00:00:00.000000000']\n"
     ]
    },
    {
     "name": "stderr",
     "output_type": "stream",
     "text": [
      "DEBUG:root:Finishing dask merge at 2021-07-20 23:24:40.591974\n",
      "DEBUG:root:Starting pandas merge 1 at 2021-07-20 23:24:40.592709\n",
      "DEBUG:root:Starting pandas merge 2 at 2021-07-20 23:24:48.185942\n",
      "DEBUG:root:Calculating contact probabilities on full dataframe starting at 2021-07-20 23:24:56.094958\n",
      "DEBUG:root:'dask_partition' took 26.59 seconds\n",
      "DEBUG:root:Building contact xarray at 2021-07-20 23:24:59.198304\n",
      "DEBUG:root:step_start: 2020-06-08T00:00:00.000000000\n",
      "DEBUG:root:step_end: 2020-06-09T00:00:00.000000000\n",
      "DEBUG:root:Starting dask merge at 2021-07-20 23:24:59.405355\n"
     ]
    },
    {
     "name": "stdout",
     "output_type": "stream",
     "text": [
      "The date in Partition.get_travel_df is ['2020-06-08T00:00:00.000000000']\n"
     ]
    },
    {
     "name": "stderr",
     "output_type": "stream",
     "text": [
      "DEBUG:root:Finishing dask merge at 2021-07-20 23:25:07.675354\n",
      "DEBUG:root:Starting pandas merge 1 at 2021-07-20 23:25:07.676098\n",
      "DEBUG:root:Starting pandas merge 2 at 2021-07-20 23:25:15.155592\n",
      "DEBUG:root:Calculating contact probabilities on full dataframe starting at 2021-07-20 23:25:22.792102\n",
      "DEBUG:root:'dask_partition' took 26.22 seconds\n",
      "DEBUG:root:Building contact xarray at 2021-07-20 23:25:25.871007\n",
      "DEBUG:root:step_start: 2020-06-09T00:00:00.000000000\n",
      "DEBUG:root:step_end: 2020-06-10T00:00:00.000000000\n",
      "DEBUG:root:Starting dask merge at 2021-07-20 23:25:26.070152\n"
     ]
    },
    {
     "name": "stdout",
     "output_type": "stream",
     "text": [
      "The date in Partition.get_travel_df is ['2020-06-09T00:00:00.000000000']\n"
     ]
    },
    {
     "name": "stderr",
     "output_type": "stream",
     "text": [
      "DEBUG:root:Finishing dask merge at 2021-07-20 23:25:34.604395\n",
      "DEBUG:root:Starting pandas merge 1 at 2021-07-20 23:25:34.605424\n",
      "DEBUG:root:Starting pandas merge 2 at 2021-07-20 23:25:42.041197\n",
      "DEBUG:root:Calculating contact probabilities on full dataframe starting at 2021-07-20 23:25:49.717165\n",
      "DEBUG:root:'dask_partition' took 26.54 seconds\n",
      "DEBUG:root:Building contact xarray at 2021-07-20 23:25:52.861037\n",
      "DEBUG:root:step_start: 2020-06-10T00:00:00.000000000\n",
      "DEBUG:root:step_end: 2020-06-11T00:00:00.000000000\n",
      "DEBUG:root:Starting dask merge at 2021-07-20 23:25:53.053284\n"
     ]
    },
    {
     "name": "stdout",
     "output_type": "stream",
     "text": [
      "The date in Partition.get_travel_df is ['2020-06-10T00:00:00.000000000']\n"
     ]
    },
    {
     "name": "stderr",
     "output_type": "stream",
     "text": [
      "DEBUG:root:Finishing dask merge at 2021-07-20 23:26:01.034099\n",
      "DEBUG:root:Starting pandas merge 1 at 2021-07-20 23:26:01.034861\n",
      "DEBUG:root:Starting pandas merge 2 at 2021-07-20 23:26:11.710893\n",
      "DEBUG:root:Calculating contact probabilities on full dataframe starting at 2021-07-20 23:26:26.260200\n",
      "DEBUG:root:'dask_partition' took 37.44 seconds\n",
      "DEBUG:root:Building contact xarray at 2021-07-20 23:26:30.799254\n",
      "DEBUG:root:step_start: 2020-06-11T00:00:00.000000000\n",
      "DEBUG:root:step_end: 2020-06-12T00:00:00.000000000\n",
      "DEBUG:root:Starting dask merge at 2021-07-20 23:26:32.258565\n"
     ]
    },
    {
     "name": "stdout",
     "output_type": "stream",
     "text": [
      "The date in Partition.get_travel_df is ['2020-06-11T00:00:00.000000000']\n"
     ]
    },
    {
     "name": "stderr",
     "output_type": "stream",
     "text": [
      "DEBUG:root:Finishing dask merge at 2021-07-20 23:26:41.684723\n",
      "DEBUG:root:Starting pandas merge 1 at 2021-07-20 23:26:41.685470\n",
      "DEBUG:root:Starting pandas merge 2 at 2021-07-20 23:26:50.550264\n",
      "DEBUG:root:Calculating contact probabilities on full dataframe starting at 2021-07-20 23:26:58.697085\n",
      "DEBUG:root:'dask_partition' took 29.46 seconds\n",
      "DEBUG:root:Building contact xarray at 2021-07-20 23:27:02.002635\n",
      "DEBUG:root:step_start: 2020-06-12T00:00:00.000000000\n",
      "DEBUG:root:step_end: 2020-06-13T00:00:00.000000000\n",
      "DEBUG:root:Starting dask merge at 2021-07-20 23:27:02.227859\n"
     ]
    },
    {
     "name": "stdout",
     "output_type": "stream",
     "text": [
      "The date in Partition.get_travel_df is ['2020-06-12T00:00:00.000000000']\n"
     ]
    },
    {
     "name": "stderr",
     "output_type": "stream",
     "text": [
      "DEBUG:root:Finishing dask merge at 2021-07-20 23:27:10.475033\n",
      "DEBUG:root:Starting pandas merge 1 at 2021-07-20 23:27:10.475768\n",
      "DEBUG:root:Starting pandas merge 2 at 2021-07-20 23:27:18.227576\n",
      "DEBUG:root:Calculating contact probabilities on full dataframe starting at 2021-07-20 23:27:26.287581\n",
      "DEBUG:root:'dask_partition' took 27.05 seconds\n",
      "DEBUG:root:Building contact xarray at 2021-07-20 23:27:29.564872\n",
      "DEBUG:root:step_start: 2020-06-13T00:00:00.000000000\n",
      "DEBUG:root:step_end: 2020-06-14T00:00:00.000000000\n",
      "DEBUG:root:Starting dask merge at 2021-07-20 23:27:29.771526\n"
     ]
    },
    {
     "name": "stdout",
     "output_type": "stream",
     "text": [
      "The date in Partition.get_travel_df is ['2020-06-13T00:00:00.000000000']\n"
     ]
    },
    {
     "name": "stderr",
     "output_type": "stream",
     "text": [
      "DEBUG:root:Finishing dask merge at 2021-07-20 23:27:38.114189\n",
      "DEBUG:root:Starting pandas merge 1 at 2021-07-20 23:27:38.115236\n",
      "DEBUG:root:Starting pandas merge 2 at 2021-07-20 23:27:46.703732\n",
      "DEBUG:root:Calculating contact probabilities on full dataframe starting at 2021-07-20 23:27:54.656883\n",
      "DEBUG:root:'dask_partition' took 28.03 seconds\n",
      "DEBUG:root:Building contact xarray at 2021-07-20 23:27:58.077322\n",
      "DEBUG:root:step_start: 2020-06-14T00:00:00.000000000\n",
      "DEBUG:root:step_end: 2020-06-15T00:00:00.000000000\n",
      "DEBUG:root:Starting dask merge at 2021-07-20 23:27:58.297673\n"
     ]
    },
    {
     "name": "stdout",
     "output_type": "stream",
     "text": [
      "The date in Partition.get_travel_df is ['2020-06-14T00:00:00.000000000']\n"
     ]
    },
    {
     "name": "stderr",
     "output_type": "stream",
     "text": [
      "DEBUG:root:Finishing dask merge at 2021-07-20 23:28:06.378363\n",
      "DEBUG:root:Starting pandas merge 1 at 2021-07-20 23:28:06.379089\n",
      "DEBUG:root:Starting pandas merge 2 at 2021-07-20 23:28:13.943031\n",
      "DEBUG:root:Calculating contact probabilities on full dataframe starting at 2021-07-20 23:28:21.717138\n",
      "DEBUG:root:'dask_partition' took 26.32 seconds\n",
      "DEBUG:root:Building contact xarray at 2021-07-20 23:28:24.871409\n",
      "DEBUG:root:step_start: 2020-06-15T00:00:00.000000000\n",
      "DEBUG:root:step_end: 2020-06-16T00:00:00.000000000\n",
      "DEBUG:root:Starting dask merge at 2021-07-20 23:28:25.079586\n"
     ]
    },
    {
     "name": "stdout",
     "output_type": "stream",
     "text": [
      "The date in Partition.get_travel_df is ['2020-06-15T00:00:00.000000000']\n"
     ]
    },
    {
     "name": "stderr",
     "output_type": "stream",
     "text": [
      "DEBUG:root:Finishing dask merge at 2021-07-20 23:28:33.517803\n",
      "DEBUG:root:Starting pandas merge 1 at 2021-07-20 23:28:33.518618\n",
      "DEBUG:root:Starting pandas merge 2 at 2021-07-20 23:28:41.541149\n",
      "DEBUG:root:Calculating contact probabilities on full dataframe starting at 2021-07-20 23:28:49.533558\n",
      "DEBUG:root:'dask_partition' took 27.43 seconds\n",
      "DEBUG:root:Building contact xarray at 2021-07-20 23:28:52.790920\n",
      "DEBUG:root:step_start: 2020-06-16T00:00:00.000000000\n",
      "DEBUG:root:step_end: 2020-06-17T00:00:00.000000000\n",
      "DEBUG:root:Starting dask merge at 2021-07-20 23:28:53.001492\n"
     ]
    },
    {
     "name": "stdout",
     "output_type": "stream",
     "text": [
      "The date in Partition.get_travel_df is ['2020-06-16T00:00:00.000000000']\n"
     ]
    },
    {
     "name": "stderr",
     "output_type": "stream",
     "text": [
      "DEBUG:root:Finishing dask merge at 2021-07-20 23:29:01.331298\n",
      "DEBUG:root:Starting pandas merge 1 at 2021-07-20 23:29:01.332038\n",
      "DEBUG:root:Starting pandas merge 2 at 2021-07-20 23:29:09.516825\n",
      "DEBUG:root:Calculating contact probabilities on full dataframe starting at 2021-07-20 23:29:17.461204\n",
      "DEBUG:root:'dask_partition' took 27.40 seconds\n",
      "DEBUG:root:Building contact xarray at 2021-07-20 23:29:20.669620\n",
      "DEBUG:root:step_start: 2020-06-17T00:00:00.000000000\n",
      "DEBUG:root:step_end: 2020-06-18T00:00:00.000000000\n",
      "DEBUG:root:Starting dask merge at 2021-07-20 23:29:20.892388\n"
     ]
    },
    {
     "name": "stdout",
     "output_type": "stream",
     "text": [
      "The date in Partition.get_travel_df is ['2020-06-17T00:00:00.000000000']\n"
     ]
    },
    {
     "name": "stderr",
     "output_type": "stream",
     "text": [
      "DEBUG:root:Finishing dask merge at 2021-07-20 23:29:29.246151\n",
      "DEBUG:root:Starting pandas merge 1 at 2021-07-20 23:29:29.246902\n",
      "DEBUG:root:Starting pandas merge 2 at 2021-07-20 23:29:36.975204\n",
      "DEBUG:root:Calculating contact probabilities on full dataframe starting at 2021-07-20 23:29:44.673261\n",
      "DEBUG:root:'dask_partition' took 26.65 seconds\n",
      "DEBUG:root:Building contact xarray at 2021-07-20 23:29:47.817957\n",
      "DEBUG:root:step_start: 2020-06-18T00:00:00.000000000\n",
      "DEBUG:root:step_end: 2020-06-19T00:00:00.000000000\n",
      "DEBUG:root:Starting dask merge at 2021-07-20 23:29:48.023328\n"
     ]
    },
    {
     "name": "stdout",
     "output_type": "stream",
     "text": [
      "The date in Partition.get_travel_df is ['2020-06-18T00:00:00.000000000']\n"
     ]
    },
    {
     "name": "stderr",
     "output_type": "stream",
     "text": [
      "DEBUG:root:Finishing dask merge at 2021-07-20 23:29:56.062638\n",
      "DEBUG:root:Starting pandas merge 1 at 2021-07-20 23:29:56.063329\n",
      "DEBUG:root:Starting pandas merge 2 at 2021-07-20 23:30:03.422106\n",
      "DEBUG:root:Calculating contact probabilities on full dataframe starting at 2021-07-20 23:30:11.262075\n",
      "DEBUG:root:'dask_partition' took 26.11 seconds\n",
      "DEBUG:root:Building contact xarray at 2021-07-20 23:30:14.386149\n",
      "DEBUG:root:step_start: 2020-06-19T00:00:00.000000000\n",
      "DEBUG:root:step_end: 2020-06-20T00:00:00.000000000\n",
      "DEBUG:root:Starting dask merge at 2021-07-20 23:30:14.589512\n"
     ]
    },
    {
     "name": "stdout",
     "output_type": "stream",
     "text": [
      "The date in Partition.get_travel_df is ['2020-06-19T00:00:00.000000000']\n"
     ]
    },
    {
     "name": "stderr",
     "output_type": "stream",
     "text": [
      "DEBUG:root:Finishing dask merge at 2021-07-20 23:30:22.993288\n",
      "DEBUG:root:Starting pandas merge 1 at 2021-07-20 23:30:22.994034\n",
      "DEBUG:root:Starting pandas merge 2 at 2021-07-20 23:30:31.541353\n",
      "DEBUG:root:Calculating contact probabilities on full dataframe starting at 2021-07-20 23:30:39.558523\n",
      "DEBUG:root:'dask_partition' took 27.86 seconds\n",
      "DEBUG:root:Building contact xarray at 2021-07-20 23:30:42.710139\n",
      "DEBUG:root:step_start: 2020-06-20T00:00:00.000000000\n",
      "DEBUG:root:step_end: 2020-06-21T00:00:00.000000000\n",
      "DEBUG:root:Starting dask merge at 2021-07-20 23:30:42.917890\n"
     ]
    },
    {
     "name": "stdout",
     "output_type": "stream",
     "text": [
      "The date in Partition.get_travel_df is ['2020-06-20T00:00:00.000000000']\n"
     ]
    },
    {
     "name": "stderr",
     "output_type": "stream",
     "text": [
      "DEBUG:root:Finishing dask merge at 2021-07-20 23:30:51.247618\n",
      "DEBUG:root:Starting pandas merge 1 at 2021-07-20 23:30:51.248387\n",
      "DEBUG:root:Starting pandas merge 2 at 2021-07-20 23:30:58.778147\n",
      "DEBUG:root:Calculating contact probabilities on full dataframe starting at 2021-07-20 23:31:06.570401\n",
      "DEBUG:root:'dask_partition' took 26.51 seconds\n",
      "DEBUG:root:Building contact xarray at 2021-07-20 23:31:09.689454\n",
      "DEBUG:root:step_start: 2020-06-21T00:00:00.000000000\n",
      "DEBUG:root:step_end: 2020-06-22T00:00:00.000000000\n",
      "DEBUG:root:Starting dask merge at 2021-07-20 23:31:09.892274\n"
     ]
    },
    {
     "name": "stdout",
     "output_type": "stream",
     "text": [
      "The date in Partition.get_travel_df is ['2020-06-21T00:00:00.000000000']\n"
     ]
    },
    {
     "name": "stderr",
     "output_type": "stream",
     "text": [
      "DEBUG:root:Finishing dask merge at 2021-07-20 23:31:18.247526\n",
      "DEBUG:root:Starting pandas merge 1 at 2021-07-20 23:31:18.248287\n",
      "DEBUG:root:Starting pandas merge 2 at 2021-07-20 23:31:25.831937\n",
      "DEBUG:root:Calculating contact probabilities on full dataframe starting at 2021-07-20 23:31:33.736043\n",
      "DEBUG:root:'dask_partition' took 26.77 seconds\n",
      "DEBUG:root:Building contact xarray at 2021-07-20 23:31:36.942901\n",
      "DEBUG:root:step_start: 2020-06-22T00:00:00.000000000\n",
      "DEBUG:root:step_end: 2020-06-23T00:00:00.000000000\n",
      "DEBUG:root:Starting dask merge at 2021-07-20 23:31:37.145767\n"
     ]
    },
    {
     "name": "stdout",
     "output_type": "stream",
     "text": [
      "The date in Partition.get_travel_df is ['2020-06-22T00:00:00.000000000']\n"
     ]
    },
    {
     "name": "stderr",
     "output_type": "stream",
     "text": [
      "DEBUG:root:Finishing dask merge at 2021-07-20 23:31:45.594467\n",
      "DEBUG:root:Starting pandas merge 1 at 2021-07-20 23:31:45.595232\n",
      "DEBUG:root:Starting pandas merge 2 at 2021-07-20 23:31:53.334613\n",
      "DEBUG:root:Calculating contact probabilities on full dataframe starting at 2021-07-20 23:32:01.322710\n",
      "DEBUG:root:'dask_partition' took 27.08 seconds\n",
      "DEBUG:root:Building contact xarray at 2021-07-20 23:32:04.508528\n",
      "DEBUG:root:step_start: 2020-06-23T00:00:00.000000000\n",
      "DEBUG:root:step_end: 2020-06-24T00:00:00.000000000\n",
      "DEBUG:root:Starting dask merge at 2021-07-20 23:32:04.714754\n"
     ]
    },
    {
     "name": "stdout",
     "output_type": "stream",
     "text": [
      "The date in Partition.get_travel_df is ['2020-06-23T00:00:00.000000000']\n"
     ]
    },
    {
     "name": "stderr",
     "output_type": "stream",
     "text": [
      "DEBUG:root:Finishing dask merge at 2021-07-20 23:32:13.243240\n",
      "DEBUG:root:Starting pandas merge 1 at 2021-07-20 23:32:13.243970\n",
      "DEBUG:root:Starting pandas merge 2 at 2021-07-20 23:32:20.889284\n",
      "DEBUG:root:Calculating contact probabilities on full dataframe starting at 2021-07-20 23:32:28.520315\n",
      "DEBUG:root:'dask_partition' took 26.58 seconds\n",
      "DEBUG:root:Building contact xarray at 2021-07-20 23:32:31.594742\n",
      "DEBUG:root:step_start: 2020-06-24T00:00:00.000000000\n",
      "DEBUG:root:step_end: 2020-06-25T00:00:00.000000000\n",
      "DEBUG:root:Starting dask merge at 2021-07-20 23:32:31.850870\n"
     ]
    },
    {
     "name": "stdout",
     "output_type": "stream",
     "text": [
      "The date in Partition.get_travel_df is ['2020-06-24T00:00:00.000000000']\n"
     ]
    },
    {
     "name": "stderr",
     "output_type": "stream",
     "text": [
      "DEBUG:root:Finishing dask merge at 2021-07-20 23:32:40.363572\n",
      "DEBUG:root:Starting pandas merge 1 at 2021-07-20 23:32:40.364273\n",
      "DEBUG:root:Starting pandas merge 2 at 2021-07-20 23:32:48.847346\n",
      "DEBUG:root:Calculating contact probabilities on full dataframe starting at 2021-07-20 23:32:56.899138\n",
      "DEBUG:root:'dask_partition' took 28.27 seconds\n",
      "DEBUG:root:Building contact xarray at 2021-07-20 23:33:00.399672\n",
      "DEBUG:root:step_start: 2020-06-25T00:00:00.000000000\n",
      "DEBUG:root:step_end: 2020-06-26T00:00:00.000000000\n",
      "DEBUG:root:Starting dask merge at 2021-07-20 23:33:00.646421\n"
     ]
    },
    {
     "name": "stdout",
     "output_type": "stream",
     "text": [
      "The date in Partition.get_travel_df is ['2020-06-25T00:00:00.000000000']\n"
     ]
    },
    {
     "name": "stderr",
     "output_type": "stream",
     "text": [
      "DEBUG:root:Finishing dask merge at 2021-07-20 23:33:08.906524\n",
      "DEBUG:root:Starting pandas merge 1 at 2021-07-20 23:33:08.907279\n",
      "DEBUG:root:Starting pandas merge 2 at 2021-07-20 23:33:16.411146\n",
      "DEBUG:root:Calculating contact probabilities on full dataframe starting at 2021-07-20 23:33:23.993185\n",
      "DEBUG:root:'dask_partition' took 26.21 seconds\n",
      "DEBUG:root:Building contact xarray at 2021-07-20 23:33:27.115643\n",
      "DEBUG:root:step_start: 2020-06-26T00:00:00.000000000\n",
      "DEBUG:root:step_end: 2020-06-27T00:00:00.000000000\n",
      "DEBUG:root:Starting dask merge at 2021-07-20 23:33:27.324013\n"
     ]
    },
    {
     "name": "stdout",
     "output_type": "stream",
     "text": [
      "The date in Partition.get_travel_df is ['2020-06-26T00:00:00.000000000']\n"
     ]
    },
    {
     "name": "stderr",
     "output_type": "stream",
     "text": [
      "DEBUG:root:Finishing dask merge at 2021-07-20 23:33:35.777594\n",
      "DEBUG:root:Starting pandas merge 1 at 2021-07-20 23:33:35.778328\n",
      "DEBUG:root:Starting pandas merge 2 at 2021-07-20 23:33:43.399744\n",
      "DEBUG:root:Calculating contact probabilities on full dataframe starting at 2021-07-20 23:33:51.079839\n",
      "DEBUG:root:'dask_partition' took 26.62 seconds\n",
      "DEBUG:root:Building contact xarray at 2021-07-20 23:33:54.216305\n",
      "DEBUG:root:step_start: 2020-06-27T00:00:00.000000000\n",
      "DEBUG:root:step_end: 2020-06-28T00:00:00.000000000\n",
      "DEBUG:root:Starting dask merge at 2021-07-20 23:33:54.427325\n"
     ]
    },
    {
     "name": "stdout",
     "output_type": "stream",
     "text": [
      "The date in Partition.get_travel_df is ['2020-06-27T00:00:00.000000000']\n"
     ]
    },
    {
     "name": "stderr",
     "output_type": "stream",
     "text": [
      "DEBUG:root:Finishing dask merge at 2021-07-20 23:34:02.536162\n",
      "DEBUG:root:Starting pandas merge 1 at 2021-07-20 23:34:02.536953\n",
      "DEBUG:root:Starting pandas merge 2 at 2021-07-20 23:34:10.252195\n",
      "DEBUG:root:Calculating contact probabilities on full dataframe starting at 2021-07-20 23:34:18.123873\n",
      "DEBUG:root:'dask_partition' took 26.64 seconds\n",
      "DEBUG:root:Building contact xarray at 2021-07-20 23:34:21.345313\n",
      "DEBUG:root:step_start: 2020-06-28T00:00:00.000000000\n",
      "DEBUG:root:step_end: 2020-06-29T00:00:00.000000000\n",
      "DEBUG:root:Starting dask merge at 2021-07-20 23:34:21.548997\n"
     ]
    },
    {
     "name": "stdout",
     "output_type": "stream",
     "text": [
      "The date in Partition.get_travel_df is ['2020-06-28T00:00:00.000000000']\n"
     ]
    },
    {
     "name": "stderr",
     "output_type": "stream",
     "text": [
      "DEBUG:root:Finishing dask merge at 2021-07-20 23:34:29.719950\n",
      "DEBUG:root:Starting pandas merge 1 at 2021-07-20 23:34:29.720686\n",
      "DEBUG:root:Starting pandas merge 2 at 2021-07-20 23:34:37.828456\n",
      "DEBUG:root:Calculating contact probabilities on full dataframe starting at 2021-07-20 23:34:45.928966\n",
      "DEBUG:root:'dask_partition' took 27.32 seconds\n",
      "DEBUG:root:Building contact xarray at 2021-07-20 23:34:49.155755\n",
      "DEBUG:root:step_start: 2020-06-29T00:00:00.000000000\n",
      "DEBUG:root:step_end: 2020-06-30T00:00:00.000000000\n",
      "DEBUG:root:Starting dask merge at 2021-07-20 23:34:49.357302\n"
     ]
    },
    {
     "name": "stdout",
     "output_type": "stream",
     "text": [
      "The date in Partition.get_travel_df is ['2020-06-29T00:00:00.000000000']\n"
     ]
    },
    {
     "name": "stderr",
     "output_type": "stream",
     "text": [
      "DEBUG:root:Finishing dask merge at 2021-07-20 23:34:57.690371\n",
      "DEBUG:root:Starting pandas merge 1 at 2021-07-20 23:34:57.691145\n",
      "DEBUG:root:Starting pandas merge 2 at 2021-07-20 23:35:05.559195\n",
      "DEBUG:root:Calculating contact probabilities on full dataframe starting at 2021-07-20 23:35:13.184956\n",
      "DEBUG:root:'dask_partition' took 26.72 seconds\n",
      "DEBUG:root:Building contact xarray at 2021-07-20 23:35:16.353898\n",
      "DEBUG:root:step_start: 2020-06-30T00:00:00.000000000\n",
      "DEBUG:root:step_end: 2020-07-01T00:00:00.000000000\n",
      "DEBUG:root:Starting dask merge at 2021-07-20 23:35:16.557363\n"
     ]
    },
    {
     "name": "stdout",
     "output_type": "stream",
     "text": [
      "The date in Partition.get_travel_df is ['2020-06-30T00:00:00.000000000']\n"
     ]
    },
    {
     "name": "stderr",
     "output_type": "stream",
     "text": [
      "DEBUG:root:Finishing dask merge at 2021-07-20 23:35:24.754408\n",
      "DEBUG:root:Starting pandas merge 1 at 2021-07-20 23:35:24.755112\n",
      "DEBUG:root:Starting pandas merge 2 at 2021-07-20 23:35:32.371940\n",
      "DEBUG:root:Calculating contact probabilities on full dataframe starting at 2021-07-20 23:35:40.194019\n",
      "DEBUG:root:'dask_partition' took 26.54 seconds\n",
      "DEBUG:root:Building contact xarray at 2021-07-20 23:35:43.356372\n",
      "DEBUG:root:step_start: 2020-07-01T00:00:00.000000000\n",
      "DEBUG:root:step_end: 2020-07-02T00:00:00.000000000\n",
      "DEBUG:root:Starting dask merge at 2021-07-20 23:35:43.566889\n"
     ]
    },
    {
     "name": "stdout",
     "output_type": "stream",
     "text": [
      "The date in Partition.get_travel_df is ['2020-07-01T00:00:00.000000000']\n"
     ]
    },
    {
     "name": "stderr",
     "output_type": "stream",
     "text": [
      "DEBUG:root:Finishing dask merge at 2021-07-20 23:35:52.024668\n",
      "DEBUG:root:Starting pandas merge 1 at 2021-07-20 23:35:52.025475\n",
      "DEBUG:root:Starting pandas merge 2 at 2021-07-20 23:35:59.621235\n",
      "DEBUG:root:Calculating contact probabilities on full dataframe starting at 2021-07-20 23:36:07.623718\n",
      "DEBUG:root:'dask_partition' took 26.94 seconds\n",
      "DEBUG:root:Building contact xarray at 2021-07-20 23:36:10.783846\n",
      "DEBUG:root:step_start: 2020-07-02T00:00:00.000000000\n",
      "DEBUG:root:step_end: 2020-07-03T00:00:00.000000000\n",
      "DEBUG:root:Starting dask merge at 2021-07-20 23:36:10.998394\n"
     ]
    },
    {
     "name": "stdout",
     "output_type": "stream",
     "text": [
      "The date in Partition.get_travel_df is ['2020-07-02T00:00:00.000000000']\n"
     ]
    },
    {
     "name": "stderr",
     "output_type": "stream",
     "text": [
      "DEBUG:root:Finishing dask merge at 2021-07-20 23:36:18.937796\n",
      "DEBUG:root:Starting pandas merge 1 at 2021-07-20 23:36:18.938502\n",
      "DEBUG:root:Starting pandas merge 2 at 2021-07-20 23:36:26.549952\n",
      "DEBUG:root:Calculating contact probabilities on full dataframe starting at 2021-07-20 23:36:34.583255\n",
      "DEBUG:root:'dask_partition' took 26.48 seconds\n",
      "DEBUG:root:Building contact xarray at 2021-07-20 23:36:37.758281\n",
      "DEBUG:root:step_start: 2020-07-03T00:00:00.000000000\n",
      "DEBUG:root:step_end: 2020-07-04T00:00:00.000000000\n",
      "DEBUG:root:Starting dask merge at 2021-07-20 23:36:37.975345\n"
     ]
    },
    {
     "name": "stdout",
     "output_type": "stream",
     "text": [
      "The date in Partition.get_travel_df is ['2020-07-03T00:00:00.000000000']\n"
     ]
    },
    {
     "name": "stderr",
     "output_type": "stream",
     "text": [
      "DEBUG:root:Finishing dask merge at 2021-07-20 23:36:46.253543\n",
      "DEBUG:root:Starting pandas merge 1 at 2021-07-20 23:36:46.254283\n",
      "DEBUG:root:Starting pandas merge 2 at 2021-07-20 23:36:54.255427\n",
      "DEBUG:root:Calculating contact probabilities on full dataframe starting at 2021-07-20 23:37:02.125619\n",
      "DEBUG:root:'dask_partition' took 27.06 seconds\n",
      "DEBUG:root:Building contact xarray at 2021-07-20 23:37:05.303594\n",
      "DEBUG:root:step_start: 2020-07-04T00:00:00.000000000\n",
      "DEBUG:root:step_end: 2020-07-05T00:00:00.000000000\n",
      "DEBUG:root:Starting dask merge at 2021-07-20 23:37:05.517719\n"
     ]
    },
    {
     "name": "stdout",
     "output_type": "stream",
     "text": [
      "The date in Partition.get_travel_df is ['2020-07-04T00:00:00.000000000']\n"
     ]
    },
    {
     "name": "stderr",
     "output_type": "stream",
     "text": [
      "DEBUG:root:Finishing dask merge at 2021-07-20 23:37:13.841241\n",
      "DEBUG:root:Starting pandas merge 1 at 2021-07-20 23:37:13.841970\n",
      "DEBUG:root:Starting pandas merge 2 at 2021-07-20 23:37:21.226231\n",
      "DEBUG:root:Calculating contact probabilities on full dataframe starting at 2021-07-20 23:37:29.061342\n",
      "DEBUG:root:'dask_partition' took 26.54 seconds\n",
      "DEBUG:root:Building contact xarray at 2021-07-20 23:37:32.273321\n",
      "DEBUG:root:step_start: 2020-07-05T00:00:00.000000000\n",
      "DEBUG:root:step_end: 2020-07-06T00:00:00.000000000\n",
      "DEBUG:root:Starting dask merge at 2021-07-20 23:37:32.482625\n"
     ]
    },
    {
     "name": "stdout",
     "output_type": "stream",
     "text": [
      "The date in Partition.get_travel_df is ['2020-07-05T00:00:00.000000000']\n"
     ]
    },
    {
     "name": "stderr",
     "output_type": "stream",
     "text": [
      "DEBUG:root:Finishing dask merge at 2021-07-20 23:37:40.917837\n",
      "DEBUG:root:Starting pandas merge 1 at 2021-07-20 23:37:40.918623\n",
      "DEBUG:root:Starting pandas merge 2 at 2021-07-20 23:37:48.388323\n",
      "DEBUG:root:Calculating contact probabilities on full dataframe starting at 2021-07-20 23:37:56.039210\n",
      "DEBUG:root:'dask_partition' took 26.75 seconds\n",
      "DEBUG:root:Building contact xarray at 2021-07-20 23:37:59.499332\n",
      "DEBUG:root:step_start: 2020-07-06T00:00:00.000000000\n",
      "DEBUG:root:step_end: 2020-07-07T00:00:00.000000000\n",
      "DEBUG:root:Starting dask merge at 2021-07-20 23:37:59.713339\n"
     ]
    },
    {
     "name": "stdout",
     "output_type": "stream",
     "text": [
      "The date in Partition.get_travel_df is ['2020-07-06T00:00:00.000000000']\n"
     ]
    },
    {
     "name": "stderr",
     "output_type": "stream",
     "text": [
      "DEBUG:root:Finishing dask merge at 2021-07-20 23:38:08.344371\n",
      "DEBUG:root:Starting pandas merge 1 at 2021-07-20 23:38:08.345172\n",
      "DEBUG:root:Starting pandas merge 2 at 2021-07-20 23:38:16.614050\n",
      "DEBUG:root:Calculating contact probabilities on full dataframe starting at 2021-07-20 23:38:24.404478\n",
      "DEBUG:root:'dask_partition' took 27.72 seconds\n",
      "DEBUG:root:Building contact xarray at 2021-07-20 23:38:27.696133\n",
      "DEBUG:root:step_start: 2020-07-07T00:00:00.000000000\n",
      "DEBUG:root:step_end: 2020-07-08T00:00:00.000000000\n",
      "DEBUG:root:Starting dask merge at 2021-07-20 23:38:27.903837\n"
     ]
    },
    {
     "name": "stdout",
     "output_type": "stream",
     "text": [
      "The date in Partition.get_travel_df is ['2020-07-07T00:00:00.000000000']\n"
     ]
    },
    {
     "name": "stderr",
     "output_type": "stream",
     "text": [
      "DEBUG:root:Finishing dask merge at 2021-07-20 23:38:35.605703\n",
      "DEBUG:root:Starting pandas merge 1 at 2021-07-20 23:38:35.606311\n",
      "DEBUG:root:Starting pandas merge 2 at 2021-07-20 23:38:44.019280\n",
      "DEBUG:root:Calculating contact probabilities on full dataframe starting at 2021-07-20 23:38:52.129447\n",
      "DEBUG:root:'dask_partition' took 27.28 seconds\n",
      "DEBUG:root:Building contact xarray at 2021-07-20 23:38:55.456279\n",
      "DEBUG:root:step_start: 2020-07-08T00:00:00.000000000\n",
      "DEBUG:root:step_end: 2020-07-09T00:00:00.000000000\n",
      "DEBUG:root:Starting dask merge at 2021-07-20 23:38:55.663213\n"
     ]
    },
    {
     "name": "stdout",
     "output_type": "stream",
     "text": [
      "The date in Partition.get_travel_df is ['2020-07-08T00:00:00.000000000']\n"
     ]
    },
    {
     "name": "stderr",
     "output_type": "stream",
     "text": [
      "DEBUG:root:Finishing dask merge at 2021-07-20 23:39:03.855539\n",
      "DEBUG:root:Starting pandas merge 1 at 2021-07-20 23:39:03.856293\n",
      "DEBUG:root:Starting pandas merge 2 at 2021-07-20 23:39:11.506247\n",
      "DEBUG:root:Calculating contact probabilities on full dataframe starting at 2021-07-20 23:39:19.113743\n",
      "DEBUG:root:'dask_partition' took 26.31 seconds\n",
      "DEBUG:root:Building contact xarray at 2021-07-20 23:39:22.239388\n",
      "DEBUG:root:step_start: 2020-07-09T00:00:00.000000000\n",
      "DEBUG:root:step_end: 2020-07-10T00:00:00.000000000\n",
      "DEBUG:root:Starting dask merge at 2021-07-20 23:39:22.449686\n"
     ]
    },
    {
     "name": "stdout",
     "output_type": "stream",
     "text": [
      "The date in Partition.get_travel_df is ['2020-07-09T00:00:00.000000000']\n"
     ]
    },
    {
     "name": "stderr",
     "output_type": "stream",
     "text": [
      "DEBUG:root:Finishing dask merge at 2021-07-20 23:39:30.563144\n",
      "DEBUG:root:Starting pandas merge 1 at 2021-07-20 23:39:30.563838\n",
      "DEBUG:root:Starting pandas merge 2 at 2021-07-20 23:39:38.272846\n",
      "DEBUG:root:Calculating contact probabilities on full dataframe starting at 2021-07-20 23:39:46.081271\n",
      "DEBUG:root:'dask_partition' took 26.49 seconds\n",
      "DEBUG:root:Building contact xarray at 2021-07-20 23:39:49.214738\n",
      "DEBUG:root:step_start: 2020-07-10T00:00:00.000000000\n",
      "DEBUG:root:step_end: 2020-07-11T00:00:00.000000000\n",
      "DEBUG:root:Starting dask merge at 2021-07-20 23:39:49.429441\n"
     ]
    },
    {
     "name": "stdout",
     "output_type": "stream",
     "text": [
      "The date in Partition.get_travel_df is ['2020-07-10T00:00:00.000000000']\n"
     ]
    },
    {
     "name": "stderr",
     "output_type": "stream",
     "text": [
      "DEBUG:root:Finishing dask merge at 2021-07-20 23:39:57.662652\n",
      "DEBUG:root:Starting pandas merge 1 at 2021-07-20 23:39:57.663410\n",
      "DEBUG:root:Starting pandas merge 2 at 2021-07-20 23:40:05.561794\n",
      "DEBUG:root:Calculating contact probabilities on full dataframe starting at 2021-07-20 23:40:13.881989\n",
      "DEBUG:root:'dask_partition' took 27.39 seconds\n",
      "DEBUG:root:Building contact xarray at 2021-07-20 23:40:17.095805\n",
      "DEBUG:root:step_start: 2020-07-11T00:00:00.000000000\n",
      "DEBUG:root:step_end: 2020-07-12T00:00:00.000000000\n",
      "DEBUG:root:Starting dask merge at 2021-07-20 23:40:17.301917\n"
     ]
    },
    {
     "name": "stdout",
     "output_type": "stream",
     "text": [
      "The date in Partition.get_travel_df is ['2020-07-11T00:00:00.000000000']\n"
     ]
    },
    {
     "name": "stderr",
     "output_type": "stream",
     "text": [
      "DEBUG:root:Finishing dask merge at 2021-07-20 23:40:25.522025\n",
      "DEBUG:root:Starting pandas merge 1 at 2021-07-20 23:40:25.522760\n",
      "DEBUG:root:Starting pandas merge 2 at 2021-07-20 23:40:33.133380\n",
      "DEBUG:root:Calculating contact probabilities on full dataframe starting at 2021-07-20 23:40:40.875045\n",
      "DEBUG:root:'dask_partition' took 26.41 seconds\n",
      "DEBUG:root:Building contact xarray at 2021-07-20 23:40:43.980682\n",
      "DEBUG:root:step_start: 2020-07-12T00:00:00.000000000\n",
      "DEBUG:root:step_end: 2020-07-13T00:00:00.000000000\n",
      "DEBUG:root:Starting dask merge at 2021-07-20 23:40:44.182523\n"
     ]
    },
    {
     "name": "stdout",
     "output_type": "stream",
     "text": [
      "The date in Partition.get_travel_df is ['2020-07-12T00:00:00.000000000']\n"
     ]
    },
    {
     "name": "stderr",
     "output_type": "stream",
     "text": [
      "DEBUG:root:Finishing dask merge at 2021-07-20 23:40:52.559647\n",
      "DEBUG:root:Starting pandas merge 1 at 2021-07-20 23:40:52.560384\n",
      "DEBUG:root:Starting pandas merge 2 at 2021-07-20 23:41:00.859181\n",
      "DEBUG:root:Calculating contact probabilities on full dataframe starting at 2021-07-20 23:41:08.938799\n",
      "DEBUG:root:'dask_partition' took 27.70 seconds\n",
      "DEBUG:root:Building contact xarray at 2021-07-20 23:41:12.161036\n",
      "DEBUG:root:step_start: 2020-07-13T00:00:00.000000000\n",
      "DEBUG:root:step_end: 2020-07-14T00:00:00.000000000\n",
      "DEBUG:root:Starting dask merge at 2021-07-20 23:41:12.430037\n"
     ]
    },
    {
     "name": "stdout",
     "output_type": "stream",
     "text": [
      "The date in Partition.get_travel_df is ['2020-07-13T00:00:00.000000000']\n"
     ]
    },
    {
     "name": "stderr",
     "output_type": "stream",
     "text": [
      "DEBUG:root:Finishing dask merge at 2021-07-20 23:41:20.951517\n",
      "DEBUG:root:Starting pandas merge 1 at 2021-07-20 23:41:20.952298\n",
      "DEBUG:root:Starting pandas merge 2 at 2021-07-20 23:41:28.559754\n",
      "DEBUG:root:Calculating contact probabilities on full dataframe starting at 2021-07-20 23:41:36.516200\n",
      "DEBUG:root:'dask_partition' took 27.01 seconds\n",
      "DEBUG:root:Building contact xarray at 2021-07-20 23:41:39.713447\n",
      "DEBUG:root:step_start: 2020-07-14T00:00:00.000000000\n",
      "DEBUG:root:step_end: 2020-07-15T00:00:00.000000000\n",
      "DEBUG:root:Starting dask merge at 2021-07-20 23:41:39.918122\n"
     ]
    },
    {
     "name": "stdout",
     "output_type": "stream",
     "text": [
      "The date in Partition.get_travel_df is ['2020-07-14T00:00:00.000000000']\n"
     ]
    },
    {
     "name": "stderr",
     "output_type": "stream",
     "text": [
      "DEBUG:root:Finishing dask merge at 2021-07-20 23:41:47.984603\n",
      "DEBUG:root:Starting pandas merge 1 at 2021-07-20 23:41:47.985371\n",
      "DEBUG:root:Starting pandas merge 2 at 2021-07-20 23:41:55.580656\n",
      "DEBUG:root:Calculating contact probabilities on full dataframe starting at 2021-07-20 23:42:03.464208\n",
      "DEBUG:root:'dask_partition' took 26.49 seconds\n",
      "DEBUG:root:Building contact xarray at 2021-07-20 23:42:06.910511\n",
      "DEBUG:root:step_start: 2020-07-15T00:00:00.000000000\n",
      "DEBUG:root:step_end: 2020-07-16T00:00:00.000000000\n",
      "DEBUG:root:Starting dask merge at 2021-07-20 23:42:07.162812\n"
     ]
    },
    {
     "name": "stdout",
     "output_type": "stream",
     "text": [
      "The date in Partition.get_travel_df is ['2020-07-15T00:00:00.000000000']\n"
     ]
    },
    {
     "name": "stderr",
     "output_type": "stream",
     "text": [
      "DEBUG:root:Finishing dask merge at 2021-07-20 23:42:15.711321\n",
      "DEBUG:root:Starting pandas merge 1 at 2021-07-20 23:42:15.712618\n",
      "DEBUG:root:Starting pandas merge 2 at 2021-07-20 23:42:24.774272\n",
      "DEBUG:root:Calculating contact probabilities on full dataframe starting at 2021-07-20 23:42:32.891998\n",
      "DEBUG:root:'dask_partition' took 28.64 seconds\n",
      "DEBUG:root:Building contact xarray at 2021-07-20 23:42:36.078692\n",
      "DEBUG:root:step_start: 2020-07-16T00:00:00.000000000\n",
      "DEBUG:root:step_end: 2020-07-17T00:00:00.000000000\n",
      "DEBUG:root:Starting dask merge at 2021-07-20 23:42:36.345346\n"
     ]
    },
    {
     "name": "stdout",
     "output_type": "stream",
     "text": [
      "The date in Partition.get_travel_df is ['2020-07-16T00:00:00.000000000']\n"
     ]
    },
    {
     "name": "stderr",
     "output_type": "stream",
     "text": [
      "DEBUG:root:Finishing dask merge at 2021-07-20 23:42:44.499392\n",
      "DEBUG:root:Starting pandas merge 1 at 2021-07-20 23:42:44.500431\n",
      "DEBUG:root:Starting pandas merge 2 at 2021-07-20 23:42:52.027775\n",
      "DEBUG:root:Calculating contact probabilities on full dataframe starting at 2021-07-20 23:42:59.807132\n",
      "DEBUG:root:'dask_partition' took 26.33 seconds\n",
      "DEBUG:root:Building contact xarray at 2021-07-20 23:43:02.938393\n",
      "DEBUG:root:step_start: 2020-07-17T00:00:00.000000000\n",
      "DEBUG:root:step_end: 2020-07-18T00:00:00.000000000\n",
      "DEBUG:root:Starting dask merge at 2021-07-20 23:43:03.130551\n"
     ]
    },
    {
     "name": "stdout",
     "output_type": "stream",
     "text": [
      "The date in Partition.get_travel_df is ['2020-07-17T00:00:00.000000000']\n"
     ]
    },
    {
     "name": "stderr",
     "output_type": "stream",
     "text": [
      "DEBUG:root:Finishing dask merge at 2021-07-20 23:43:11.330725\n",
      "DEBUG:root:Starting pandas merge 1 at 2021-07-20 23:43:11.331452\n",
      "DEBUG:root:Starting pandas merge 2 at 2021-07-20 23:43:18.777604\n",
      "DEBUG:root:Calculating contact probabilities on full dataframe starting at 2021-07-20 23:43:26.598823\n",
      "DEBUG:root:'dask_partition' took 26.31 seconds\n",
      "DEBUG:root:Building contact xarray at 2021-07-20 23:43:29.693869\n",
      "DEBUG:root:step_start: 2020-07-18T00:00:00.000000000\n",
      "DEBUG:root:step_end: 2020-07-19T00:00:00.000000000\n",
      "DEBUG:root:Starting dask merge at 2021-07-20 23:43:29.883433\n"
     ]
    },
    {
     "name": "stdout",
     "output_type": "stream",
     "text": [
      "The date in Partition.get_travel_df is ['2020-07-18T00:00:00.000000000']\n"
     ]
    },
    {
     "name": "stderr",
     "output_type": "stream",
     "text": [
      "DEBUG:root:Finishing dask merge at 2021-07-20 23:43:38.073161\n",
      "DEBUG:root:Starting pandas merge 1 at 2021-07-20 23:43:38.073849\n",
      "DEBUG:root:Starting pandas merge 2 at 2021-07-20 23:43:45.938197\n",
      "DEBUG:root:Calculating contact probabilities on full dataframe starting at 2021-07-20 23:43:53.744589\n",
      "DEBUG:root:'dask_partition' took 26.74 seconds\n",
      "DEBUG:root:Building contact xarray at 2021-07-20 23:43:56.880911\n",
      "DEBUG:root:step_start: 2020-07-19T00:00:00.000000000\n",
      "DEBUG:root:step_end: 2020-07-20T00:00:00.000000000\n",
      "DEBUG:root:Starting dask merge at 2021-07-20 23:43:57.077736\n"
     ]
    },
    {
     "name": "stdout",
     "output_type": "stream",
     "text": [
      "The date in Partition.get_travel_df is ['2020-07-19T00:00:00.000000000']\n"
     ]
    },
    {
     "name": "stderr",
     "output_type": "stream",
     "text": [
      "DEBUG:root:Finishing dask merge at 2021-07-20 23:44:05.365713\n",
      "DEBUG:root:Starting pandas merge 1 at 2021-07-20 23:44:05.366530\n",
      "DEBUG:root:Starting pandas merge 2 at 2021-07-20 23:44:12.634413\n",
      "DEBUG:root:Calculating contact probabilities on full dataframe starting at 2021-07-20 23:44:20.207291\n",
      "DEBUG:root:'dask_partition' took 25.96 seconds\n",
      "DEBUG:root:Building contact xarray at 2021-07-20 23:44:23.289356\n",
      "DEBUG:root:step_start: 2020-07-20T00:00:00.000000000\n",
      "DEBUG:root:step_end: 2020-07-21T00:00:00.000000000\n",
      "DEBUG:root:Starting dask merge at 2021-07-20 23:44:23.488521\n"
     ]
    },
    {
     "name": "stdout",
     "output_type": "stream",
     "text": [
      "The date in Partition.get_travel_df is ['2020-07-20T00:00:00.000000000']\n"
     ]
    },
    {
     "name": "stderr",
     "output_type": "stream",
     "text": [
      "DEBUG:root:Finishing dask merge at 2021-07-20 23:44:31.684663\n",
      "DEBUG:root:Starting pandas merge 1 at 2021-07-20 23:44:31.685431\n",
      "DEBUG:root:Starting pandas merge 2 at 2021-07-20 23:44:39.149006\n",
      "DEBUG:root:Calculating contact probabilities on full dataframe starting at 2021-07-20 23:44:46.532015\n",
      "DEBUG:root:'dask_partition' took 25.87 seconds\n",
      "DEBUG:root:Building contact xarray at 2021-07-20 23:44:49.616234\n",
      "DEBUG:root:step_start: 2020-07-21T00:00:00.000000000\n",
      "DEBUG:root:step_end: 2020-07-22T00:00:00.000000000\n",
      "DEBUG:root:Starting dask merge at 2021-07-20 23:44:49.814488\n"
     ]
    },
    {
     "name": "stdout",
     "output_type": "stream",
     "text": [
      "The date in Partition.get_travel_df is ['2020-07-21T00:00:00.000000000']\n"
     ]
    },
    {
     "name": "stderr",
     "output_type": "stream",
     "text": [
      "DEBUG:root:Finishing dask merge at 2021-07-20 23:44:58.318084\n",
      "DEBUG:root:Starting pandas merge 1 at 2021-07-20 23:44:58.318813\n",
      "DEBUG:root:Starting pandas merge 2 at 2021-07-20 23:45:05.843694\n",
      "DEBUG:root:Calculating contact probabilities on full dataframe starting at 2021-07-20 23:45:13.584970\n",
      "DEBUG:root:'dask_partition' took 26.60 seconds\n",
      "DEBUG:root:Building contact xarray at 2021-07-20 23:45:16.693373\n",
      "DEBUG:root:step_start: 2020-07-22T00:00:00.000000000\n",
      "DEBUG:root:step_end: 2020-07-23T00:00:00.000000000\n",
      "DEBUG:root:Starting dask merge at 2021-07-20 23:45:16.892526\n"
     ]
    },
    {
     "name": "stdout",
     "output_type": "stream",
     "text": [
      "The date in Partition.get_travel_df is ['2020-07-22T00:00:00.000000000']\n"
     ]
    },
    {
     "name": "stderr",
     "output_type": "stream",
     "text": [
      "DEBUG:root:Finishing dask merge at 2021-07-20 23:45:25.211405\n",
      "DEBUG:root:Starting pandas merge 1 at 2021-07-20 23:45:25.212108\n",
      "DEBUG:root:Starting pandas merge 2 at 2021-07-20 23:45:33.645447\n",
      "DEBUG:root:Calculating contact probabilities on full dataframe starting at 2021-07-20 23:45:41.466821\n",
      "DEBUG:root:'dask_partition' took 27.48 seconds\n",
      "DEBUG:root:Building contact xarray at 2021-07-20 23:45:44.647446\n",
      "DEBUG:root:step_start: 2020-07-23T00:00:00.000000000\n",
      "DEBUG:root:step_end: 2020-07-24T00:00:00.000000000\n",
      "DEBUG:root:Starting dask merge at 2021-07-20 23:45:44.846966\n"
     ]
    },
    {
     "name": "stdout",
     "output_type": "stream",
     "text": [
      "The date in Partition.get_travel_df is ['2020-07-23T00:00:00.000000000']\n"
     ]
    },
    {
     "name": "stderr",
     "output_type": "stream",
     "text": [
      "DEBUG:root:Finishing dask merge at 2021-07-20 23:45:53.143555\n",
      "DEBUG:root:Starting pandas merge 1 at 2021-07-20 23:45:53.144288\n",
      "DEBUG:root:Starting pandas merge 2 at 2021-07-20 23:46:00.611950\n",
      "DEBUG:root:Calculating contact probabilities on full dataframe starting at 2021-07-20 23:46:08.229890\n",
      "DEBUG:root:'dask_partition' took 26.22 seconds\n",
      "DEBUG:root:Building contact xarray at 2021-07-20 23:46:11.320845\n",
      "DEBUG:root:step_start: 2020-07-24T00:00:00.000000000\n",
      "DEBUG:root:step_end: 2020-07-25T00:00:00.000000000\n",
      "DEBUG:root:Starting dask merge at 2021-07-20 23:46:11.502028\n"
     ]
    },
    {
     "name": "stdout",
     "output_type": "stream",
     "text": [
      "The date in Partition.get_travel_df is ['2020-07-24T00:00:00.000000000']\n"
     ]
    },
    {
     "name": "stderr",
     "output_type": "stream",
     "text": [
      "DEBUG:root:Finishing dask merge at 2021-07-20 23:46:19.640894\n",
      "DEBUG:root:Starting pandas merge 1 at 2021-07-20 23:46:19.641663\n",
      "DEBUG:root:Starting pandas merge 2 at 2021-07-20 23:46:27.067265\n",
      "DEBUG:root:Calculating contact probabilities on full dataframe starting at 2021-07-20 23:46:34.814491\n",
      "DEBUG:root:'dask_partition' took 26.15 seconds\n",
      "DEBUG:root:Building contact xarray at 2021-07-20 23:46:37.906075\n",
      "DEBUG:root:step_start: 2020-07-25T00:00:00.000000000\n",
      "DEBUG:root:step_end: 2020-07-26T00:00:00.000000000\n",
      "DEBUG:root:Starting dask merge at 2021-07-20 23:46:38.100051\n"
     ]
    },
    {
     "name": "stdout",
     "output_type": "stream",
     "text": [
      "The date in Partition.get_travel_df is ['2020-07-25T00:00:00.000000000']\n"
     ]
    },
    {
     "name": "stderr",
     "output_type": "stream",
     "text": [
      "DEBUG:root:Finishing dask merge at 2021-07-20 23:46:46.259682\n",
      "DEBUG:root:Starting pandas merge 1 at 2021-07-20 23:46:46.260419\n",
      "DEBUG:root:Starting pandas merge 2 at 2021-07-20 23:46:53.809252\n",
      "DEBUG:root:Calculating contact probabilities on full dataframe starting at 2021-07-20 23:47:01.576756\n",
      "DEBUG:root:'dask_partition' took 26.34 seconds\n",
      "DEBUG:root:Building contact xarray at 2021-07-20 23:47:04.706160\n",
      "DEBUG:root:step_start: 2020-07-26T00:00:00.000000000\n",
      "DEBUG:root:step_end: 2020-07-27T00:00:00.000000000\n",
      "DEBUG:root:Starting dask merge at 2021-07-20 23:47:04.908464\n"
     ]
    },
    {
     "name": "stdout",
     "output_type": "stream",
     "text": [
      "The date in Partition.get_travel_df is ['2020-07-26T00:00:00.000000000']\n"
     ]
    },
    {
     "name": "stderr",
     "output_type": "stream",
     "text": [
      "DEBUG:root:Finishing dask merge at 2021-07-20 23:47:13.271728\n",
      "DEBUG:root:Starting pandas merge 1 at 2021-07-20 23:47:13.273987\n",
      "DEBUG:root:Starting pandas merge 2 at 2021-07-20 23:47:20.795938\n",
      "DEBUG:root:Calculating contact probabilities on full dataframe starting at 2021-07-20 23:47:28.534188\n",
      "DEBUG:root:'dask_partition' took 26.50 seconds\n",
      "DEBUG:root:Building contact xarray at 2021-07-20 23:47:31.675204\n",
      "DEBUG:root:step_start: 2020-07-27T00:00:00.000000000\n",
      "DEBUG:root:step_end: 2020-07-28T00:00:00.000000000\n",
      "DEBUG:root:Starting dask merge at 2021-07-20 23:47:31.862039\n"
     ]
    },
    {
     "name": "stdout",
     "output_type": "stream",
     "text": [
      "The date in Partition.get_travel_df is ['2020-07-27T00:00:00.000000000']\n"
     ]
    },
    {
     "name": "stderr",
     "output_type": "stream",
     "text": [
      "DEBUG:root:Finishing dask merge at 2021-07-20 23:47:40.139858\n",
      "DEBUG:root:Starting pandas merge 1 at 2021-07-20 23:47:40.140606\n",
      "DEBUG:root:Starting pandas merge 2 at 2021-07-20 23:47:47.737157\n",
      "DEBUG:root:Calculating contact probabilities on full dataframe starting at 2021-07-20 23:47:55.527493\n",
      "DEBUG:root:'dask_partition' took 26.73 seconds\n",
      "DEBUG:root:Building contact xarray at 2021-07-20 23:47:58.869654\n",
      "DEBUG:root:step_start: 2020-07-28T00:00:00.000000000\n",
      "DEBUG:root:step_end: 2020-07-29T00:00:00.000000000\n",
      "DEBUG:root:Starting dask merge at 2021-07-20 23:47:59.060295\n"
     ]
    },
    {
     "name": "stdout",
     "output_type": "stream",
     "text": [
      "The date in Partition.get_travel_df is ['2020-07-28T00:00:00.000000000']\n"
     ]
    },
    {
     "name": "stderr",
     "output_type": "stream",
     "text": [
      "DEBUG:root:Finishing dask merge at 2021-07-20 23:48:07.374289\n",
      "DEBUG:root:Starting pandas merge 1 at 2021-07-20 23:48:07.375121\n",
      "DEBUG:root:Starting pandas merge 2 at 2021-07-20 23:48:15.185952\n",
      "DEBUG:root:Calculating contact probabilities on full dataframe starting at 2021-07-20 23:48:22.714128\n",
      "DEBUG:root:'dask_partition' took 26.61 seconds\n",
      "DEBUG:root:Building contact xarray at 2021-07-20 23:48:25.941693\n",
      "DEBUG:root:step_start: 2020-07-29T00:00:00.000000000\n",
      "DEBUG:root:step_end: 2020-07-30T00:00:00.000000000\n",
      "DEBUG:root:Starting dask merge at 2021-07-20 23:48:26.138979\n"
     ]
    },
    {
     "name": "stdout",
     "output_type": "stream",
     "text": [
      "The date in Partition.get_travel_df is ['2020-07-29T00:00:00.000000000']\n"
     ]
    },
    {
     "name": "stderr",
     "output_type": "stream",
     "text": [
      "DEBUG:root:Finishing dask merge at 2021-07-20 23:48:34.684250\n",
      "DEBUG:root:Starting pandas merge 1 at 2021-07-20 23:48:34.685069\n",
      "DEBUG:root:Starting pandas merge 2 at 2021-07-20 23:48:42.076225\n",
      "DEBUG:root:Calculating contact probabilities on full dataframe starting at 2021-07-20 23:48:49.753130\n",
      "DEBUG:root:'dask_partition' took 26.47 seconds\n",
      "DEBUG:root:Building contact xarray at 2021-07-20 23:48:52.868783\n",
      "DEBUG:root:step_start: 2020-07-30T00:00:00.000000000\n",
      "DEBUG:root:step_end: 2020-07-31T00:00:00.000000000\n",
      "DEBUG:root:Starting dask merge at 2021-07-20 23:48:53.062350\n"
     ]
    },
    {
     "name": "stdout",
     "output_type": "stream",
     "text": [
      "The date in Partition.get_travel_df is ['2020-07-30T00:00:00.000000000']\n"
     ]
    },
    {
     "name": "stderr",
     "output_type": "stream",
     "text": [
      "DEBUG:root:Finishing dask merge at 2021-07-20 23:49:01.241050\n",
      "DEBUG:root:Starting pandas merge 1 at 2021-07-20 23:49:01.241767\n",
      "DEBUG:root:Starting pandas merge 2 at 2021-07-20 23:49:08.624390\n",
      "DEBUG:root:Calculating contact probabilities on full dataframe starting at 2021-07-20 23:49:16.249624\n",
      "DEBUG:root:'dask_partition' took 26.03 seconds\n",
      "DEBUG:root:Building contact xarray at 2021-07-20 23:49:19.334126\n",
      "DEBUG:root:step_start: 2020-07-31T00:00:00.000000000\n",
      "DEBUG:root:step_end: 2020-08-01T00:00:00.000000000\n",
      "DEBUG:root:Starting dask merge at 2021-07-20 23:49:19.527031\n"
     ]
    },
    {
     "name": "stdout",
     "output_type": "stream",
     "text": [
      "The date in Partition.get_travel_df is ['2020-07-31T00:00:00.000000000']\n"
     ]
    },
    {
     "name": "stderr",
     "output_type": "stream",
     "text": [
      "DEBUG:root:Finishing dask merge at 2021-07-20 23:49:27.814480\n",
      "DEBUG:root:Starting pandas merge 1 at 2021-07-20 23:49:27.815212\n",
      "DEBUG:root:Starting pandas merge 2 at 2021-07-20 23:49:35.307365\n",
      "DEBUG:root:Calculating contact probabilities on full dataframe starting at 2021-07-20 23:49:42.927696\n",
      "DEBUG:root:'dask_partition' took 26.23 seconds\n",
      "DEBUG:root:Building contact xarray at 2021-07-20 23:49:46.009585\n",
      "DEBUG:root:step_start: 2020-08-01T00:00:00.000000000\n",
      "DEBUG:root:step_end: 2020-08-02T00:00:00.000000000\n",
      "DEBUG:root:Starting dask merge at 2021-07-20 23:49:46.199835\n"
     ]
    },
    {
     "name": "stdout",
     "output_type": "stream",
     "text": [
      "The date in Partition.get_travel_df is ['2020-08-01T00:00:00.000000000']\n"
     ]
    },
    {
     "name": "stderr",
     "output_type": "stream",
     "text": [
      "DEBUG:root:Finishing dask merge at 2021-07-20 23:49:54.196806\n",
      "DEBUG:root:Starting pandas merge 1 at 2021-07-20 23:49:54.197609\n",
      "DEBUG:root:Starting pandas merge 2 at 2021-07-20 23:50:01.579414\n",
      "DEBUG:root:Calculating contact probabilities on full dataframe starting at 2021-07-20 23:50:09.233604\n",
      "DEBUG:root:'dask_partition' took 25.90 seconds\n",
      "DEBUG:root:Building contact xarray at 2021-07-20 23:50:12.340830\n",
      "DEBUG:root:step_start: 2020-08-02T00:00:00.000000000\n",
      "DEBUG:root:step_end: 2020-08-03T00:00:00.000000000\n",
      "DEBUG:root:Starting dask merge at 2021-07-20 23:50:12.534672\n"
     ]
    },
    {
     "name": "stdout",
     "output_type": "stream",
     "text": [
      "The date in Partition.get_travel_df is ['2020-08-02T00:00:00.000000000']\n"
     ]
    },
    {
     "name": "stderr",
     "output_type": "stream",
     "text": [
      "DEBUG:root:Finishing dask merge at 2021-07-20 23:50:21.038714\n",
      "DEBUG:root:Starting pandas merge 1 at 2021-07-20 23:50:21.039468\n",
      "DEBUG:root:Starting pandas merge 2 at 2021-07-20 23:50:28.437109\n",
      "DEBUG:root:Calculating contact probabilities on full dataframe starting at 2021-07-20 23:50:36.155311\n",
      "DEBUG:root:'dask_partition' took 26.48 seconds\n",
      "DEBUG:root:Building contact xarray at 2021-07-20 23:50:39.262062\n",
      "DEBUG:root:step_start: 2020-08-03T00:00:00.000000000\n",
      "DEBUG:root:step_end: 2020-08-04T00:00:00.000000000\n",
      "DEBUG:root:Starting dask merge at 2021-07-20 23:50:39.454946\n"
     ]
    },
    {
     "name": "stdout",
     "output_type": "stream",
     "text": [
      "The date in Partition.get_travel_df is ['2020-08-03T00:00:00.000000000']\n"
     ]
    },
    {
     "name": "stderr",
     "output_type": "stream",
     "text": [
      "DEBUG:root:Finishing dask merge at 2021-07-20 23:50:47.679712\n",
      "DEBUG:root:Starting pandas merge 1 at 2021-07-20 23:50:47.680465\n",
      "DEBUG:root:Starting pandas merge 2 at 2021-07-20 23:50:55.141550\n",
      "DEBUG:root:Calculating contact probabilities on full dataframe starting at 2021-07-20 23:51:02.857566\n",
      "DEBUG:root:'dask_partition' took 26.24 seconds\n",
      "DEBUG:root:Building contact xarray at 2021-07-20 23:51:05.968296\n",
      "DEBUG:root:step_start: 2020-08-04T00:00:00.000000000\n",
      "DEBUG:root:step_end: 2020-08-05T00:00:00.000000000\n",
      "DEBUG:root:Starting dask merge at 2021-07-20 23:51:06.159375\n"
     ]
    },
    {
     "name": "stdout",
     "output_type": "stream",
     "text": [
      "The date in Partition.get_travel_df is ['2020-08-04T00:00:00.000000000']\n"
     ]
    },
    {
     "name": "stderr",
     "output_type": "stream",
     "text": [
      "DEBUG:root:Finishing dask merge at 2021-07-20 23:51:14.448001\n",
      "DEBUG:root:Starting pandas merge 1 at 2021-07-20 23:51:14.448720\n",
      "DEBUG:root:Starting pandas merge 2 at 2021-07-20 23:51:21.946562\n",
      "DEBUG:root:Calculating contact probabilities on full dataframe starting at 2021-07-20 23:51:29.293655\n",
      "DEBUG:root:'dask_partition' took 26.06 seconds\n",
      "DEBUG:root:Building contact xarray at 2021-07-20 23:51:32.492138\n",
      "DEBUG:root:step_start: 2020-08-05T00:00:00.000000000\n",
      "DEBUG:root:step_end: 2020-08-06T00:00:00.000000000\n",
      "DEBUG:root:Starting dask merge at 2021-07-20 23:51:32.685613\n"
     ]
    },
    {
     "name": "stdout",
     "output_type": "stream",
     "text": [
      "The date in Partition.get_travel_df is ['2020-08-05T00:00:00.000000000']\n"
     ]
    },
    {
     "name": "stderr",
     "output_type": "stream",
     "text": [
      "DEBUG:root:Finishing dask merge at 2021-07-20 23:51:41.021769\n",
      "DEBUG:root:Starting pandas merge 1 at 2021-07-20 23:51:41.022584\n",
      "DEBUG:root:Starting pandas merge 2 at 2021-07-20 23:51:48.708320\n",
      "DEBUG:root:Calculating contact probabilities on full dataframe starting at 2021-07-20 23:51:56.609591\n",
      "DEBUG:root:'dask_partition' took 26.82 seconds\n",
      "DEBUG:root:Building contact xarray at 2021-07-20 23:51:59.768035\n",
      "DEBUG:root:step_start: 2020-08-06T00:00:00.000000000\n",
      "DEBUG:root:step_end: 2020-08-07T00:00:00.000000000\n",
      "DEBUG:root:Starting dask merge at 2021-07-20 23:51:59.972557\n"
     ]
    },
    {
     "name": "stdout",
     "output_type": "stream",
     "text": [
      "The date in Partition.get_travel_df is ['2020-08-06T00:00:00.000000000']\n"
     ]
    },
    {
     "name": "stderr",
     "output_type": "stream",
     "text": [
      "DEBUG:root:Finishing dask merge at 2021-07-20 23:52:07.959530\n",
      "DEBUG:root:Starting pandas merge 1 at 2021-07-20 23:52:07.960287\n",
      "DEBUG:root:Starting pandas merge 2 at 2021-07-20 23:52:15.733719\n",
      "DEBUG:root:Calculating contact probabilities on full dataframe starting at 2021-07-20 23:52:23.595290\n",
      "DEBUG:root:'dask_partition' took 26.49 seconds\n",
      "DEBUG:root:Building contact xarray at 2021-07-20 23:52:26.726174\n",
      "DEBUG:root:step_start: 2020-08-07T00:00:00.000000000\n",
      "DEBUG:root:step_end: 2020-08-08T00:00:00.000000000\n",
      "DEBUG:root:Starting dask merge at 2021-07-20 23:52:26.924983\n"
     ]
    },
    {
     "name": "stdout",
     "output_type": "stream",
     "text": [
      "The date in Partition.get_travel_df is ['2020-08-07T00:00:00.000000000']\n"
     ]
    },
    {
     "name": "stderr",
     "output_type": "stream",
     "text": [
      "DEBUG:root:Finishing dask merge at 2021-07-20 23:52:35.383271\n",
      "DEBUG:root:Starting pandas merge 1 at 2021-07-20 23:52:35.384006\n",
      "DEBUG:root:Starting pandas merge 2 at 2021-07-20 23:52:42.937124\n",
      "DEBUG:root:Calculating contact probabilities on full dataframe starting at 2021-07-20 23:52:50.488936\n",
      "DEBUG:root:'dask_partition' took 26.41 seconds\n",
      "DEBUG:root:Building contact xarray at 2021-07-20 23:52:53.586924\n",
      "DEBUG:root:step_start: 2020-08-08T00:00:00.000000000\n",
      "DEBUG:root:step_end: 2020-08-09T00:00:00.000000000\n",
      "DEBUG:root:Starting dask merge at 2021-07-20 23:52:53.771004\n"
     ]
    },
    {
     "name": "stdout",
     "output_type": "stream",
     "text": [
      "The date in Partition.get_travel_df is ['2020-08-08T00:00:00.000000000']\n"
     ]
    },
    {
     "name": "stderr",
     "output_type": "stream",
     "text": [
      "DEBUG:root:Finishing dask merge at 2021-07-20 23:53:02.007193\n",
      "DEBUG:root:Starting pandas merge 1 at 2021-07-20 23:53:02.007973\n",
      "DEBUG:root:Starting pandas merge 2 at 2021-07-20 23:53:09.421162\n",
      "DEBUG:root:Calculating contact probabilities on full dataframe starting at 2021-07-20 23:53:17.112079\n",
      "DEBUG:root:'dask_partition' took 26.19 seconds\n",
      "DEBUG:root:Building contact xarray at 2021-07-20 23:53:20.205226\n",
      "DEBUG:root:step_start: 2020-08-09T00:00:00.000000000\n",
      "DEBUG:root:step_end: 2020-08-10T00:00:00.000000000\n",
      "DEBUG:root:Starting dask merge at 2021-07-20 23:53:20.391958\n"
     ]
    },
    {
     "name": "stdout",
     "output_type": "stream",
     "text": [
      "The date in Partition.get_travel_df is ['2020-08-09T00:00:00.000000000']\n"
     ]
    },
    {
     "name": "stderr",
     "output_type": "stream",
     "text": [
      "DEBUG:root:Finishing dask merge at 2021-07-20 23:53:28.556103\n",
      "DEBUG:root:Starting pandas merge 1 at 2021-07-20 23:53:28.556870\n",
      "DEBUG:root:Starting pandas merge 2 at 2021-07-20 23:53:36.027040\n",
      "DEBUG:root:Calculating contact probabilities on full dataframe starting at 2021-07-20 23:53:43.519408\n",
      "DEBUG:root:'dask_partition' took 25.98 seconds\n",
      "DEBUG:root:Building contact xarray at 2021-07-20 23:53:46.612541\n",
      "DEBUG:root:step_start: 2020-08-10T00:00:00.000000000\n",
      "DEBUG:root:step_end: 2020-08-11T00:00:00.000000000\n",
      "DEBUG:root:Starting dask merge at 2021-07-20 23:53:46.804559\n"
     ]
    },
    {
     "name": "stdout",
     "output_type": "stream",
     "text": [
      "The date in Partition.get_travel_df is ['2020-08-10T00:00:00.000000000']\n"
     ]
    },
    {
     "name": "stderr",
     "output_type": "stream",
     "text": [
      "DEBUG:root:Finishing dask merge at 2021-07-20 23:53:54.959952\n",
      "DEBUG:root:Starting pandas merge 1 at 2021-07-20 23:53:54.960687\n",
      "DEBUG:root:Starting pandas merge 2 at 2021-07-20 23:54:02.527803\n",
      "DEBUG:root:Calculating contact probabilities on full dataframe starting at 2021-07-20 23:54:10.262753\n",
      "DEBUG:root:'dask_partition' took 26.31 seconds\n",
      "DEBUG:root:Building contact xarray at 2021-07-20 23:54:13.377699\n",
      "DEBUG:root:step_start: 2020-08-11T00:00:00.000000000\n",
      "DEBUG:root:step_end: 2020-08-12T00:00:00.000000000\n",
      "DEBUG:root:Starting dask merge at 2021-07-20 23:54:13.570420\n"
     ]
    },
    {
     "name": "stdout",
     "output_type": "stream",
     "text": [
      "The date in Partition.get_travel_df is ['2020-08-11T00:00:00.000000000']\n"
     ]
    },
    {
     "name": "stderr",
     "output_type": "stream",
     "text": [
      "DEBUG:root:Finishing dask merge at 2021-07-20 23:54:21.903544\n",
      "DEBUG:root:Starting pandas merge 1 at 2021-07-20 23:54:21.904280\n",
      "DEBUG:root:Starting pandas merge 2 at 2021-07-20 23:54:29.280595\n",
      "DEBUG:root:Calculating contact probabilities on full dataframe starting at 2021-07-20 23:54:37.051469\n",
      "DEBUG:root:'dask_partition' took 26.32 seconds\n",
      "DEBUG:root:Building contact xarray at 2021-07-20 23:54:40.150259\n",
      "DEBUG:root:step_start: 2020-08-12T00:00:00.000000000\n",
      "DEBUG:root:step_end: 2020-08-13T00:00:00.000000000\n",
      "DEBUG:root:Starting dask merge at 2021-07-20 23:54:40.345777\n"
     ]
    },
    {
     "name": "stdout",
     "output_type": "stream",
     "text": [
      "The date in Partition.get_travel_df is ['2020-08-12T00:00:00.000000000']\n"
     ]
    },
    {
     "name": "stderr",
     "output_type": "stream",
     "text": [
      "DEBUG:root:Finishing dask merge at 2021-07-20 23:54:48.447153\n",
      "DEBUG:root:Starting pandas merge 1 at 2021-07-20 23:54:48.447883\n",
      "DEBUG:root:Starting pandas merge 2 at 2021-07-20 23:54:55.878249\n",
      "DEBUG:root:Calculating contact probabilities on full dataframe starting at 2021-07-20 23:55:03.589095\n",
      "DEBUG:root:'dask_partition' took 26.07 seconds\n",
      "DEBUG:root:Building contact xarray at 2021-07-20 23:55:06.655929\n",
      "DEBUG:root:step_start: 2020-08-13T00:00:00.000000000\n",
      "DEBUG:root:step_end: 2020-08-14T00:00:00.000000000\n",
      "DEBUG:root:Starting dask merge at 2021-07-20 23:55:06.847342\n"
     ]
    },
    {
     "name": "stdout",
     "output_type": "stream",
     "text": [
      "The date in Partition.get_travel_df is ['2020-08-13T00:00:00.000000000']\n"
     ]
    },
    {
     "name": "stderr",
     "output_type": "stream",
     "text": [
      "DEBUG:root:Finishing dask merge at 2021-07-20 23:55:14.873825\n",
      "DEBUG:root:Starting pandas merge 1 at 2021-07-20 23:55:14.874552\n",
      "DEBUG:root:Starting pandas merge 2 at 2021-07-20 23:55:22.236155\n",
      "DEBUG:root:Calculating contact probabilities on full dataframe starting at 2021-07-20 23:55:29.312647\n",
      "DEBUG:root:'dask_partition' took 25.43 seconds\n",
      "DEBUG:root:Building contact xarray at 2021-07-20 23:55:32.479994\n",
      "DEBUG:root:step_start: 2020-08-14T00:00:00.000000000\n",
      "DEBUG:root:step_end: 2020-08-15T00:00:00.000000000\n",
      "DEBUG:root:Starting dask merge at 2021-07-20 23:55:32.679776\n"
     ]
    },
    {
     "name": "stdout",
     "output_type": "stream",
     "text": [
      "The date in Partition.get_travel_df is ['2020-08-14T00:00:00.000000000']\n"
     ]
    },
    {
     "name": "stderr",
     "output_type": "stream",
     "text": [
      "DEBUG:root:Finishing dask merge at 2021-07-20 23:55:40.909420\n",
      "DEBUG:root:Starting pandas merge 1 at 2021-07-20 23:55:40.910151\n",
      "DEBUG:root:Starting pandas merge 2 at 2021-07-20 23:55:48.333422\n",
      "DEBUG:root:Calculating contact probabilities on full dataframe starting at 2021-07-20 23:55:55.888302\n",
      "DEBUG:root:'dask_partition' took 26.02 seconds\n",
      "DEBUG:root:Building contact xarray at 2021-07-20 23:55:58.968224\n",
      "DEBUG:root:step_start: 2020-08-15T00:00:00.000000000\n",
      "DEBUG:root:step_end: 2020-08-16T00:00:00.000000000\n",
      "DEBUG:root:Starting dask merge at 2021-07-20 23:55:59.155839\n"
     ]
    },
    {
     "name": "stdout",
     "output_type": "stream",
     "text": [
      "The date in Partition.get_travel_df is ['2020-08-15T00:00:00.000000000']\n"
     ]
    },
    {
     "name": "stderr",
     "output_type": "stream",
     "text": [
      "DEBUG:root:Finishing dask merge at 2021-07-20 23:56:07.244059\n",
      "DEBUG:root:Starting pandas merge 1 at 2021-07-20 23:56:07.244880\n",
      "DEBUG:root:Starting pandas merge 2 at 2021-07-20 23:56:14.753470\n",
      "DEBUG:root:Calculating contact probabilities on full dataframe starting at 2021-07-20 23:56:22.509588\n",
      "DEBUG:root:'dask_partition' took 26.21 seconds\n",
      "DEBUG:root:Building contact xarray at 2021-07-20 23:56:25.627120\n",
      "DEBUG:root:step_start: 2020-08-16T00:00:00.000000000\n",
      "DEBUG:root:step_end: 2020-08-17T00:00:00.000000000\n",
      "DEBUG:root:Starting dask merge at 2021-07-20 23:56:25.821420\n"
     ]
    },
    {
     "name": "stdout",
     "output_type": "stream",
     "text": [
      "The date in Partition.get_travel_df is ['2020-08-16T00:00:00.000000000']\n"
     ]
    },
    {
     "name": "stderr",
     "output_type": "stream",
     "text": [
      "DEBUG:root:Finishing dask merge at 2021-07-20 23:56:34.066470\n",
      "DEBUG:root:Starting pandas merge 1 at 2021-07-20 23:56:34.067255\n",
      "DEBUG:root:Starting pandas merge 2 at 2021-07-20 23:56:41.550904\n",
      "DEBUG:root:Calculating contact probabilities on full dataframe starting at 2021-07-20 23:56:49.306345\n",
      "DEBUG:root:'dask_partition' took 26.35 seconds\n",
      "DEBUG:root:Building contact xarray at 2021-07-20 23:56:52.435619\n",
      "DEBUG:root:step_start: 2020-08-17T00:00:00.000000000\n",
      "DEBUG:root:step_end: 2020-08-18T00:00:00.000000000\n",
      "DEBUG:root:Starting dask merge at 2021-07-20 23:56:52.640950\n"
     ]
    },
    {
     "name": "stdout",
     "output_type": "stream",
     "text": [
      "The date in Partition.get_travel_df is ['2020-08-17T00:00:00.000000000']\n"
     ]
    },
    {
     "name": "stderr",
     "output_type": "stream",
     "text": [
      "DEBUG:root:Finishing dask merge at 2021-07-20 23:57:00.826112\n",
      "DEBUG:root:Starting pandas merge 1 at 2021-07-20 23:57:00.826842\n",
      "DEBUG:root:Starting pandas merge 2 at 2021-07-20 23:57:08.461846\n",
      "DEBUG:root:Calculating contact probabilities on full dataframe starting at 2021-07-20 23:57:16.388873\n",
      "DEBUG:root:'dask_partition' took 26.61 seconds\n",
      "DEBUG:root:Building contact xarray at 2021-07-20 23:57:19.517789\n",
      "DEBUG:root:step_start: 2020-08-18T00:00:00.000000000\n",
      "DEBUG:root:step_end: 2020-08-19T00:00:00.000000000\n",
      "DEBUG:root:Starting dask merge at 2021-07-20 23:57:19.711215\n"
     ]
    },
    {
     "name": "stdout",
     "output_type": "stream",
     "text": [
      "The date in Partition.get_travel_df is ['2020-08-18T00:00:00.000000000']\n"
     ]
    },
    {
     "name": "stderr",
     "output_type": "stream",
     "text": [
      "DEBUG:root:Finishing dask merge at 2021-07-20 23:57:27.696837\n",
      "DEBUG:root:Starting pandas merge 1 at 2021-07-20 23:57:27.697560\n",
      "DEBUG:root:Starting pandas merge 2 at 2021-07-20 23:57:35.341077\n",
      "DEBUG:root:Calculating contact probabilities on full dataframe starting at 2021-07-20 23:57:42.894111\n",
      "DEBUG:root:'dask_partition' took 25.98 seconds\n",
      "DEBUG:root:Building contact xarray at 2021-07-20 23:57:45.947486\n",
      "DEBUG:root:step_start: 2020-08-19T00:00:00.000000000\n",
      "DEBUG:root:step_end: 2020-08-20T00:00:00.000000000\n",
      "DEBUG:root:Starting dask merge at 2021-07-20 23:57:46.137856\n"
     ]
    },
    {
     "name": "stdout",
     "output_type": "stream",
     "text": [
      "The date in Partition.get_travel_df is ['2020-08-19T00:00:00.000000000']\n"
     ]
    },
    {
     "name": "stderr",
     "output_type": "stream",
     "text": [
      "DEBUG:root:Finishing dask merge at 2021-07-20 23:57:54.359103\n",
      "DEBUG:root:Starting pandas merge 1 at 2021-07-20 23:57:54.359840\n",
      "DEBUG:root:Starting pandas merge 2 at 2021-07-20 23:58:02.744618\n",
      "DEBUG:root:Calculating contact probabilities on full dataframe starting at 2021-07-20 23:58:10.341266\n",
      "DEBUG:root:'dask_partition' took 27.08 seconds\n",
      "DEBUG:root:Building contact xarray at 2021-07-20 23:58:13.486702\n",
      "DEBUG:root:step_start: 2020-08-20T00:00:00.000000000\n",
      "DEBUG:root:step_end: 2020-08-21T00:00:00.000000000\n",
      "DEBUG:root:Starting dask merge at 2021-07-20 23:58:13.680534\n"
     ]
    },
    {
     "name": "stdout",
     "output_type": "stream",
     "text": [
      "The date in Partition.get_travel_df is ['2020-08-20T00:00:00.000000000']\n"
     ]
    },
    {
     "name": "stderr",
     "output_type": "stream",
     "text": [
      "DEBUG:root:Finishing dask merge at 2021-07-20 23:58:21.877988\n",
      "DEBUG:root:Starting pandas merge 1 at 2021-07-20 23:58:21.878750\n",
      "DEBUG:root:Starting pandas merge 2 at 2021-07-20 23:58:29.890735\n",
      "DEBUG:root:Calculating contact probabilities on full dataframe starting at 2021-07-20 23:58:38.414927\n",
      "DEBUG:root:'dask_partition' took 27.79 seconds\n",
      "DEBUG:root:Building contact xarray at 2021-07-20 23:58:41.682717\n",
      "DEBUG:root:step_start: 2020-08-21T00:00:00.000000000\n",
      "DEBUG:root:step_end: 2020-08-22T00:00:00.000000000\n",
      "DEBUG:root:Starting dask merge at 2021-07-20 23:58:41.858177\n"
     ]
    },
    {
     "name": "stdout",
     "output_type": "stream",
     "text": [
      "The date in Partition.get_travel_df is ['2020-08-21T00:00:00.000000000']\n"
     ]
    },
    {
     "name": "stderr",
     "output_type": "stream",
     "text": [
      "DEBUG:root:Finishing dask merge at 2021-07-20 23:58:50.177614\n",
      "DEBUG:root:Starting pandas merge 1 at 2021-07-20 23:58:50.178411\n",
      "DEBUG:root:Starting pandas merge 2 at 2021-07-20 23:58:57.638823\n",
      "DEBUG:root:Calculating contact probabilities on full dataframe starting at 2021-07-20 23:59:05.349392\n",
      "DEBUG:root:'dask_partition' took 26.35 seconds\n",
      "DEBUG:root:Building contact xarray at 2021-07-20 23:59:08.451201\n",
      "DEBUG:root:step_start: 2020-08-22T00:00:00.000000000\n",
      "DEBUG:root:step_end: 2020-08-23T00:00:00.000000000\n",
      "DEBUG:root:Starting dask merge at 2021-07-20 23:59:08.636994\n"
     ]
    },
    {
     "name": "stdout",
     "output_type": "stream",
     "text": [
      "The date in Partition.get_travel_df is ['2020-08-22T00:00:00.000000000']\n"
     ]
    },
    {
     "name": "stderr",
     "output_type": "stream",
     "text": [
      "DEBUG:root:Finishing dask merge at 2021-07-20 23:59:16.821983\n",
      "DEBUG:root:Starting pandas merge 1 at 2021-07-20 23:59:16.822723\n",
      "DEBUG:root:Starting pandas merge 2 at 2021-07-20 23:59:24.204341\n",
      "DEBUG:root:Calculating contact probabilities on full dataframe starting at 2021-07-20 23:59:31.840445\n",
      "DEBUG:root:'dask_partition' took 26.10 seconds\n",
      "DEBUG:root:Building contact xarray at 2021-07-20 23:59:34.979438\n",
      "DEBUG:root:step_start: 2020-08-23T00:00:00.000000000\n",
      "DEBUG:root:step_end: 2020-08-24T00:00:00.000000000\n",
      "DEBUG:root:Starting dask merge at 2021-07-20 23:59:35.172774\n"
     ]
    },
    {
     "name": "stdout",
     "output_type": "stream",
     "text": [
      "The date in Partition.get_travel_df is ['2020-08-23T00:00:00.000000000']\n"
     ]
    },
    {
     "name": "stderr",
     "output_type": "stream",
     "text": [
      "DEBUG:root:Finishing dask merge at 2021-07-20 23:59:43.458692\n",
      "DEBUG:root:Starting pandas merge 1 at 2021-07-20 23:59:43.459490\n",
      "DEBUG:root:Starting pandas merge 2 at 2021-07-20 23:59:50.817153\n",
      "DEBUG:root:Calculating contact probabilities on full dataframe starting at 2021-07-20 23:59:58.459245\n",
      "DEBUG:root:'dask_partition' took 26.54 seconds\n",
      "DEBUG:root:Building contact xarray at 2021-07-21 00:00:02.003349\n",
      "DEBUG:root:step_start: 2020-08-24T00:00:00.000000000\n",
      "DEBUG:root:step_end: 2020-08-25T00:00:00.000000000\n",
      "DEBUG:root:Starting dask merge at 2021-07-21 00:00:02.236194\n"
     ]
    },
    {
     "name": "stdout",
     "output_type": "stream",
     "text": [
      "The date in Partition.get_travel_df is ['2020-08-24T00:00:00.000000000']\n"
     ]
    },
    {
     "name": "stderr",
     "output_type": "stream",
     "text": [
      "DEBUG:root:Finishing dask merge at 2021-07-21 00:00:10.419830\n",
      "DEBUG:root:Starting pandas merge 1 at 2021-07-21 00:00:10.420558\n",
      "DEBUG:root:Starting pandas merge 2 at 2021-07-21 00:00:18.762050\n",
      "DEBUG:root:Calculating contact probabilities on full dataframe starting at 2021-07-21 00:00:26.870997\n",
      "DEBUG:root:'dask_partition' took 27.51 seconds\n",
      "DEBUG:root:Building contact xarray at 2021-07-21 00:00:30.019051\n",
      "DEBUG:root:step_start: 2020-08-25T00:00:00.000000000\n",
      "DEBUG:root:step_end: 2020-08-26T00:00:00.000000000\n",
      "DEBUG:root:Starting dask merge at 2021-07-21 00:00:30.216680\n"
     ]
    },
    {
     "name": "stdout",
     "output_type": "stream",
     "text": [
      "The date in Partition.get_travel_df is ['2020-08-25T00:00:00.000000000']\n"
     ]
    },
    {
     "name": "stderr",
     "output_type": "stream",
     "text": [
      "DEBUG:root:Finishing dask merge at 2021-07-21 00:00:38.734999\n",
      "DEBUG:root:Starting pandas merge 1 at 2021-07-21 00:00:38.735741\n",
      "DEBUG:root:Starting pandas merge 2 at 2021-07-21 00:00:47.203222\n",
      "DEBUG:root:Calculating contact probabilities on full dataframe starting at 2021-07-21 00:00:55.009827\n",
      "DEBUG:root:'dask_partition' took 27.68 seconds\n",
      "DEBUG:root:Building contact xarray at 2021-07-21 00:00:58.165899\n",
      "DEBUG:root:step_start: 2020-08-26T00:00:00.000000000\n",
      "DEBUG:root:step_end: 2020-08-27T00:00:00.000000000\n",
      "DEBUG:root:Starting dask merge at 2021-07-21 00:00:58.462879\n"
     ]
    },
    {
     "name": "stdout",
     "output_type": "stream",
     "text": [
      "The date in Partition.get_travel_df is ['2020-08-26T00:00:00.000000000']\n"
     ]
    },
    {
     "name": "stderr",
     "output_type": "stream",
     "text": [
      "DEBUG:root:Finishing dask merge at 2021-07-21 00:01:06.753199\n",
      "DEBUG:root:Starting pandas merge 1 at 2021-07-21 00:01:06.754015\n",
      "DEBUG:root:Starting pandas merge 2 at 2021-07-21 00:01:14.149845\n",
      "DEBUG:root:Calculating contact probabilities on full dataframe starting at 2021-07-21 00:01:21.732686\n",
      "DEBUG:root:'dask_partition' took 26.10 seconds\n",
      "DEBUG:root:Building contact xarray at 2021-07-21 00:01:24.814226\n",
      "DEBUG:root:step_start: 2020-08-27T00:00:00.000000000\n",
      "DEBUG:root:step_end: 2020-08-28T00:00:00.000000000\n",
      "DEBUG:root:Starting dask merge at 2021-07-21 00:01:25.011788\n"
     ]
    },
    {
     "name": "stdout",
     "output_type": "stream",
     "text": [
      "The date in Partition.get_travel_df is ['2020-08-27T00:00:00.000000000']\n"
     ]
    },
    {
     "name": "stderr",
     "output_type": "stream",
     "text": [
      "DEBUG:root:Finishing dask merge at 2021-07-21 00:01:33.439967\n",
      "DEBUG:root:Starting pandas merge 1 at 2021-07-21 00:01:33.440710\n",
      "DEBUG:root:Starting pandas merge 2 at 2021-07-21 00:01:40.273660\n",
      "DEBUG:root:Calculating contact probabilities on full dataframe starting at 2021-07-21 00:01:48.126856\n",
      "DEBUG:root:'dask_partition' took 25.96 seconds\n",
      "DEBUG:root:Building contact xarray at 2021-07-21 00:01:51.245062\n",
      "DEBUG:root:step_start: 2020-08-28T00:00:00.000000000\n",
      "DEBUG:root:step_end: 2020-08-29T00:00:00.000000000\n",
      "DEBUG:root:Starting dask merge at 2021-07-21 00:01:51.442268\n"
     ]
    },
    {
     "name": "stdout",
     "output_type": "stream",
     "text": [
      "The date in Partition.get_travel_df is ['2020-08-28T00:00:00.000000000']\n"
     ]
    },
    {
     "name": "stderr",
     "output_type": "stream",
     "text": [
      "DEBUG:root:Finishing dask merge at 2021-07-21 00:01:59.906881\n",
      "DEBUG:root:Starting pandas merge 1 at 2021-07-21 00:01:59.907685\n",
      "DEBUG:root:Starting pandas merge 2 at 2021-07-21 00:02:07.575385\n",
      "DEBUG:root:Calculating contact probabilities on full dataframe starting at 2021-07-21 00:02:15.388437\n",
      "DEBUG:root:'dask_partition' took 26.86 seconds\n",
      "DEBUG:root:Building contact xarray at 2021-07-21 00:02:18.568115\n",
      "DEBUG:root:step_start: 2020-08-29T00:00:00.000000000\n",
      "DEBUG:root:step_end: 2020-08-30T00:00:00.000000000\n",
      "DEBUG:root:Starting dask merge at 2021-07-21 00:02:18.758267\n"
     ]
    },
    {
     "name": "stdout",
     "output_type": "stream",
     "text": [
      "The date in Partition.get_travel_df is ['2020-08-29T00:00:00.000000000']\n"
     ]
    },
    {
     "name": "stderr",
     "output_type": "stream",
     "text": [
      "DEBUG:root:Finishing dask merge at 2021-07-21 00:02:26.649673\n",
      "DEBUG:root:Starting pandas merge 1 at 2021-07-21 00:02:26.650480\n",
      "DEBUG:root:Starting pandas merge 2 at 2021-07-21 00:02:34.376971\n",
      "DEBUG:root:Calculating contact probabilities on full dataframe starting at 2021-07-21 00:02:42.273026\n",
      "DEBUG:root:'dask_partition' took 26.40 seconds\n",
      "DEBUG:root:Building contact xarray at 2021-07-21 00:02:45.425151\n",
      "DEBUG:root:step_start: 2020-08-30T00:00:00.000000000\n",
      "DEBUG:root:step_end: 2020-08-31T00:00:00.000000000\n",
      "DEBUG:root:Starting dask merge at 2021-07-21 00:02:45.624619\n"
     ]
    },
    {
     "name": "stdout",
     "output_type": "stream",
     "text": [
      "The date in Partition.get_travel_df is ['2020-08-30T00:00:00.000000000']\n"
     ]
    },
    {
     "name": "stderr",
     "output_type": "stream",
     "text": [
      "DEBUG:root:Finishing dask merge at 2021-07-21 00:02:53.870952\n",
      "DEBUG:root:Starting pandas merge 1 at 2021-07-21 00:02:53.871676\n",
      "DEBUG:root:Starting pandas merge 2 at 2021-07-21 00:03:01.298106\n",
      "DEBUG:root:Calculating contact probabilities on full dataframe starting at 2021-07-21 00:03:08.843675\n",
      "DEBUG:root:'dask_partition' took 26.08 seconds\n",
      "DEBUG:root:Building contact xarray at 2021-07-21 00:03:11.956074\n",
      "DEBUG:root:step_start: 2020-08-31T00:00:00.000000000\n",
      "DEBUG:root:step_end: 2020-09-01T00:00:00.000000000\n",
      "DEBUG:root:Starting dask merge at 2021-07-21 00:03:12.147278\n"
     ]
    },
    {
     "name": "stdout",
     "output_type": "stream",
     "text": [
      "The date in Partition.get_travel_df is ['2020-08-31T00:00:00.000000000']\n"
     ]
    },
    {
     "name": "stderr",
     "output_type": "stream",
     "text": [
      "DEBUG:root:Finishing dask merge at 2021-07-21 00:03:20.542408\n",
      "DEBUG:root:Starting pandas merge 1 at 2021-07-21 00:03:20.543147\n",
      "DEBUG:root:Starting pandas merge 2 at 2021-07-21 00:03:27.968476\n",
      "DEBUG:root:Calculating contact probabilities on full dataframe starting at 2021-07-21 00:03:35.759799\n",
      "DEBUG:root:'dask_partition' took 26.45 seconds\n",
      "DEBUG:root:Building contact xarray at 2021-07-21 00:03:38.841096\n",
      "DEBUG:root:step_start: 2020-09-01T00:00:00.000000000\n",
      "DEBUG:root:step_end: 2020-09-02T00:00:00.000000000\n",
      "DEBUG:root:Starting dask merge at 2021-07-21 00:03:39.037022\n"
     ]
    },
    {
     "name": "stdout",
     "output_type": "stream",
     "text": [
      "The date in Partition.get_travel_df is ['2020-09-01T00:00:00.000000000']\n"
     ]
    },
    {
     "name": "stderr",
     "output_type": "stream",
     "text": [
      "DEBUG:root:Finishing dask merge at 2021-07-21 00:03:47.273495\n",
      "DEBUG:root:Starting pandas merge 1 at 2021-07-21 00:03:47.274294\n",
      "DEBUG:root:Starting pandas merge 2 at 2021-07-21 00:03:54.676164\n",
      "DEBUG:root:Calculating contact probabilities on full dataframe starting at 2021-07-21 00:04:02.364996\n",
      "DEBUG:root:'dask_partition' took 26.19 seconds\n",
      "DEBUG:root:Building contact xarray at 2021-07-21 00:04:05.477922\n",
      "DEBUG:root:step_start: 2020-09-02T00:00:00.000000000\n",
      "DEBUG:root:step_end: 2020-09-03T00:00:00.000000000\n",
      "DEBUG:root:Starting dask merge at 2021-07-21 00:04:05.670926\n"
     ]
    },
    {
     "name": "stdout",
     "output_type": "stream",
     "text": [
      "The date in Partition.get_travel_df is ['2020-09-02T00:00:00.000000000']\n"
     ]
    },
    {
     "name": "stderr",
     "output_type": "stream",
     "text": [
      "DEBUG:root:Finishing dask merge at 2021-07-21 00:04:13.797544\n",
      "DEBUG:root:Starting pandas merge 1 at 2021-07-21 00:04:13.798305\n",
      "DEBUG:root:Starting pandas merge 2 at 2021-07-21 00:04:21.145231\n",
      "DEBUG:root:Calculating contact probabilities on full dataframe starting at 2021-07-21 00:04:28.776883\n",
      "DEBUG:root:'dask_partition' took 26.05 seconds\n",
      "DEBUG:root:Building contact xarray at 2021-07-21 00:04:31.960042\n",
      "DEBUG:root:step_start: 2020-09-03T00:00:00.000000000\n",
      "DEBUG:root:step_end: 2020-09-04T00:00:00.000000000\n",
      "DEBUG:root:Starting dask merge at 2021-07-21 00:04:32.146584\n"
     ]
    },
    {
     "name": "stdout",
     "output_type": "stream",
     "text": [
      "The date in Partition.get_travel_df is ['2020-09-03T00:00:00.000000000']\n"
     ]
    },
    {
     "name": "stderr",
     "output_type": "stream",
     "text": [
      "DEBUG:root:Finishing dask merge at 2021-07-21 00:04:40.217381\n",
      "DEBUG:root:Starting pandas merge 1 at 2021-07-21 00:04:40.218067\n",
      "DEBUG:root:Starting pandas merge 2 at 2021-07-21 00:04:47.659187\n",
      "DEBUG:root:Calculating contact probabilities on full dataframe starting at 2021-07-21 00:04:55.402319\n",
      "DEBUG:root:'dask_partition' took 26.10 seconds\n",
      "DEBUG:root:Building contact xarray at 2021-07-21 00:04:58.514532\n",
      "DEBUG:root:step_start: 2020-09-04T00:00:00.000000000\n",
      "DEBUG:root:step_end: 2020-09-05T00:00:00.000000000\n",
      "DEBUG:root:Starting dask merge at 2021-07-21 00:04:58.711340\n"
     ]
    },
    {
     "name": "stdout",
     "output_type": "stream",
     "text": [
      "The date in Partition.get_travel_df is ['2020-09-04T00:00:00.000000000']\n"
     ]
    },
    {
     "name": "stderr",
     "output_type": "stream",
     "text": [
      "DEBUG:root:Finishing dask merge at 2021-07-21 00:05:06.997248\n",
      "DEBUG:root:Starting pandas merge 1 at 2021-07-21 00:05:06.998015\n",
      "DEBUG:root:Starting pandas merge 2 at 2021-07-21 00:05:14.493001\n",
      "DEBUG:root:Calculating contact probabilities on full dataframe starting at 2021-07-21 00:05:22.275356\n",
      "DEBUG:root:'dask_partition' took 26.41 seconds\n",
      "DEBUG:root:Building contact xarray at 2021-07-21 00:05:25.377588\n",
      "DEBUG:root:step_start: 2020-09-05T00:00:00.000000000\n",
      "DEBUG:root:step_end: 2020-09-06T00:00:00.000000000\n",
      "DEBUG:root:Starting dask merge at 2021-07-21 00:05:25.579134\n"
     ]
    },
    {
     "name": "stdout",
     "output_type": "stream",
     "text": [
      "The date in Partition.get_travel_df is ['2020-09-05T00:00:00.000000000']\n"
     ]
    },
    {
     "name": "stderr",
     "output_type": "stream",
     "text": [
      "DEBUG:root:Finishing dask merge at 2021-07-21 00:05:33.922208\n",
      "DEBUG:root:Starting pandas merge 1 at 2021-07-21 00:05:33.922951\n",
      "DEBUG:root:Starting pandas merge 2 at 2021-07-21 00:05:41.507379\n",
      "DEBUG:root:Calculating contact probabilities on full dataframe starting at 2021-07-21 00:05:49.377253\n",
      "DEBUG:root:'dask_partition' took 26.67 seconds\n",
      "DEBUG:root:Building contact xarray at 2021-07-21 00:05:52.512136\n",
      "DEBUG:root:step_start: 2020-09-06T00:00:00.000000000\n",
      "DEBUG:root:step_end: 2020-09-07T00:00:00.000000000\n",
      "DEBUG:root:Starting dask merge at 2021-07-21 00:05:52.718442\n"
     ]
    },
    {
     "name": "stdout",
     "output_type": "stream",
     "text": [
      "The date in Partition.get_travel_df is ['2020-09-06T00:00:00.000000000']\n"
     ]
    },
    {
     "name": "stderr",
     "output_type": "stream",
     "text": [
      "DEBUG:root:Finishing dask merge at 2021-07-21 00:06:01.090254\n",
      "DEBUG:root:Starting pandas merge 1 at 2021-07-21 00:06:01.090990\n",
      "DEBUG:root:Starting pandas merge 2 at 2021-07-21 00:06:09.003387\n",
      "DEBUG:root:Calculating contact probabilities on full dataframe starting at 2021-07-21 00:06:16.733231\n",
      "DEBUG:root:'dask_partition' took 27.01 seconds\n",
      "DEBUG:root:Building contact xarray at 2021-07-21 00:06:19.993545\n",
      "DEBUG:root:step_start: 2020-09-07T00:00:00.000000000\n",
      "DEBUG:root:step_end: 2020-09-08T00:00:00.000000000\n",
      "DEBUG:root:Starting dask merge at 2021-07-21 00:06:20.196136\n"
     ]
    },
    {
     "name": "stdout",
     "output_type": "stream",
     "text": [
      "The date in Partition.get_travel_df is ['2020-09-07T00:00:00.000000000']\n"
     ]
    },
    {
     "name": "stderr",
     "output_type": "stream",
     "text": [
      "DEBUG:root:Finishing dask merge at 2021-07-21 00:06:28.787036\n",
      "DEBUG:root:Starting pandas merge 1 at 2021-07-21 00:06:28.787800\n",
      "DEBUG:root:Starting pandas merge 2 at 2021-07-21 00:06:36.263753\n",
      "DEBUG:root:Calculating contact probabilities on full dataframe starting at 2021-07-21 00:06:43.785169\n",
      "DEBUG:root:'dask_partition' took 26.45 seconds\n",
      "DEBUG:root:Building contact xarray at 2021-07-21 00:06:46.903148\n",
      "DEBUG:root:step_start: 2020-09-08T00:00:00.000000000\n",
      "DEBUG:root:step_end: 2020-09-09T00:00:00.000000000\n",
      "DEBUG:root:Starting dask merge at 2021-07-21 00:06:47.107966\n"
     ]
    },
    {
     "name": "stdout",
     "output_type": "stream",
     "text": [
      "The date in Partition.get_travel_df is ['2020-09-08T00:00:00.000000000']\n"
     ]
    },
    {
     "name": "stderr",
     "output_type": "stream",
     "text": [
      "DEBUG:root:Finishing dask merge at 2021-07-21 00:06:55.651657\n",
      "DEBUG:root:Starting pandas merge 1 at 2021-07-21 00:06:55.652413\n",
      "DEBUG:root:Starting pandas merge 2 at 2021-07-21 00:07:03.075936\n",
      "DEBUG:root:Calculating contact probabilities on full dataframe starting at 2021-07-21 00:07:10.676312\n",
      "DEBUG:root:'dask_partition' took 26.41 seconds\n",
      "DEBUG:root:Building contact xarray at 2021-07-21 00:07:13.770134\n",
      "DEBUG:root:step_start: 2020-09-09T00:00:00.000000000\n",
      "DEBUG:root:step_end: 2020-09-10T00:00:00.000000000\n",
      "DEBUG:root:Starting dask merge at 2021-07-21 00:07:13.961322\n"
     ]
    },
    {
     "name": "stdout",
     "output_type": "stream",
     "text": [
      "The date in Partition.get_travel_df is ['2020-09-09T00:00:00.000000000']\n"
     ]
    },
    {
     "name": "stderr",
     "output_type": "stream",
     "text": [
      "DEBUG:root:Finishing dask merge at 2021-07-21 00:07:22.226871\n",
      "DEBUG:root:Starting pandas merge 1 at 2021-07-21 00:07:22.227605\n",
      "DEBUG:root:Starting pandas merge 2 at 2021-07-21 00:07:29.615113\n",
      "DEBUG:root:Calculating contact probabilities on full dataframe starting at 2021-07-21 00:07:37.429269\n",
      "DEBUG:root:'dask_partition' took 26.30 seconds\n",
      "DEBUG:root:Building contact xarray at 2021-07-21 00:07:40.505254\n",
      "DEBUG:root:step_start: 2020-09-10T00:00:00.000000000\n",
      "DEBUG:root:step_end: 2020-09-11T00:00:00.000000000\n",
      "DEBUG:root:Starting dask merge at 2021-07-21 00:07:40.696348\n"
     ]
    },
    {
     "name": "stdout",
     "output_type": "stream",
     "text": [
      "The date in Partition.get_travel_df is ['2020-09-10T00:00:00.000000000']\n"
     ]
    },
    {
     "name": "stderr",
     "output_type": "stream",
     "text": [
      "DEBUG:root:Finishing dask merge at 2021-07-21 00:07:48.803309\n",
      "DEBUG:root:Starting pandas merge 1 at 2021-07-21 00:07:48.804035\n",
      "DEBUG:root:Starting pandas merge 2 at 2021-07-21 00:07:56.212471\n",
      "DEBUG:root:Calculating contact probabilities on full dataframe starting at 2021-07-21 00:08:04.158263\n",
      "DEBUG:root:'dask_partition' took 26.33 seconds\n",
      "DEBUG:root:Building contact xarray at 2021-07-21 00:08:07.302128\n",
      "DEBUG:root:step_start: 2020-09-11T00:00:00.000000000\n",
      "DEBUG:root:step_end: 2020-09-12T00:00:00.000000000\n",
      "DEBUG:root:Starting dask merge at 2021-07-21 00:08:07.500583\n"
     ]
    },
    {
     "name": "stdout",
     "output_type": "stream",
     "text": [
      "The date in Partition.get_travel_df is ['2020-09-11T00:00:00.000000000']\n"
     ]
    },
    {
     "name": "stderr",
     "output_type": "stream",
     "text": [
      "DEBUG:root:Finishing dask merge at 2021-07-21 00:08:15.758863\n",
      "DEBUG:root:Starting pandas merge 1 at 2021-07-21 00:08:15.759631\n",
      "DEBUG:root:Starting pandas merge 2 at 2021-07-21 00:08:23.327586\n",
      "DEBUG:root:Calculating contact probabilities on full dataframe starting at 2021-07-21 00:08:31.156493\n",
      "DEBUG:root:'dask_partition' took 26.61 seconds\n",
      "DEBUG:root:Building contact xarray at 2021-07-21 00:08:34.378502\n",
      "DEBUG:root:step_start: 2020-09-12T00:00:00.000000000\n",
      "DEBUG:root:step_end: 2020-09-13T00:00:00.000000000\n",
      "DEBUG:root:Starting dask merge at 2021-07-21 00:08:34.575709\n"
     ]
    },
    {
     "name": "stdout",
     "output_type": "stream",
     "text": [
      "The date in Partition.get_travel_df is ['2020-09-12T00:00:00.000000000']\n"
     ]
    },
    {
     "name": "stderr",
     "output_type": "stream",
     "text": [
      "DEBUG:root:Finishing dask merge at 2021-07-21 00:08:42.895988\n",
      "DEBUG:root:Starting pandas merge 1 at 2021-07-21 00:08:42.896818\n",
      "DEBUG:root:Starting pandas merge 2 at 2021-07-21 00:08:51.569199\n",
      "DEBUG:root:Calculating contact probabilities on full dataframe starting at 2021-07-21 00:08:59.502420\n",
      "DEBUG:root:'dask_partition' took 27.81 seconds\n",
      "DEBUG:root:Building contact xarray at 2021-07-21 00:09:02.656967\n",
      "DEBUG:root:step_start: 2020-09-13T00:00:00.000000000\n",
      "DEBUG:root:step_end: 2020-09-14T00:00:00.000000000\n",
      "DEBUG:root:Starting dask merge at 2021-07-21 00:09:02.871231\n"
     ]
    },
    {
     "name": "stdout",
     "output_type": "stream",
     "text": [
      "The date in Partition.get_travel_df is ['2020-09-13T00:00:00.000000000']\n"
     ]
    },
    {
     "name": "stderr",
     "output_type": "stream",
     "text": [
      "DEBUG:root:Finishing dask merge at 2021-07-21 00:09:10.941830\n",
      "DEBUG:root:Starting pandas merge 1 at 2021-07-21 00:09:10.942616\n",
      "DEBUG:root:Starting pandas merge 2 at 2021-07-21 00:09:18.330339\n",
      "DEBUG:root:Calculating contact probabilities on full dataframe starting at 2021-07-21 00:09:25.958191\n",
      "DEBUG:root:'dask_partition' took 25.93 seconds\n",
      "DEBUG:root:Building contact xarray at 2021-07-21 00:09:29.053753\n",
      "DEBUG:root:step_start: 2020-09-14T00:00:00.000000000\n",
      "DEBUG:root:step_end: 2020-09-15T00:00:00.000000000\n",
      "DEBUG:root:Starting dask merge at 2021-07-21 00:09:29.246108\n"
     ]
    },
    {
     "name": "stdout",
     "output_type": "stream",
     "text": [
      "The date in Partition.get_travel_df is ['2020-09-14T00:00:00.000000000']\n"
     ]
    },
    {
     "name": "stderr",
     "output_type": "stream",
     "text": [
      "DEBUG:root:Finishing dask merge at 2021-07-21 00:09:37.633972\n",
      "DEBUG:root:Starting pandas merge 1 at 2021-07-21 00:09:37.634757\n",
      "DEBUG:root:Starting pandas merge 2 at 2021-07-21 00:09:45.004524\n",
      "DEBUG:root:Calculating contact probabilities on full dataframe starting at 2021-07-21 00:09:52.588176\n",
      "DEBUG:root:'dask_partition' took 26.21 seconds\n",
      "DEBUG:root:Building contact xarray at 2021-07-21 00:09:55.697982\n",
      "DEBUG:root:step_start: 2020-09-15T00:00:00.000000000\n",
      "DEBUG:root:step_end: 2020-09-16T00:00:00.000000000\n",
      "DEBUG:root:Starting dask merge at 2021-07-21 00:09:55.887660\n"
     ]
    },
    {
     "name": "stdout",
     "output_type": "stream",
     "text": [
      "The date in Partition.get_travel_df is ['2020-09-15T00:00:00.000000000']\n"
     ]
    },
    {
     "name": "stderr",
     "output_type": "stream",
     "text": [
      "DEBUG:root:Finishing dask merge at 2021-07-21 00:10:04.436435\n",
      "DEBUG:root:Starting pandas merge 1 at 2021-07-21 00:10:04.437204\n",
      "DEBUG:root:Starting pandas merge 2 at 2021-07-21 00:10:11.812992\n",
      "DEBUG:root:Calculating contact probabilities on full dataframe starting at 2021-07-21 00:10:19.403568\n",
      "DEBUG:root:'dask_partition' took 26.37 seconds\n",
      "DEBUG:root:Building contact xarray at 2021-07-21 00:10:22.497405\n",
      "DEBUG:root:step_start: 2020-09-16T00:00:00.000000000\n",
      "DEBUG:root:step_end: 2020-09-17T00:00:00.000000000\n",
      "DEBUG:root:Starting dask merge at 2021-07-21 00:10:22.688818\n"
     ]
    },
    {
     "name": "stdout",
     "output_type": "stream",
     "text": [
      "The date in Partition.get_travel_df is ['2020-09-16T00:00:00.000000000']\n"
     ]
    },
    {
     "name": "stderr",
     "output_type": "stream",
     "text": [
      "DEBUG:root:Finishing dask merge at 2021-07-21 00:10:30.648228\n",
      "DEBUG:root:Starting pandas merge 1 at 2021-07-21 00:10:30.648955\n",
      "DEBUG:root:Starting pandas merge 2 at 2021-07-21 00:10:38.268839\n",
      "DEBUG:root:Calculating contact probabilities on full dataframe starting at 2021-07-21 00:10:46.011203\n",
      "DEBUG:root:'dask_partition' took 26.18 seconds\n",
      "DEBUG:root:Building contact xarray at 2021-07-21 00:10:49.133935\n",
      "DEBUG:root:step_start: 2020-09-17T00:00:00.000000000\n",
      "DEBUG:root:step_end: 2020-09-18T00:00:00.000000000\n",
      "DEBUG:root:Starting dask merge at 2021-07-21 00:10:49.337347\n"
     ]
    },
    {
     "name": "stdout",
     "output_type": "stream",
     "text": [
      "The date in Partition.get_travel_df is ['2020-09-17T00:00:00.000000000']\n"
     ]
    },
    {
     "name": "stderr",
     "output_type": "stream",
     "text": [
      "DEBUG:root:Finishing dask merge at 2021-07-21 00:10:57.543263\n",
      "DEBUG:root:Starting pandas merge 1 at 2021-07-21 00:10:57.544188\n",
      "DEBUG:root:Starting pandas merge 2 at 2021-07-21 00:11:05.050690\n",
      "DEBUG:root:Calculating contact probabilities on full dataframe starting at 2021-07-21 00:11:12.982240\n",
      "DEBUG:root:'dask_partition' took 26.48 seconds\n",
      "DEBUG:root:Building contact xarray at 2021-07-21 00:11:16.098476\n",
      "DEBUG:root:step_start: 2020-09-18T00:00:00.000000000\n",
      "DEBUG:root:step_end: 2020-09-19T00:00:00.000000000\n",
      "DEBUG:root:Starting dask merge at 2021-07-21 00:11:16.291962\n"
     ]
    },
    {
     "name": "stdout",
     "output_type": "stream",
     "text": [
      "The date in Partition.get_travel_df is ['2020-09-18T00:00:00.000000000']\n"
     ]
    },
    {
     "name": "stderr",
     "output_type": "stream",
     "text": [
      "DEBUG:root:Finishing dask merge at 2021-07-21 00:11:24.341004\n",
      "DEBUG:root:Starting pandas merge 1 at 2021-07-21 00:11:24.341754\n",
      "DEBUG:root:Starting pandas merge 2 at 2021-07-21 00:11:32.429846\n",
      "DEBUG:root:Calculating contact probabilities on full dataframe starting at 2021-07-21 00:11:40.312373\n",
      "DEBUG:root:'dask_partition' took 26.87 seconds\n",
      "DEBUG:root:Building contact xarray at 2021-07-21 00:11:43.430480\n",
      "DEBUG:root:step_start: 2020-09-19T00:00:00.000000000\n",
      "DEBUG:root:step_end: 2020-09-20T00:00:00.000000000\n",
      "DEBUG:root:Starting dask merge at 2021-07-21 00:11:43.636106\n"
     ]
    },
    {
     "name": "stdout",
     "output_type": "stream",
     "text": [
      "The date in Partition.get_travel_df is ['2020-09-19T00:00:00.000000000']\n"
     ]
    },
    {
     "name": "stderr",
     "output_type": "stream",
     "text": [
      "DEBUG:root:Finishing dask merge at 2021-07-21 00:11:51.976822\n",
      "DEBUG:root:Starting pandas merge 1 at 2021-07-21 00:11:51.977610\n",
      "DEBUG:root:Starting pandas merge 2 at 2021-07-21 00:11:58.989404\n",
      "DEBUG:root:Calculating contact probabilities on full dataframe starting at 2021-07-21 00:12:06.697612\n",
      "DEBUG:root:'dask_partition' took 25.89 seconds\n",
      "DEBUG:root:Building contact xarray at 2021-07-21 00:12:09.764519\n"
     ]
    },
    {
     "data": {
      "image/png": "[encoded data removed]",
      "text/plain": [
       "<Figure size 432x288 with 1 Axes>"
      ]
     },
     "metadata": {
      "needs_background": "light"
     },
     "output_type": "display_data"
    }
   ],
   "source": [
    "demo_result = main(**cli_pars)"
   ]
  },
  {
   "cell_type": "markdown",
   "metadata": {},
   "source": [
    "Saving to `zarr` format because of error with `xr.to_netcdf()` (bug in xarray; traceback includes link to open github issue). Note that xarray can only read `zarr` files written by xarray."
   ]
  },
  {
   "cell_type": "code",
   "execution_count": 4,
   "metadata": {},
   "outputs": [
    {
     "data": {
      "text/plain": [
       "<xarray.backends.zarr.ZarrStore at 0x12ec2cc20>"
      ]
     },
     "execution_count": 4,
     "metadata": {},
     "output_type": "execute_result"
    }
   ],
   "source": [
    "demo_result.to_zarr('/Users/kpierce/episimlab/results/DemoATX_78712_start.zarr')"
   ]
  },
  {
   "cell_type": "markdown",
   "metadata": {},
   "source": [
    "`apply_counts_delta__counts` is the name of the attribute containing the population sizes (counts) for each timestep, compartment, ZCTA, age group, and risk group combination."
   ]
  },
  {
   "cell_type": "code",
   "execution_count": 5,
   "metadata": {},
   "outputs": [],
   "source": [
    "data_arr = demo_result['apply_counts_delta__counts']"
   ]
  },
  {
   "cell_type": "markdown",
   "metadata": {},
   "source": [
    "Use `xr.sel()` to extract the hospitalized (\"Ih\") compartment, and sum across risk and age groups."
   ]
  },
  {
   "cell_type": "code",
   "execution_count": 6,
   "metadata": {},
   "outputs": [],
   "source": [
    "demo_arr_all_risk = data_arr.sel({'compartment': 'Ih'}).sum(dim=['risk_group', 'age_group'])"
   ]
  },
  {
   "cell_type": "markdown",
   "metadata": {},
   "source": [
    "Plot the hospitalization curve, with timestep (\"step\") as the x-axis and ZCTA (\"vertex\") as individual lines on the plot. The legend is suppressed because it's too large to be useful in this rendering (there are 87 ZCTAs)."
   ]
  },
  {
   "cell_type": "code",
   "execution_count": 7,
   "metadata": {},
   "outputs": [
    {
     "data": {
      "image/png": "[encoded data removed]",
      "text/plain": [
       "<Figure size 720x720 with 1 Axes>"
      ]
     },
     "metadata": {
      "needs_background": "light"
     },
     "output_type": "display_data"
    }
   ],
   "source": [
    "fig, ax = plt.subplots(1, 1, figsize=(10,10))\n",
    "demo_arr_all_risk.plot(\n",
    "    hue='vertex',\n",
    "    x='step'\n",
    ")\n",
    "ax.get_legend().remove()\n",
    "plt.show()"
   ]
  },
  {
   "cell_type": "code",
   "execution_count": 9,
   "metadata": {},
   "outputs": [
    {
     "data": {
      "image/png": "[encoded data removed]",
      "text/plain": [
       "<Figure size 720x720 with 1 Axes>"
      ]
     },
     "metadata": {
      "needs_background": "light"
     },
     "output_type": "display_data"
    }
   ],
   "source": [
    "demo_arr_inf = data_arr.sel({'compartment': 'Ia'}).sum(dim=['risk_group', 'age_group'])\n",
    "fig, ax = plt.subplots(1, 1, figsize=(10,10))\n",
    "demo_arr_inf.plot(\n",
    "    hue='vertex',\n",
    "    x='step'\n",
    ")\n",
    "ax.get_legend().remove()\n",
    "plt.show()"
   ]
  },
  {
   "cell_type": "markdown",
   "metadata": {},
   "source": [
    "In lieu of a unit test, a sanity check that only 78712 had infections at time 0. (**Note** need to amend `DemoATX.py` to allow specification of an age group and a risk group)"
   ]
  },
  {
   "cell_type": "code",
   "execution_count": 16,
   "metadata": {},
   "outputs": [
    {
     "data": {
      "text/html": [
       "<div><svg style=\"position: absolute; width: 0; height: 0; overflow: hidden\">\n",
       "<defs>\n",
       "<symbol id=\"icon-database\" viewBox=\"0 0 32 32\">\n",
       "<path d=\"M16 0c-8.837 0-16 2.239-16 5v4c0 2.761 7.163 5 16 5s16-2.239 16-5v-4c0-2.761-7.163-5-16-5z\"></path>\n",
       "<path d=\"M16 17c-8.837 0-16-2.239-16-5v6c0 2.761 7.163 5 16 5s16-2.239 16-5v-6c0 2.761-7.163 5-16 5z\"></path>\n",
       "<path d=\"M16 26c-8.837 0-16-2.239-16-5v6c0 2.761 7.163 5 16 5s16-2.239 16-5v-6c0 2.761-7.163 5-16 5z\"></path>\n",
       "</symbol>\n",
       "<symbol id=\"icon-file-text2\" viewBox=\"0 0 32 32\">\n",
       "<path d=\"M28.681 7.159c-0.694-0.947-1.662-2.053-2.724-3.116s-2.169-2.030-3.116-2.724c-1.612-1.182-2.393-1.319-2.841-1.319h-15.5c-1.378 0-2.5 1.121-2.5 2.5v27c0 1.378 1.122 2.5 2.5 2.5h23c1.378 0 2.5-1.122 2.5-2.5v-19.5c0-0.448-0.137-1.23-1.319-2.841zM24.543 5.457c0.959 0.959 1.712 1.825 2.268 2.543h-4.811v-4.811c0.718 0.556 1.584 1.309 2.543 2.268zM28 29.5c0 0.271-0.229 0.5-0.5 0.5h-23c-0.271 0-0.5-0.229-0.5-0.5v-27c0-0.271 0.229-0.5 0.5-0.5 0 0 15.499-0 15.5 0v7c0 0.552 0.448 1 1 1h7v19.5z\"></path>\n",
       "<path d=\"M23 26h-14c-0.552 0-1-0.448-1-1s0.448-1 1-1h14c0.552 0 1 0.448 1 1s-0.448 1-1 1z\"></path>\n",
       "<path d=\"M23 22h-14c-0.552 0-1-0.448-1-1s0.448-1 1-1h14c0.552 0 1 0.448 1 1s-0.448 1-1 1z\"></path>\n",
       "<path d=\"M23 18h-14c-0.552 0-1-0.448-1-1s0.448-1 1-1h14c0.552 0 1 0.448 1 1s-0.448 1-1 1z\"></path>\n",
       "</symbol>\n",
       "</defs>\n",
       "</svg>\n",
       "<style>/* CSS stylesheet for displaying xarray objects in jupyterlab.\n",
       " *\n",
       " */\n",
       "\n",
       ":root {\n",
       "  --xr-font-color0: var(--jp-content-font-color0, rgba(0, 0, 0, 1));\n",
       "  --xr-font-color2: var(--jp-content-font-color2, rgba(0, 0, 0, 0.54));\n",
       "  --xr-font-color3: var(--jp-content-font-color3, rgba(0, 0, 0, 0.38));\n",
       "  --xr-border-color: var(--jp-border-color2, #e0e0e0);\n",
       "  --xr-disabled-color: var(--jp-layout-color3, #bdbdbd);\n",
       "  --xr-background-color: var(--jp-layout-color0, white);\n",
       "  --xr-background-color-row-even: var(--jp-layout-color1, white);\n",
       "  --xr-background-color-row-odd: var(--jp-layout-color2, #eeeeee);\n",
       "}\n",
       "\n",
       "html[theme=dark],\n",
       "body.vscode-dark {\n",
       "  --xr-font-color0: rgba(255, 255, 255, 1);\n",
       "  --xr-font-color2: rgba(255, 255, 255, 0.54);\n",
       "  --xr-font-color3: rgba(255, 255, 255, 0.38);\n",
       "  --xr-border-color: #1F1F1F;\n",
       "  --xr-disabled-color: #515151;\n",
       "  --xr-background-color: #111111;\n",
       "  --xr-background-color-row-even: #111111;\n",
       "  --xr-background-color-row-odd: #313131;\n",
       "}\n",
       "\n",
       ".xr-wrap {\n",
       "  display: block;\n",
       "  min-width: 300px;\n",
       "  max-width: 700px;\n",
       "}\n",
       "\n",
       ".xr-text-repr-fallback {\n",
       "  /* fallback to plain text repr when CSS is not injected (untrusted notebook) */\n",
       "  display: none;\n",
       "}\n",
       "\n",
       ".xr-header {\n",
       "  padding-top: 6px;\n",
       "  padding-bottom: 6px;\n",
       "  margin-bottom: 4px;\n",
       "  border-bottom: solid 1px var(--xr-border-color);\n",
       "}\n",
       "\n",
       ".xr-header > div,\n",
       ".xr-header > ul {\n",
       "  display: inline;\n",
       "  margin-top: 0;\n",
       "  margin-bottom: 0;\n",
       "}\n",
       "\n",
       ".xr-obj-type,\n",
       ".xr-array-name {\n",
       "  margin-left: 2px;\n",
       "  margin-right: 10px;\n",
       "}\n",
       "\n",
       ".xr-obj-type {\n",
       "  color: var(--xr-font-color2);\n",
       "}\n",
       "\n",
       ".xr-sections {\n",
       "  padding-left: 0 !important;\n",
       "  display: grid;\n",
       "  grid-template-columns: 150px auto auto 1fr 20px 20px;\n",
       "}\n",
       "\n",
       ".xr-section-item {\n",
       "  display: contents;\n",
       "}\n",
       "\n",
       ".xr-section-item input {\n",
       "  display: none;\n",
       "}\n",
       "\n",
       ".xr-section-item input + label {\n",
       "  color: var(--xr-disabled-color);\n",
       "}\n",
       "\n",
       ".xr-section-item input:enabled + label {\n",
       "  cursor: pointer;\n",
       "  color: var(--xr-font-color2);\n",
       "}\n",
       "\n",
       ".xr-section-item input:enabled + label:hover {\n",
       "  color: var(--xr-font-color0);\n",
       "}\n",
       "\n",
       ".xr-section-summary {\n",
       "  grid-column: 1;\n",
       "  color: var(--xr-font-color2);\n",
       "  font-weight: 500;\n",
       "}\n",
       "\n",
       ".xr-section-summary > span {\n",
       "  display: inline-block;\n",
       "  padding-left: 0.5em;\n",
       "}\n",
       "\n",
       ".xr-section-summary-in:disabled + label {\n",
       "  color: var(--xr-font-color2);\n",
       "}\n",
       "\n",
       ".xr-section-summary-in + label:before {\n",
       "  display: inline-block;\n",
       "  content: '►';\n",
       "  font-size: 11px;\n",
       "  width: 15px;\n",
       "  text-align: center;\n",
       "}\n",
       "\n",
       ".xr-section-summary-in:disabled + label:before {\n",
       "  color: var(--xr-disabled-color);\n",
       "}\n",
       "\n",
       ".xr-section-summary-in:checked + label:before {\n",
       "  content: '▼';\n",
       "}\n",
       "\n",
       ".xr-section-summary-in:checked + label > span {\n",
       "  display: none;\n",
       "}\n",
       "\n",
       ".xr-section-summary,\n",
       ".xr-section-inline-details {\n",
       "  padding-top: 4px;\n",
       "  padding-bottom: 4px;\n",
       "}\n",
       "\n",
       ".xr-section-inline-details {\n",
       "  grid-column: 2 / -1;\n",
       "}\n",
       "\n",
       ".xr-section-details {\n",
       "  display: none;\n",
       "  grid-column: 1 / -1;\n",
       "  margin-bottom: 5px;\n",
       "}\n",
       "\n",
       ".xr-section-summary-in:checked ~ .xr-section-details {\n",
       "  display: contents;\n",
       "}\n",
       "\n",
       ".xr-array-wrap {\n",
       "  grid-column: 1 / -1;\n",
       "  display: grid;\n",
       "  grid-template-columns: 20px auto;\n",
       "}\n",
       "\n",
       ".xr-array-wrap > label {\n",
       "  grid-column: 1;\n",
       "  vertical-align: top;\n",
       "}\n",
       "\n",
       ".xr-preview {\n",
       "  color: var(--xr-font-color3);\n",
       "}\n",
       "\n",
       ".xr-array-preview,\n",
       ".xr-array-data {\n",
       "  padding: 0 5px !important;\n",
       "  grid-column: 2;\n",
       "}\n",
       "\n",
       ".xr-array-data,\n",
       ".xr-array-in:checked ~ .xr-array-preview {\n",
       "  display: none;\n",
       "}\n",
       "\n",
       ".xr-array-in:checked ~ .xr-array-data,\n",
       ".xr-array-preview {\n",
       "  display: inline-block;\n",
       "}\n",
       "\n",
       ".xr-dim-list {\n",
       "  display: inline-block !important;\n",
       "  list-style: none;\n",
       "  padding: 0 !important;\n",
       "  margin: 0;\n",
       "}\n",
       "\n",
       ".xr-dim-list li {\n",
       "  display: inline-block;\n",
       "  padding: 0;\n",
       "  margin: 0;\n",
       "}\n",
       "\n",
       ".xr-dim-list:before {\n",
       "  content: '(';\n",
       "}\n",
       "\n",
       ".xr-dim-list:after {\n",
       "  content: ')';\n",
       "}\n",
       "\n",
       ".xr-dim-list li:not(:last-child):after {\n",
       "  content: ',';\n",
       "  padding-right: 5px;\n",
       "}\n",
       "\n",
       ".xr-has-index {\n",
       "  font-weight: bold;\n",
       "}\n",
       "\n",
       ".xr-var-list,\n",
       ".xr-var-item {\n",
       "  display: contents;\n",
       "}\n",
       "\n",
       ".xr-var-item > div,\n",
       ".xr-var-item label,\n",
       ".xr-var-item > .xr-var-name span {\n",
       "  background-color: var(--xr-background-color-row-even);\n",
       "  margin-bottom: 0;\n",
       "}\n",
       "\n",
       ".xr-var-item > .xr-var-name:hover span {\n",
       "  padding-right: 5px;\n",
       "}\n",
       "\n",
       ".xr-var-list > li:nth-child(odd) > div,\n",
       ".xr-var-list > li:nth-child(odd) > label,\n",
       ".xr-var-list > li:nth-child(odd) > .xr-var-name span {\n",
       "  background-color: var(--xr-background-color-row-odd);\n",
       "}\n",
       "\n",
       ".xr-var-name {\n",
       "  grid-column: 1;\n",
       "}\n",
       "\n",
       ".xr-var-dims {\n",
       "  grid-column: 2;\n",
       "}\n",
       "\n",
       ".xr-var-dtype {\n",
       "  grid-column: 3;\n",
       "  text-align: right;\n",
       "  color: var(--xr-font-color2);\n",
       "}\n",
       "\n",
       ".xr-var-preview {\n",
       "  grid-column: 4;\n",
       "}\n",
       "\n",
       ".xr-var-name,\n",
       ".xr-var-dims,\n",
       ".xr-var-dtype,\n",
       ".xr-preview,\n",
       ".xr-attrs dt {\n",
       "  white-space: nowrap;\n",
       "  overflow: hidden;\n",
       "  text-overflow: ellipsis;\n",
       "  padding-right: 10px;\n",
       "}\n",
       "\n",
       ".xr-var-name:hover,\n",
       ".xr-var-dims:hover,\n",
       ".xr-var-dtype:hover,\n",
       ".xr-attrs dt:hover {\n",
       "  overflow: visible;\n",
       "  width: auto;\n",
       "  z-index: 1;\n",
       "}\n",
       "\n",
       ".xr-var-attrs,\n",
       ".xr-var-data {\n",
       "  display: none;\n",
       "  background-color: var(--xr-background-color) !important;\n",
       "  padding-bottom: 5px !important;\n",
       "}\n",
       "\n",
       ".xr-var-attrs-in:checked ~ .xr-var-attrs,\n",
       ".xr-var-data-in:checked ~ .xr-var-data {\n",
       "  display: block;\n",
       "}\n",
       "\n",
       ".xr-var-data > table {\n",
       "  float: right;\n",
       "}\n",
       "\n",
       ".xr-var-name span,\n",
       ".xr-var-data,\n",
       ".xr-attrs {\n",
       "  padding-left: 25px !important;\n",
       "}\n",
       "\n",
       ".xr-attrs,\n",
       ".xr-var-attrs,\n",
       ".xr-var-data {\n",
       "  grid-column: 1 / -1;\n",
       "}\n",
       "\n",
       "dl.xr-attrs {\n",
       "  padding: 0;\n",
       "  margin: 0;\n",
       "  display: grid;\n",
       "  grid-template-columns: 125px auto;\n",
       "}\n",
       "\n",
       ".xr-attrs dt,\n",
       ".xr-attrs dd {\n",
       "  padding: 0;\n",
       "  margin: 0;\n",
       "  float: left;\n",
       "  padding-right: 10px;\n",
       "  width: auto;\n",
       "}\n",
       "\n",
       ".xr-attrs dt {\n",
       "  font-weight: normal;\n",
       "  grid-column: 1;\n",
       "}\n",
       "\n",
       ".xr-attrs dt:hover span {\n",
       "  display: inline-block;\n",
       "  background: var(--xr-background-color);\n",
       "  padding-right: 10px;\n",
       "}\n",
       "\n",
       ".xr-attrs dd {\n",
       "  grid-column: 2;\n",
       "  white-space: pre-wrap;\n",
       "  word-break: break-all;\n",
       "}\n",
       "\n",
       ".xr-icon-database,\n",
       ".xr-icon-file-text2 {\n",
       "  display: inline-block;\n",
       "  vertical-align: middle;\n",
       "  width: 1em;\n",
       "  height: 1.5em !important;\n",
       "  stroke-width: 0;\n",
       "  stroke: currentColor;\n",
       "  fill: currentColor;\n",
       "}\n",
       "</style><pre class='xr-text-repr-fallback'>&lt;xarray.DataArray &#x27;apply_counts_delta__counts&#x27; (age_group: 5, risk_group: 2)&gt;\n",
       "array([[10.,  0.],\n",
       "       [10.,  0.],\n",
       "       [10.,  0.],\n",
       "       [10.,  0.],\n",
       "       [10.,  0.]])\n",
       "Coordinates:\n",
       "  * age_group    (age_group) &lt;U5 &#x27;18-49&#x27; &#x27;5-17&#x27; &#x27;50-64&#x27; &#x27;65+&#x27; &#x27;&lt;5&#x27;\n",
       "    compartment  &lt;U5 &#x27;Ia&#x27;\n",
       "  * risk_group   (risk_group) &lt;U4 &#x27;low&#x27; &#x27;high&#x27;\n",
       "    step         datetime64[ns] 2020-03-11\n",
       "    vertex       int64 78712\n",
       "Attributes:\n",
       "    _FillValue:  nan</pre><div class='xr-wrap' hidden><div class='xr-header'><div class='xr-obj-type'>xarray.DataArray</div><div class='xr-array-name'>'apply_counts_delta__counts'</div><ul class='xr-dim-list'><li><span class='xr-has-index'>age_group</span>: 5</li><li><span class='xr-has-index'>risk_group</span>: 2</li></ul></div><ul class='xr-sections'><li class='xr-section-item'><div class='xr-array-wrap'><input id='section-48ec6d24-c118-464c-886d-77dfd6cc7ee8' class='xr-array-in' type='checkbox' checked><label for='section-48ec6d24-c118-464c-886d-77dfd6cc7ee8' title='Show/hide data repr'><svg class='icon xr-icon-database'><use xlink:href='#icon-database'></use></svg></label><div class='xr-array-preview xr-preview'><span>10.0 0.0 10.0 0.0 10.0 0.0 10.0 0.0 10.0 0.0</span></div><div class='xr-array-data'><pre>array([[10.,  0.],\n",
       "       [10.,  0.],\n",
       "       [10.,  0.],\n",
       "       [10.,  0.],\n",
       "       [10.,  0.]])</pre></div></div></li><li class='xr-section-item'><input id='section-2b427e12-b42a-4649-b056-706633a61e06' class='xr-section-summary-in' type='checkbox'  checked><label for='section-2b427e12-b42a-4649-b056-706633a61e06' class='xr-section-summary' >Coordinates: <span>(5)</span></label><div class='xr-section-inline-details'></div><div class='xr-section-details'><ul class='xr-var-list'><li class='xr-var-item'><div class='xr-var-name'><span class='xr-has-index'>age_group</span></div><div class='xr-var-dims'>(age_group)</div><div class='xr-var-dtype'>&lt;U5</div><div class='xr-var-preview xr-preview'>&#x27;18-49&#x27; &#x27;5-17&#x27; &#x27;50-64&#x27; &#x27;65+&#x27; &#x27;&lt;5&#x27;</div><input id='attrs-3a30c9c3-b390-46c3-8808-038bb70f7e2d' class='xr-var-attrs-in' type='checkbox' ><label for='attrs-3a30c9c3-b390-46c3-8808-038bb70f7e2d' title='Show/Hide attributes'><svg class='icon xr-icon-file-text2'><use xlink:href='#icon-file-text2'></use></svg></label><input id='data-b98cc755-e085-4cfb-97aa-33cf4853e3ce' class='xr-var-data-in' type='checkbox'><label for='data-b98cc755-e085-4cfb-97aa-33cf4853e3ce' title='Show/Hide data repr'><svg class='icon xr-icon-database'><use xlink:href='#icon-database'></use></svg></label><div class='xr-var-attrs'><dl class='xr-attrs'><dt><span>_FillValue :</span></dt><dd></dd></dl></div><div class='xr-var-data'><pre>array([&#x27;18-49&#x27;, &#x27;5-17&#x27;, &#x27;50-64&#x27;, &#x27;65+&#x27;, &#x27;&lt;5&#x27;], dtype=&#x27;&lt;U5&#x27;)</pre></div></li><li class='xr-var-item'><div class='xr-var-name'><span>compartment</span></div><div class='xr-var-dims'>()</div><div class='xr-var-dtype'>&lt;U5</div><div class='xr-var-preview xr-preview'>&#x27;Ia&#x27;</div><input id='attrs-b5e7dbb6-2962-4c79-babf-f65b4c89d6a9' class='xr-var-attrs-in' type='checkbox' ><label for='attrs-b5e7dbb6-2962-4c79-babf-f65b4c89d6a9' title='Show/Hide attributes'><svg class='icon xr-icon-file-text2'><use xlink:href='#icon-file-text2'></use></svg></label><input id='data-2c721b0d-8f74-4042-8709-e8a989786450' class='xr-var-data-in' type='checkbox'><label for='data-2c721b0d-8f74-4042-8709-e8a989786450' title='Show/Hide data repr'><svg class='icon xr-icon-database'><use xlink:href='#icon-database'></use></svg></label><div class='xr-var-attrs'><dl class='xr-attrs'><dt><span>_FillValue :</span></dt><dd></dd></dl></div><div class='xr-var-data'><pre>array(&#x27;Ia&#x27;, dtype=&#x27;&lt;U5&#x27;)</pre></div></li><li class='xr-var-item'><div class='xr-var-name'><span class='xr-has-index'>risk_group</span></div><div class='xr-var-dims'>(risk_group)</div><div class='xr-var-dtype'>&lt;U4</div><div class='xr-var-preview xr-preview'>&#x27;low&#x27; &#x27;high&#x27;</div><input id='attrs-6ac1930e-fe1a-4525-ab5b-aebae376d946' class='xr-var-attrs-in' type='checkbox' ><label for='attrs-6ac1930e-fe1a-4525-ab5b-aebae376d946' title='Show/Hide attributes'><svg class='icon xr-icon-file-text2'><use xlink:href='#icon-file-text2'></use></svg></label><input id='data-394cf74d-8371-4c25-95d5-de1f1165208e' class='xr-var-data-in' type='checkbox'><label for='data-394cf74d-8371-4c25-95d5-de1f1165208e' title='Show/Hide data repr'><svg class='icon xr-icon-database'><use xlink:href='#icon-database'></use></svg></label><div class='xr-var-attrs'><dl class='xr-attrs'><dt><span>_FillValue :</span></dt><dd></dd></dl></div><div class='xr-var-data'><pre>array([&#x27;low&#x27;, &#x27;high&#x27;], dtype=&#x27;&lt;U4&#x27;)</pre></div></li><li class='xr-var-item'><div class='xr-var-name'><span>step</span></div><div class='xr-var-dims'>()</div><div class='xr-var-dtype'>datetime64[ns]</div><div class='xr-var-preview xr-preview'>2020-03-11</div><input id='attrs-14c8be01-0eb5-4f57-b54f-6bef3aa30911' class='xr-var-attrs-in' type='checkbox' ><label for='attrs-14c8be01-0eb5-4f57-b54f-6bef3aa30911' title='Show/Hide attributes'><svg class='icon xr-icon-file-text2'><use xlink:href='#icon-file-text2'></use></svg></label><input id='data-b0609e47-f8e5-4267-a8d9-0596fdcd9c18' class='xr-var-data-in' type='checkbox'><label for='data-b0609e47-f8e5-4267-a8d9-0596fdcd9c18' title='Show/Hide data repr'><svg class='icon xr-icon-database'><use xlink:href='#icon-database'></use></svg></label><div class='xr-var-attrs'><dl class='xr-attrs'><dt><span>__xsimlab_master_clock__ :</span></dt><dd>1</dd><dt><span>__xsimlab_output_clock__ :</span></dt><dd>1</dd></dl></div><div class='xr-var-data'><pre>array(&#x27;2020-03-11T00:00:00.000000000&#x27;, dtype=&#x27;datetime64[ns]&#x27;)</pre></div></li><li class='xr-var-item'><div class='xr-var-name'><span>vertex</span></div><div class='xr-var-dims'>()</div><div class='xr-var-dtype'>int64</div><div class='xr-var-preview xr-preview'>78712</div><input id='attrs-d9fd4498-b729-424c-adc8-c3e36cec9ab5' class='xr-var-attrs-in' type='checkbox' ><label for='attrs-d9fd4498-b729-424c-adc8-c3e36cec9ab5' title='Show/Hide attributes'><svg class='icon xr-icon-file-text2'><use xlink:href='#icon-file-text2'></use></svg></label><input id='data-c735d3a5-842a-472c-a1bb-33ba20a4f707' class='xr-var-data-in' type='checkbox'><label for='data-c735d3a5-842a-472c-a1bb-33ba20a4f707' title='Show/Hide data repr'><svg class='icon xr-icon-database'><use xlink:href='#icon-database'></use></svg></label><div class='xr-var-attrs'><dl class='xr-attrs'><dt><span>_FillValue :</span></dt><dd>0</dd></dl></div><div class='xr-var-data'><pre>array(78712)</pre></div></li></ul></div></li><li class='xr-section-item'><input id='section-1b857b50-97a7-40f2-9a5d-666085fbaa58' class='xr-section-summary-in' type='checkbox'  checked><label for='section-1b857b50-97a7-40f2-9a5d-666085fbaa58' class='xr-section-summary' >Attributes: <span>(1)</span></label><div class='xr-section-inline-details'></div><div class='xr-section-details'><dl class='xr-attrs'><dt><span>_FillValue :</span></dt><dd>nan</dd></dl></div></li></ul></div></div>"
      ],
      "text/plain": [
       "<xarray.DataArray 'apply_counts_delta__counts' (age_group: 5, risk_group: 2)>\n",
       "array([[10.,  0.],\n",
       "       [10.,  0.],\n",
       "       [10.,  0.],\n",
       "       [10.,  0.],\n",
       "       [10.,  0.]])\n",
       "Coordinates:\n",
       "  * age_group    (age_group) <U5 '18-49' '5-17' '50-64' '65+' '<5'\n",
       "    compartment  <U5 'Ia'\n",
       "  * risk_group   (risk_group) <U4 'low' 'high'\n",
       "    step         datetime64[ns] 2020-03-11\n",
       "    vertex       int64 78712\n",
       "Attributes:\n",
       "    _FillValue:  nan"
      ]
     },
     "execution_count": 16,
     "metadata": {},
     "output_type": "execute_result"
    }
   ],
   "source": [
    "data_arr.sel({'compartment': 'Ia', 'vertex': 78712, 'step': min(data_arr['step'].values)})"
   ]
  },
  {
   "cell_type": "code",
   "execution_count": 15,
   "metadata": {},
   "outputs": [
    {
     "data": {
      "text/html": [
       "<div><svg style=\"position: absolute; width: 0; height: 0; overflow: hidden\">\n",
       "<defs>\n",
       "<symbol id=\"icon-database\" viewBox=\"0 0 32 32\">\n",
       "<path d=\"M16 0c-8.837 0-16 2.239-16 5v4c0 2.761 7.163 5 16 5s16-2.239 16-5v-4c0-2.761-7.163-5-16-5z\"></path>\n",
       "<path d=\"M16 17c-8.837 0-16-2.239-16-5v6c0 2.761 7.163 5 16 5s16-2.239 16-5v-6c0 2.761-7.163 5-16 5z\"></path>\n",
       "<path d=\"M16 26c-8.837 0-16-2.239-16-5v6c0 2.761 7.163 5 16 5s16-2.239 16-5v-6c0 2.761-7.163 5-16 5z\"></path>\n",
       "</symbol>\n",
       "<symbol id=\"icon-file-text2\" viewBox=\"0 0 32 32\">\n",
       "<path d=\"M28.681 7.159c-0.694-0.947-1.662-2.053-2.724-3.116s-2.169-2.030-3.116-2.724c-1.612-1.182-2.393-1.319-2.841-1.319h-15.5c-1.378 0-2.5 1.121-2.5 2.5v27c0 1.378 1.122 2.5 2.5 2.5h23c1.378 0 2.5-1.122 2.5-2.5v-19.5c0-0.448-0.137-1.23-1.319-2.841zM24.543 5.457c0.959 0.959 1.712 1.825 2.268 2.543h-4.811v-4.811c0.718 0.556 1.584 1.309 2.543 2.268zM28 29.5c0 0.271-0.229 0.5-0.5 0.5h-23c-0.271 0-0.5-0.229-0.5-0.5v-27c0-0.271 0.229-0.5 0.5-0.5 0 0 15.499-0 15.5 0v7c0 0.552 0.448 1 1 1h7v19.5z\"></path>\n",
       "<path d=\"M23 26h-14c-0.552 0-1-0.448-1-1s0.448-1 1-1h14c0.552 0 1 0.448 1 1s-0.448 1-1 1z\"></path>\n",
       "<path d=\"M23 22h-14c-0.552 0-1-0.448-1-1s0.448-1 1-1h14c0.552 0 1 0.448 1 1s-0.448 1-1 1z\"></path>\n",
       "<path d=\"M23 18h-14c-0.552 0-1-0.448-1-1s0.448-1 1-1h14c0.552 0 1 0.448 1 1s-0.448 1-1 1z\"></path>\n",
       "</symbol>\n",
       "</defs>\n",
       "</svg>\n",
       "<style>/* CSS stylesheet for displaying xarray objects in jupyterlab.\n",
       " *\n",
       " */\n",
       "\n",
       ":root {\n",
       "  --xr-font-color0: var(--jp-content-font-color0, rgba(0, 0, 0, 1));\n",
       "  --xr-font-color2: var(--jp-content-font-color2, rgba(0, 0, 0, 0.54));\n",
       "  --xr-font-color3: var(--jp-content-font-color3, rgba(0, 0, 0, 0.38));\n",
       "  --xr-border-color: var(--jp-border-color2, #e0e0e0);\n",
       "  --xr-disabled-color: var(--jp-layout-color3, #bdbdbd);\n",
       "  --xr-background-color: var(--jp-layout-color0, white);\n",
       "  --xr-background-color-row-even: var(--jp-layout-color1, white);\n",
       "  --xr-background-color-row-odd: var(--jp-layout-color2, #eeeeee);\n",
       "}\n",
       "\n",
       "html[theme=dark],\n",
       "body.vscode-dark {\n",
       "  --xr-font-color0: rgba(255, 255, 255, 1);\n",
       "  --xr-font-color2: rgba(255, 255, 255, 0.54);\n",
       "  --xr-font-color3: rgba(255, 255, 255, 0.38);\n",
       "  --xr-border-color: #1F1F1F;\n",
       "  --xr-disabled-color: #515151;\n",
       "  --xr-background-color: #111111;\n",
       "  --xr-background-color-row-even: #111111;\n",
       "  --xr-background-color-row-odd: #313131;\n",
       "}\n",
       "\n",
       ".xr-wrap {\n",
       "  display: block;\n",
       "  min-width: 300px;\n",
       "  max-width: 700px;\n",
       "}\n",
       "\n",
       ".xr-text-repr-fallback {\n",
       "  /* fallback to plain text repr when CSS is not injected (untrusted notebook) */\n",
       "  display: none;\n",
       "}\n",
       "\n",
       ".xr-header {\n",
       "  padding-top: 6px;\n",
       "  padding-bottom: 6px;\n",
       "  margin-bottom: 4px;\n",
       "  border-bottom: solid 1px var(--xr-border-color);\n",
       "}\n",
       "\n",
       ".xr-header > div,\n",
       ".xr-header > ul {\n",
       "  display: inline;\n",
       "  margin-top: 0;\n",
       "  margin-bottom: 0;\n",
       "}\n",
       "\n",
       ".xr-obj-type,\n",
       ".xr-array-name {\n",
       "  margin-left: 2px;\n",
       "  margin-right: 10px;\n",
       "}\n",
       "\n",
       ".xr-obj-type {\n",
       "  color: var(--xr-font-color2);\n",
       "}\n",
       "\n",
       ".xr-sections {\n",
       "  padding-left: 0 !important;\n",
       "  display: grid;\n",
       "  grid-template-columns: 150px auto auto 1fr 20px 20px;\n",
       "}\n",
       "\n",
       ".xr-section-item {\n",
       "  display: contents;\n",
       "}\n",
       "\n",
       ".xr-section-item input {\n",
       "  display: none;\n",
       "}\n",
       "\n",
       ".xr-section-item input + label {\n",
       "  color: var(--xr-disabled-color);\n",
       "}\n",
       "\n",
       ".xr-section-item input:enabled + label {\n",
       "  cursor: pointer;\n",
       "  color: var(--xr-font-color2);\n",
       "}\n",
       "\n",
       ".xr-section-item input:enabled + label:hover {\n",
       "  color: var(--xr-font-color0);\n",
       "}\n",
       "\n",
       ".xr-section-summary {\n",
       "  grid-column: 1;\n",
       "  color: var(--xr-font-color2);\n",
       "  font-weight: 500;\n",
       "}\n",
       "\n",
       ".xr-section-summary > span {\n",
       "  display: inline-block;\n",
       "  padding-left: 0.5em;\n",
       "}\n",
       "\n",
       ".xr-section-summary-in:disabled + label {\n",
       "  color: var(--xr-font-color2);\n",
       "}\n",
       "\n",
       ".xr-section-summary-in + label:before {\n",
       "  display: inline-block;\n",
       "  content: '►';\n",
       "  font-size: 11px;\n",
       "  width: 15px;\n",
       "  text-align: center;\n",
       "}\n",
       "\n",
       ".xr-section-summary-in:disabled + label:before {\n",
       "  color: var(--xr-disabled-color);\n",
       "}\n",
       "\n",
       ".xr-section-summary-in:checked + label:before {\n",
       "  content: '▼';\n",
       "}\n",
       "\n",
       ".xr-section-summary-in:checked + label > span {\n",
       "  display: none;\n",
       "}\n",
       "\n",
       ".xr-section-summary,\n",
       ".xr-section-inline-details {\n",
       "  padding-top: 4px;\n",
       "  padding-bottom: 4px;\n",
       "}\n",
       "\n",
       ".xr-section-inline-details {\n",
       "  grid-column: 2 / -1;\n",
       "}\n",
       "\n",
       ".xr-section-details {\n",
       "  display: none;\n",
       "  grid-column: 1 / -1;\n",
       "  margin-bottom: 5px;\n",
       "}\n",
       "\n",
       ".xr-section-summary-in:checked ~ .xr-section-details {\n",
       "  display: contents;\n",
       "}\n",
       "\n",
       ".xr-array-wrap {\n",
       "  grid-column: 1 / -1;\n",
       "  display: grid;\n",
       "  grid-template-columns: 20px auto;\n",
       "}\n",
       "\n",
       ".xr-array-wrap > label {\n",
       "  grid-column: 1;\n",
       "  vertical-align: top;\n",
       "}\n",
       "\n",
       ".xr-preview {\n",
       "  color: var(--xr-font-color3);\n",
       "}\n",
       "\n",
       ".xr-array-preview,\n",
       ".xr-array-data {\n",
       "  padding: 0 5px !important;\n",
       "  grid-column: 2;\n",
       "}\n",
       "\n",
       ".xr-array-data,\n",
       ".xr-array-in:checked ~ .xr-array-preview {\n",
       "  display: none;\n",
       "}\n",
       "\n",
       ".xr-array-in:checked ~ .xr-array-data,\n",
       ".xr-array-preview {\n",
       "  display: inline-block;\n",
       "}\n",
       "\n",
       ".xr-dim-list {\n",
       "  display: inline-block !important;\n",
       "  list-style: none;\n",
       "  padding: 0 !important;\n",
       "  margin: 0;\n",
       "}\n",
       "\n",
       ".xr-dim-list li {\n",
       "  display: inline-block;\n",
       "  padding: 0;\n",
       "  margin: 0;\n",
       "}\n",
       "\n",
       ".xr-dim-list:before {\n",
       "  content: '(';\n",
       "}\n",
       "\n",
       ".xr-dim-list:after {\n",
       "  content: ')';\n",
       "}\n",
       "\n",
       ".xr-dim-list li:not(:last-child):after {\n",
       "  content: ',';\n",
       "  padding-right: 5px;\n",
       "}\n",
       "\n",
       ".xr-has-index {\n",
       "  font-weight: bold;\n",
       "}\n",
       "\n",
       ".xr-var-list,\n",
       ".xr-var-item {\n",
       "  display: contents;\n",
       "}\n",
       "\n",
       ".xr-var-item > div,\n",
       ".xr-var-item label,\n",
       ".xr-var-item > .xr-var-name span {\n",
       "  background-color: var(--xr-background-color-row-even);\n",
       "  margin-bottom: 0;\n",
       "}\n",
       "\n",
       ".xr-var-item > .xr-var-name:hover span {\n",
       "  padding-right: 5px;\n",
       "}\n",
       "\n",
       ".xr-var-list > li:nth-child(odd) > div,\n",
       ".xr-var-list > li:nth-child(odd) > label,\n",
       ".xr-var-list > li:nth-child(odd) > .xr-var-name span {\n",
       "  background-color: var(--xr-background-color-row-odd);\n",
       "}\n",
       "\n",
       ".xr-var-name {\n",
       "  grid-column: 1;\n",
       "}\n",
       "\n",
       ".xr-var-dims {\n",
       "  grid-column: 2;\n",
       "}\n",
       "\n",
       ".xr-var-dtype {\n",
       "  grid-column: 3;\n",
       "  text-align: right;\n",
       "  color: var(--xr-font-color2);\n",
       "}\n",
       "\n",
       ".xr-var-preview {\n",
       "  grid-column: 4;\n",
       "}\n",
       "\n",
       ".xr-var-name,\n",
       ".xr-var-dims,\n",
       ".xr-var-dtype,\n",
       ".xr-preview,\n",
       ".xr-attrs dt {\n",
       "  white-space: nowrap;\n",
       "  overflow: hidden;\n",
       "  text-overflow: ellipsis;\n",
       "  padding-right: 10px;\n",
       "}\n",
       "\n",
       ".xr-var-name:hover,\n",
       ".xr-var-dims:hover,\n",
       ".xr-var-dtype:hover,\n",
       ".xr-attrs dt:hover {\n",
       "  overflow: visible;\n",
       "  width: auto;\n",
       "  z-index: 1;\n",
       "}\n",
       "\n",
       ".xr-var-attrs,\n",
       ".xr-var-data {\n",
       "  display: none;\n",
       "  background-color: var(--xr-background-color) !important;\n",
       "  padding-bottom: 5px !important;\n",
       "}\n",
       "\n",
       ".xr-var-attrs-in:checked ~ .xr-var-attrs,\n",
       ".xr-var-data-in:checked ~ .xr-var-data {\n",
       "  display: block;\n",
       "}\n",
       "\n",
       ".xr-var-data > table {\n",
       "  float: right;\n",
       "}\n",
       "\n",
       ".xr-var-name span,\n",
       ".xr-var-data,\n",
       ".xr-attrs {\n",
       "  padding-left: 25px !important;\n",
       "}\n",
       "\n",
       ".xr-attrs,\n",
       ".xr-var-attrs,\n",
       ".xr-var-data {\n",
       "  grid-column: 1 / -1;\n",
       "}\n",
       "\n",
       "dl.xr-attrs {\n",
       "  padding: 0;\n",
       "  margin: 0;\n",
       "  display: grid;\n",
       "  grid-template-columns: 125px auto;\n",
       "}\n",
       "\n",
       ".xr-attrs dt,\n",
       ".xr-attrs dd {\n",
       "  padding: 0;\n",
       "  margin: 0;\n",
       "  float: left;\n",
       "  padding-right: 10px;\n",
       "  width: auto;\n",
       "}\n",
       "\n",
       ".xr-attrs dt {\n",
       "  font-weight: normal;\n",
       "  grid-column: 1;\n",
       "}\n",
       "\n",
       ".xr-attrs dt:hover span {\n",
       "  display: inline-block;\n",
       "  background: var(--xr-background-color);\n",
       "  padding-right: 10px;\n",
       "}\n",
       "\n",
       ".xr-attrs dd {\n",
       "  grid-column: 2;\n",
       "  white-space: pre-wrap;\n",
       "  word-break: break-all;\n",
       "}\n",
       "\n",
       ".xr-icon-database,\n",
       ".xr-icon-file-text2 {\n",
       "  display: inline-block;\n",
       "  vertical-align: middle;\n",
       "  width: 1em;\n",
       "  height: 1.5em !important;\n",
       "  stroke-width: 0;\n",
       "  stroke: currentColor;\n",
       "  fill: currentColor;\n",
       "}\n",
       "</style><pre class='xr-text-repr-fallback'>&lt;xarray.DataArray &#x27;apply_counts_delta__counts&#x27; (age_group: 5, risk_group: 2)&gt;\n",
       "array([[0., 0.],\n",
       "       [0., 0.],\n",
       "       [0., 0.],\n",
       "       [0., 0.],\n",
       "       [0., 0.]])\n",
       "Coordinates:\n",
       "  * age_group    (age_group) &lt;U5 &#x27;18-49&#x27; &#x27;5-17&#x27; &#x27;50-64&#x27; &#x27;65+&#x27; &#x27;&lt;5&#x27;\n",
       "    compartment  &lt;U5 &#x27;Ia&#x27;\n",
       "  * risk_group   (risk_group) &lt;U4 &#x27;low&#x27; &#x27;high&#x27;\n",
       "    step         datetime64[ns] 2020-03-11\n",
       "    vertex       int64 78626\n",
       "Attributes:\n",
       "    _FillValue:  nan</pre><div class='xr-wrap' hidden><div class='xr-header'><div class='xr-obj-type'>xarray.DataArray</div><div class='xr-array-name'>'apply_counts_delta__counts'</div><ul class='xr-dim-list'><li><span class='xr-has-index'>age_group</span>: 5</li><li><span class='xr-has-index'>risk_group</span>: 2</li></ul></div><ul class='xr-sections'><li class='xr-section-item'><div class='xr-array-wrap'><input id='section-5bc3c402-df0e-4de1-8ebb-ee9c496c9dc5' class='xr-array-in' type='checkbox' checked><label for='section-5bc3c402-df0e-4de1-8ebb-ee9c496c9dc5' title='Show/hide data repr'><svg class='icon xr-icon-database'><use xlink:href='#icon-database'></use></svg></label><div class='xr-array-preview xr-preview'><span>0.0 0.0 0.0 0.0 0.0 0.0 0.0 0.0 0.0 0.0</span></div><div class='xr-array-data'><pre>array([[0., 0.],\n",
       "       [0., 0.],\n",
       "       [0., 0.],\n",
       "       [0., 0.],\n",
       "       [0., 0.]])</pre></div></div></li><li class='xr-section-item'><input id='section-139ee5eb-ec5c-4acb-98c4-52026d2322a1' class='xr-section-summary-in' type='checkbox'  checked><label for='section-139ee5eb-ec5c-4acb-98c4-52026d2322a1' class='xr-section-summary' >Coordinates: <span>(5)</span></label><div class='xr-section-inline-details'></div><div class='xr-section-details'><ul class='xr-var-list'><li class='xr-var-item'><div class='xr-var-name'><span class='xr-has-index'>age_group</span></div><div class='xr-var-dims'>(age_group)</div><div class='xr-var-dtype'>&lt;U5</div><div class='xr-var-preview xr-preview'>&#x27;18-49&#x27; &#x27;5-17&#x27; &#x27;50-64&#x27; &#x27;65+&#x27; &#x27;&lt;5&#x27;</div><input id='attrs-4e3ebde9-d542-4e50-a690-ec268b9cb2d3' class='xr-var-attrs-in' type='checkbox' ><label for='attrs-4e3ebde9-d542-4e50-a690-ec268b9cb2d3' title='Show/Hide attributes'><svg class='icon xr-icon-file-text2'><use xlink:href='#icon-file-text2'></use></svg></label><input id='data-2a4194cf-ffeb-42dd-b301-083e84aca7bb' class='xr-var-data-in' type='checkbox'><label for='data-2a4194cf-ffeb-42dd-b301-083e84aca7bb' title='Show/Hide data repr'><svg class='icon xr-icon-database'><use xlink:href='#icon-database'></use></svg></label><div class='xr-var-attrs'><dl class='xr-attrs'><dt><span>_FillValue :</span></dt><dd></dd></dl></div><div class='xr-var-data'><pre>array([&#x27;18-49&#x27;, &#x27;5-17&#x27;, &#x27;50-64&#x27;, &#x27;65+&#x27;, &#x27;&lt;5&#x27;], dtype=&#x27;&lt;U5&#x27;)</pre></div></li><li class='xr-var-item'><div class='xr-var-name'><span>compartment</span></div><div class='xr-var-dims'>()</div><div class='xr-var-dtype'>&lt;U5</div><div class='xr-var-preview xr-preview'>&#x27;Ia&#x27;</div><input id='attrs-10943f38-05b7-4802-8ad9-cf271ae4033b' class='xr-var-attrs-in' type='checkbox' ><label for='attrs-10943f38-05b7-4802-8ad9-cf271ae4033b' title='Show/Hide attributes'><svg class='icon xr-icon-file-text2'><use xlink:href='#icon-file-text2'></use></svg></label><input id='data-836e2804-ca84-478f-980f-69c38f236169' class='xr-var-data-in' type='checkbox'><label for='data-836e2804-ca84-478f-980f-69c38f236169' title='Show/Hide data repr'><svg class='icon xr-icon-database'><use xlink:href='#icon-database'></use></svg></label><div class='xr-var-attrs'><dl class='xr-attrs'><dt><span>_FillValue :</span></dt><dd></dd></dl></div><div class='xr-var-data'><pre>array(&#x27;Ia&#x27;, dtype=&#x27;&lt;U5&#x27;)</pre></div></li><li class='xr-var-item'><div class='xr-var-name'><span class='xr-has-index'>risk_group</span></div><div class='xr-var-dims'>(risk_group)</div><div class='xr-var-dtype'>&lt;U4</div><div class='xr-var-preview xr-preview'>&#x27;low&#x27; &#x27;high&#x27;</div><input id='attrs-b75ce01b-979b-4bd8-983f-46fb63ffd9b6' class='xr-var-attrs-in' type='checkbox' ><label for='attrs-b75ce01b-979b-4bd8-983f-46fb63ffd9b6' title='Show/Hide attributes'><svg class='icon xr-icon-file-text2'><use xlink:href='#icon-file-text2'></use></svg></label><input id='data-47175369-4e35-45af-a8dc-8c846bc4274e' class='xr-var-data-in' type='checkbox'><label for='data-47175369-4e35-45af-a8dc-8c846bc4274e' title='Show/Hide data repr'><svg class='icon xr-icon-database'><use xlink:href='#icon-database'></use></svg></label><div class='xr-var-attrs'><dl class='xr-attrs'><dt><span>_FillValue :</span></dt><dd></dd></dl></div><div class='xr-var-data'><pre>array([&#x27;low&#x27;, &#x27;high&#x27;], dtype=&#x27;&lt;U4&#x27;)</pre></div></li><li class='xr-var-item'><div class='xr-var-name'><span>step</span></div><div class='xr-var-dims'>()</div><div class='xr-var-dtype'>datetime64[ns]</div><div class='xr-var-preview xr-preview'>2020-03-11</div><input id='attrs-4d34a536-a9c5-4323-87b8-d6a76057436b' class='xr-var-attrs-in' type='checkbox' ><label for='attrs-4d34a536-a9c5-4323-87b8-d6a76057436b' title='Show/Hide attributes'><svg class='icon xr-icon-file-text2'><use xlink:href='#icon-file-text2'></use></svg></label><input id='data-c790519f-119c-448b-8432-1933ef36c1b6' class='xr-var-data-in' type='checkbox'><label for='data-c790519f-119c-448b-8432-1933ef36c1b6' title='Show/Hide data repr'><svg class='icon xr-icon-database'><use xlink:href='#icon-database'></use></svg></label><div class='xr-var-attrs'><dl class='xr-attrs'><dt><span>__xsimlab_master_clock__ :</span></dt><dd>1</dd><dt><span>__xsimlab_output_clock__ :</span></dt><dd>1</dd></dl></div><div class='xr-var-data'><pre>array(&#x27;2020-03-11T00:00:00.000000000&#x27;, dtype=&#x27;datetime64[ns]&#x27;)</pre></div></li><li class='xr-var-item'><div class='xr-var-name'><span>vertex</span></div><div class='xr-var-dims'>()</div><div class='xr-var-dtype'>int64</div><div class='xr-var-preview xr-preview'>78626</div><input id='attrs-2f9a97bf-f1f6-4b82-9c94-43397053061c' class='xr-var-attrs-in' type='checkbox' ><label for='attrs-2f9a97bf-f1f6-4b82-9c94-43397053061c' title='Show/Hide attributes'><svg class='icon xr-icon-file-text2'><use xlink:href='#icon-file-text2'></use></svg></label><input id='data-72f29cee-4d30-4891-807c-0668217a962d' class='xr-var-data-in' type='checkbox'><label for='data-72f29cee-4d30-4891-807c-0668217a962d' title='Show/Hide data repr'><svg class='icon xr-icon-database'><use xlink:href='#icon-database'></use></svg></label><div class='xr-var-attrs'><dl class='xr-attrs'><dt><span>_FillValue :</span></dt><dd>0</dd></dl></div><div class='xr-var-data'><pre>array(78626)</pre></div></li></ul></div></li><li class='xr-section-item'><input id='section-9435b585-e68f-4008-a26f-d8a4c988c9d4' class='xr-section-summary-in' type='checkbox'  checked><label for='section-9435b585-e68f-4008-a26f-d8a4c988c9d4' class='xr-section-summary' >Attributes: <span>(1)</span></label><div class='xr-section-inline-details'></div><div class='xr-section-details'><dl class='xr-attrs'><dt><span>_FillValue :</span></dt><dd>nan</dd></dl></div></li></ul></div></div>"
      ],
      "text/plain": [
       "<xarray.DataArray 'apply_counts_delta__counts' (age_group: 5, risk_group: 2)>\n",
       "array([[0., 0.],\n",
       "       [0., 0.],\n",
       "       [0., 0.],\n",
       "       [0., 0.],\n",
       "       [0., 0.]])\n",
       "Coordinates:\n",
       "  * age_group    (age_group) <U5 '18-49' '5-17' '50-64' '65+' '<5'\n",
       "    compartment  <U5 'Ia'\n",
       "  * risk_group   (risk_group) <U4 'low' 'high'\n",
       "    step         datetime64[ns] 2020-03-11\n",
       "    vertex       int64 78626\n",
       "Attributes:\n",
       "    _FillValue:  nan"
      ]
     },
     "execution_count": 15,
     "metadata": {},
     "output_type": "execute_result"
    }
   ],
   "source": [
    "data_arr.sel({'compartment': 'Ia', 'vertex': np.random.choice(data_arr['vertex'].values), 'step': min(data_arr['step'].values)})"
   ]
  },
  {
   "cell_type": "markdown",
   "metadata": {},
   "source": [
    "# Decision support vis ideas\n",
    "\n",
    "... to prototype in a different notebook\n",
    "\n",
    "- for hospital capacity planning: timing of peak hospitalizations by ZCTA as horizontal boxplots generated by some number of simulations. x axis = time, y axis = ZCTA (categorial axis) \n",
    "\n",
    "- for general public health capacity planning (e.g. tests, contact tracing staff, public awareness campaigns): timing of peak infections using the same design as above (**NOTE**: we only provided hospital decision support because we fit to hospitalization data; we should be skeptical of infection peak results that are not fit to infection data)"
   ]
  },
  {
   "cell_type": "markdown",
   "metadata": {},
   "source": [
    "# Appendix - Data munging\n",
    "\n",
    "## Rationale for data requirements\n",
    "\n",
    "The model requires three data files to run:\n",
    "- \"travel dataframe\" is derived from safegraph mobility and contains source, destination, date, age, and population (n)\n",
    "- \"contact dataframe\" is the the baseline per capita contact probability derived from the Polymod study\n",
    "- \"census dataframe\" is the standing population of each ZCTA\n",
    "\n",
    "The census dataframe is used to initialize the susceptible population sizes at the start of a model run. A small number of infected individuals are pulled out of the specified ZCTA to seed the epidemic (note: this example does not include a \"risk group\" axis in the census data, so the population is by default \"low risk\". It looks like a PR to modify `counts.InitCountsFromCensusCSV` will be needed to add ability to parse a risk dimension.\n",
    "\n",
    "Travel and contact dataframes are used to generate the contact matrix using the `Partition` process in episimlab. Partitioning is done for each time step in the model.\n",
    "\n",
    "## Load `travel.csv`"
   ]
  },
  {
   "cell_type": "code",
   "execution_count": 5,
   "metadata": {},
   "outputs": [],
   "source": [
    "tr2020 = pd.read_csv('/Users/kpierce/COVID19/safegraph_mobility/2020_travel_for_contact_partitioning.csv')"
   ]
  },
  {
   "cell_type": "code",
   "execution_count": 6,
   "metadata": {},
   "outputs": [
    {
     "data": {
      "text/html": [
       "<div>\n",
       "<style scoped>\n",
       "    .dataframe tbody tr th:only-of-type {\n",
       "        vertical-align: middle;\n",
       "    }\n",
       "\n",
       "    .dataframe tbody tr th {\n",
       "        vertical-align: top;\n",
       "    }\n",
       "\n",
       "    .dataframe thead th {\n",
       "        text-align: right;\n",
       "    }\n",
       "</style>\n",
       "<table border=\"1\" class=\"dataframe\">\n",
       "  <thead>\n",
       "    <tr style=\"text-align: right;\">\n",
       "      <th></th>\n",
       "      <th>Unnamed: 0</th>\n",
       "      <th>source</th>\n",
       "      <th>destination</th>\n",
       "      <th>age</th>\n",
       "      <th>n</th>\n",
       "      <th>date</th>\n",
       "      <th>destination_type</th>\n",
       "    </tr>\n",
       "  </thead>\n",
       "  <tbody>\n",
       "    <tr>\n",
       "      <th>0</th>\n",
       "      <td>0</td>\n",
       "      <td>76511</td>\n",
       "      <td>76511</td>\n",
       "      <td>&lt;5</td>\n",
       "      <td>47.377358</td>\n",
       "      <td>2020-05-30</td>\n",
       "      <td>local</td>\n",
       "    </tr>\n",
       "    <tr>\n",
       "      <th>1</th>\n",
       "      <td>1</td>\n",
       "      <td>76511</td>\n",
       "      <td>76511</td>\n",
       "      <td>18-49</td>\n",
       "      <td>638.320755</td>\n",
       "      <td>2020-05-30</td>\n",
       "      <td>local</td>\n",
       "    </tr>\n",
       "    <tr>\n",
       "      <th>2</th>\n",
       "      <td>2</td>\n",
       "      <td>76511</td>\n",
       "      <td>76511</td>\n",
       "      <td>5-17</td>\n",
       "      <td>202.754717</td>\n",
       "      <td>2020-05-30</td>\n",
       "      <td>local</td>\n",
       "    </tr>\n",
       "    <tr>\n",
       "      <th>3</th>\n",
       "      <td>3</td>\n",
       "      <td>76511</td>\n",
       "      <td>76511</td>\n",
       "      <td>50-64</td>\n",
       "      <td>223.641509</td>\n",
       "      <td>2020-05-30</td>\n",
       "      <td>local</td>\n",
       "    </tr>\n",
       "    <tr>\n",
       "      <th>4</th>\n",
       "      <td>4</td>\n",
       "      <td>76511</td>\n",
       "      <td>76511</td>\n",
       "      <td>65+</td>\n",
       "      <td>164.037736</td>\n",
       "      <td>2020-05-30</td>\n",
       "      <td>local</td>\n",
       "    </tr>\n",
       "  </tbody>\n",
       "</table>\n",
       "</div>"
      ],
      "text/plain": [
       "   Unnamed: 0  source  destination    age           n        date  \\\n",
       "0           0   76511        76511     <5   47.377358  2020-05-30   \n",
       "1           1   76511        76511  18-49  638.320755  2020-05-30   \n",
       "2           2   76511        76511   5-17  202.754717  2020-05-30   \n",
       "3           3   76511        76511  50-64  223.641509  2020-05-30   \n",
       "4           4   76511        76511    65+  164.037736  2020-05-30   \n",
       "\n",
       "  destination_type  \n",
       "0            local  \n",
       "1            local  \n",
       "2            local  \n",
       "3            local  \n",
       "4            local  "
      ]
     },
     "execution_count": 6,
     "metadata": {},
     "output_type": "execute_result"
    }
   ],
   "source": [
    "tr2020.head()"
   ]
  },
  {
   "cell_type": "code",
   "execution_count": 114,
   "metadata": {},
   "outputs": [],
   "source": [
    "all_zcta = set(tr2020['source'].unique()).union(set(tr2020['destination'].unique()))"
   ]
  },
  {
   "cell_type": "code",
   "execution_count": 116,
   "metadata": {},
   "outputs": [],
   "source": [
    "names = [\"source\", \"destination\", \"age\", \"date\"]\n",
    "multi_ind = pd.MultiIndex.from_product(\n",
    "    [all_zcta, all_zcta, tr2020['age'].unique(), tr2020['date'].unique()], \n",
    "    names=names)\n",
    "tr2020_full = tr2020.set_index(names).reindex(multi_ind, fill_value=0).reset_index()"
   ]
  },
  {
   "cell_type": "code",
   "execution_count": 124,
   "metadata": {},
   "outputs": [],
   "source": [
    "start_date = '2020-03-11'\n",
    "end_date = '2020-09-21'\n",
    "first_wave = tr2020_full[(tr2020_full['date'] < end_date) & (tr2020_full['date'] >= start_date)]\n",
    "first_wave.to_csv('/Users/kpierce/episimlab/data/full_first_wave_2020_travel.csv')"
   ]
  },
  {
   "cell_type": "markdown",
   "metadata": {},
   "source": [
    "## Debugging 3/21/2020\n",
    "\n",
    "This date causes an assertion error in contact partitioning:\n",
    "\n",
    "    ~/episimlab/episimlab/partition/partition.py in get_phi(self)\n",
    "        405         self.phi_t.loc[dict(risk_group1='high', risk_group2='high')] = self.contact_xr\n",
    "        406         self.phi_t.loc[dict(risk_group1='high', risk_group2='low')] = self.contact_xr\n",
    "    --> 407         assert not self.phi_t.isnull().any()\n",
    "        408 \n",
    "        409     def initialize_misc_coords(self):\n",
    "\n",
    "    AssertionError: \n",
    "    \n",
    "Problem is fixed above, but retaining these code blocks as notes for identifying problem data."
   ]
  },
  {
   "cell_type": "code",
   "execution_count": 7,
   "metadata": {},
   "outputs": [],
   "source": [
    "start_date = '2020-03-11'\n",
    "end_date = '2020-09-21'\n",
    "first_wave = tr2020[(tr2020['date'] < end_date) & (tr2020['date'] >= start_date)]"
   ]
  },
  {
   "cell_type": "code",
   "execution_count": 8,
   "metadata": {},
   "outputs": [],
   "source": [
    "first_wave.to_csv('/Users/kpierce/episimlab/data/first_wave_2020_travel.csv')"
   ]
  },
  {
   "cell_type": "code",
   "execution_count": 12,
   "metadata": {},
   "outputs": [],
   "source": [
    "debug = tr2020[(tr2020['date'] >= '2020-03-20') & (tr2020['date'] <= '2020-03-23')]\n",
    "debug.to_csv('/Users/kpierce/episimlab/data/debug_2020_03.csv')"
   ]
  },
  {
   "cell_type": "code",
   "execution_count": 24,
   "metadata": {},
   "outputs": [],
   "source": [
    "problem_date = debug[debug['date'] == '2020-03-21']\n",
    "problem_date.to_csv('/Users/kpierce/episimlab/data/debug_20200321_travel.csv')"
   ]
  },
  {
   "cell_type": "code",
   "execution_count": 25,
   "metadata": {},
   "outputs": [],
   "source": [
    "part = partition.Partition2Contact(\n",
    "    travel_fp = '/Users/kpierce/episimlab/data/debug_20200321_travel.csv',\n",
    "    contacts_fp = '/Users/kpierce/episimlab/data/polymod_contacts.csv'\n",
    ")"
   ]
  },
  {
   "cell_type": "code",
   "execution_count": 27,
   "metadata": {},
   "outputs": [
    {
     "name": "stderr",
     "output_type": "stream",
     "text": [
      "DEBUG:root:'load_travel_df' took 0.03 seconds\n",
      "DEBUG:root:step_start: 2020-03-21T00:00:00.000000000\n",
      "DEBUG:root:step_end: 2020-03-21T00:00:00.000000000\n",
      "DEBUG:root:Starting dask merge at 2021-07-20 18:18:10.055960\n"
     ]
    },
    {
     "name": "stdout",
     "output_type": "stream",
     "text": [
      "The date in Partition.get_travel_df is ['2020-03-21T00:00:00.000000000']\n"
     ]
    },
    {
     "name": "stderr",
     "output_type": "stream",
     "text": [
      "DEBUG:root:Finishing dask merge at 2021-07-20 18:18:17.640700\n",
      "DEBUG:root:Starting pandas merge 1 at 2021-07-20 18:18:17.641408\n",
      "DEBUG:root:Starting pandas merge 2 at 2021-07-20 18:18:23.153807\n",
      "DEBUG:root:Calculating contact probabilities on full dataframe starting at 2021-07-20 18:18:27.330951\n",
      "DEBUG:root:'dask_partition' took 19.03 seconds\n",
      "DEBUG:root:Building contact xarray at 2021-07-20 18:18:29.307892\n"
     ]
    }
   ],
   "source": [
    "part.initialize(\n",
    "    step_delta=np.timedelta64(24, 'h'),\n",
    "    step_start=np.datetime64('2020-03-21T00:00:00.000000000'),\n",
    "    step_end=np.datetime64('2020-03-22T00:00:00.000000000')\n",
    ")"
   ]
  },
  {
   "cell_type": "code",
   "execution_count": 28,
   "metadata": {},
   "outputs": [
    {
     "name": "stderr",
     "output_type": "stream",
     "text": [
      "DEBUG:root:step_start: 2020-03-21T00:00:00.000000000\n",
      "DEBUG:root:step_end: 2020-03-22T00:00:00.000000000\n",
      "DEBUG:root:Starting dask merge at 2021-07-20 18:18:46.136250\n"
     ]
    },
    {
     "name": "stdout",
     "output_type": "stream",
     "text": [
      "The date in Partition.get_travel_df is ['2020-03-21T00:00:00.000000000']\n"
     ]
    },
    {
     "name": "stderr",
     "output_type": "stream",
     "text": [
      "DEBUG:root:Finishing dask merge at 2021-07-20 18:18:53.147912\n",
      "DEBUG:root:Starting pandas merge 1 at 2021-07-20 18:18:53.148637\n",
      "DEBUG:root:Starting pandas merge 2 at 2021-07-20 18:18:57.253766\n",
      "DEBUG:root:Calculating contact probabilities on full dataframe starting at 2021-07-20 18:19:01.391294\n",
      "DEBUG:root:'dask_partition' took 17.02 seconds\n",
      "DEBUG:root:Building contact xarray at 2021-07-20 18:19:03.366629\n"
     ]
    }
   ],
   "source": [
    "part.run_step(\n",
    "    step_delta=np.timedelta64(24, 'h'),\n",
    "    step_start=np.datetime64('2020-03-21T00:00:00.000000000'),\n",
    "    step_end=np.datetime64('2020-03-22T00:00:00.000000000')\n",
    ")"
   ]
  },
  {
   "cell_type": "code",
   "execution_count": 85,
   "metadata": {},
   "outputs": [
    {
     "data": {
      "image/png": "[encoded data removed]",
      "text/html": [
       "<div style=\"vertical-align: middle;\"><strong>viridis</strong> </div><div class=\"cmap\"><img alt=\"viridis colormap\" title=\"viridis\" style=\"border: 1px solid #555;\" src=\"data:image/png;base64,iVBORw0KGgoAAAANSUhEUgAAAgAAAABACAYAAABsv8+/AAAAFnRFWHRUaXRsZQB2aXJpZGlzIGNvbG9ybWFwrE0mCwAAABx0RVh0RGVzY3JpcHRpb24AdmlyaWRpcyBjb2xvcm1hcAtjl3IAAAAwdEVYdEF1dGhvcgBNYXRwbG90bGliIHYzLjQuMiwgaHR0cHM6Ly9tYXRwbG90bGliLm9yZ6zWY90AAAAydEVYdFNvZnR3YXJlAE1hdHBsb3RsaWIgdjMuNC4yLCBodHRwczovL21hdHBsb3RsaWIub3JngnD8+gAAAiJJREFUeJzt1kGSmzAURdEv2FqWkP0vJfQgMhQCGceV2Ttn4pL0EVQPum771X5vVVXVWv39XfrPeV193V5zS98f1sf5/fPjey73zu6/3Hv/uz2cz57f9vP68rxO9+/zre7nhvvG+et6vH92bw3PDfcsD+eX59+/53n96f3362/f87/vf5yr93Of72/fPV9P89tX3zGeH3OT8/07Zs+/32+TuXZZD8/VODf8W5uuH/b7vctlfuv7NazH8/t7ZnP7bz2cD3NL+/Ph3Hl+/efz83vWun/vuL++nquH9eu9w/uu6/vvOO49f/8xf77vOj+8b7Y/fMfse9ca/y7nv+d62a++X+f1vt+G/b7u+/u6TxzzS//tc2053QMABBEAABBIAABAIAEAAIEEAAAEEgAAEEgAAEAgAQAAgQQAAAQSAAAQSAAAQCABAACBBAAABBIAABBIAABAIAEAAIEEAAAEEgAAEEgAAEAgAQAAgQQAAAQSAAAQSAAAQCABAACBBAAABBIAABBIAABAIAEAAIEEAAAEEgAAEEgAAEAgAQAAgQQAAAQSAAAQSAAAQCABAACBBAAABBIAABBIAABAIAEAAIEEAAAEEgAAEEgAAEAgAQAAgQQAAAQSAAAQSAAAQCABAACBBAAABBIAABBIAABAIAEAAIEEAAAEEgAAEEgAAEAgAQAAgQQAAAQSAAAQSAAAQCABAACBBAAABBIAABBIAABAoB9ucImHxcKZtAAAAABJRU5ErkJggg==\"></div><div style=\"vertical-align: middle; max-width: 514px; display: flex; justify-content: space-between;\"><div style=\"float: left;\"><div title=\"#440154ff\" style=\"display: inline-block; width: 1em; height: 1em; margin: 0; vertical-align: middle; border: 1px solid #555; background-color: #440154ff;\"></div> under</div><div style=\"margin: 0 auto; display: inline-block;\">bad <div title=\"#ff0000ff\" style=\"display: inline-block; width: 1em; height: 1em; margin: 0; vertical-align: middle; border: 1px solid #555; background-color: #ff0000ff;\"></div></div><div style=\"float: right;\">over <div title=\"#fde725ff\" style=\"display: inline-block; width: 1em; height: 1em; margin: 0; vertical-align: middle; border: 1px solid #555; background-color: #fde725ff;\"></div></div>"
      ],
      "text/plain": [
       "<matplotlib.colors.ListedColormap at 0x13aab3d90>"
      ]
     },
     "execution_count": 85,
     "metadata": {},
     "output_type": "execute_result"
    }
   ],
   "source": [
    "current_cmap"
   ]
  },
  {
   "cell_type": "code",
   "execution_count": 86,
   "metadata": {},
   "outputs": [
    {
     "name": "stderr",
     "output_type": "stream",
     "text": [
      "/Users/kpierce/episimlab/esl-venv/lib/python3.7/site-packages/ipykernel_launcher.py:3: MatplotlibDeprecationWarning: You are modifying the state of a globally registered colormap. This has been deprecated since 3.3 and in 3.6, you will not be able to modify a registered colormap in-place. To remove this warning, you can make a copy of the colormap first. cmap = mpl.cm.get_cmap(\"viridis\").copy()\n",
      "  This is separate from the ipykernel package so we can avoid doing imports until\n"
     ]
    },
    {
     "data": {
      "text/plain": [
       "<xarray.plot.facetgrid.FacetGrid at 0x13f68d810>"
      ]
     },
     "execution_count": 86,
     "metadata": {},
     "output_type": "execute_result"
    },
    {
     "data": {
      "image/png": "[encoded data removed]",
      "text/plain": [
       "<Figure size 1152x1080 with 26 Axes>"
      ]
     },
     "metadata": {
      "needs_background": "light"
     },
     "output_type": "display_data"
    }
   ],
   "source": [
    "import matplotlib\n",
    "current_cmap = matplotlib.cm.get_cmap()\n",
    "current_cmap.set_bad(color='red')\n",
    "part.contact_xr.plot(row='age_group1', col='age_group2')"
   ]
  },
  {
   "cell_type": "code",
   "execution_count": 101,
   "metadata": {},
   "outputs": [
    {
     "data": {
      "text/plain": [
       "array([[ 0, 18,  0,  0],\n",
       "       [ 0, 18,  0,  1],\n",
       "       [ 0, 18,  0,  2],\n",
       "       [ 0, 18,  0,  3],\n",
       "       [ 0, 18,  0,  4],\n",
       "       [ 0, 18,  1,  0],\n",
       "       [ 0, 18,  1,  1],\n",
       "       [ 0, 18,  1,  2],\n",
       "       [ 0, 18,  1,  3],\n",
       "       [ 0, 18,  1,  4],\n",
       "       [ 0, 18,  2,  0],\n",
       "       [ 0, 18,  2,  1],\n",
       "       [ 0, 18,  2,  2],\n",
       "       [ 0, 18,  2,  3],\n",
       "       [ 0, 18,  2,  4],\n",
       "       [ 0, 18,  3,  0],\n",
       "       [ 0, 18,  3,  1],\n",
       "       [ 0, 18,  3,  2],\n",
       "       [ 0, 18,  3,  3],\n",
       "       [ 0, 18,  3,  4],\n",
       "       [ 0, 18,  4,  0],\n",
       "       [ 0, 18,  4,  1],\n",
       "       [ 0, 18,  4,  2],\n",
       "       [ 0, 18,  4,  3],\n",
       "       [ 0, 18,  4,  4],\n",
       "       [18,  0,  0,  0],\n",
       "       [18,  0,  0,  1],\n",
       "       [18,  0,  0,  2],\n",
       "       [18,  0,  0,  3],\n",
       "       [18,  0,  0,  4],\n",
       "       [18,  0,  1,  0],\n",
       "       [18,  0,  1,  1],\n",
       "       [18,  0,  1,  2],\n",
       "       [18,  0,  1,  3],\n",
       "       [18,  0,  1,  4],\n",
       "       [18,  0,  2,  0],\n",
       "       [18,  0,  2,  1],\n",
       "       [18,  0,  2,  2],\n",
       "       [18,  0,  2,  3],\n",
       "       [18,  0,  2,  4],\n",
       "       [18,  0,  3,  0],\n",
       "       [18,  0,  3,  1],\n",
       "       [18,  0,  3,  2],\n",
       "       [18,  0,  3,  3],\n",
       "       [18,  0,  3,  4],\n",
       "       [18,  0,  4,  0],\n",
       "       [18,  0,  4,  1],\n",
       "       [18,  0,  4,  2],\n",
       "       [18,  0,  4,  3],\n",
       "       [18,  0,  4,  4]])"
      ]
     },
     "execution_count": 101,
     "metadata": {},
     "output_type": "execute_result"
    }
   ],
   "source": [
    "np.argwhere(np.isnan(part.contact_xr.values))"
   ]
  },
  {
   "cell_type": "code",
   "execution_count": 107,
   "metadata": {},
   "outputs": [],
   "source": [
    "bad_zip_18 = part.contact_xr['vertex1'][18].values.item()\n",
    "bad_zip_0 = part.contact_xr['vertex1'][0].values.item()"
   ]
  },
  {
   "cell_type": "code",
   "execution_count": 105,
   "metadata": {},
   "outputs": [
    {
     "data": {
      "text/html": [
       "<div>\n",
       "<style scoped>\n",
       "    .dataframe tbody tr th:only-of-type {\n",
       "        vertical-align: middle;\n",
       "    }\n",
       "\n",
       "    .dataframe tbody tr th {\n",
       "        vertical-align: top;\n",
       "    }\n",
       "\n",
       "    .dataframe thead th {\n",
       "        text-align: right;\n",
       "    }\n",
       "</style>\n",
       "<table border=\"1\" class=\"dataframe\">\n",
       "  <thead>\n",
       "    <tr style=\"text-align: right;\">\n",
       "      <th></th>\n",
       "      <th>Unnamed: 0</th>\n",
       "      <th>source</th>\n",
       "      <th>destination</th>\n",
       "      <th>age</th>\n",
       "      <th>n</th>\n",
       "      <th>date</th>\n",
       "      <th>destination_type</th>\n",
       "    </tr>\n",
       "  </thead>\n",
       "  <tbody>\n",
       "    <tr>\n",
       "      <th>3818700</th>\n",
       "      <td>3818700</td>\n",
       "      <td>76511</td>\n",
       "      <td>76511</td>\n",
       "      <td>&lt;5</td>\n",
       "      <td>62.911765</td>\n",
       "      <td>2020-03-21</td>\n",
       "      <td>local</td>\n",
       "    </tr>\n",
       "    <tr>\n",
       "      <th>3818701</th>\n",
       "      <td>3818701</td>\n",
       "      <td>76511</td>\n",
       "      <td>76511</td>\n",
       "      <td>18-49</td>\n",
       "      <td>847.617647</td>\n",
       "      <td>2020-03-21</td>\n",
       "      <td>local</td>\n",
       "    </tr>\n",
       "    <tr>\n",
       "      <th>3818702</th>\n",
       "      <td>3818702</td>\n",
       "      <td>76511</td>\n",
       "      <td>76511</td>\n",
       "      <td>5-17</td>\n",
       "      <td>269.235294</td>\n",
       "      <td>2020-03-21</td>\n",
       "      <td>local</td>\n",
       "    </tr>\n",
       "    <tr>\n",
       "      <th>3818703</th>\n",
       "      <td>3818703</td>\n",
       "      <td>76511</td>\n",
       "      <td>76511</td>\n",
       "      <td>50-64</td>\n",
       "      <td>296.970588</td>\n",
       "      <td>2020-03-21</td>\n",
       "      <td>local</td>\n",
       "    </tr>\n",
       "    <tr>\n",
       "      <th>3818704</th>\n",
       "      <td>3818704</td>\n",
       "      <td>76511</td>\n",
       "      <td>76511</td>\n",
       "      <td>65+</td>\n",
       "      <td>217.823529</td>\n",
       "      <td>2020-03-21</td>\n",
       "      <td>local</td>\n",
       "    </tr>\n",
       "  </tbody>\n",
       "</table>\n",
       "</div>"
      ],
      "text/plain": [
       "         Unnamed: 0  source  destination    age           n        date  \\\n",
       "3818700     3818700   76511        76511     <5   62.911765  2020-03-21   \n",
       "3818701     3818701   76511        76511  18-49  847.617647  2020-03-21   \n",
       "3818702     3818702   76511        76511   5-17  269.235294  2020-03-21   \n",
       "3818703     3818703   76511        76511  50-64  296.970588  2020-03-21   \n",
       "3818704     3818704   76511        76511    65+  217.823529  2020-03-21   \n",
       "\n",
       "        destination_type  \n",
       "3818700            local  \n",
       "3818701            local  \n",
       "3818702            local  \n",
       "3818703            local  \n",
       "3818704            local  "
      ]
     },
     "execution_count": 105,
     "metadata": {},
     "output_type": "execute_result"
    }
   ],
   "source": [
    "problem_date.head()"
   ]
  },
  {
   "cell_type": "code",
   "execution_count": 109,
   "metadata": {},
   "outputs": [
    {
     "data": {
      "text/html": [
       "<div>\n",
       "<style scoped>\n",
       "    .dataframe tbody tr th:only-of-type {\n",
       "        vertical-align: middle;\n",
       "    }\n",
       "\n",
       "    .dataframe tbody tr th {\n",
       "        vertical-align: top;\n",
       "    }\n",
       "\n",
       "    .dataframe thead th {\n",
       "        text-align: right;\n",
       "    }\n",
       "</style>\n",
       "<table border=\"1\" class=\"dataframe\">\n",
       "  <thead>\n",
       "    <tr style=\"text-align: right;\">\n",
       "      <th></th>\n",
       "      <th>Unnamed: 0</th>\n",
       "      <th>source</th>\n",
       "      <th>destination</th>\n",
       "      <th>age</th>\n",
       "      <th>n</th>\n",
       "      <th>date</th>\n",
       "      <th>destination_type</th>\n",
       "    </tr>\n",
       "  </thead>\n",
       "  <tbody>\n",
       "  </tbody>\n",
       "</table>\n",
       "</div>"
      ],
      "text/plain": [
       "Empty DataFrame\n",
       "Columns: [Unnamed: 0, source, destination, age, n, date, destination_type]\n",
       "Index: []"
      ]
     },
     "execution_count": 109,
     "metadata": {},
     "output_type": "execute_result"
    }
   ],
   "source": [
    "problem_date[(problem_date['source'] == bad_zip_18) & (problem_date['destination'] == bad_zip_0)]"
   ]
  },
  {
   "cell_type": "code",
   "execution_count": 110,
   "metadata": {},
   "outputs": [
    {
     "data": {
      "text/html": [
       "<div>\n",
       "<style scoped>\n",
       "    .dataframe tbody tr th:only-of-type {\n",
       "        vertical-align: middle;\n",
       "    }\n",
       "\n",
       "    .dataframe tbody tr th {\n",
       "        vertical-align: top;\n",
       "    }\n",
       "\n",
       "    .dataframe thead th {\n",
       "        text-align: right;\n",
       "    }\n",
       "</style>\n",
       "<table border=\"1\" class=\"dataframe\">\n",
       "  <thead>\n",
       "    <tr style=\"text-align: right;\">\n",
       "      <th></th>\n",
       "      <th>Unnamed: 0</th>\n",
       "      <th>source</th>\n",
       "      <th>destination</th>\n",
       "      <th>age</th>\n",
       "      <th>n</th>\n",
       "      <th>date</th>\n",
       "      <th>destination_type</th>\n",
       "    </tr>\n",
       "  </thead>\n",
       "  <tbody>\n",
       "  </tbody>\n",
       "</table>\n",
       "</div>"
      ],
      "text/plain": [
       "Empty DataFrame\n",
       "Columns: [Unnamed: 0, source, destination, age, n, date, destination_type]\n",
       "Index: []"
      ]
     },
     "execution_count": 110,
     "metadata": {},
     "output_type": "execute_result"
    }
   ],
   "source": [
    "problem_date[(problem_date['source'] == bad_zip_0) & (problem_date['destination'] == bad_zip_18)]"
   ]
  },
  {
   "cell_type": "markdown",
   "metadata": {},
   "source": [
    "Contact partitioning fails because there is no travel between these zip codes on this date."
   ]
  },
  {
   "cell_type": "code",
   "execution_count": 122,
   "metadata": {},
   "outputs": [
    {
     "data": {
      "text/html": [
       "<div>\n",
       "<style scoped>\n",
       "    .dataframe tbody tr th:only-of-type {\n",
       "        vertical-align: middle;\n",
       "    }\n",
       "\n",
       "    .dataframe tbody tr th {\n",
       "        vertical-align: top;\n",
       "    }\n",
       "\n",
       "    .dataframe thead th {\n",
       "        text-align: right;\n",
       "    }\n",
       "</style>\n",
       "<table border=\"1\" class=\"dataframe\">\n",
       "  <thead>\n",
       "    <tr style=\"text-align: right;\">\n",
       "      <th></th>\n",
       "      <th>source</th>\n",
       "      <th>destination</th>\n",
       "      <th>age</th>\n",
       "      <th>date</th>\n",
       "      <th>Unnamed: 0</th>\n",
       "      <th>n</th>\n",
       "      <th>destination_type</th>\n",
       "    </tr>\n",
       "  </thead>\n",
       "  <tbody>\n",
       "    <tr>\n",
       "      <th>2883136</th>\n",
       "      <td>78632</td>\n",
       "      <td>76511</td>\n",
       "      <td>&lt;5</td>\n",
       "      <td>2020-03-21</td>\n",
       "      <td>0</td>\n",
       "      <td>0.0</td>\n",
       "      <td>0</td>\n",
       "    </tr>\n",
       "    <tr>\n",
       "      <th>2883467</th>\n",
       "      <td>78632</td>\n",
       "      <td>76511</td>\n",
       "      <td>18-49</td>\n",
       "      <td>2020-03-21</td>\n",
       "      <td>0</td>\n",
       "      <td>0.0</td>\n",
       "      <td>0</td>\n",
       "    </tr>\n",
       "    <tr>\n",
       "      <th>2883798</th>\n",
       "      <td>78632</td>\n",
       "      <td>76511</td>\n",
       "      <td>5-17</td>\n",
       "      <td>2020-03-21</td>\n",
       "      <td>0</td>\n",
       "      <td>0.0</td>\n",
       "      <td>0</td>\n",
       "    </tr>\n",
       "    <tr>\n",
       "      <th>2884129</th>\n",
       "      <td>78632</td>\n",
       "      <td>76511</td>\n",
       "      <td>50-64</td>\n",
       "      <td>2020-03-21</td>\n",
       "      <td>0</td>\n",
       "      <td>0.0</td>\n",
       "      <td>0</td>\n",
       "    </tr>\n",
       "    <tr>\n",
       "      <th>2884460</th>\n",
       "      <td>78632</td>\n",
       "      <td>76511</td>\n",
       "      <td>65+</td>\n",
       "      <td>2020-03-21</td>\n",
       "      <td>0</td>\n",
       "      <td>0.0</td>\n",
       "      <td>0</td>\n",
       "    </tr>\n",
       "  </tbody>\n",
       "</table>\n",
       "</div>"
      ],
      "text/plain": [
       "         source  destination    age        date  Unnamed: 0    n  \\\n",
       "2883136   78632        76511     <5  2020-03-21           0  0.0   \n",
       "2883467   78632        76511  18-49  2020-03-21           0  0.0   \n",
       "2883798   78632        76511   5-17  2020-03-21           0  0.0   \n",
       "2884129   78632        76511  50-64  2020-03-21           0  0.0   \n",
       "2884460   78632        76511    65+  2020-03-21           0  0.0   \n",
       "\n",
       "        destination_type  \n",
       "2883136                0  \n",
       "2883467                0  \n",
       "2883798                0  \n",
       "2884129                0  \n",
       "2884460                0  "
      ]
     },
     "execution_count": 122,
     "metadata": {},
     "output_type": "execute_result"
    }
   ],
   "source": [
    "tr2020_full[\n",
    "    (tr2020_full['source'] == bad_zip_18) & \\\n",
    "    (tr2020_full['destination'] == bad_zip_0) & \\\n",
    "    (tr2020_full['date'] == '2020-03-21')]"
   ]
  },
  {
   "cell_type": "code",
   "execution_count": 123,
   "metadata": {},
   "outputs": [
    {
     "data": {
      "text/html": [
       "<div>\n",
       "<style scoped>\n",
       "    .dataframe tbody tr th:only-of-type {\n",
       "        vertical-align: middle;\n",
       "    }\n",
       "\n",
       "    .dataframe tbody tr th {\n",
       "        vertical-align: top;\n",
       "    }\n",
       "\n",
       "    .dataframe thead th {\n",
       "        text-align: right;\n",
       "    }\n",
       "</style>\n",
       "<table border=\"1\" class=\"dataframe\">\n",
       "  <thead>\n",
       "    <tr style=\"text-align: right;\">\n",
       "      <th></th>\n",
       "      <th>source</th>\n",
       "      <th>destination</th>\n",
       "      <th>age</th>\n",
       "      <th>date</th>\n",
       "      <th>Unnamed: 0</th>\n",
       "      <th>n</th>\n",
       "      <th>destination_type</th>\n",
       "    </tr>\n",
       "  </thead>\n",
       "  <tbody>\n",
       "    <tr>\n",
       "      <th>321196</th>\n",
       "      <td>76511</td>\n",
       "      <td>78632</td>\n",
       "      <td>&lt;5</td>\n",
       "      <td>2020-03-21</td>\n",
       "      <td>0</td>\n",
       "      <td>0.0</td>\n",
       "      <td>0</td>\n",
       "    </tr>\n",
       "    <tr>\n",
       "      <th>321527</th>\n",
       "      <td>76511</td>\n",
       "      <td>78632</td>\n",
       "      <td>18-49</td>\n",
       "      <td>2020-03-21</td>\n",
       "      <td>0</td>\n",
       "      <td>0.0</td>\n",
       "      <td>0</td>\n",
       "    </tr>\n",
       "    <tr>\n",
       "      <th>321858</th>\n",
       "      <td>76511</td>\n",
       "      <td>78632</td>\n",
       "      <td>5-17</td>\n",
       "      <td>2020-03-21</td>\n",
       "      <td>0</td>\n",
       "      <td>0.0</td>\n",
       "      <td>0</td>\n",
       "    </tr>\n",
       "    <tr>\n",
       "      <th>322189</th>\n",
       "      <td>76511</td>\n",
       "      <td>78632</td>\n",
       "      <td>50-64</td>\n",
       "      <td>2020-03-21</td>\n",
       "      <td>0</td>\n",
       "      <td>0.0</td>\n",
       "      <td>0</td>\n",
       "    </tr>\n",
       "    <tr>\n",
       "      <th>322520</th>\n",
       "      <td>76511</td>\n",
       "      <td>78632</td>\n",
       "      <td>65+</td>\n",
       "      <td>2020-03-21</td>\n",
       "      <td>0</td>\n",
       "      <td>0.0</td>\n",
       "      <td>0</td>\n",
       "    </tr>\n",
       "  </tbody>\n",
       "</table>\n",
       "</div>"
      ],
      "text/plain": [
       "        source  destination    age        date  Unnamed: 0    n  \\\n",
       "321196   76511        78632     <5  2020-03-21           0  0.0   \n",
       "321527   76511        78632  18-49  2020-03-21           0  0.0   \n",
       "321858   76511        78632   5-17  2020-03-21           0  0.0   \n",
       "322189   76511        78632  50-64  2020-03-21           0  0.0   \n",
       "322520   76511        78632    65+  2020-03-21           0  0.0   \n",
       "\n",
       "       destination_type  \n",
       "321196                0  \n",
       "321527                0  \n",
       "321858                0  \n",
       "322189                0  \n",
       "322520                0  "
      ]
     },
     "execution_count": 123,
     "metadata": {},
     "output_type": "execute_result"
    }
   ],
   "source": [
    "tr2020_full[\n",
    "    (tr2020_full['destination'] == bad_zip_18) & \\\n",
    "    (tr2020_full['source'] == bad_zip_0) & \\\n",
    "    (tr2020_full['date'] == '2020-03-21')]"
   ]
  },
  {
   "cell_type": "markdown",
   "metadata": {},
   "source": [
    "# Load `contact.csv`"
   ]
  },
  {
   "cell_type": "code",
   "execution_count": 6,
   "metadata": {},
   "outputs": [],
   "source": [
    "polymod = pd.read_csv('/Users/kpierce/episimlab/data/polymod_contacts.csv')"
   ]
  },
  {
   "cell_type": "code",
   "execution_count": 7,
   "metadata": {},
   "outputs": [
    {
     "data": {
      "text/html": [
       "<div>\n",
       "<style scoped>\n",
       "    .dataframe tbody tr th:only-of-type {\n",
       "        vertical-align: middle;\n",
       "    }\n",
       "\n",
       "    .dataframe tbody tr th {\n",
       "        vertical-align: top;\n",
       "    }\n",
       "\n",
       "    .dataframe thead th {\n",
       "        text-align: right;\n",
       "    }\n",
       "</style>\n",
       "<table border=\"1\" class=\"dataframe\">\n",
       "  <thead>\n",
       "    <tr style=\"text-align: right;\">\n",
       "      <th></th>\n",
       "      <th>Unnamed: 0</th>\n",
       "      <th>age1</th>\n",
       "      <th>age2</th>\n",
       "      <th>daily_per_capita_contacts</th>\n",
       "    </tr>\n",
       "  </thead>\n",
       "  <tbody>\n",
       "    <tr>\n",
       "      <th>0</th>\n",
       "      <td>0</td>\n",
       "      <td>&lt;5</td>\n",
       "      <td>&lt;5</td>\n",
       "      <td>2.160941</td>\n",
       "    </tr>\n",
       "    <tr>\n",
       "      <th>1</th>\n",
       "      <td>1</td>\n",
       "      <td>5-17</td>\n",
       "      <td>&lt;5</td>\n",
       "      <td>0.597341</td>\n",
       "    </tr>\n",
       "    <tr>\n",
       "      <th>2</th>\n",
       "      <td>2</td>\n",
       "      <td>18-49</td>\n",
       "      <td>&lt;5</td>\n",
       "      <td>0.382203</td>\n",
       "    </tr>\n",
       "    <tr>\n",
       "      <th>3</th>\n",
       "      <td>3</td>\n",
       "      <td>50-64</td>\n",
       "      <td>&lt;5</td>\n",
       "      <td>0.352397</td>\n",
       "    </tr>\n",
       "    <tr>\n",
       "      <th>4</th>\n",
       "      <td>4</td>\n",
       "      <td>65+</td>\n",
       "      <td>&lt;5</td>\n",
       "      <td>0.189756</td>\n",
       "    </tr>\n",
       "  </tbody>\n",
       "</table>\n",
       "</div>"
      ],
      "text/plain": [
       "   Unnamed: 0   age1 age2  daily_per_capita_contacts\n",
       "0           0     <5   <5                   2.160941\n",
       "1           1   5-17   <5                   0.597341\n",
       "2           2  18-49   <5                   0.382203\n",
       "3           3  50-64   <5                   0.352397\n",
       "4           4    65+   <5                   0.189756"
      ]
     },
     "execution_count": 7,
     "metadata": {},
     "output_type": "execute_result"
    }
   ],
   "source": [
    "polymod"
   ]
  },
  {
   "cell_type": "markdown",
   "metadata": {},
   "source": [
    "# Load `census.csv`"
   ]
  },
  {
   "cell_type": "code",
   "execution_count": 16,
   "metadata": {},
   "outputs": [],
   "source": [
    "census = pd.read_csv('/Users/kpierce/episimlab/data/data_lccf/census_pop1_rows1.csv')"
   ]
  },
  {
   "cell_type": "code",
   "execution_count": 17,
   "metadata": {},
   "outputs": [
    {
     "data": {
      "text/html": [
       "<div>\n",
       "<style scoped>\n",
       "    .dataframe tbody tr th:only-of-type {\n",
       "        vertical-align: middle;\n",
       "    }\n",
       "\n",
       "    .dataframe tbody tr th {\n",
       "        vertical-align: top;\n",
       "    }\n",
       "\n",
       "    .dataframe thead th {\n",
       "        text-align: right;\n",
       "    }\n",
       "</style>\n",
       "<table border=\"1\" class=\"dataframe\">\n",
       "  <thead>\n",
       "    <tr style=\"text-align: right;\">\n",
       "      <th></th>\n",
       "      <th>Unnamed: 0</th>\n",
       "      <th>GEOID</th>\n",
       "      <th>NAME</th>\n",
       "      <th>age_bin</th>\n",
       "      <th>group_pop</th>\n",
       "    </tr>\n",
       "  </thead>\n",
       "  <tbody>\n",
       "    <tr>\n",
       "      <th>0</th>\n",
       "      <td>1</td>\n",
       "      <td>75001</td>\n",
       "      <td>ZCTA5 75001</td>\n",
       "      <td>&lt;5</td>\n",
       "      <td>794</td>\n",
       "    </tr>\n",
       "    <tr>\n",
       "      <th>1</th>\n",
       "      <td>2</td>\n",
       "      <td>75001</td>\n",
       "      <td>ZCTA5 75001</td>\n",
       "      <td>18-49</td>\n",
       "      <td>9420</td>\n",
       "    </tr>\n",
       "    <tr>\n",
       "      <th>2</th>\n",
       "      <td>3</td>\n",
       "      <td>75001</td>\n",
       "      <td>ZCTA5 75001</td>\n",
       "      <td>5-17</td>\n",
       "      <td>1404</td>\n",
       "    </tr>\n",
       "    <tr>\n",
       "      <th>3</th>\n",
       "      <td>4</td>\n",
       "      <td>75001</td>\n",
       "      <td>ZCTA5 75001</td>\n",
       "      <td>50-64</td>\n",
       "      <td>2259</td>\n",
       "    </tr>\n",
       "    <tr>\n",
       "      <th>4</th>\n",
       "      <td>5</td>\n",
       "      <td>75001</td>\n",
       "      <td>ZCTA5 75001</td>\n",
       "      <td>65+</td>\n",
       "      <td>1115</td>\n",
       "    </tr>\n",
       "  </tbody>\n",
       "</table>\n",
       "</div>"
      ],
      "text/plain": [
       "   Unnamed: 0  GEOID         NAME age_bin  group_pop\n",
       "0           1  75001  ZCTA5 75001      <5        794\n",
       "1           2  75001  ZCTA5 75001   18-49       9420\n",
       "2           3  75001  ZCTA5 75001    5-17       1404\n",
       "3           4  75001  ZCTA5 75001   50-64       2259\n",
       "4           5  75001  ZCTA5 75001     65+       1115"
      ]
     },
     "execution_count": 17,
     "metadata": {},
     "output_type": "execute_result"
    }
   ],
   "source": [
    "census.head()"
   ]
  },
  {
   "cell_type": "code",
   "execution_count": 18,
   "metadata": {},
   "outputs": [
    {
     "data": {
      "text/html": [
       "<div>\n",
       "<style scoped>\n",
       "    .dataframe tbody tr th:only-of-type {\n",
       "        vertical-align: middle;\n",
       "    }\n",
       "\n",
       "    .dataframe tbody tr th {\n",
       "        vertical-align: top;\n",
       "    }\n",
       "\n",
       "    .dataframe thead th {\n",
       "        text-align: right;\n",
       "    }\n",
       "</style>\n",
       "<table border=\"1\" class=\"dataframe\">\n",
       "  <thead>\n",
       "    <tr style=\"text-align: right;\">\n",
       "      <th></th>\n",
       "      <th>Unnamed: 0</th>\n",
       "      <th>GEOID</th>\n",
       "      <th>NAME</th>\n",
       "      <th>age_bin</th>\n",
       "      <th>group_pop</th>\n",
       "    </tr>\n",
       "  </thead>\n",
       "  <tbody>\n",
       "    <tr>\n",
       "      <th>7590</th>\n",
       "      <td>7591</td>\n",
       "      <td>78712</td>\n",
       "      <td>ZCTA5 78712</td>\n",
       "      <td>&lt;5</td>\n",
       "      <td>0</td>\n",
       "    </tr>\n",
       "    <tr>\n",
       "      <th>7591</th>\n",
       "      <td>7592</td>\n",
       "      <td>78712</td>\n",
       "      <td>ZCTA5 78712</td>\n",
       "      <td>18-49</td>\n",
       "      <td>871</td>\n",
       "    </tr>\n",
       "    <tr>\n",
       "      <th>7592</th>\n",
       "      <td>7593</td>\n",
       "      <td>78712</td>\n",
       "      <td>ZCTA5 78712</td>\n",
       "      <td>5-17</td>\n",
       "      <td>9</td>\n",
       "    </tr>\n",
       "    <tr>\n",
       "      <th>7593</th>\n",
       "      <td>7594</td>\n",
       "      <td>78712</td>\n",
       "      <td>ZCTA5 78712</td>\n",
       "      <td>50-64</td>\n",
       "      <td>0</td>\n",
       "    </tr>\n",
       "    <tr>\n",
       "      <th>7594</th>\n",
       "      <td>7595</td>\n",
       "      <td>78712</td>\n",
       "      <td>ZCTA5 78712</td>\n",
       "      <td>65+</td>\n",
       "      <td>0</td>\n",
       "    </tr>\n",
       "  </tbody>\n",
       "</table>\n",
       "</div>"
      ],
      "text/plain": [
       "      Unnamed: 0  GEOID         NAME age_bin  group_pop\n",
       "7590        7591  78712  ZCTA5 78712      <5          0\n",
       "7591        7592  78712  ZCTA5 78712   18-49        871\n",
       "7592        7593  78712  ZCTA5 78712    5-17          9\n",
       "7593        7594  78712  ZCTA5 78712   50-64          0\n",
       "7594        7595  78712  ZCTA5 78712     65+          0"
      ]
     },
     "execution_count": 18,
     "metadata": {},
     "output_type": "execute_result"
    }
   ],
   "source": [
    "census[census['GEOID'] == 78712]"
   ]
  },
  {
   "cell_type": "code",
   "execution_count": 21,
   "metadata": {},
   "outputs": [],
   "source": [
    "first_wave = pd.read_csv('/Users/kpierce/episimlab/data/full_first_wave_2020_travel.csv')"
   ]
  },
  {
   "cell_type": "code",
   "execution_count": 23,
   "metadata": {},
   "outputs": [
    {
     "data": {
      "text/plain": [
       "(array([1.0822e+04, 2.2700e+02, 3.5000e+01, 2.2000e+01, 2.2000e+01,\n",
       "        3.1000e+01, 4.3000e+01, 3.2000e+01, 9.0000e+00, 9.0000e+00]),\n",
       " array([6.28491620e-03, 6.22607384e+01, 1.24515192e+02, 1.86769645e+02,\n",
       "        2.49024099e+02, 3.11278552e+02, 3.73533006e+02, 4.35787459e+02,\n",
       "        4.98041913e+02, 5.60296366e+02, 6.22550820e+02]),\n",
       " <BarContainer object of 10 artists>)"
      ]
     },
     "execution_count": 23,
     "metadata": {},
     "output_type": "execute_result"
    },
    {
     "data": {
      "image/png": "[encoded data removed]",
      "text/plain": [
       "<Figure size 432x288 with 1 Axes>"
      ]
     },
     "metadata": {
      "needs_background": "light"
     },
     "output_type": "display_data"
    }
   ],
   "source": [
    "plt.hist(first_wave[(first_wave['source'] == 78712) & (first_wave['n'] > 0)]['n'])"
   ]
  },
  {
   "cell_type": "code",
   "execution_count": null,
   "metadata": {},
   "outputs": [],
   "source": []
  }
 ],
 "metadata": {
  "kernelspec": {
   "display_name": "esl-venv",
   "language": "python",
   "name": "esl-venv"
  },
  "language_info": {
   "codemirror_mode": {
    "name": "ipython",
    "version": 3
   },
   "file_extension": ".py",
   "mimetype": "text/x-python",
   "name": "python",
   "nbconvert_exporter": "python",
   "pygments_lexer": "ipython3",
   "version": "3.7.10"
  }
 },
 "nbformat": 4,
 "nbformat_minor": 5
}
