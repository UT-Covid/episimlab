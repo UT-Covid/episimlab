{
 "cells": [
  {
   "cell_type": "code",
   "execution_count": null,
   "id": "9ffed660-e93a-4104-98b2-64cdb9db7328",
   "metadata": {
    "tags": []
   },
   "outputs": [],
   "source": [
    "import xsimlab as xs\n",
    "import xarray as xr\n",
    "from episimlab.models import ExampleSIR, EpiModel\n",
    "from episimlab.foi import BaseFOI\n",
    "from episimlab.utils import visualize_compt_graph, coerce_to_da\n",
    "import networkx as nx\n",
    "import pandas as pd"
   ]
  },
  {
   "cell_type": "markdown",
   "id": "77d3a6cb-fbe2-4d97-94ae-156a00fec96d",
   "metadata": {},
   "source": [
    "# Episimlab Tutorial\n",
    "----\n",
    "\n",
    "<!--<badge>--><a href=\"https://colab.research.google.com/github/UT-Covid/episimlab/blob/main/examples/example_sirv.ipynb\" target=\"_parent\"><img src=\"https://colab.research.google.com/assets/colab-badge.svg\" alt=\"Open In Colab\"/></a><!--</badge>-->\n",
    "\n",
    "This notebook will provide a tutorial in model building using Episimlab version 2. For more details, please refer to the [Episimlab GitHub repository](https://github.com/UT-Covid/episimlab) and the [xarray-simlab documentation](https://xarray-simlab.readthedocs.io)."
   ]
  },
  {
   "cell_type": "markdown",
   "id": "55d227e7-4203-4ee0-9a96-6ac79423d0b8",
   "metadata": {
    "jp-MarkdownHeadingCollapsed": true,
    "tags": []
   },
   "source": [
    "## Installation\n",
    "\n",
    "To install Episimlab, create and run a new code cell containing:\n",
    "```\n",
    "!pip install episimlab\n",
    "```\n",
    "\n",
    "...or install the development version from the GitHub repo:\n",
    "```\n",
    "!pip install git+https://github.com/UT-Covid/episimlab\n",
    "```"
   ]
  },
  {
   "cell_type": "markdown",
   "id": "7bec1f0c-db4d-4a29-844f-ddfeefd1b9f1",
   "metadata": {
    "tags": []
   },
   "source": [
    "## Run an Existing SIR Model\n",
    "----\n",
    "\n",
    "The package includes several pre-built models as examples/starting points. Here, we show how to load and run the `ExampleSIR` model:"
   ]
  },
  {
   "cell_type": "code",
   "execution_count": null,
   "id": "9928e237-a4ac-43ac-8a40-e779ce7a71d7",
   "metadata": {},
   "outputs": [],
   "source": [
    "model = ExampleSIR()\n",
    "model"
   ]
  },
  {
   "cell_type": "markdown",
   "id": "83c6ba18-38cf-4f8f-b7e6-ca6f7a21ea67",
   "metadata": {},
   "source": [
    "These pre-packaged models come with a set of default parameter values. New models should include a full set of default parameters so that users can quickly and easily use the same model (say, in a publication):"
   ]
  },
  {
   "cell_type": "code",
   "execution_count": null,
   "id": "cbe984a5-0a96-47a8-a5b1-b4395d64eac7",
   "metadata": {},
   "outputs": [],
   "source": [
    "model.RUNNER_DEFAULTS['input_vars']"
   ]
  },
  {
   "cell_type": "markdown",
   "id": "482c0bac-603f-44c9-a9f0-1209a35cae46",
   "metadata": {},
   "source": [
    "Of course, we can overwrite the defaults, such as the `beta` value here, and run the model:"
   ]
  },
  {
   "cell_type": "code",
   "execution_count": null,
   "id": "c8aef5e9-f7b4-41cd-b5f7-6a2598c1752d",
   "metadata": {},
   "outputs": [],
   "source": [
    "input_vars = {\n",
    "    'beta': 0.07,\n",
    "}\n",
    "model.run(input_vars=input_vars)"
   ]
  },
  {
   "cell_type": "markdown",
   "id": "b27c3175-2ffa-4d93-85d4-eb1582d0f516",
   "metadata": {},
   "source": [
    "The model output is an `xarray.Dataset`, which is very similar to an N-dimensional numpy array. We can also see the compartment graph generated when the model was run. The compartment graph shows allowed transitions in the model. Here, we see that S -> I (`rate_S2I`) and I -> R (`rate_I2R`) transitions are allowed.\n",
    "\n",
    "We can plot the state of the simulation over time:"
   ]
  },
  {
   "cell_type": "code",
   "execution_count": null,
   "id": "d0d0e2df-ae4d-4364-956f-bea9251dbc68",
   "metadata": {},
   "outputs": [],
   "source": [
    "model.plot()"
   ]
  },
  {
   "cell_type": "markdown",
   "id": "75fd1f57-b7cf-4240-bb6d-8a1d0a84afdd",
   "metadata": {
    "tags": []
   },
   "source": [
    "## Modify an Existing Model: Adding a Vaccination Compartment\n",
    "----\n",
    "\n",
    "We now want to add more heterogeneity into our model. We will demonstrate this by adding a Vaccinated (`V`) compartment to the model.\n",
    "\n",
    "Episimlab models are highly modular, so we can easily reuse our existing `ExampleSIR` model instead of writing the new model from scratch. To do this, we will write a few new processes and add them to our existing model:\n",
    "1. A new process `CustomSetupComptGraph` that generates a compartment graph containing a new `V` node, with new directed edges `(S, V)` and `(V, I)`\n",
    "2. A new process `RateS2V` that calculates an edge weight `rate_S2V`\n",
    "3. A new process `RateV2I` that calculates an edge weight `rate_V2I`"
   ]
  },
  {
   "cell_type": "markdown",
   "id": "8cd13be5-238c-4084-82c3-0e7ab21bb726",
   "metadata": {},
   "source": [
    "### #1: Add a `V` Compartment\n",
    "\n",
    "To add our \"vaccinated\" compartment, we need to write a new process `CustomSetupComptGraph` as described above. A \"process\" is just a Python class with some special features:\n",
    "- Methods named `initialize`, `run_step`, `finalize_step`, and `finalize` are run automatically at different points in the simulation.\n",
    "- Variables defined near the beginning of the process can be imported to exported to other processes in the model. In this case, we're exporting the variable `compt_model`."
   ]
  },
  {
   "cell_type": "code",
   "execution_count": null,
   "id": "e75ff4a2-3c90-4f76-8c72-83e0fc21b983",
   "metadata": {
    "tags": []
   },
   "outputs": [],
   "source": [
    "@xs.process\n",
    "class CustomSetupComptGraph:\n",
    "    \"\"\"A single process in the model. Defines the directed graph `compt_graph`\n",
    "    that defines the compartments and allowed transitions between them.\n",
    "    \"\"\"\n",
    "    # Reference a variable defined in a different process, and tell the model\n",
    "    # that this process intends to output this variable.\n",
    "    compt_graph = xs.global_ref('compt_graph', intent='out')\n",
    "\n",
    "    def initialize(self):\n",
    "        \"\"\"This method is run once at the beginning of the simulation.\"\"\"\n",
    "        self.compt_graph = self.get_compt_graph()\n",
    "    \n",
    "    def run_step(self):\n",
    "        \"\"\"This method is run once at every step of the simulation.\"\"\"\n",
    "        pass\n",
    "\n",
    "    def finalize(self):\n",
    "        \"\"\"This method is run once at the end of the simulation.\"\"\"\n",
    "        self.visualize()\n",
    "\n",
    "    def get_compt_graph(self) -> nx.DiGraph:\n",
    "        \"\"\"A method that returns a compartment graph as a directed\n",
    "        graph. Uses the networkx package.\n",
    "        \"\"\"\n",
    "        g = nx.DiGraph()\n",
    "        g.add_nodes_from([\n",
    "            ('S', {\"color\": \"red\"}),\n",
    "            ('I', {\"color\": \"blue\"}),\n",
    "            ('R', {\"color\": \"green\"}),\n",
    "            ('V', {\"color\": \"purple\"}), # new\n",
    "        ])\n",
    "        g.add_edges_from([\n",
    "            ('S', 'V', {\"priority\": 0, \"color\": \"purple\"}), # new\n",
    "            ('S', 'I', {\"priority\": 0, \"color\": \"red\"}),\n",
    "            ('V', 'I', {\"priority\": 1, \"color\": \"pink\"}), # new\n",
    "            ('I', 'R', {\"priority\": 2, \"color\": \"blue\"}),\n",
    "        ])\n",
    "        return g\n",
    "    \n",
    "    def visualize(self):\n",
    "        \"\"\"Visualize the compartment graph, saving as a file at a path.\"\"\"\n",
    "        return visualize_compt_graph(self.compt_graph)"
   ]
  },
  {
   "cell_type": "markdown",
   "id": "6dfbdb25-4137-4a70-84a0-54904a8b0fff",
   "metadata": {},
   "source": [
    "Before adding our new process to the model, let's test it. Processes are just Python classes (they're actually fancy Python classes called [attrs classes](https://www.attrs.org/en/stable/)), so we can use them as we would any other class in Python:"
   ]
  },
  {
   "cell_type": "code",
   "execution_count": null,
   "id": "b1d0aaeb-0abf-4c4e-845d-6f4c2569ff74",
   "metadata": {},
   "outputs": [],
   "source": [
    "process = CustomSetupComptGraph()\n",
    "print(process)"
   ]
  },
  {
   "cell_type": "code",
   "execution_count": null,
   "id": "a71d9d85-3998-4687-a027-8094894c3a2e",
   "metadata": {},
   "outputs": [],
   "source": [
    "process.initialize()\n",
    "process.visualize()"
   ]
  },
  {
   "cell_type": "markdown",
   "id": "670b0193-6c8f-4383-9b4c-a0c3aa54cf76",
   "metadata": {
    "jupyter": {
     "outputs_hidden": true
    }
   },
   "source": [
    "Now that we've tested our new process, let's add it to our model:"
   ]
  },
  {
   "cell_type": "code",
   "execution_count": null,
   "id": "91a12d11-d2dc-4924-8ff1-a04b75d8d322",
   "metadata": {},
   "outputs": [],
   "source": [
    "model.setup_compt_graph"
   ]
  },
  {
   "cell_type": "code",
   "execution_count": null,
   "id": "e04651db-c9ab-4095-b5e6-4e3b33017ff3",
   "metadata": {},
   "outputs": [],
   "source": [
    "sirv_model = model.update_processes({\n",
    "    'setup_compt_graph': CustomSetupComptGraph\n",
    "})\n",
    "sirv_model.setup_compt_graph"
   ]
  },
  {
   "cell_type": "markdown",
   "id": "b526c002-7878-42cf-b747-7bfcaf30135b",
   "metadata": {},
   "source": [
    "Let's try running our model with the new compartment graph:"
   ]
  },
  {
   "cell_type": "code",
   "execution_count": null,
   "id": "26505daf-4760-48da-a659-9c39c257af0d",
   "metadata": {},
   "outputs": [],
   "source": [
    "sirv_model.run()"
   ]
  },
  {
   "cell_type": "markdown",
   "id": "2ea82fe0-c6c8-49bc-981a-854a9c9ff61b",
   "metadata": {},
   "source": [
    "The new model runs, and we get an informative warning at every step. We have defined a new compartment `V` and defined its edges to other departments, but the model still doesn't know what the **weight** of these edges are."
   ]
  },
  {
   "cell_type": "markdown",
   "id": "c51e82fc-629b-436d-aac8-0a738c80a28d",
   "metadata": {},
   "source": [
    "### #2: Calculate `rate_S2V`\n",
    "\n",
    "To fix the warning, we need only write a new process that calculates and exports edge weights for the S -> V and V -> I transitions that we defined. Let's start by calculating the edge weight of S -> V, which by convention is named `rate_S2V`. "
   ]
  },
  {
   "cell_type": "code",
   "execution_count": null,
   "id": "1c57822b-7db4-4253-b963-16a997671d54",
   "metadata": {},
   "outputs": [],
   "source": [
    "@xs.process\n",
    "class RateS2V:\n",
    "    \"\"\"A single process in the model. Calculates a vaccination rate\n",
    "    `rate_S2V`.\n",
    "    \"\"\"\n",
    "    # Define a variable that will be imported by other processes,\n",
    "    # and tell the model that this process intends to ingest the value of this variable.\n",
    "    vacc_per_day = xs.variable(global_name='vacc_per_day', intent='in')\n",
    "    \n",
    "    # Define a variable that we want to export\n",
    "    # We include the `groups=['edge_weight']` in order for the model to recognize\n",
    "    # this variable as an edge weight.\n",
    "    rate_S2V = xs.variable(global_name='rate_S2V', groups=['edge_weight'], intent='out')\n",
    "    \n",
    "    def initialize(self):\n",
    "        \"\"\"If the vaccination rate were constant, we need only need to set\n",
    "        it once at the beginning of the simulation. Since we want the rate\n",
    "        to change at a given time, we instead define it in the `run_step`\n",
    "        method below.\n",
    "        \"\"\"\n",
    "        pass\n",
    "    \n",
    "    @xs.runtime(args=['step'])\n",
    "    def run_step(self, step):\n",
    "        \"\"\"Calculate the `rate_S2V` at every step of the simulation.\n",
    "        Set the rate to zero after the 5th step.\n",
    "        \"\"\"\n",
    "        if step > 5:\n",
    "            self.rate_S2V = 0.\n",
    "        else:\n",
    "            self.rate_S2V = self.vacc_per_day"
   ]
  },
  {
   "cell_type": "markdown",
   "id": "a97585be-bc93-4dc3-9330-9c6f1edbc516",
   "metadata": {},
   "source": [
    "We can quickly test our process as a standalone Python class to make sure everything is working as expected:"
   ]
  },
  {
   "cell_type": "code",
   "execution_count": null,
   "id": "2c7ac821-e0d5-468f-8ecc-03a07e044548",
   "metadata": {},
   "outputs": [],
   "source": [
    "process = RateS2V(vacc_per_day=5.0)\n",
    "print(process.vacc_per_day)"
   ]
  },
  {
   "cell_type": "code",
   "execution_count": null,
   "id": "3902f12d-ec79-42aa-958a-df6bc58672a5",
   "metadata": {},
   "outputs": [],
   "source": [
    "process.run_step(step=3)\n",
    "print(process.rate_S2V)"
   ]
  },
  {
   "cell_type": "code",
   "execution_count": null,
   "id": "ca20804f-1c8a-47db-9ccb-e8219a7a784a",
   "metadata": {},
   "outputs": [],
   "source": [
    "process.run_step(step=7)\n",
    "print(process.rate_S2V)"
   ]
  },
  {
   "cell_type": "markdown",
   "id": "e84048c8-f6c9-421e-8c5f-80dd50e75bfd",
   "metadata": {},
   "source": [
    "### #3 Calculate `rate_V2I`\n",
    "\n",
    "Similarly, let's write a process that defines a `rate_V2I`. This rate will be calculated similarly to force of infection (FOI), so we will **inherit** the existing process `BaseFOI` and modify it in the **child** class `RateV2I`. The `BaseFOI` process has methods like `foi` that we can reuse in the child process."
   ]
  },
  {
   "cell_type": "code",
   "execution_count": null,
   "id": "48e8b758-22f3-4ea5-96c4-5b24d12e75cf",
   "metadata": {},
   "outputs": [],
   "source": [
    "@xs.process\n",
    "class RateV2I(BaseFOI):\n",
    "    \"\"\"A single process in the model. Calculates a force of infection\n",
    "    for vaccinated persons `rate_V2I`. This process inherits from the\n",
    "    parent class BaseFOI.\n",
    "    \"\"\"\n",
    "    # Override the default behavior: calculate FOI based on the population\n",
    "    # of the V compartment, instead of the S compartment\n",
    "    S_COMPT_LABELS = 'V'\n",
    "    \n",
    "    # Like before, we define a variable that we export in this process\n",
    "    rate_V2I = xs.variable(dims=('age', 'risk', 'vertex'), \n",
    "                           global_name='rate_V2I', groups=['edge_weight'], \n",
    "                           intent='out')\n",
    "    \n",
    "    # We also define an input variable that scales FOI\n",
    "    vacc_efficacy = xs.variable(global_name='vacc_efficacy', intent='in')\n",
    "    \n",
    "    # Use the same values for omega and phi as the S2I transition\n",
    "    # We use the same values by importing these variables using their\n",
    "    # global_name\n",
    "    omega = xs.global_ref('omega', intent='in')\n",
    "    phi = xs.global_ref('phi', intent='in')\n",
    "    \n",
    "    def run_step(self):\n",
    "        \"\"\"Calculate the `rate_V2I` at every step of the simulation. Here,\n",
    "        we make use of the `foi` method in the parent process BaseFOI.\n",
    "        \"\"\"\n",
    "        self.rate_V2I = self.foi * (1 - self.vacc_efficacy)"
   ]
  },
  {
   "cell_type": "markdown",
   "id": "1dd20e72-8f29-4216-ac02-cba000b6f142",
   "metadata": {},
   "source": [
    "Finally, add both processes to the model. "
   ]
  },
  {
   "cell_type": "code",
   "execution_count": null,
   "id": "6ecb2d9b-f9c4-43e1-ae47-15db2963ac06",
   "metadata": {},
   "outputs": [],
   "source": [
    "sirv_model = sirv_model.update_processes({\n",
    "    'setup_compt_graph': CustomSetupComptGraph,\n",
    "    'rate_S2V': RateS2V,\n",
    "    'rate_V2I': RateV2I\n",
    "})"
   ]
  },
  {
   "cell_type": "markdown",
   "id": "12c23b35-f45f-4a67-be3d-9a77dc48d5a2",
   "metadata": {},
   "source": [
    "We visualize the processes in the model as a graph:"
   ]
  },
  {
   "cell_type": "code",
   "execution_count": null,
   "id": "acfdf479-3c48-4f14-8718-ba9b05bd26a1",
   "metadata": {},
   "outputs": [],
   "source": [
    "sirv_model.visualize()"
   ]
  },
  {
   "cell_type": "markdown",
   "id": "49228f6a-3ba2-4e64-b541-af8653c4c2a5",
   "metadata": {},
   "source": [
    "We can now run our model, inspect the compartment graph, and plot the results:"
   ]
  },
  {
   "cell_type": "code",
   "execution_count": null,
   "id": "1ea465ac-6480-4706-bc51-a112c1a4be42",
   "metadata": {},
   "outputs": [],
   "source": [
    "sirv_model.run(\n",
    "    input_vars={\n",
    "        'vacc_efficacy': 0.9,\n",
    "        'vacc_per_day': 10,\n",
    "        'sto_toggle': 0,\n",
    "    })"
   ]
  },
  {
   "cell_type": "code",
   "execution_count": null,
   "id": "1e4df977-63eb-44ab-9920-db86f4226657",
   "metadata": {},
   "outputs": [],
   "source": [
    "sirv_model.plot()"
   ]
  },
  {
   "cell_type": "markdown",
   "id": "3b2e441f-e1df-4a2e-9b43-5be50a2ed5c3",
   "metadata": {},
   "source": [
    "## Vaccinate Differently by Age\n",
    "----\n",
    "\n",
    "Episimlab allows users to set arbitrary dimensions for parameters. We could add age heterogeneity for the `vacc_per_day` variable by modifying our existing processes:"
   ]
  },
  {
   "cell_type": "code",
   "execution_count": null,
   "id": "08cdd03c-05cb-485d-abfc-b05c921f0747",
   "metadata": {},
   "outputs": [],
   "source": [
    "@xs.process\n",
    "class AgeScaledRateS2V:\n",
    "    \"\"\"A single process in the model. Calculates a vaccination rate\n",
    "    `rate_S2V`. Ingests a `vacc_per_day` with one dimension on `age`.\n",
    "    \"\"\"\n",
    "    vacc_per_day = xs.variable(global_name='vacc_per_day', intent='in',\n",
    "                               dims=('age')) # new\n",
    "    rate_S2V = xs.variable(global_name='rate_S2V', groups=['edge_weight'], intent='out')\n",
    "    \n",
    "    @xs.runtime(args=['step'])\n",
    "    def run_step(self, step):\n",
    "        \"\"\"Calculate the `rate_S2V` at every step of the simulation.\n",
    "        Set the rate to zero after step 5.\n",
    "        \"\"\"\n",
    "        if step > 5:\n",
    "            self.rate_S2V = 0.\n",
    "        else:\n",
    "            self.rate_S2V = xr.DataArray(data=self.vacc_per_day, dims=['age']) # new"
   ]
  },
  {
   "cell_type": "code",
   "execution_count": null,
   "id": "13a64d17-eacf-4393-8685-ef2280e83dd8",
   "metadata": {},
   "outputs": [],
   "source": [
    "age_model = sirv_model.update_processes({\n",
    "    'rate_S2V': AgeScaledRateS2V,\n",
    "})"
   ]
  },
  {
   "cell_type": "code",
   "execution_count": null,
   "id": "04fe34af-ae21-4c57-99a2-f87e20fb92d5",
   "metadata": {},
   "outputs": [],
   "source": [
    "age_model"
   ]
  },
  {
   "cell_type": "markdown",
   "id": "3e0ceea3-2b94-4c29-ae66-7916cfb861ac",
   "metadata": {},
   "source": [
    "We run the model as usual. Note that we can specify a dictionary of output variables if we want additional data in the output array. In addition to the `state` variable from `compt_model` process, we also want to retrieve the `rate_V2I` variable from the `rate_V2I` process for one of our analyses."
   ]
  },
  {
   "cell_type": "code",
   "execution_count": null,
   "id": "418c8e77-251b-467b-8dd3-9284ffe822ce",
   "metadata": {},
   "outputs": [],
   "source": [
    "age_model.run(\n",
    "    input_vars={\n",
    "        'vacc_efficacy': 0.9,\n",
    "        # Now stratified by age group:\n",
    "        # ['0-4', '5-17', '18-49', '50-64', '65+']\n",
    "        'vacc_per_day': [0, 0, 5, 10, 10] # new\n",
    "    },\n",
    "    output_vars={\n",
    "        # `state` of the `compt_model` over time (`step`)\n",
    "        'compt_model__state': 'step',\n",
    "        # `rate_V2I` over time (`step`)\n",
    "        'rate_V2I__rate_V2I': 'step' # new\n",
    "    })"
   ]
  },
  {
   "cell_type": "markdown",
   "id": "1693e176-7ca5-4548-a9e3-a73767112d55",
   "metadata": {},
   "source": [
    "### Plotting\n",
    "\n",
    "Let's look at some more advanced plotting while we're here. We want to plot:\n",
    "- Population of `V` compartment over time\n",
    "- Incidence of escape infections, effectively the `rate_V2I`"
   ]
  },
  {
   "cell_type": "code",
   "execution_count": null,
   "id": "0b5f17be-6710-4317-b794-235d5c37d32a",
   "metadata": {},
   "outputs": [],
   "source": [
    "(age_model\n",
    " # we want to track the `state` variable from the `compt_model` process\n",
    " .out_ds['compt_model__state']\n",
    " # only looking at the V compartment\n",
    " .loc[dict(compt='V')]\n",
    " # sum over the other dimensions, leaving one `age` dimension\n",
    " .sum(['risk', 'vertex'])\n",
    " # plot over time\n",
    " .plot.line(x='step', aspect=2, size=9))"
   ]
  },
  {
   "cell_type": "code",
   "execution_count": null,
   "id": "e99bcd31-74ee-4b03-bdae-49481406b3c6",
   "metadata": {},
   "outputs": [],
   "source": [
    "(age_model\n",
    " # we want to track the `rate_V2I` variable from the `rate_V2I` process\n",
    " .out_ds['rate_V2I__rate_V2I']\n",
    " # sum over the other dimensions, leaving one `age` dimension\n",
    " .sum(['risk', 'vertex'])\n",
    " # plot over time\n",
    " .plot.line(x='step', aspect=2, size=9))"
   ]
  },
  {
   "cell_type": "markdown",
   "id": "a45fac20-ea90-47fe-83a2-573e01a4ec46",
   "metadata": {},
   "source": [
    "## Package the Final Model\n",
    "----\n",
    "\n",
    "Now that we're finished with model development, we will package it into a model like `ExampleSIR` so that others can easily use it. This will involve writing a Python class (but not a \"process\") that contains:\n",
    "- The model with its default processes. Most of the processes are the same as `ExampleSIR`\n",
    "- Default parameter values\n",
    "- Custom methods such as plotting\n",
    "\n",
    "In short, we will package all of our work thus far into a standardized format that makes it easy to reproduce. We could then distribute the model by putting the model in a [dedicated Python module](https://github.com/UT-Covid/episimlab/blob/main/episimlab/models/example_sirv.py#L215) in the Episimlab repository."
   ]
  },
  {
   "cell_type": "code",
   "execution_count": null,
   "id": "40feb750-15d9-46af-b1ec-0d9bf42ca390",
   "metadata": {
    "tags": []
   },
   "outputs": [],
   "source": [
    "from episimlab.models import example_sir"
   ]
  },
  {
   "cell_type": "code",
   "execution_count": null,
   "id": "dc311f78-c5ba-4276-b975-b5699d04cd2b",
   "metadata": {},
   "outputs": [],
   "source": [
    "class ExampleSIRV(EpiModel):\n",
    "    \"\"\"A short description of our new model goes here.\n",
    "    \"\"\"\n",
    "    AUTHORS = ('Ethan Ho <eho@tacc.utexas.edu>',)\n",
    "    LICENCE = 'MIT'\n",
    "    DOI = 'https://doi.org/10.5281/zenodo.591296'\n",
    "    VERSION = '1.0.0'\n",
    "    \n",
    "    # Optional: include some tags so that future users\n",
    "    # could sort by model metadata\n",
    "    TAGS = ('SIRV', 'compartments::4')\n",
    "    \n",
    "    # Define all the processes in this model\n",
    "    PROCESSES = {\n",
    "        # Core processes\n",
    "        'compt_model': example_sir.ComptModel,\n",
    "        'setup_sto': example_sir.SetupStochasticFromToggle,\n",
    "        'setup_seed': example_sir.SeedGenerator,\n",
    "        'setup_coords': example_sir.SetupCoords,\n",
    "        'setup_state': example_sir.SetupState,\n",
    "        'setup_phi': example_sir.SetupPhi,\n",
    "        'setup_omega': example_sir.SetupOmega,\n",
    "\n",
    "        # Edge weight processes from ExampleSIR\n",
    "        'rate_S2I': example_sir.FOI,\n",
    "        'rate_I2R': example_sir.RecoveryRate,\n",
    "        \n",
    "        # Distinct from ExampleSIR\n",
    "        'setup_compt_graph': CustomSetupComptGraph,\n",
    "        'rate_S2V': AgeScaledRateS2V,\n",
    "        'rate_V2I': RateV2I\n",
    "    }\n",
    "    \n",
    "    # Define defaults that can be overwritten by user\n",
    "    RUNNER_DEFAULTS = {\n",
    "        'clocks': {\n",
    "            'step': pd.date_range(start='3/1/2020', end='3/15/2020', freq='24H')\n",
    "        },\n",
    "        'input_vars': {\n",
    "            'sto_toggle': 0, \n",
    "            'seed_entropy': 12345,\n",
    "            'beta': 0.08,\n",
    "            'gamma': 0.5,\n",
    "            'vacc_efficacy': 0.9,\n",
    "            'vacc_per_day': [0, 0, 5, 10, 10]\n",
    "        },\n",
    "        'output_vars': {\n",
    "            'compt_model__state': 'step',\n",
    "            'rate_V2I__rate_V2I': 'step'\n",
    "        }\n",
    "    }\n",
    "    \n",
    "    # Define custom plotting methods\n",
    "    def plot(self):\n",
    "        \"\"\"Plot compartment populations over time.\"\"\"\n",
    "        return (self\n",
    "                .out_ds['compt_model__state']\n",
    "                .sum(['age', 'risk', 'vertex'])\n",
    "                .plot.line(x='step', aspect=2, size=9))\n",
    "        \n",
    "    def plot_vacc(self):\n",
    "        \"\"\"Plot population of the vaccinated (V) compartment over time,\n",
    "        stratified by age group.\n",
    "        \"\"\"\n",
    "        return (self\n",
    "                .out_ds['compt_model__state']\n",
    "                .loc[dict(compt='V')]\n",
    "                .sum(['risk', 'vertex'])\n",
    "                .plot.line(x='step', aspect=2, size=9))\n",
    "    \n",
    "    def plot_rate_V2I(self):\n",
    "        \"\"\"Plot incident escape infections (`rate_V2I` over time),\n",
    "        stratified by age group.\n",
    "        \"\"\"\n",
    "        return (self\n",
    "                .out_ds['rate_V2I__rate_V2I']\n",
    "                .sum(['risk', 'vertex'])\n",
    "                .plot.line(x='step', aspect=2, size=9))"
   ]
  },
  {
   "cell_type": "markdown",
   "id": "65a8eab3-5006-4a50-99ca-e5e4ecf9e9a7",
   "metadata": {},
   "source": [
    "Now, running our SIRV model is as easy as:"
   ]
  },
  {
   "cell_type": "code",
   "execution_count": null,
   "id": "09fcd4c0-bef8-473d-95f3-92c61bb57148",
   "metadata": {},
   "outputs": [],
   "source": [
    "packaged_model = ExampleSIRV()\n",
    "packaged_model.run(input_vars={\n",
    "    # Optional: overwrite defaults\n",
    "    'vacc_per_day': [0, 0, 0, 5, 20]\n",
    "})\n",
    "packaged_model.plot_rate_V2I()"
   ]
  }
 ],
 "metadata": {
  "kernelspec": {
   "display_name": "Python 3 (ipykernel)",
   "language": "python",
   "name": "python3"
  },
  "language_info": {
   "codemirror_mode": {
    "name": "ipython",
    "version": 3
   },
   "file_extension": ".py",
   "mimetype": "text/x-python",
   "name": "python",
   "nbconvert_exporter": "python",
   "pygments_lexer": "ipython3",
   "version": "3.8.2"
  }
 },
 "nbformat": 4,
 "nbformat_minor": 5
}
