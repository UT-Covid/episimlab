{
 "cells": [
  {
   "cell_type": "code",
   "execution_count": 39,
   "metadata": {},
   "outputs": [
    {
     "ename": "ModuleNotFoundError",
     "evalue": "No module named 'unicode'",
     "output_type": "error",
     "traceback": [
      "\u001b[0;31m---------------------------------------------------------------------------\u001b[0m",
      "\u001b[0;31mModuleNotFoundError\u001b[0m                       Traceback (most recent call last)",
      "\u001b[0;32m<ipython-input-39-212b766edaf9>\u001b[0m in \u001b[0;36m<module>\u001b[0;34m\u001b[0m\n\u001b[1;32m      3\u001b[0m \u001b[0;32mimport\u001b[0m \u001b[0mpickle\u001b[0m\u001b[0;34m\u001b[0m\u001b[0;34m\u001b[0m\u001b[0m\n\u001b[1;32m      4\u001b[0m \u001b[0;32mimport\u001b[0m \u001b[0myaml\u001b[0m\u001b[0;34m\u001b[0m\u001b[0;34m\u001b[0m\u001b[0m\n\u001b[0;32m----> 5\u001b[0;31m \u001b[0;32mimport\u001b[0m \u001b[0municode\u001b[0m\u001b[0;34m\u001b[0m\u001b[0;34m\u001b[0m\u001b[0m\n\u001b[0m\u001b[1;32m      6\u001b[0m \u001b[0;32mfrom\u001b[0m \u001b[0mnumpy\u001b[0m \u001b[0;32mimport\u001b[0m \u001b[0mndarray\u001b[0m\u001b[0;34m\u001b[0m\u001b[0;34m\u001b[0m\u001b[0m\n\u001b[1;32m      7\u001b[0m \u001b[0;32mfrom\u001b[0m \u001b[0mcollections\u001b[0m\u001b[0;34m.\u001b[0m\u001b[0mabc\u001b[0m \u001b[0;32mimport\u001b[0m \u001b[0mSequence\u001b[0m\u001b[0;34m\u001b[0m\u001b[0;34m\u001b[0m\u001b[0m\n",
      "\u001b[0;31mModuleNotFoundError\u001b[0m: No module named 'unicode'"
     ]
    }
   ],
   "source": [
    "import os\n",
    "import glob\n",
    "import pickle\n",
    "import yaml\n",
    "import unicode\n",
    "from numpy import ndarray\n",
    "from collections.abc import Sequence\n",
    "from numbers import Number"
   ]
  },
  {
   "cell_type": "markdown",
   "metadata": {},
   "source": [
    "# 20210203_convert_legay_config\n",
    "\n",
    "Purpose of this notebook is to convert `tests/data/partition_capture/*.pckl` to YAML files."
   ]
  },
  {
   "cell_type": "code",
   "execution_count": 10,
   "metadata": {},
   "outputs": [],
   "source": [
    "parent_dir = \"../tests/data/partition_capture\"\n",
    "pckl_fps = glob.glob(f\"{parent_dir}/*.pckl\")"
   ]
  },
  {
   "cell_type": "code",
   "execution_count": 50,
   "metadata": {},
   "outputs": [],
   "source": [
    "def convert_types(data):\n",
    "    if isinstance(data, dict):\n",
    "        return {k: convert_types(data[k]) for k in data}\n",
    "    elif isinstance(data, str):\n",
    "        return str(data)\n",
    "    elif isinstance(data, int):\n",
    "        return int(data)\n",
    "    elif isinstance(data, Number):\n",
    "        return float(data)\n",
    "    elif isinstance(data, (ndarray, Sequence)):\n",
    "        if len(data) == 1:\n",
    "            data = data[0]\n",
    "        return [convert_types(x) for x in data]\n",
    "    else:\n",
    "        raise TypeError(type(data))"
   ]
  },
  {
   "cell_type": "code",
   "execution_count": 51,
   "metadata": {},
   "outputs": [
    {
     "name": "stdout",
     "output_type": "stream",
     "text": [
      "writing to ../tests/data/partition_capture/ref_config4.yaml\n",
      "writing to ../tests/data/partition_capture/ref_config5.yaml\n",
      "writing to ../tests/data/partition_capture/ref_config2.yaml\n",
      "writing to ../tests/data/partition_capture/test_config1.yaml\n",
      "writing to ../tests/data/partition_capture/test_config0.yaml\n",
      "writing to ../tests/data/partition_capture/ref_config3.yaml\n",
      "writing to ../tests/data/partition_capture/test_config3.yaml\n",
      "writing to ../tests/data/partition_capture/ref_config0.yaml\n",
      "writing to ../tests/data/partition_capture/ref_config1.yaml\n",
      "writing to ../tests/data/partition_capture/test_config2.yaml\n",
      "writing to ../tests/data/partition_capture/test_config5.yaml\n",
      "writing to ../tests/data/partition_capture/test_config4.yaml\n"
     ]
    }
   ],
   "source": [
    "assert pckl_fps\n",
    "for pckl in pckl_fps:\n",
    "    with open(pckl, 'rb') as f:\n",
    "        data = pickle.load(f)\n",
    "    yaml_compatible = convert_types(data)\n",
    "    # print(yaml_compatible)\n",
    "    pdir, pckl_fn = os.path.split(pckl)\n",
    "    yaml_fn = pckl_fn.replace('.pckl', '.yaml')\n",
    "    yaml_fp = os.path.join(pdir, yaml_fn)\n",
    "    print(f\"writing to {yaml_fp}\")\n",
    "    with open(yaml_fp, 'w') as f:\n",
    "         yaml.safe_dump(yaml_compatible, f)"
   ]
  },
  {
   "cell_type": "markdown",
   "metadata": {},
   "source": [
    "# "
   ]
  }
 ],
 "metadata": {
  "kernelspec": {
   "display_name": "Python 3",
   "language": "python",
   "name": "python3"
  },
  "language_info": {
   "codemirror_mode": {
    "name": "ipython",
    "version": 3
   },
   "file_extension": ".py",
   "mimetype": "text/x-python",
   "name": "python",
   "nbconvert_exporter": "python",
   "pygments_lexer": "ipython3",
   "version": "3.8.3"
  }
 },
 "nbformat": 4,
 "nbformat_minor": 4
}
