{
 "metadata": {
  "language_info": {
   "codemirror_mode": {
    "name": "ipython",
    "version": 3
   },
   "file_extension": ".py",
   "mimetype": "text/x-python",
   "name": "python",
   "nbconvert_exporter": "python",
   "pygments_lexer": "ipython3",
   "version": "3.8.3"
  },
  "orig_nbformat": 2,
  "kernelspec": {
   "name": "python383jvsc74a57bd0fabc90530c0b2a27e0e08c39e8896d95069f43881dee3af8511e14ee5c7ad9e5",
   "display_name": "Python 3.8.3 64-bit ('3.8.3': pyenv)"
  }
 },
 "nbformat": 4,
 "nbformat_minor": 2,
 "cells": [
  {
   "cell_type": "code",
   "execution_count": null,
   "metadata": {},
   "outputs": [],
   "source": [
    "import pandas as pd\n",
    "import numpy as np\n",
    "import xarray as xr"
   ]
  },
  {
   "source": [
    "# 20210504_munge_ll_hosp_data\n",
    "\n",
    "The purpose of this notebook is to reformat the (local-only) hospitalization line list data in the file `data/CV19Hospital_ICU_DeID_20210414.csv`. **Important**: before committing this notebook, ensure to clear cell outputs, since these data should not be pushed to public cloud.\n",
    "\n",
    "Right now, data have the following schema:\n",
    "```csv\n",
    "ID,Age,Zip Code of Residence,Hospital,Date of Admission,ICU?,Ventilator?,Date of Discharge,Discharge Status,Occupation\n",
    "9999,99,99999,hosp1,2020-99-99,False,False,2020-99-99,HOSPICE - MEDICAL FACILITY 51,Retired\n",
    "9999,99,99999,hosp1,2020-99-99,False,False,2020-99-99,Expired 20,Retired\n",
    "9999,99,99999,hosp2,2020-99-99,False,False,2020-99-99,HOME,Resident\n",
    "9999,99,99999,hosp2,2020-99-99,False,False,2020-99-99,HOME,Construction and Extraction Occupations\n",
    "```\n",
    "\n",
    "And we want to transform into something like:\n",
    "```csv\n",
    "date,zip_code,hosp,deceased\n",
    "```"
   ],
   "cell_type": "markdown",
   "metadata": {}
  },
  {
   "source": [
    "----\n",
    "\n",
    "Convert to CSV: \n",
    "```\n",
    "in2csv data/CV19Hospital_ICU_DeID_20210414.xlsx > data/CV19Hospital_ICU_DeID_20210414.csv\n",
    "```"
   ],
   "cell_type": "markdown",
   "metadata": {}
  },
  {
   "cell_type": "code",
   "execution_count": null,
   "metadata": {},
   "outputs": [],
   "source": [
    "raw_df = pd.read_csv('../data/CV19Hospital_ICU_DeID_20210414.csv', parse_dates=True)"
   ]
  },
  {
   "source": [
    "Is it plausible to pull death data out of these? And fit to `Ih2D`?"
   ],
   "cell_type": "markdown",
   "metadata": {}
  },
  {
   "cell_type": "code",
   "execution_count": null,
   "metadata": {},
   "outputs": [],
   "source": [
    "raw_df['Discharge Status'].unique()"
   ]
  },
  {
   "source": [
    "Save this for later; there are way too many outcomes documented here that could be categorized as deaths."
   ],
   "cell_type": "markdown",
   "metadata": {}
  },
  {
   "cell_type": "code",
   "execution_count": null,
   "metadata": {},
   "outputs": [],
   "source": [
    "raw_df.head()"
   ]
  },
  {
   "cell_type": "code",
   "execution_count": null,
   "metadata": {},
   "outputs": [],
   "source": [
    "df = (\n",
    "    raw_df\n",
    "    [['ID', 'Zip Code of Residence', 'Date of Admission', 'Date of Discharge']]\n",
    "    .rename(columns={'ID': 'id', 'Zip Code of Residence': 'zip_code', 'Date of Admission': 'admission_date', 'Date of Discharge': 'discharge_date'})\n",
    "    # null admission discharge dates\n",
    "    [raw_df['Date of Discharge'] != 'No Discharge Date']\n",
    "    # .replace('No Discharge Date', np.nan)\n",
    ")"
   ]
  },
  {
   "source": [
    "Convert to datetimes:"
   ],
   "cell_type": "markdown",
   "metadata": {}
  },
  {
   "cell_type": "code",
   "execution_count": null,
   "metadata": {},
   "outputs": [],
   "source": [
    "df['discharge_date'] = pd.to_datetime(df['discharge_date'], format=\"%Y-%m-%d\")\n",
    "df['admission_date'] = pd.to_datetime(df['admission_date'], format=\"%Y-%m-%d\")"
   ]
  },
  {
   "cell_type": "code",
   "execution_count": null,
   "metadata": {},
   "outputs": [],
   "source": [
    "df.head()"
   ]
  },
  {
   "source": [
    "Next, use groupby objects to catalogue admission and discharge events, indexed by zip code and date:"
   ],
   "cell_type": "markdown",
   "metadata": {}
  },
  {
   "cell_type": "code",
   "execution_count": null,
   "metadata": {},
   "outputs": [],
   "source": [
    "admissions = (\n",
    "    df\n",
    "    .rename(columns={'admission_date': 'date'})\n",
    "    .groupby(['zip_code', 'date'])\n",
    "    ['id']\n",
    "    .count()\n",
    ")\n",
    "discharges = (\n",
    "    df\n",
    "    .rename(columns={'discharge_date': 'date'})\n",
    "    .groupby(['zip_code', 'date'])\n",
    "    ['id']\n",
    "    .count()\n",
    ")\n",
    "delta = admissions.sub(discharges, fill_value=0.)\n",
    "delta.head()"
   ]
  },
  {
   "source": [
    "Calculate net change for each zip code. In theory, this should be zero:"
   ],
   "cell_type": "markdown",
   "metadata": {}
  },
  {
   "cell_type": "code",
   "execution_count": null,
   "metadata": {},
   "outputs": [],
   "source": [
    "delta_per_zip = delta.groupby('zip_code').sum()\n",
    "# delta_per_zip\n",
    "with_unacc_dc = delta_per_zip[delta_per_zip > 0].count()\n",
    "unacc_dc = delta_per_zip[delta_per_zip > 0].sum().astype(int)\n",
    "acc_dc = -delta[delta < 0].sum().astype(int)\n",
    "print(f\"There are {with_unacc_dc} zip codes with unaccounted discharges out of {len(delta_per_zip.index)} zip codes.\")\n",
    "print(f\"{unacc_dc} unaccounted for discharges and {acc_dc} accounted for discharges.\")"
   ]
  },
  {
   "source": [
    "What should we do about unaccounted for discharges? Possible solutions:\n",
    "- Set discharge date as max date\n",
    "    - Inflates Ih\n",
    "- Ignore admission and discharge for `id` with unaccounted discharge\n",
    "    - Deflates Ih\n",
    "    - Best path forward according to KP\n",
    "- Calculate the mean hospital duration and use that to extrapolate a discharge date\n",
    "\n",
    "Will probably need to discuss with KP. ~~Until then, take option #1, which is probably the easiest at this point, since it just means \"ignore any possible missed discharge events.\"~~ Going with second option, implemented above already."
   ],
   "cell_type": "markdown",
   "metadata": {}
  },
  {
   "source": [
    "delta.head()"
   ],
   "cell_type": "code",
   "metadata": {},
   "execution_count": null,
   "outputs": []
  },
  {
   "source": [
    "## Convert Events to Incidental Heads in Beds\n",
    "\n",
    "`delta` contains hospitalization events, but we want count of `Ih` compartment at every timepoint. ~~We'll do this by naively looping over every timepoint, and optimize later if this becomes a pain point.~~ `cumsum` is perfect for this."
   ],
   "cell_type": "markdown",
   "metadata": {}
  },
  {
   "source": [
    "We reindex over a continuous date axis, and padding with zeroes."
   ],
   "cell_type": "markdown",
   "metadata": {}
  },
  {
   "cell_type": "code",
   "execution_count": null,
   "metadata": {},
   "outputs": [],
   "source": [
    "cont_dt = pd.date_range(\n",
    "    start=delta.index.get_level_values(1).min(),\n",
    "    end=delta.index.get_level_values(1).max(), \n",
    "    freq='D'\n",
    ")\n",
    "cont_dt"
   ]
  },
  {
   "cell_type": "code",
   "execution_count": null,
   "metadata": {},
   "outputs": [],
   "source": [
    "cont_midx = pd.MultiIndex.from_product(\n",
    "    [delta.index.levels[0], cont_dt],\n",
    "    names=['zip_code', 'date'])\n",
    "ih_ser= delta.reindex(cont_midx, fill_value=0., copy=True)\n",
    "# remove 'Unknown' zip code\n",
    "del ih_ser['Unknown']\n",
    "# convert to df\n",
    "ih = ih_ser.to_frame(name='delta')"
   ]
  },
  {
   "cell_type": "code",
   "execution_count": null,
   "metadata": {},
   "outputs": [],
   "source": [
    "ih['cumsum'] = ih['delta'].cumsum()\n",
    "assert ih['cumsum'].any()"
   ]
  },
  {
   "source": [
    "## Write to CSV"
   ],
   "cell_type": "markdown",
   "metadata": {}
  },
  {
   "cell_type": "code",
   "execution_count": 15,
   "metadata": {},
   "outputs": [
    {
     "output_type": "stream",
     "name": "stdout",
     "text": [
      "5.0M\t../data/CV19Hospital_ICU_DeID_20210414_cumsum.csv\n"
     ]
    }
   ],
   "source": [
    "ih['cumsum'].to_csv('../data/CV19Hospital_ICU_DeID_20210414_cumsum.csv')\n",
    "!du -hs '../data/CV19Hospital_ICU_DeID_20210414_cumsum.csv'"
   ]
  }
 ]
}