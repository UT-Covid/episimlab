{
 "cells": [
  {
   "cell_type": "code",
   "execution_count": 1,
   "metadata": {},
   "outputs": [],
   "source": [
    "import numpy as np\n",
    "import xarray as xr\n",
    "from itertools import product\n",
    "import xsimlab as xs\n",
    "from xsimlab import variable as var, global_ref as glob\n",
    "import pandas as pd\n",
    "import zarr\n",
    "import matplotlib.pyplot as plt\n",
    "import networkx as nx"
   ]
  },
  {
   "cell_type": "markdown",
   "metadata": {
    "jp-MarkdownHeadingCollapsed": true,
    "tags": []
   },
   "source": [
    "# 20210805_sandbox\n",
    "\n",
    "Try adding a `risk` axis and continue to have `foi` and `foi_bf` methods consistent."
   ]
  },
  {
   "cell_type": "markdown",
   "metadata": {
    "tags": []
   },
   "source": [
    "# Utils"
   ]
  },
  {
   "cell_type": "code",
   "execution_count": 14,
   "metadata": {},
   "outputs": [],
   "source": [
    "def get_var_dims(process, name) -> tuple:\n",
    "    \"\"\"Given process-wrapped class `process`, retrieve the `dims` metadata\n",
    "    attribute for variable with `name`.\n",
    "    \"\"\"\n",
    "    if not '__xsimlab_cls__' in dir(process):\n",
    "        raise TypeError(\n",
    "            f\"Expected type 'xsimlab.Process' for arg `process`, received \" +\n",
    "            f\"'{type(process)}'\"\n",
    "        )\n",
    "    var = xs.utils.variables_dict(process).get(name, None)\n",
    "    if var is None:\n",
    "        raise AttributeError(f\"process '{process}' has no attribute '{name}'\")\n",
    "    return tuple(var.metadata['dims'][0])\n"
   ]
  },
  {
   "cell_type": "code",
   "execution_count": 15,
   "metadata": {},
   "outputs": [],
   "source": [
    "def group_dict_by_var(d: dict) -> dict:\n",
    "    return {k: d[(proc, k)] for (proc, k) in d}"
   ]
  },
  {
   "cell_type": "markdown",
   "metadata": {},
   "source": [
    "# Define Processes"
   ]
  },
  {
   "cell_type": "code",
   "execution_count": 16,
   "metadata": {},
   "outputs": [],
   "source": [
    "@xs.process\n",
    "class RecoveryRate:\n",
    "    \"\"\"Provide a `rate_I2R`\"\"\"\n",
    "    rate_I2R = var(global_name='rate_I2R', groups=['tm'], intent='out')\n",
    "    gamma = var(global_name='gamma', intent='in')\n",
    "    state = glob('state', intent='in')\n",
    "\n",
    "    def run_step(self):\n",
    "        self.rate_I2R = self.gamma * self.I\n",
    "    \n",
    "    @property\n",
    "    def I(self):\n",
    "        return self.state.loc[dict(compt='I')]"
   ]
  },
  {
   "cell_type": "code",
   "execution_count": 17,
   "metadata": {},
   "outputs": [],
   "source": [
    "@xs.process\n",
    "class InitComptGraph:\n",
    "    \"\"\"Generate a toy compartment graph\"\"\"\n",
    "    compt_graph = glob('compt_graph', intent='out')\n",
    "\n",
    "    def get_compt_graph(self) -> nx.DiGraph:\n",
    "        g = nx.DiGraph()\n",
    "        g.add_nodes_from([\n",
    "            ('S', {\"color\": \"red\"}),\n",
    "            ('I', {\"color\": \"blue\"}),\n",
    "            ('R', {\"color\": \"green\"}),\n",
    "        ])\n",
    "        g.add_edges_from([\n",
    "            ('S', 'I', {\"priority\": 0, \"color\": \"red\"}),\n",
    "            ('I', 'R', {\"priority\": 1, \"color\": \"blue\"}),\n",
    "        ])\n",
    "        return g\n",
    "    \n",
    "    def vis(self):\n",
    "        return nx.draw(self.compt_graph)\n",
    "    \n",
    "    def initialize(self):\n",
    "        self.compt_graph = self.get_compt_graph()"
   ]
  },
  {
   "cell_type": "code",
   "execution_count": 18,
   "metadata": {},
   "outputs": [],
   "source": [
    "@xs.process\n",
    "class SEIR:\n",
    "    \"\"\"Sums subsets of TM (in group `tm`) from many processes to output TM.\"\"\"\n",
    "    STATE_DIMS = ('compt', 'age', 'risk')\n",
    "    _tm_subset = xs.group_dict('tm')\n",
    "    state = var(dims=STATE_DIMS, intent='inout', global_name='state')\n",
    "    tm = var(dims=STATE_DIMS, intent='out', global_name='tm')\n",
    "    compt_graph = var('compt_graph', intent='in', global_name='compt_graph')\n",
    "    \n",
    "    def run_step(self):\n",
    "        \"\"\"In particular, we need to ensure that `tm_subset` and `tm` refresh\n",
    "        at every timestep.\n",
    "        \"\"\"\n",
    "        self.tm = self.init_tm()\n",
    "        self.tm_subset = self.get_tm_subset()\n",
    "        self.apply_edges()\n",
    "\n",
    "    def finalize_step(self):\n",
    "        self.state += self.tm\n",
    "        \n",
    "    def init_tm(self):\n",
    "        \"\"\"Initialize transition matrix (TM) as a matrix of zeros.\"\"\"\n",
    "        return xr.zeros_like(self.state)\n",
    "        \n",
    "    def apply_edges(self):\n",
    "        \"\"\"Iterate over edges in `compt_graph` in ascending order of `priority`.\n",
    "        Apply each edge to the TM.\n",
    "        \"\"\"\n",
    "        # TODO: represent as tuples by prioirity\n",
    "        for (u, v) in self.compt_graph.edges:\n",
    "            self.edge_to_tm(u, v)\n",
    "    \n",
    "    def edge_to_tm(self, u, v) -> None:\n",
    "        \"\"\"Applies to the transition matrix (TM) the weight of a directed edge \n",
    "        from compartment `u` to compartment `v`. Find the element-wise\n",
    "        minimum of origin node state and weight of outgoing edge to ensure\n",
    "        that origin node state is always non-negative after edge weight has\n",
    "        been applied.\n",
    "        \"\"\"\n",
    "        weight = xr.ufuncs.minimum(\n",
    "            # origin node weight\n",
    "            self.state.loc[dict(compt=u)],\n",
    "            # unadjusted edge weight\n",
    "            self.edge_weight(u, v)\n",
    "        )\n",
    "        # print(f\"adjusted weight of edge from {u} to {v} is {weight}\")\n",
    "        self.tm.loc[dict(compt=u)] -= weight\n",
    "        self.tm.loc[dict(compt=v)] += weight\n",
    "        \n",
    "    def edge_weight(self, u, v):\n",
    "        \"\"\"Try to find an edge weight for (u, v) from `tm_subset`.\"\"\"\n",
    "        key = self.edge_weight_name(u, v)\n",
    "        if key not in self.tm_subset:\n",
    "            print(f\"WARNING: could not find a weight for transition from {u} to {v} compartment ({key})\")\n",
    "            weight = 0.\n",
    "        else:\n",
    "            weight = self.tm_subset[key]\n",
    "        return weight\n",
    "    \n",
    "    def edge_weight_name(self, u, v) -> str:\n",
    "        \"\"\"Key to look for when finding edge weights between nodes `u` and `v`.\"\"\"\n",
    "        return f\"rate_{u}2{v}\"\n",
    "    \n",
    "    def get_tm_subset(self):\n",
    "        \"\"\"`_tm_subset` indexes on (`process_name`, `variable_name`), so we must convert\n",
    "        keys to `variable_name`.\n",
    "        \"\"\"\n",
    "        return group_dict_by_var(self._tm_subset)"
   ]
  },
  {
   "cell_type": "code",
   "execution_count": 19,
   "metadata": {},
   "outputs": [],
   "source": [
    "@xs.process\n",
    "class InitCoords:\n",
    "    \"\"\"Initialize state coordinates\"\"\"\n",
    "    compt = var(global_name='compt_coords', groups=['state_coords'], intent='out')\n",
    "    age = var(global_name='age_coords', groups=['state_coords'], intent='out')\n",
    "    risk = var(global_name='risk_coords', groups=['state_coords'], intent='out')\n",
    "    \n",
    "    def initialize(self):\n",
    "        self.compt = ['S', 'I', 'R'] \n",
    "        self.age = ['0-4', '5-17', '18-49', '50-64', '65+']\n",
    "        self.risk = ['low', 'high']"
   ]
  },
  {
   "cell_type": "code",
   "execution_count": 20,
   "metadata": {},
   "outputs": [],
   "source": [
    "@xs.process\n",
    "class InitState:\n",
    "    \"\"\"Initialize state matrix\"\"\"\n",
    "    _state_coords = xs.group_dict('state_coords')\n",
    "    state = glob('state', intent='out')\n",
    "    \n",
    "    def initialize(self):\n",
    "        self.state = xr.DataArray(\n",
    "            data=0.,\n",
    "            dims=self.state_dims,\n",
    "            coords=self.state_coords\n",
    "        )\n",
    "        self.state.loc[dict(compt='S')] = np.array([[1000, 900, 800, 700, 600]] * 2).T\n",
    "        self.state.loc[dict(compt='I')] = np.array([[100, 90, 80, 70, 60]] * 2).T\n",
    "    \n",
    "    @property\n",
    "    def state_dims(self):\n",
    "        return get_var_dims(SEIR, 'state')\n",
    "    \n",
    "    @property\n",
    "    def state_coords(self):\n",
    "        return group_dict_by_var(self._state_coords)"
   ]
  },
  {
   "cell_type": "code",
   "execution_count": 21,
   "metadata": {},
   "outputs": [],
   "source": [
    "@xs.process\n",
    "class InitPhi:\n",
    "    \"\"\"Set value of phi (contacts per unit time).\"\"\"\n",
    "    PHI_DIMS = ('age0', 'age1', 'risk0', 'risk1')\n",
    "    RANDOM_PHI_DATA = np.array([\n",
    "        [0.89, 0.48, 0.31, 0.75, 0.07],\n",
    "        [0.64, 0.69, 0.13, 0.00, 0.05],\n",
    "        [0.46, 0.58, 0.19, 0.16, 0.11],\n",
    "        [0.53, 0.36, 0.26, 0.35, 0.13],\n",
    "        [0.68, 0.70, 0.36, 0.23, 0.28]\n",
    "    ]) \n",
    "    phi = glob('phi', intent='out')\n",
    "    age_coords = glob('age_coords', intent='in')\n",
    "    risk_coords = glob('risk_coords', intent='in')\n",
    "    \n",
    "    def initialize(self):\n",
    "        data = self.extend_phi_dims(self.RANDOM_PHI_DATA, self.risk_coords)\n",
    "        self.phi = xr.DataArray(data=data, dims=self.phi_dims, coords=self.phi_coords)\n",
    "    \n",
    "    def extend_phi_dims(self, data, coords) -> np.ndarray:\n",
    "        f = lambda data, coords: np.stack([data] * len(coords), axis=-1)\n",
    "        return f(f(data, coords), coords)\n",
    "    \n",
    "    @property\n",
    "    def phi_dims(self):\n",
    "        return self.PHI_DIMS\n",
    "    \n",
    "    @property\n",
    "    def phi_coords(self):\n",
    "        return dict(age0=self.age_coords, age1=self.age_coords, risk0=self.risk_coords, risk1=self.risk_coords)"
   ]
  },
  {
   "cell_type": "code",
   "execution_count": 22,
   "metadata": {},
   "outputs": [],
   "source": [
    "def reindex_to_phi(da: xr.DataArray, suffix: str = '0') -> xr.DataArray:\n",
    "    pass\n",
    "\n",
    "def reindex_from_phi(da: xr.DataArray) -> xr.DataArray:\n",
    "    \"\"\"\n",
    "    TODO: matches an arg regex\n",
    "    \"\"\"\n",
    "    pass"
   ]
  },
  {
   "cell_type": "code",
   "execution_count": null,
   "metadata": {},
   "outputs": [],
   "source": [
    "@xs.process\n",
    "class FOI:\n",
    "    \"\"\"Calculate force of infection (FOI) with naive\n",
    "    for looping.\n",
    "    \"\"\"\n",
    "    PHI_DIMS = ('age0', 'age1', 'risk0', 'risk1')\n",
    "    FOI_DIMS = ('age', 'risk')\n",
    "    state = glob('state', intent='in')\n",
    "    beta = var(global_name='beta', intent='in')\n",
    "    phi = var(dims=PHI_DIMS, global_name='phi', intent='in')\n",
    "    rate_S2I = var(intent='out', groups=['tm'])\n",
    "    age_coords = glob('age_coords', intent='in')\n",
    "    risk_coords = glob('risk_coords', intent='in')\n",
    "    \n",
    "    def run_step(self):\n",
    "        self.rate_S2I = self.foi\n",
    "        print(\"foi_bf: \", self.foi_bf)\n",
    "        print(\"foi: \", self.foi)\n",
    "        assert 0\n",
    "    \n",
    "    def init_foi(self) -> xr.DataArray:\n",
    "        return xr.DataArray(data=0., dims=self.FOI_DIMS, coords=dict(age=self.age_coords, risk=self.risk_coords))\n",
    "    \n",
    "    @property\n",
    "    def foi(self) -> xr.DataArray:\n",
    "        zero_suffix = self.suffixed_dims(self.S, '0')\n",
    "        one_suffix = self.suffixed_dims(self.S, '1')\n",
    "        # S = self.S.rename({'age': 'age0', 'risk': 'risk0'})\n",
    "        S = self.S.rename(zero_suffix)\n",
    "        # I = self.I.rename({'age': 'age1', 'risk': 'risk1'})\n",
    "        I = self.I.rename(one_suffix)\n",
    "        # N = self.state.sum('compt').rename({'age': 'age1', 'risk': 'risk1'})\n",
    "        N = self.state.sum('compt').rename(one_suffix)\n",
    "        foi = ((self.beta * self.phi * S * I / N)\n",
    "               # sum over coords that are not compt\n",
    "               .sum(one_suffix.values())\n",
    "               # like .rename({'age0': 'age', 'risk0': 'risk'})\n",
    "               .rename({v: k for k, v in zero_suffix.items()}))\n",
    "        return foi\n",
    "    \n",
    "    @property\n",
    "    def foi_bf(self) -> xr.DataArray:\n",
    "        \"\"\"Brute force FOI, like BruteForceFOI in Episimlab v1.0\"\"\"\n",
    "        foi = self.init_foi()\n",
    "        for a0, r0, a1, r1 in product(*[self.age_coords, self.risk_coords] * 2):\n",
    "            i0, i1 = dict(age=a0, risk=r0), dict(age=a1, risk=r1)\n",
    "            phi = self.phi.loc[dict(age0=a0, age1=a1, risk0=r0, risk1=r1)].values\n",
    "            S = self.S.loc[i0].values\n",
    "            I = self.I.loc[i1].values\n",
    "            N = self.state.loc[i1].sum('compt').values\n",
    "            foi.loc[i0] += phi * self.beta * S * I / N\n",
    "        return foi\n",
    "    \n",
    "    @property\n",
    "    def foi_scalar(self):\n",
    "        \"\"\"Only works if phi is a scalar.\"\"\"\n",
    "        return self.phi * self.beta * self.S * self.I / self.N\n",
    "    \n",
    "    def suffixed_dims(self, da: xr.DataArray, suffix: str = '0', exclude: list = None) -> xr.DataArray:\n",
    "        if exclude is None:\n",
    "            exclude = list()\n",
    "        return {k: f\"{k}{suffix}\" for k in da.dims if k not in exclude}\n",
    "    \n",
    "    def unsuffixed_dims(self, da: xr.DataArray, exclude: list = None) -> xr.DataArray:\n",
    "        if exclude is None:\n",
    "            exclude = list()\n",
    "        f = lambda x: x.rstrip('0123456789')\n",
    "        return {k: f(k) for k in da.dims if f(k) not in exclude}\n",
    "    \n",
    "    @property\n",
    "    def S(self):\n",
    "        return self.state.loc[dict(compt='S')]\n",
    "        \n",
    "    @property\n",
    "    def I(self):\n",
    "        return self.state.loc[dict(compt='I')]\n",
    "    \n",
    "    @property\n",
    "    def N(self):\n",
    "        return self.state.sum()"
   ]
  },
  {
   "cell_type": "markdown",
   "metadata": {},
   "source": [
    "# Run Model"
   ]
  },
  {
   "cell_type": "code",
   "execution_count": 40,
   "metadata": {},
   "outputs": [],
   "source": [
    "model = xs.Model({\n",
    "    'init_phi': InitPhi,\n",
    "    'init_coords': InitCoords,\n",
    "    'init_state': InitState,\n",
    "    'seir': SEIR,\n",
    "    'foi': FOI,\n",
    "    'init_compt_graph': InitComptGraph,\n",
    "    'recovery_rate': RecoveryRate\n",
    "})\n",
    "# model.visualize(show_inputs=True, show_variables=True)"
   ]
  },
  {
   "cell_type": "code",
   "execution_count": 41,
   "metadata": {},
   "outputs": [
    {
     "name": "stdout",
     "output_type": "stream",
     "text": [
      "foi_bf:  <xarray.DataArray (age: 5, risk: 2)>\n",
      "array([[318.18181818, 318.18181818],\n",
      "       [172.96363636, 172.96363636],\n",
      "       [152.72727273, 152.72727273],\n",
      "       [145.21818182, 145.21818182],\n",
      "       [171.81818182, 171.81818182]])\n",
      "Coordinates:\n",
      "  * age      (age) <U5 '0-4' '5-17' '18-49' '50-64' '65+'\n",
      "  * risk     (risk) <U4 'low' 'high'\n",
      "foi:  <xarray.DataArray (age: 5, risk: 2)>\n",
      "array([[318.18181818, 318.18181818],\n",
      "       [172.96363636, 172.96363636],\n",
      "       [152.72727273, 152.72727273],\n",
      "       [145.21818182, 145.21818182],\n",
      "       [171.81818182, 171.81818182]])\n",
      "Coordinates:\n",
      "  * age      (age) <U5 '0-4' '5-17' '18-49' '50-64' '65+'\n",
      "  * risk     (risk) <U4 'low' 'high'\n"
     ]
    },
    {
     "ename": "AssertionError",
     "evalue": "",
     "output_type": "error",
     "traceback": [
      "\u001b[0;31m---------------------------------------------------------------------------\u001b[0m",
      "\u001b[0;31mAssertionError\u001b[0m                            Traceback (most recent call last)",
      "\u001b[0;32m/var/folders/33/vxtzj4k933q_5wpcpxshzt8m0000gn/T/ipykernel_94035/3885565806.py\u001b[0m in \u001b[0;36m<module>\u001b[0;34m\u001b[0m\n\u001b[1;32m     12\u001b[0m     }\n\u001b[1;32m     13\u001b[0m )\n\u001b[0;32m---> 14\u001b[0;31m \u001b[0mout_ds\u001b[0m \u001b[0;34m=\u001b[0m \u001b[0min_ds\u001b[0m\u001b[0;34m.\u001b[0m\u001b[0mxsimlab\u001b[0m\u001b[0;34m.\u001b[0m\u001b[0mrun\u001b[0m\u001b[0;34m(\u001b[0m\u001b[0mmodel\u001b[0m\u001b[0;34m=\u001b[0m\u001b[0mmodel\u001b[0m\u001b[0;34m,\u001b[0m \u001b[0mdecoding\u001b[0m\u001b[0;34m=\u001b[0m\u001b[0mdict\u001b[0m\u001b[0;34m(\u001b[0m\u001b[0mmask_and_scale\u001b[0m\u001b[0;34m=\u001b[0m\u001b[0;32mFalse\u001b[0m\u001b[0;34m)\u001b[0m\u001b[0;34m)\u001b[0m\u001b[0;34m\u001b[0m\u001b[0;34m\u001b[0m\u001b[0m\n\u001b[0m",
      "\u001b[0;32m/opt/miniconda3/envs/episimlab/lib/python3.9/site-packages/xsimlab/xr_accessor.py\u001b[0m in \u001b[0;36mrun\u001b[0;34m(self, model, batch_dim, check_dims, validate, store, encoding, decoding, hooks, parallel, scheduler, safe_mode)\u001b[0m\n\u001b[1;32m    821\u001b[0m         )\n\u001b[1;32m    822\u001b[0m \u001b[0;34m\u001b[0m\u001b[0m\n\u001b[0;32m--> 823\u001b[0;31m         \u001b[0mdriver\u001b[0m\u001b[0;34m.\u001b[0m\u001b[0mrun_model\u001b[0m\u001b[0;34m(\u001b[0m\u001b[0;34m)\u001b[0m\u001b[0;34m\u001b[0m\u001b[0;34m\u001b[0m\u001b[0m\n\u001b[0m\u001b[1;32m    824\u001b[0m \u001b[0;34m\u001b[0m\u001b[0m\n\u001b[1;32m    825\u001b[0m         \u001b[0;32mreturn\u001b[0m \u001b[0mdriver\u001b[0m\u001b[0;34m.\u001b[0m\u001b[0mget_results\u001b[0m\u001b[0;34m(\u001b[0m\u001b[0;34m)\u001b[0m\u001b[0;34m\u001b[0m\u001b[0;34m\u001b[0m\u001b[0m\n",
      "\u001b[0;32m/opt/miniconda3/envs/episimlab/lib/python3.9/site-packages/xsimlab/drivers.py\u001b[0m in \u001b[0;36mrun_model\u001b[0;34m(self)\u001b[0m\n\u001b[1;32m    470\u001b[0m \u001b[0;34m\u001b[0m\u001b[0m\n\u001b[1;32m    471\u001b[0m         \u001b[0;32mif\u001b[0m \u001b[0mself\u001b[0m\u001b[0;34m.\u001b[0m\u001b[0mbatch_dim\u001b[0m \u001b[0;32mis\u001b[0m \u001b[0;32mNone\u001b[0m\u001b[0;34m:\u001b[0m\u001b[0;34m\u001b[0m\u001b[0;34m\u001b[0m\u001b[0m\n\u001b[0;32m--> 472\u001b[0;31m             _run(\n\u001b[0m\u001b[1;32m    473\u001b[0m                 \u001b[0mds_in\u001b[0m\u001b[0;34m,\u001b[0m\u001b[0;34m\u001b[0m\u001b[0;34m\u001b[0m\u001b[0m\n\u001b[1;32m    474\u001b[0m                 \u001b[0mself\u001b[0m\u001b[0;34m.\u001b[0m\u001b[0mmodel\u001b[0m\u001b[0;34m,\u001b[0m\u001b[0;34m\u001b[0m\u001b[0;34m\u001b[0m\u001b[0m\n",
      "\u001b[0;32m/opt/miniconda3/envs/episimlab/lib/python3.9/site-packages/xsimlab/drivers.py\u001b[0m in \u001b[0;36m_run\u001b[0;34m(dataset, model, store, hooks, validate, batch, batch_size, parallel, scheduler)\u001b[0m\n\u001b[1;32m    347\u001b[0m             \u001b[0min_vars\u001b[0m \u001b[0;34m=\u001b[0m \u001b[0m_get_input_vars\u001b[0m\u001b[0;34m(\u001b[0m\u001b[0mds_step\u001b[0m\u001b[0;34m,\u001b[0m \u001b[0mmodel\u001b[0m\u001b[0;34m)\u001b[0m\u001b[0;34m\u001b[0m\u001b[0;34m\u001b[0m\u001b[0m\n\u001b[1;32m    348\u001b[0m             \u001b[0mmodel\u001b[0m\u001b[0;34m.\u001b[0m\u001b[0mupdate_state\u001b[0m\u001b[0;34m(\u001b[0m\u001b[0min_vars\u001b[0m\u001b[0;34m,\u001b[0m \u001b[0mvalidate\u001b[0m\u001b[0;34m=\u001b[0m\u001b[0mvalidate_inputs\u001b[0m\u001b[0;34m,\u001b[0m \u001b[0mignore_static\u001b[0m\u001b[0;34m=\u001b[0m\u001b[0;32mFalse\u001b[0m\u001b[0;34m)\u001b[0m\u001b[0;34m\u001b[0m\u001b[0;34m\u001b[0m\u001b[0m\n\u001b[0;32m--> 349\u001b[0;31m             \u001b[0msignal\u001b[0m \u001b[0;34m=\u001b[0m \u001b[0mmodel\u001b[0m\u001b[0;34m.\u001b[0m\u001b[0mexecute\u001b[0m\u001b[0;34m(\u001b[0m\u001b[0;34m\"run_step\"\u001b[0m\u001b[0;34m,\u001b[0m \u001b[0mrt_context\u001b[0m\u001b[0;34m,\u001b[0m \u001b[0;34m**\u001b[0m\u001b[0mexecute_kwargs\u001b[0m\u001b[0;34m)\u001b[0m\u001b[0;34m\u001b[0m\u001b[0;34m\u001b[0m\u001b[0m\n\u001b[0m\u001b[1;32m    350\u001b[0m \u001b[0;34m\u001b[0m\u001b[0m\n\u001b[1;32m    351\u001b[0m             \u001b[0;32mif\u001b[0m \u001b[0msignal\u001b[0m \u001b[0;34m==\u001b[0m \u001b[0mRuntimeSignal\u001b[0m\u001b[0;34m.\u001b[0m\u001b[0mBREAK\u001b[0m\u001b[0;34m:\u001b[0m\u001b[0;34m\u001b[0m\u001b[0;34m\u001b[0m\u001b[0m\n",
      "\u001b[0;32m/opt/miniconda3/envs/episimlab/lib/python3.9/site-packages/xsimlab/model.py\u001b[0m in \u001b[0;36mexecute\u001b[0;34m(self, stage, runtime_context, hooks, validate, parallel, scheduler)\u001b[0m\n\u001b[1;32m   1021\u001b[0m         \u001b[0;32melse\u001b[0m\u001b[0;34m:\u001b[0m\u001b[0;34m\u001b[0m\u001b[0;34m\u001b[0m\u001b[0m\n\u001b[1;32m   1022\u001b[0m             \u001b[0;32mfor\u001b[0m \u001b[0mp_obj\u001b[0m \u001b[0;32min\u001b[0m \u001b[0mself\u001b[0m\u001b[0;34m.\u001b[0m\u001b[0m_processes\u001b[0m\u001b[0;34m.\u001b[0m\u001b[0mvalues\u001b[0m\u001b[0;34m(\u001b[0m\u001b[0;34m)\u001b[0m\u001b[0;34m:\u001b[0m\u001b[0;34m\u001b[0m\u001b[0;34m\u001b[0m\u001b[0m\n\u001b[0;32m-> 1023\u001b[0;31m                 \u001b[0m_\u001b[0m\u001b[0;34m,\u001b[0m \u001b[0;34m(\u001b[0m\u001b[0m_\u001b[0m\u001b[0;34m,\u001b[0m \u001b[0msignal_process\u001b[0m\u001b[0;34m)\u001b[0m \u001b[0;34m=\u001b[0m \u001b[0mself\u001b[0m\u001b[0;34m.\u001b[0m\u001b[0m_execute_process\u001b[0m\u001b[0;34m(\u001b[0m\u001b[0mp_obj\u001b[0m\u001b[0;34m,\u001b[0m \u001b[0;34m*\u001b[0m\u001b[0mexecute_args\u001b[0m\u001b[0;34m)\u001b[0m\u001b[0;34m\u001b[0m\u001b[0;34m\u001b[0m\u001b[0m\n\u001b[0m\u001b[1;32m   1024\u001b[0m \u001b[0;34m\u001b[0m\u001b[0m\n\u001b[1;32m   1025\u001b[0m                 \u001b[0;32mif\u001b[0m \u001b[0msignal_process\u001b[0m \u001b[0;34m==\u001b[0m \u001b[0mRuntimeSignal\u001b[0m\u001b[0;34m.\u001b[0m\u001b[0mBREAK\u001b[0m\u001b[0;34m:\u001b[0m\u001b[0;34m\u001b[0m\u001b[0;34m\u001b[0m\u001b[0m\n",
      "\u001b[0;32m/opt/miniconda3/envs/episimlab/lib/python3.9/site-packages/xsimlab/model.py\u001b[0m in \u001b[0;36m_execute_process\u001b[0;34m(self, p_obj, stage, runtime_context, hooks, validate, state)\u001b[0m\n\u001b[1;32m    840\u001b[0m             \u001b[0;32mreturn\u001b[0m \u001b[0mp_name\u001b[0m\u001b[0;34m,\u001b[0m \u001b[0;34m(\u001b[0m\u001b[0;34m{\u001b[0m\u001b[0;34m}\u001b[0m\u001b[0;34m,\u001b[0m \u001b[0msignal_pre\u001b[0m\u001b[0;34m)\u001b[0m\u001b[0;34m\u001b[0m\u001b[0;34m\u001b[0m\u001b[0m\n\u001b[1;32m    841\u001b[0m \u001b[0;34m\u001b[0m\u001b[0m\n\u001b[0;32m--> 842\u001b[0;31m         state_out, signal_out = executor.execute(\n\u001b[0m\u001b[1;32m    843\u001b[0m             \u001b[0mp_obj\u001b[0m\u001b[0;34m,\u001b[0m \u001b[0mstage\u001b[0m\u001b[0;34m,\u001b[0m \u001b[0mruntime_context\u001b[0m\u001b[0;34m,\u001b[0m \u001b[0mstate\u001b[0m\u001b[0;34m=\u001b[0m\u001b[0mstate\u001b[0m\u001b[0;34m\u001b[0m\u001b[0;34m\u001b[0m\u001b[0m\n\u001b[1;32m    844\u001b[0m         )\n",
      "\u001b[0;32m/opt/miniconda3/envs/episimlab/lib/python3.9/site-packages/xsimlab/process.py\u001b[0m in \u001b[0;36mexecute\u001b[0;34m(self, p_obj, stage, runtime_context, state)\u001b[0m\n\u001b[1;32m    528\u001b[0m             \u001b[0;32mreturn\u001b[0m \u001b[0;34m{\u001b[0m\u001b[0;34m}\u001b[0m\u001b[0;34m,\u001b[0m \u001b[0mRuntimeSignal\u001b[0m\u001b[0;34m.\u001b[0m\u001b[0mNONE\u001b[0m\u001b[0;34m\u001b[0m\u001b[0;34m\u001b[0m\u001b[0m\n\u001b[1;32m    529\u001b[0m         \u001b[0;32melse\u001b[0m\u001b[0;34m:\u001b[0m\u001b[0;34m\u001b[0m\u001b[0;34m\u001b[0m\u001b[0m\n\u001b[0;32m--> 530\u001b[0;31m             \u001b[0msignal_out\u001b[0m \u001b[0;34m=\u001b[0m \u001b[0mexecutor\u001b[0m\u001b[0;34m.\u001b[0m\u001b[0mexecute\u001b[0m\u001b[0;34m(\u001b[0m\u001b[0mp_obj\u001b[0m\u001b[0;34m,\u001b[0m \u001b[0mruntime_context\u001b[0m\u001b[0;34m,\u001b[0m \u001b[0mstate\u001b[0m\u001b[0;34m=\u001b[0m\u001b[0mstate\u001b[0m\u001b[0;34m)\u001b[0m\u001b[0;34m\u001b[0m\u001b[0;34m\u001b[0m\u001b[0m\n\u001b[0m\u001b[1;32m    531\u001b[0m \u001b[0;34m\u001b[0m\u001b[0m\n\u001b[1;32m    532\u001b[0m             \u001b[0mskeys\u001b[0m \u001b[0;34m=\u001b[0m \u001b[0;34m[\u001b[0m\u001b[0mp_obj\u001b[0m\u001b[0;34m.\u001b[0m\u001b[0m__xsimlab_state_keys__\u001b[0m\u001b[0;34m[\u001b[0m\u001b[0mk\u001b[0m\u001b[0;34m]\u001b[0m \u001b[0;32mfor\u001b[0m \u001b[0mk\u001b[0m \u001b[0;32min\u001b[0m \u001b[0mself\u001b[0m\u001b[0;34m.\u001b[0m\u001b[0mout_vars\u001b[0m\u001b[0;34m]\u001b[0m\u001b[0;34m\u001b[0m\u001b[0;34m\u001b[0m\u001b[0m\n",
      "\u001b[0;32m/opt/miniconda3/envs/episimlab/lib/python3.9/site-packages/xsimlab/process.py\u001b[0m in \u001b[0;36mexecute\u001b[0;34m(self, p_obj, runtime_context, state)\u001b[0m\n\u001b[1;32m    392\u001b[0m         \u001b[0margs\u001b[0m \u001b[0;34m=\u001b[0m \u001b[0;34m[\u001b[0m\u001b[0mruntime_context\u001b[0m\u001b[0;34m[\u001b[0m\u001b[0mk\u001b[0m\u001b[0;34m]\u001b[0m \u001b[0;32mfor\u001b[0m \u001b[0mk\u001b[0m \u001b[0;32min\u001b[0m \u001b[0mself\u001b[0m\u001b[0;34m.\u001b[0m\u001b[0margs\u001b[0m\u001b[0;34m]\u001b[0m\u001b[0;34m\u001b[0m\u001b[0;34m\u001b[0m\u001b[0m\n\u001b[1;32m    393\u001b[0m \u001b[0;34m\u001b[0m\u001b[0m\n\u001b[0;32m--> 394\u001b[0;31m         \u001b[0msignal\u001b[0m \u001b[0;34m=\u001b[0m \u001b[0mself\u001b[0m\u001b[0;34m.\u001b[0m\u001b[0mmeth\u001b[0m\u001b[0;34m(\u001b[0m\u001b[0mp_obj\u001b[0m\u001b[0;34m,\u001b[0m \u001b[0;34m*\u001b[0m\u001b[0margs\u001b[0m\u001b[0;34m)\u001b[0m\u001b[0;34m\u001b[0m\u001b[0;34m\u001b[0m\u001b[0m\n\u001b[0m\u001b[1;32m    395\u001b[0m \u001b[0;34m\u001b[0m\u001b[0m\n\u001b[1;32m    396\u001b[0m         \u001b[0;32mif\u001b[0m \u001b[0msignal\u001b[0m \u001b[0;32mis\u001b[0m \u001b[0;32mNone\u001b[0m\u001b[0;34m:\u001b[0m\u001b[0;34m\u001b[0m\u001b[0;34m\u001b[0m\u001b[0m\n",
      "\u001b[0;32m/var/folders/33/vxtzj4k933q_5wpcpxshzt8m0000gn/T/ipykernel_94035/976585506.py\u001b[0m in \u001b[0;36mrun_step\u001b[0;34m(self)\u001b[0m\n\u001b[1;32m     17\u001b[0m         \u001b[0mprint\u001b[0m\u001b[0;34m(\u001b[0m\u001b[0;34m\"foi_bf: \"\u001b[0m\u001b[0;34m,\u001b[0m \u001b[0mself\u001b[0m\u001b[0;34m.\u001b[0m\u001b[0mfoi_bf\u001b[0m\u001b[0;34m)\u001b[0m\u001b[0;34m\u001b[0m\u001b[0;34m\u001b[0m\u001b[0m\n\u001b[1;32m     18\u001b[0m         \u001b[0mprint\u001b[0m\u001b[0;34m(\u001b[0m\u001b[0;34m\"foi: \"\u001b[0m\u001b[0;34m,\u001b[0m \u001b[0mself\u001b[0m\u001b[0;34m.\u001b[0m\u001b[0mfoi\u001b[0m\u001b[0;34m)\u001b[0m\u001b[0;34m\u001b[0m\u001b[0;34m\u001b[0m\u001b[0m\n\u001b[0;32m---> 19\u001b[0;31m         \u001b[0;32massert\u001b[0m \u001b[0;36m0\u001b[0m\u001b[0;34m\u001b[0m\u001b[0;34m\u001b[0m\u001b[0m\n\u001b[0m\u001b[1;32m     20\u001b[0m \u001b[0;34m\u001b[0m\u001b[0m\n\u001b[1;32m     21\u001b[0m     \u001b[0;32mdef\u001b[0m \u001b[0minit_foi\u001b[0m\u001b[0;34m(\u001b[0m\u001b[0mself\u001b[0m\u001b[0;34m)\u001b[0m \u001b[0;34m->\u001b[0m \u001b[0mxr\u001b[0m\u001b[0;34m.\u001b[0m\u001b[0mDataArray\u001b[0m\u001b[0;34m:\u001b[0m\u001b[0;34m\u001b[0m\u001b[0;34m\u001b[0m\u001b[0m\n",
      "\u001b[0;31mAssertionError\u001b[0m: "
     ]
    }
   ],
   "source": [
    "in_ds = xs.create_setup(\n",
    "    model=model,\n",
    "    clocks={\n",
    "        'step': pd.date_range(start='3/1/2020', end='3/15/2020', freq='24H')\n",
    "    },\n",
    "    input_vars={\n",
    "        'foi__beta': 0.7,\n",
    "        'recovery_rate__gamma': 0.5,\n",
    "    },\n",
    "    output_vars={\n",
    "        'seir__state': 'step'\n",
    "    }\n",
    ")\n",
    "out_ds = in_ds.xsimlab.run(model=model, decoding=dict(mask_and_scale=False))"
   ]
  },
  {
   "cell_type": "code",
   "execution_count": null,
   "metadata": {},
   "outputs": [],
   "source": [
    "out_ds"
   ]
  },
  {
   "cell_type": "markdown",
   "metadata": {},
   "source": [
    "## Plot Results"
   ]
  },
  {
   "cell_type": "code",
   "execution_count": null,
   "metadata": {},
   "outputs": [],
   "source": [
    "out_ds['seir__state'].sum(['age', 'risk']).plot.line(x='step', aspect=2, size=9)"
   ]
  },
  {
   "cell_type": "raw",
   "metadata": {},
   "source": []
  }
 ],
 "metadata": {
  "interpreter": {
   "hash": "bbc3999da25ea10b8393a9709befd291572c4347c7746764cdebb4bb7223ce72"
  },
  "kernelspec": {
   "display_name": "Python 3 (ipykernel)",
   "language": "python",
   "name": "python3"
  },
  "language_info": {
   "codemirror_mode": {
    "name": "ipython",
    "version": 3
   },
   "file_extension": ".py",
   "mimetype": "text/x-python",
   "name": "python",
   "nbconvert_exporter": "python",
   "pygments_lexer": "ipython3",
   "version": "3.9.6"
  }
 },
 "nbformat": 4,
 "nbformat_minor": 4
}
