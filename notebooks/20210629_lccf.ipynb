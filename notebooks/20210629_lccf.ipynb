{
 "cells": [
  {
   "cell_type": "code",
   "execution_count": 1,
   "id": "538144c0-6592-447b-9f7e-e3eee6faae00",
   "metadata": {},
   "outputs": [],
   "source": [
    "import os\n",
    "from pprint import pprint as pp\n",
    "from glob import glob\n",
    "import pandas as pd"
   ]
  },
  {
   "cell_type": "markdown",
   "id": "e826779c-d0c1-499d-82b6-17a3f37db1c9",
   "metadata": {},
   "source": [
    "# 20210629_lccf\n",
    "\n",
    "----\n",
    "\n",
    "The purpose of this notebook is to generate test data for LCCF performance scaling experiments on the model run in the script `scripts/20210623_lccf.py`.\n",
    "\n",
    "In this notebook, I will load files `data/lccf/*.csv` and cp the rows to emulate large-scale Safegraph data ingests. The starting point of this notebook looks like:\n",
    "\n",
    "```bash\n",
    "$ ls ../data/lccf\n",
    "census_pop1_rows1.csv   contacts_pop1_rows1.csv travel_pop1_rows1.csv\n",
    "```\n",
    "\n",
    "The goal is to make `*rows2.csv`, `*rows4.csv`, etc. files that have 2x, 4x, etc. as many rows as the `*rows1.csv` files.\n",
    "\n",
    "----\n",
    "\n",
    "To test performance scaling as a function of population size, I will also make `*_pop2_rows0.csv`, `*_pop4_rows0.csv`, etc. which are equivalent to `*rows0.csv`, but with 2x, 4x, etc. greater contact/travel/census population. `pop1` is implied if no `pop` identifier is included in the file name."
   ]
  },
  {
   "cell_type": "code",
   "execution_count": 2,
   "id": "3ea6dea5-86aa-4469-b808-19cbbce78517",
   "metadata": {},
   "outputs": [
    {
     "name": "stdout",
     "output_type": "stream",
     "text": [
      "census_pop1_rows1.csv   contacts_pop1_rows1.csv travel_pop1_rows1.csv\n"
     ]
    }
   ],
   "source": [
    "!ls ../data/lccf"
   ]
  },
  {
   "cell_type": "code",
   "execution_count": 3,
   "id": "09b8444e-de8a-491f-871f-ca9b11d9da36",
   "metadata": {},
   "outputs": [],
   "source": [
    "def create_scaled_df(ref_df: pd.DataFrame, pop_mult=1, rows_mult=1, schema=None) -> pd.DataFrame:\n",
    "    \"\"\"Returns a population or row scaled DataFrame, given a reference dataframe `ref_df`\"\"\"\n",
    "    pass"
   ]
  },
  {
   "cell_type": "code",
   "execution_count": 4,
   "id": "6cfb0812-ac89-4ca9-b654-2285d5adcd84",
   "metadata": {},
   "outputs": [],
   "source": [
    "schemas = {\n",
    "    'census': {\n",
    "        'value_col': None,\n",
    "        'usecols': (\"GEOID\", \"age_bin\", \"group_pop\"),\n",
    "        'glob': list(),\n",
    "        'keys': None\n",
    "    },\n",
    "    'contacts': {\n",
    "        'value_col': None,\n",
    "        'usecols': ('age1', 'age2', 'daily_per_capita_contacts'),\n",
    "        'glob': list(),\n",
    "        'keys': None\n",
    "    },\n",
    "    'travel': {\n",
    "        'value_col': None,\n",
    "        'usecols': ('source', 'destination', 'age', 'n', 'date', 'destination_type'),\n",
    "        'glob': list(),\n",
    "        'keys': None\n",
    "    },\n",
    "}"
   ]
  },
  {
   "cell_type": "code",
   "execution_count": 5,
   "id": "b8384275-8826-4bd3-9c6e-8de0b41832de",
   "metadata": {},
   "outputs": [],
   "source": [
    "def create_scaled_csvs(dir_fp: str, scales: tuple = (2, 4, 8), verbose=2):\n",
    "    assert os.path.isdir(dir_fp)\n",
    "    for schema in schemas:\n",
    "        query = f\"{schema}*.csv\"\n",
    "        hits = glob(os.path.join(dir_fp, query))\n",
    "        assert len(hits) == 1, f\"found {len(hits)} hits for glob query {query}, expected 1\"\n",
    "        schemas[schema]['glob'] = hits\n",
    "    if verbose:\n",
    "        print(f'schemas:')\n",
    "        pp(schemas)"
   ]
  },
  {
   "cell_type": "code",
   "execution_count": 6,
   "id": "a73e63ac-af90-454e-b20c-638c5644626c",
   "metadata": {},
   "outputs": [
    {
     "name": "stdout",
     "output_type": "stream",
     "text": [
      "schemas:\n",
      "{'census': {'glob': ['../data/lccf/census_pop1_rows1.csv'],\n",
      "            'keys': None,\n",
      "            'usecols': ('GEOID', 'age_bin', 'group_pop'),\n",
      "            'value_col': None},\n",
      " 'contacts': {'glob': ['../data/lccf/contacts_pop1_rows1.csv'],\n",
      "              'keys': None,\n",
      "              'usecols': ('age1', 'age2', 'daily_per_capita_contacts'),\n",
      "              'value_col': None},\n",
      " 'travel': {'glob': ['../data/lccf/travel_pop1_rows1.csv'],\n",
      "            'keys': None,\n",
      "            'usecols': ('source',\n",
      "                        'destination',\n",
      "                        'age',\n",
      "                        'n',\n",
      "                        'date',\n",
      "                        'destination_type'),\n",
      "            'value_col': None}}\n"
     ]
    }
   ],
   "source": [
    "create_scaled_csvs('../data/lccf')"
   ]
  },
  {
   "cell_type": "markdown",
   "id": "b421179f-b039-4aac-90f0-f029c73f3565",
   "metadata": {},
   "source": [
    "**Question**: what should we use as the `value_col` for each schema? Also gives us a reminder of what the schema is. Let's `head`..."
   ]
  },
  {
   "cell_type": "code",
   "execution_count": 7,
   "id": "bbcabf68-97aa-4c15-86fe-72c2370c69cc",
   "metadata": {},
   "outputs": [
    {
     "name": "stdout",
     "output_type": "stream",
     "text": [
      "==> ../data/lccf/census_pop1_rows1.csv <==\n",
      "\"\",\"GEOID\",\"NAME\",\"age_bin\",\"group_pop\"\n",
      "\"1\",\"75001\",\"ZCTA5 75001\",\"<5\",794\n",
      "\"2\",\"75001\",\"ZCTA5 75001\",\"18-49\",9420\n",
      "\"3\",\"75001\",\"ZCTA5 75001\",\"5-17\",1404\n",
      "\"4\",\"75001\",\"ZCTA5 75001\",\"50-64\",2259\n",
      "\"5\",\"75001\",\"ZCTA5 75001\",\"65+\",1115\n",
      "\"6\",\"75002\",\"ZCTA5 75002\",\"<5\",4227\n",
      "\"7\",\"75002\",\"ZCTA5 75002\",\"18-49\",29659\n",
      "\"8\",\"75002\",\"ZCTA5 75002\",\"5-17\",15710\n",
      "\"9\",\"75002\",\"ZCTA5 75002\",\"50-64\",14706\n",
      "\n",
      "==> ../data/lccf/contacts_pop1_rows1.csv <==\n",
      ",age1,age2,daily_per_capita_contacts\n",
      "0,<5,<5,2.160940833918119\n",
      "1,5-17,<5,0.5973413405271149\n",
      "2,18-49,<5,0.3822025191217617\n",
      "3,50-64,<5,0.3523966597811896\n",
      "4,65+,<5,0.18975609071541075\n",
      "5,<5,5-17,2.164117384279739\n",
      "6,5-17,5-17,8.146970087503425\n",
      "7,18-49,5-17,2.431391745980527\n",
      "8,50-64,5-17,1.885100325362032\n",
      "\n",
      "==> ../data/lccf/travel_pop1_rows1.csv <==\n",
      ",Unnamed: 0,source,destination,age,n,date,destination_type\n",
      "30555,30555,76511,76511,<5,35.05384615384615,2020-03-11,local\n",
      "30556,30556,76511,76511,18-49,472.2846153846154,2020-03-11,local\n",
      "30557,30557,76511,76511,5-17,150.01538461538462,2020-03-11,local\n",
      "30558,30558,76511,76511,50-64,165.46923076923076,2020-03-11,local\n",
      "30559,30559,76511,76511,65+,121.36923076923075,2020-03-11,local\n",
      "30560,30560,76511,76530,<5,3.576923076923077,2020-03-11,local\n",
      "30561,30561,76511,76530,18-49,48.19230769230769,2020-03-11,local\n",
      "30562,30562,76511,76530,5-17,15.307692307692308,2020-03-11,local\n",
      "30563,30563,76511,76530,50-64,16.884615384615387,2020-03-11,local\n"
     ]
    }
   ],
   "source": [
    "!head ../data/lccf/*.csv"
   ]
  },
  {
   "cell_type": "markdown",
   "id": "679c44cd-1629-4877-950b-c01f478c2921",
   "metadata": {},
   "source": [
    "We're going to need more than just cp rows. Specifically:\n",
    "- Census data probably needs unique `primaryKey == [GEOID, age_bin]`\n",
    "- Travel data needs n^2 rows where n is the number of GEOIDs\n",
    "\n",
    "So what we really mean by \"scaling rows\" is that we're scaling by `n`, number of GEOIDs in the census CSV. Easy way to do this is just prepend non-zero integer to GEOID.\n",
    "\n",
    "----\n",
    "\n",
    "## Parsers for each schema"
   ]
  },
  {
   "cell_type": "code",
   "execution_count": 12,
   "id": "b3873072-a66a-4b44-b780-df2d5c2f9e21",
   "metadata": {},
   "outputs": [],
   "source": [
    "def parse_census(csv_fp: str) -> pd.DataFrame:\n",
    "    df = pd.read_csv(csv_fp, usecols=schemas.copy()['census']['usecols'])\n",
    "    assert not df.isna().any().any(), ('found null values in df', df.isna().any())\n",
    "    df.rename(columns={'GEOID': 'vertex', 'age_bin': 'age_group'}, inplace=True)\n",
    "    df.set_index(['vertex', 'age_group'], inplace=True)\n",
    "    # filter to zcta that we want to model in the simulation (vertex coords)\n",
    "    return df"
   ]
  },
  {
   "cell_type": "code",
   "execution_count": 24,
   "id": "bf9845fd-7033-4288-8909-7a858c1b4f83",
   "metadata": {},
   "outputs": [
    {
     "data": {
      "text/html": [
       "<div>\n",
       "<style scoped>\n",
       "    .dataframe tbody tr th:only-of-type {\n",
       "        vertical-align: middle;\n",
       "    }\n",
       "\n",
       "    .dataframe tbody tr th {\n",
       "        vertical-align: top;\n",
       "    }\n",
       "\n",
       "    .dataframe thead th {\n",
       "        text-align: right;\n",
       "    }\n",
       "</style>\n",
       "<table border=\"1\" class=\"dataframe\">\n",
       "  <thead>\n",
       "    <tr style=\"text-align: right;\">\n",
       "      <th></th>\n",
       "      <th></th>\n",
       "      <th>group_pop</th>\n",
       "    </tr>\n",
       "    <tr>\n",
       "      <th>vertex</th>\n",
       "      <th>age_group</th>\n",
       "      <th></th>\n",
       "    </tr>\n",
       "  </thead>\n",
       "  <tbody>\n",
       "    <tr>\n",
       "      <th rowspan=\"5\" valign=\"top\">75001</th>\n",
       "      <th>&lt;5</th>\n",
       "      <td>794</td>\n",
       "    </tr>\n",
       "    <tr>\n",
       "      <th>18-49</th>\n",
       "      <td>9420</td>\n",
       "    </tr>\n",
       "    <tr>\n",
       "      <th>5-17</th>\n",
       "      <td>1404</td>\n",
       "    </tr>\n",
       "    <tr>\n",
       "      <th>50-64</th>\n",
       "      <td>2259</td>\n",
       "    </tr>\n",
       "    <tr>\n",
       "      <th>65+</th>\n",
       "      <td>1115</td>\n",
       "    </tr>\n",
       "  </tbody>\n",
       "</table>\n",
       "</div>"
      ],
      "text/plain": [
       "                  group_pop\n",
       "vertex age_group           \n",
       "75001  <5               794\n",
       "       18-49           9420\n",
       "       5-17            1404\n",
       "       50-64           2259\n",
       "       65+             1115"
      ]
     },
     "execution_count": 24,
     "metadata": {},
     "output_type": "execute_result"
    }
   ],
   "source": [
    "parse_census('../data/lccf/census_pop1_rows1.csv').head()"
   ]
  },
  {
   "cell_type": "code",
   "execution_count": 25,
   "id": "7f7dfc09-8de5-4e69-8782-889ab95c3c6f",
   "metadata": {},
   "outputs": [],
   "source": [
    "def parse_contacts(csv_fp: str) -> pd.DataFrame:\n",
    "    return pd.read_csv(csv_fp, usecols=schemas['contacts']['usecols'])"
   ]
  },
  {
   "cell_type": "code",
   "execution_count": 26,
   "id": "5893bc1f-c12f-4b63-a5c9-b6c2db16a143",
   "metadata": {},
   "outputs": [
    {
     "data": {
      "text/html": [
       "<div>\n",
       "<style scoped>\n",
       "    .dataframe tbody tr th:only-of-type {\n",
       "        vertical-align: middle;\n",
       "    }\n",
       "\n",
       "    .dataframe tbody tr th {\n",
       "        vertical-align: top;\n",
       "    }\n",
       "\n",
       "    .dataframe thead th {\n",
       "        text-align: right;\n",
       "    }\n",
       "</style>\n",
       "<table border=\"1\" class=\"dataframe\">\n",
       "  <thead>\n",
       "    <tr style=\"text-align: right;\">\n",
       "      <th></th>\n",
       "      <th>age1</th>\n",
       "      <th>age2</th>\n",
       "      <th>daily_per_capita_contacts</th>\n",
       "    </tr>\n",
       "  </thead>\n",
       "  <tbody>\n",
       "    <tr>\n",
       "      <th>0</th>\n",
       "      <td>&lt;5</td>\n",
       "      <td>&lt;5</td>\n",
       "      <td>2.160941</td>\n",
       "    </tr>\n",
       "    <tr>\n",
       "      <th>1</th>\n",
       "      <td>5-17</td>\n",
       "      <td>&lt;5</td>\n",
       "      <td>0.597341</td>\n",
       "    </tr>\n",
       "    <tr>\n",
       "      <th>2</th>\n",
       "      <td>18-49</td>\n",
       "      <td>&lt;5</td>\n",
       "      <td>0.382203</td>\n",
       "    </tr>\n",
       "    <tr>\n",
       "      <th>3</th>\n",
       "      <td>50-64</td>\n",
       "      <td>&lt;5</td>\n",
       "      <td>0.352397</td>\n",
       "    </tr>\n",
       "    <tr>\n",
       "      <th>4</th>\n",
       "      <td>65+</td>\n",
       "      <td>&lt;5</td>\n",
       "      <td>0.189756</td>\n",
       "    </tr>\n",
       "  </tbody>\n",
       "</table>\n",
       "</div>"
      ],
      "text/plain": [
       "    age1 age2  daily_per_capita_contacts\n",
       "0     <5   <5                   2.160941\n",
       "1   5-17   <5                   0.597341\n",
       "2  18-49   <5                   0.382203\n",
       "3  50-64   <5                   0.352397\n",
       "4    65+   <5                   0.189756"
      ]
     },
     "execution_count": 26,
     "metadata": {},
     "output_type": "execute_result"
    }
   ],
   "source": [
    "parse_contacts('../data/lccf/contacts_pop1_rows1.csv').head()"
   ]
  },
  {
   "cell_type": "code",
   "execution_count": null,
   "id": "eefea24d-f91f-4501-81c7-4297297be7d2",
   "metadata": {},
   "outputs": [],
   "source": []
  },
  {
   "cell_type": "code",
   "execution_count": 42,
   "id": "fd4cf65b-3fdb-4006-a793-b7773bf97b59",
   "metadata": {},
   "outputs": [
    {
     "ename": "KeyError",
     "evalue": "'parse_contacts'",
     "output_type": "error",
     "traceback": [
      "\u001b[0;31m---------------------------------------------------------------------------\u001b[0m",
      "\u001b[0;31mKeyError\u001b[0m                                  Traceback (most recent call last)",
      "\u001b[0;32m<ipython-input-42-2bc9e7cbda1e>\u001b[0m in \u001b[0;36m<module>\u001b[0;34m\u001b[0m\n\u001b[1;32m      1\u001b[0m \u001b[0;32mfor\u001b[0m \u001b[0mschema\u001b[0m \u001b[0;32min\u001b[0m \u001b[0mschemas\u001b[0m\u001b[0;34m:\u001b[0m\u001b[0;34m\u001b[0m\u001b[0;34m\u001b[0m\u001b[0m\n\u001b[0;32m----> 2\u001b[0;31m     \u001b[0mschemas\u001b[0m\u001b[0;34m[\u001b[0m\u001b[0mschema\u001b[0m\u001b[0;34m]\u001b[0m\u001b[0;34m[\u001b[0m\u001b[0;34m'parser'\u001b[0m\u001b[0;34m]\u001b[0m \u001b[0;34m=\u001b[0m \u001b[0mglobals\u001b[0m\u001b[0;34m(\u001b[0m\u001b[0;34m)\u001b[0m\u001b[0;34m[\u001b[0m\u001b[0;34mf'parse_{schema}'\u001b[0m\u001b[0;34m]\u001b[0m\u001b[0;34m\u001b[0m\u001b[0;34m\u001b[0m\u001b[0m\n\u001b[0m",
      "\u001b[0;31mKeyError\u001b[0m: 'parse_contacts'"
     ]
    }
   ],
   "source": [
    "for schema in schemas:\n",
    "    schemas[schema]['parser'] = globals()[f'parse_{schema}']"
   ]
  },
  {
   "cell_type": "markdown",
   "id": "0885da24-0976-4838-9af8-0cc34abb6523",
   "metadata": {},
   "source": [
    "## Generate unique GEOIDs for census data"
   ]
  },
  {
   "cell_type": "code",
   "execution_count": 39,
   "id": "6f96c431-342f-41f0-822b-b2fe8c12c15c",
   "metadata": {},
   "outputs": [
    {
     "data": {
      "text/plain": [
       "{'census': {'value_col': None,\n",
       "  'glob': ['../data/lccf/census_pop1_rows1.csv'],\n",
       "  'keys': None},\n",
       " 'contacts': {'value_col': None,\n",
       "  'glob': ['../data/lccf/contacts_pop1_rows1.csv'],\n",
       "  'keys': None},\n",
       " 'travel': {'value_col': None,\n",
       "  'glob': ['../data/lccf/travel_pop1_rows1.csv'],\n",
       "  'keys': None}}"
      ]
     },
     "execution_count": 39,
     "metadata": {},
     "output_type": "execute_result"
    }
   ],
   "source": [
    "schemas['census']['keys'] = get_unique_geoid()"
   ]
  },
  {
   "cell_type": "code",
   "execution_count": null,
   "id": "8f107e16-b586-470c-af7a-2357004a94cd",
   "metadata": {},
   "outputs": [],
   "source": []
  },
  {
   "cell_type": "code",
   "execution_count": null,
   "id": "6f4126e5-8c0a-4ae3-b5b5-b2ad77eb2d13",
   "metadata": {},
   "outputs": [],
   "source": []
  }
 ],
 "metadata": {
  "kernelspec": {
   "display_name": "Python 3",
   "language": "python",
   "name": "python3"
  },
  "language_info": {
   "codemirror_mode": {
    "name": "ipython",
    "version": 3
   },
   "file_extension": ".py",
   "mimetype": "text/x-python",
   "name": "python",
   "nbconvert_exporter": "python",
   "pygments_lexer": "ipython3",
   "version": "3.9.2"
  }
 },
 "nbformat": 4,
 "nbformat_minor": 5
}
